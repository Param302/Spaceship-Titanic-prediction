{
 "cells": [
  {
   "cell_type": "markdown",
   "metadata": {},
   "source": [
    "## Importing required libraries"
   ]
  },
  {
   "cell_type": "code",
   "execution_count": 2,
   "metadata": {},
   "outputs": [],
   "source": [
    "import random\n",
    "import numpy as np\n",
    "import pandas as pd\n",
    "import seaborn as sns\n",
    "import matplotlib.pyplot as plt"
   ]
  },
  {
   "cell_type": "markdown",
   "metadata": {},
   "source": [
    "## Importing data"
   ]
  },
  {
   "cell_type": "code",
   "execution_count": 28,
   "metadata": {},
   "outputs": [
    {
     "data": {
      "text/html": [
       "<div>\n",
       "<style scoped>\n",
       "    .dataframe tbody tr th:only-of-type {\n",
       "        vertical-align: middle;\n",
       "    }\n",
       "\n",
       "    .dataframe tbody tr th {\n",
       "        vertical-align: top;\n",
       "    }\n",
       "\n",
       "    .dataframe thead th {\n",
       "        text-align: right;\n",
       "    }\n",
       "</style>\n",
       "<table border=\"1\" class=\"dataframe\">\n",
       "  <thead>\n",
       "    <tr style=\"text-align: right;\">\n",
       "      <th></th>\n",
       "      <th>HomePlanet</th>\n",
       "      <th>CryoSleep</th>\n",
       "      <th>Cabin</th>\n",
       "      <th>Destination</th>\n",
       "      <th>Age</th>\n",
       "      <th>VIP</th>\n",
       "      <th>RoomService</th>\n",
       "      <th>FoodCourt</th>\n",
       "      <th>ShoppingMall</th>\n",
       "      <th>Spa</th>\n",
       "      <th>VRDeck</th>\n",
       "      <th>Name</th>\n",
       "      <th>Transported</th>\n",
       "    </tr>\n",
       "    <tr>\n",
       "      <th>PassengerId</th>\n",
       "      <th></th>\n",
       "      <th></th>\n",
       "      <th></th>\n",
       "      <th></th>\n",
       "      <th></th>\n",
       "      <th></th>\n",
       "      <th></th>\n",
       "      <th></th>\n",
       "      <th></th>\n",
       "      <th></th>\n",
       "      <th></th>\n",
       "      <th></th>\n",
       "      <th></th>\n",
       "    </tr>\n",
       "  </thead>\n",
       "  <tbody>\n",
       "    <tr>\n",
       "      <th>0001_01</th>\n",
       "      <td>Europa</td>\n",
       "      <td>False</td>\n",
       "      <td>B/0/P</td>\n",
       "      <td>TRAPPIST-1e</td>\n",
       "      <td>39.0</td>\n",
       "      <td>False</td>\n",
       "      <td>0.0</td>\n",
       "      <td>0.0</td>\n",
       "      <td>0.0</td>\n",
       "      <td>0.0</td>\n",
       "      <td>0.0</td>\n",
       "      <td>Maham Ofracculy</td>\n",
       "      <td>False</td>\n",
       "    </tr>\n",
       "    <tr>\n",
       "      <th>0002_01</th>\n",
       "      <td>Earth</td>\n",
       "      <td>False</td>\n",
       "      <td>F/0/S</td>\n",
       "      <td>TRAPPIST-1e</td>\n",
       "      <td>24.0</td>\n",
       "      <td>False</td>\n",
       "      <td>109.0</td>\n",
       "      <td>9.0</td>\n",
       "      <td>25.0</td>\n",
       "      <td>549.0</td>\n",
       "      <td>44.0</td>\n",
       "      <td>Juanna Vines</td>\n",
       "      <td>True</td>\n",
       "    </tr>\n",
       "    <tr>\n",
       "      <th>0003_01</th>\n",
       "      <td>Europa</td>\n",
       "      <td>False</td>\n",
       "      <td>A/0/S</td>\n",
       "      <td>TRAPPIST-1e</td>\n",
       "      <td>58.0</td>\n",
       "      <td>True</td>\n",
       "      <td>43.0</td>\n",
       "      <td>3576.0</td>\n",
       "      <td>0.0</td>\n",
       "      <td>6715.0</td>\n",
       "      <td>49.0</td>\n",
       "      <td>Altark Susent</td>\n",
       "      <td>False</td>\n",
       "    </tr>\n",
       "    <tr>\n",
       "      <th>0003_02</th>\n",
       "      <td>Europa</td>\n",
       "      <td>False</td>\n",
       "      <td>A/0/S</td>\n",
       "      <td>TRAPPIST-1e</td>\n",
       "      <td>33.0</td>\n",
       "      <td>False</td>\n",
       "      <td>0.0</td>\n",
       "      <td>1283.0</td>\n",
       "      <td>371.0</td>\n",
       "      <td>3329.0</td>\n",
       "      <td>193.0</td>\n",
       "      <td>Solam Susent</td>\n",
       "      <td>False</td>\n",
       "    </tr>\n",
       "    <tr>\n",
       "      <th>0004_01</th>\n",
       "      <td>Earth</td>\n",
       "      <td>False</td>\n",
       "      <td>F/1/S</td>\n",
       "      <td>TRAPPIST-1e</td>\n",
       "      <td>16.0</td>\n",
       "      <td>False</td>\n",
       "      <td>303.0</td>\n",
       "      <td>70.0</td>\n",
       "      <td>151.0</td>\n",
       "      <td>565.0</td>\n",
       "      <td>2.0</td>\n",
       "      <td>Willy Santantines</td>\n",
       "      <td>True</td>\n",
       "    </tr>\n",
       "  </tbody>\n",
       "</table>\n",
       "</div>"
      ],
      "text/plain": [
       "            HomePlanet CryoSleep  Cabin  Destination   Age    VIP  \\\n",
       "PassengerId                                                         \n",
       "0001_01         Europa     False  B/0/P  TRAPPIST-1e  39.0  False   \n",
       "0002_01          Earth     False  F/0/S  TRAPPIST-1e  24.0  False   \n",
       "0003_01         Europa     False  A/0/S  TRAPPIST-1e  58.0   True   \n",
       "0003_02         Europa     False  A/0/S  TRAPPIST-1e  33.0  False   \n",
       "0004_01          Earth     False  F/1/S  TRAPPIST-1e  16.0  False   \n",
       "\n",
       "             RoomService  FoodCourt  ShoppingMall     Spa  VRDeck  \\\n",
       "PassengerId                                                         \n",
       "0001_01              0.0        0.0           0.0     0.0     0.0   \n",
       "0002_01            109.0        9.0          25.0   549.0    44.0   \n",
       "0003_01             43.0     3576.0           0.0  6715.0    49.0   \n",
       "0003_02              0.0     1283.0         371.0  3329.0   193.0   \n",
       "0004_01            303.0       70.0         151.0   565.0     2.0   \n",
       "\n",
       "                          Name  Transported  \n",
       "PassengerId                                  \n",
       "0001_01        Maham Ofracculy        False  \n",
       "0002_01           Juanna Vines         True  \n",
       "0003_01          Altark Susent        False  \n",
       "0003_02           Solam Susent        False  \n",
       "0004_01      Willy Santantines         True  "
      ]
     },
     "execution_count": 28,
     "metadata": {},
     "output_type": "execute_result"
    }
   ],
   "source": [
    "data = pd.read_csv(\"./data/train.csv\", index_col=\"PassengerId\")\n",
    "data.head()"
   ]
  },
  {
   "cell_type": "code",
   "execution_count": 29,
   "metadata": {},
   "outputs": [
    {
     "name": "stdout",
     "output_type": "stream",
     "text": [
      "<class 'pandas.core.frame.DataFrame'>\n",
      "Index: 8693 entries, 0001_01 to 9280_02\n",
      "Data columns (total 13 columns):\n",
      " #   Column        Non-Null Count  Dtype  \n",
      "---  ------        --------------  -----  \n",
      " 0   HomePlanet    8492 non-null   object \n",
      " 1   CryoSleep     8476 non-null   object \n",
      " 2   Cabin         8494 non-null   object \n",
      " 3   Destination   8511 non-null   object \n",
      " 4   Age           8514 non-null   float64\n",
      " 5   VIP           8490 non-null   object \n",
      " 6   RoomService   8512 non-null   float64\n",
      " 7   FoodCourt     8510 non-null   float64\n",
      " 8   ShoppingMall  8485 non-null   float64\n",
      " 9   Spa           8510 non-null   float64\n",
      " 10  VRDeck        8505 non-null   float64\n",
      " 11  Name          8493 non-null   object \n",
      " 12  Transported   8693 non-null   bool   \n",
      "dtypes: bool(1), float64(6), object(6)\n",
      "memory usage: 891.4+ KB\n"
     ]
    }
   ],
   "source": [
    "data.info()"
   ]
  },
  {
   "cell_type": "code",
   "execution_count": 30,
   "metadata": {},
   "outputs": [
    {
     "data": {
      "text/plain": [
       "HomePlanet      201\n",
       "CryoSleep       217\n",
       "Cabin           199\n",
       "Destination     182\n",
       "Age             179\n",
       "VIP             203\n",
       "RoomService     181\n",
       "FoodCourt       183\n",
       "ShoppingMall    208\n",
       "Spa             183\n",
       "VRDeck          188\n",
       "Name            200\n",
       "Transported       0\n",
       "dtype: int64"
      ]
     },
     "execution_count": 30,
     "metadata": {},
     "output_type": "execute_result"
    }
   ],
   "source": [
    "data.isnull().sum()"
   ]
  },
  {
   "cell_type": "code",
   "execution_count": 31,
   "metadata": {},
   "outputs": [
    {
     "data": {
      "text/plain": [
       "Gollux Reedall        2\n",
       "Elaney Webstephrey    2\n",
       "Grake Porki           2\n",
       "Sus Coolez            2\n",
       "Apix Wala             2\n",
       "                     ..\n",
       "Jamela Griffy         1\n",
       "Hardy Griffy          1\n",
       "Salley Mckinn         1\n",
       "Mall Frasp            1\n",
       "Propsh Hontichre      1\n",
       "Name: Name, Length: 8473, dtype: int64"
      ]
     },
     "execution_count": 31,
     "metadata": {},
     "output_type": "execute_result"
    }
   ],
   "source": [
    "data[\"Name\"].value_counts()"
   ]
  },
  {
   "cell_type": "code",
   "execution_count": 32,
   "metadata": {},
   "outputs": [
    {
     "data": {
      "text/plain": [
       "20"
      ]
     },
     "execution_count": 32,
     "metadata": {},
     "output_type": "execute_result"
    }
   ],
   "source": [
    "8493 - 8473"
   ]
  },
  {
   "cell_type": "markdown",
   "metadata": {},
   "source": [
    "## Data Cleaning"
   ]
  },
  {
   "cell_type": "code",
   "execution_count": 33,
   "metadata": {},
   "outputs": [
    {
     "data": {
      "text/html": [
       "<div>\n",
       "<style scoped>\n",
       "    .dataframe tbody tr th:only-of-type {\n",
       "        vertical-align: middle;\n",
       "    }\n",
       "\n",
       "    .dataframe tbody tr th {\n",
       "        vertical-align: top;\n",
       "    }\n",
       "\n",
       "    .dataframe thead th {\n",
       "        text-align: right;\n",
       "    }\n",
       "</style>\n",
       "<table border=\"1\" class=\"dataframe\">\n",
       "  <thead>\n",
       "    <tr style=\"text-align: right;\">\n",
       "      <th></th>\n",
       "      <th>HomePlanet</th>\n",
       "      <th>CryoSleep</th>\n",
       "      <th>Cabin</th>\n",
       "      <th>Destination</th>\n",
       "      <th>Age</th>\n",
       "      <th>VIP</th>\n",
       "      <th>RoomService</th>\n",
       "      <th>FoodCourt</th>\n",
       "      <th>ShoppingMall</th>\n",
       "      <th>Spa</th>\n",
       "      <th>VRDeck</th>\n",
       "      <th>Name</th>\n",
       "      <th>Transported</th>\n",
       "    </tr>\n",
       "    <tr>\n",
       "      <th>PassengerId</th>\n",
       "      <th></th>\n",
       "      <th></th>\n",
       "      <th></th>\n",
       "      <th></th>\n",
       "      <th></th>\n",
       "      <th></th>\n",
       "      <th></th>\n",
       "      <th></th>\n",
       "      <th></th>\n",
       "      <th></th>\n",
       "      <th></th>\n",
       "      <th></th>\n",
       "      <th></th>\n",
       "    </tr>\n",
       "  </thead>\n",
       "  <tbody>\n",
       "    <tr>\n",
       "      <th>0001_01</th>\n",
       "      <td>Europa</td>\n",
       "      <td>False</td>\n",
       "      <td>B/0/P</td>\n",
       "      <td>TRAPPIST-1e</td>\n",
       "      <td>39.0</td>\n",
       "      <td>False</td>\n",
       "      <td>0.0</td>\n",
       "      <td>0.0</td>\n",
       "      <td>0.0</td>\n",
       "      <td>0.0</td>\n",
       "      <td>0.0</td>\n",
       "      <td>Maham Ofracculy</td>\n",
       "      <td>False</td>\n",
       "    </tr>\n",
       "    <tr>\n",
       "      <th>0002_01</th>\n",
       "      <td>Earth</td>\n",
       "      <td>False</td>\n",
       "      <td>F/0/S</td>\n",
       "      <td>TRAPPIST-1e</td>\n",
       "      <td>24.0</td>\n",
       "      <td>False</td>\n",
       "      <td>109.0</td>\n",
       "      <td>9.0</td>\n",
       "      <td>25.0</td>\n",
       "      <td>549.0</td>\n",
       "      <td>44.0</td>\n",
       "      <td>Juanna Vines</td>\n",
       "      <td>True</td>\n",
       "    </tr>\n",
       "    <tr>\n",
       "      <th>0003_01</th>\n",
       "      <td>Europa</td>\n",
       "      <td>False</td>\n",
       "      <td>A/0/S</td>\n",
       "      <td>TRAPPIST-1e</td>\n",
       "      <td>58.0</td>\n",
       "      <td>True</td>\n",
       "      <td>43.0</td>\n",
       "      <td>3576.0</td>\n",
       "      <td>0.0</td>\n",
       "      <td>6715.0</td>\n",
       "      <td>49.0</td>\n",
       "      <td>Altark Susent</td>\n",
       "      <td>False</td>\n",
       "    </tr>\n",
       "    <tr>\n",
       "      <th>0003_02</th>\n",
       "      <td>Europa</td>\n",
       "      <td>False</td>\n",
       "      <td>A/0/S</td>\n",
       "      <td>TRAPPIST-1e</td>\n",
       "      <td>33.0</td>\n",
       "      <td>False</td>\n",
       "      <td>0.0</td>\n",
       "      <td>1283.0</td>\n",
       "      <td>371.0</td>\n",
       "      <td>3329.0</td>\n",
       "      <td>193.0</td>\n",
       "      <td>Solam Susent</td>\n",
       "      <td>False</td>\n",
       "    </tr>\n",
       "    <tr>\n",
       "      <th>0004_01</th>\n",
       "      <td>Earth</td>\n",
       "      <td>False</td>\n",
       "      <td>F/1/S</td>\n",
       "      <td>TRAPPIST-1e</td>\n",
       "      <td>16.0</td>\n",
       "      <td>False</td>\n",
       "      <td>303.0</td>\n",
       "      <td>70.0</td>\n",
       "      <td>151.0</td>\n",
       "      <td>565.0</td>\n",
       "      <td>2.0</td>\n",
       "      <td>Willy Santantines</td>\n",
       "      <td>True</td>\n",
       "    </tr>\n",
       "  </tbody>\n",
       "</table>\n",
       "</div>"
      ],
      "text/plain": [
       "            HomePlanet CryoSleep  Cabin  Destination   Age    VIP  \\\n",
       "PassengerId                                                         \n",
       "0001_01         Europa     False  B/0/P  TRAPPIST-1e  39.0  False   \n",
       "0002_01          Earth     False  F/0/S  TRAPPIST-1e  24.0  False   \n",
       "0003_01         Europa     False  A/0/S  TRAPPIST-1e  58.0   True   \n",
       "0003_02         Europa     False  A/0/S  TRAPPIST-1e  33.0  False   \n",
       "0004_01          Earth     False  F/1/S  TRAPPIST-1e  16.0  False   \n",
       "\n",
       "             RoomService  FoodCourt  ShoppingMall     Spa  VRDeck  \\\n",
       "PassengerId                                                         \n",
       "0001_01              0.0        0.0           0.0     0.0     0.0   \n",
       "0002_01            109.0        9.0          25.0   549.0    44.0   \n",
       "0003_01             43.0     3576.0           0.0  6715.0    49.0   \n",
       "0003_02              0.0     1283.0         371.0  3329.0   193.0   \n",
       "0004_01            303.0       70.0         151.0   565.0     2.0   \n",
       "\n",
       "                          Name  Transported  \n",
       "PassengerId                                  \n",
       "0001_01        Maham Ofracculy        False  \n",
       "0002_01           Juanna Vines         True  \n",
       "0003_01          Altark Susent        False  \n",
       "0003_02           Solam Susent        False  \n",
       "0004_01      Willy Santantines         True  "
      ]
     },
     "execution_count": 33,
     "metadata": {},
     "output_type": "execute_result"
    }
   ],
   "source": [
    "data.head()"
   ]
  },
  {
   "cell_type": "code",
   "execution_count": 34,
   "metadata": {},
   "outputs": [
    {
     "name": "stdout",
     "output_type": "stream",
     "text": [
      "<class 'pandas.core.frame.DataFrame'>\n",
      "Index: 8693 entries, 0001_01 to 9280_02\n",
      "Data columns (total 13 columns):\n",
      " #   Column        Non-Null Count  Dtype  \n",
      "---  ------        --------------  -----  \n",
      " 0   HomePlanet    8492 non-null   object \n",
      " 1   CryoSleep     8476 non-null   object \n",
      " 2   Cabin         8494 non-null   object \n",
      " 3   Destination   8511 non-null   object \n",
      " 4   Age           8514 non-null   float64\n",
      " 5   VIP           8490 non-null   object \n",
      " 6   RoomService   8512 non-null   float64\n",
      " 7   FoodCourt     8510 non-null   float64\n",
      " 8   ShoppingMall  8485 non-null   float64\n",
      " 9   Spa           8510 non-null   float64\n",
      " 10  VRDeck        8505 non-null   float64\n",
      " 11  Name          8493 non-null   object \n",
      " 12  Transported   8693 non-null   bool   \n",
      "dtypes: bool(1), float64(6), object(6)\n",
      "memory usage: 891.4+ KB\n"
     ]
    }
   ],
   "source": [
    "data.info()"
   ]
  },
  {
   "cell_type": "code",
   "execution_count": 35,
   "metadata": {},
   "outputs": [
    {
     "data": {
      "text/plain": [
       "HomePlanet      201\n",
       "CryoSleep       217\n",
       "Cabin           199\n",
       "Destination     182\n",
       "Age             179\n",
       "VIP             203\n",
       "RoomService     181\n",
       "FoodCourt       183\n",
       "ShoppingMall    208\n",
       "Spa             183\n",
       "VRDeck          188\n",
       "Name            200\n",
       "Transported       0\n",
       "dtype: int64"
      ]
     },
     "execution_count": 35,
     "metadata": {},
     "output_type": "execute_result"
    }
   ],
   "source": [
    "data.isnull().sum()"
   ]
  },
  {
   "cell_type": "markdown",
   "metadata": {},
   "source": [
    "### Filling null values"
   ]
  },
  {
   "cell_type": "markdown",
   "metadata": {},
   "source": [
    "#### `HomePlanet` values with their mode i.e. `'Earth'`"
   ]
  },
  {
   "cell_type": "code",
   "execution_count": 36,
   "metadata": {},
   "outputs": [
    {
     "data": {
      "text/plain": [
       "Earth     4602\n",
       "Europa    2131\n",
       "Mars      1759\n",
       "Name: HomePlanet, dtype: int64"
      ]
     },
     "execution_count": 36,
     "metadata": {},
     "output_type": "execute_result"
    }
   ],
   "source": [
    "data[\"HomePlanet\"].value_counts()"
   ]
  },
  {
   "cell_type": "code",
   "execution_count": 37,
   "metadata": {},
   "outputs": [],
   "source": [
    "data[\"HomePlanet\"].fillna(\"Earth\", inplace=True)"
   ]
  },
  {
   "cell_type": "code",
   "execution_count": 38,
   "metadata": {},
   "outputs": [
    {
     "data": {
      "text/plain": [
       "0"
      ]
     },
     "execution_count": 38,
     "metadata": {},
     "output_type": "execute_result"
    }
   ],
   "source": [
    "data[\"HomePlanet\"].isnull().sum()"
   ]
  },
  {
   "cell_type": "markdown",
   "metadata": {},
   "source": [
    "#### `CryoSleep` values with their mode i.e. `False`"
   ]
  },
  {
   "cell_type": "code",
   "execution_count": 39,
   "metadata": {},
   "outputs": [
    {
     "data": {
      "text/plain": [
       "False    5439\n",
       "True     3037\n",
       "NaN       217\n",
       "Name: CryoSleep, dtype: int64"
      ]
     },
     "execution_count": 39,
     "metadata": {},
     "output_type": "execute_result"
    }
   ],
   "source": [
    "data[\"CryoSleep\"].value_counts(dropna=False)"
   ]
  },
  {
   "cell_type": "code",
   "execution_count": 40,
   "metadata": {},
   "outputs": [],
   "source": [
    "data[\"CryoSleep\"].fillna(False, inplace=True)"
   ]
  },
  {
   "cell_type": "code",
   "execution_count": 41,
   "metadata": {},
   "outputs": [
    {
     "data": {
      "text/plain": [
       "0"
      ]
     },
     "execution_count": 41,
     "metadata": {},
     "output_type": "execute_result"
    }
   ],
   "source": [
    "data[\"CryoSleep\"].isnull().sum()"
   ]
  },
  {
   "cell_type": "code",
   "execution_count": 42,
   "metadata": {},
   "outputs": [
    {
     "data": {
      "text/plain": [
       "False    5656\n",
       "True     3037\n",
       "Name: CryoSleep, dtype: int64"
      ]
     },
     "execution_count": 42,
     "metadata": {},
     "output_type": "execute_result"
    }
   ],
   "source": [
    "data[\"CryoSleep\"].value_counts(dropna=False)"
   ]
  },
  {
   "cell_type": "code",
   "execution_count": 43,
   "metadata": {},
   "outputs": [],
   "source": [
    "data[\"CryoSleep\"].replace({False:0, True:1}, inplace=True)"
   ]
  },
  {
   "cell_type": "code",
   "execution_count": 44,
   "metadata": {},
   "outputs": [
    {
     "data": {
      "text/plain": [
       "PassengerId\n",
       "0001_01    0\n",
       "0002_01    0\n",
       "0003_01    0\n",
       "0003_02    0\n",
       "0004_01    0\n",
       "          ..\n",
       "9276_01    0\n",
       "9278_01    1\n",
       "9279_01    0\n",
       "9280_01    0\n",
       "9280_02    0\n",
       "Name: CryoSleep, Length: 8693, dtype: int64"
      ]
     },
     "execution_count": 44,
     "metadata": {},
     "output_type": "execute_result"
    }
   ],
   "source": [
    "data[\"CryoSleep\"]"
   ]
  },
  {
   "cell_type": "code",
   "execution_count": 47,
   "metadata": {},
   "outputs": [
    {
     "data": {
      "text/html": [
       "<div>\n",
       "<style scoped>\n",
       "    .dataframe tbody tr th:only-of-type {\n",
       "        vertical-align: middle;\n",
       "    }\n",
       "\n",
       "    .dataframe tbody tr th {\n",
       "        vertical-align: top;\n",
       "    }\n",
       "\n",
       "    .dataframe thead th {\n",
       "        text-align: right;\n",
       "    }\n",
       "</style>\n",
       "<table border=\"1\" class=\"dataframe\">\n",
       "  <thead>\n",
       "    <tr style=\"text-align: right;\">\n",
       "      <th></th>\n",
       "      <th>HomePlanet</th>\n",
       "      <th>CryoSleep</th>\n",
       "      <th>Cabin</th>\n",
       "      <th>Destination</th>\n",
       "      <th>Age</th>\n",
       "      <th>VIP</th>\n",
       "      <th>RoomService</th>\n",
       "      <th>FoodCourt</th>\n",
       "      <th>ShoppingMall</th>\n",
       "      <th>Spa</th>\n",
       "      <th>VRDeck</th>\n",
       "      <th>Name</th>\n",
       "      <th>Transported</th>\n",
       "    </tr>\n",
       "    <tr>\n",
       "      <th>PassengerId</th>\n",
       "      <th></th>\n",
       "      <th></th>\n",
       "      <th></th>\n",
       "      <th></th>\n",
       "      <th></th>\n",
       "      <th></th>\n",
       "      <th></th>\n",
       "      <th></th>\n",
       "      <th></th>\n",
       "      <th></th>\n",
       "      <th></th>\n",
       "      <th></th>\n",
       "      <th></th>\n",
       "    </tr>\n",
       "  </thead>\n",
       "  <tbody>\n",
       "    <tr>\n",
       "      <th>3305_02</th>\n",
       "      <td>Mars</td>\n",
       "      <td>0</td>\n",
       "      <td>D/106/P</td>\n",
       "      <td>55 Cancri e</td>\n",
       "      <td>31.0</td>\n",
       "      <td>False</td>\n",
       "      <td>1065.0</td>\n",
       "      <td>13.0</td>\n",
       "      <td>150.0</td>\n",
       "      <td>36.0</td>\n",
       "      <td>0.0</td>\n",
       "      <td>Vivers Jaff</td>\n",
       "      <td>False</td>\n",
       "    </tr>\n",
       "    <tr>\n",
       "      <th>8997_01</th>\n",
       "      <td>Earth</td>\n",
       "      <td>1</td>\n",
       "      <td>F/1742/S</td>\n",
       "      <td>55 Cancri e</td>\n",
       "      <td>15.0</td>\n",
       "      <td>False</td>\n",
       "      <td>0.0</td>\n",
       "      <td>NaN</td>\n",
       "      <td>0.0</td>\n",
       "      <td>0.0</td>\n",
       "      <td>0.0</td>\n",
       "      <td>Dont Guerson</td>\n",
       "      <td>True</td>\n",
       "    </tr>\n",
       "    <tr>\n",
       "      <th>2747_01</th>\n",
       "      <td>Mars</td>\n",
       "      <td>0</td>\n",
       "      <td>F/570/P</td>\n",
       "      <td>TRAPPIST-1e</td>\n",
       "      <td>49.0</td>\n",
       "      <td>NaN</td>\n",
       "      <td>0.0</td>\n",
       "      <td>0.0</td>\n",
       "      <td>0.0</td>\n",
       "      <td>0.0</td>\n",
       "      <td>0.0</td>\n",
       "      <td>Stisps Chrie</td>\n",
       "      <td>True</td>\n",
       "    </tr>\n",
       "    <tr>\n",
       "      <th>1100_01</th>\n",
       "      <td>Mars</td>\n",
       "      <td>0</td>\n",
       "      <td>F/226/P</td>\n",
       "      <td>TRAPPIST-1e</td>\n",
       "      <td>18.0</td>\n",
       "      <td>False</td>\n",
       "      <td>490.0</td>\n",
       "      <td>355.0</td>\n",
       "      <td>298.0</td>\n",
       "      <td>245.0</td>\n",
       "      <td>0.0</td>\n",
       "      <td>Ros Cuche</td>\n",
       "      <td>False</td>\n",
       "    </tr>\n",
       "    <tr>\n",
       "      <th>1144_01</th>\n",
       "      <td>Earth</td>\n",
       "      <td>0</td>\n",
       "      <td>G/177/S</td>\n",
       "      <td>TRAPPIST-1e</td>\n",
       "      <td>12.0</td>\n",
       "      <td>False</td>\n",
       "      <td>0.0</td>\n",
       "      <td>0.0</td>\n",
       "      <td>0.0</td>\n",
       "      <td>0.0</td>\n",
       "      <td>0.0</td>\n",
       "      <td>Molley Barnolderg</td>\n",
       "      <td>True</td>\n",
       "    </tr>\n",
       "    <tr>\n",
       "      <th>1855_02</th>\n",
       "      <td>Earth</td>\n",
       "      <td>0</td>\n",
       "      <td>E/113/P</td>\n",
       "      <td>TRAPPIST-1e</td>\n",
       "      <td>39.0</td>\n",
       "      <td>False</td>\n",
       "      <td>0.0</td>\n",
       "      <td>43.0</td>\n",
       "      <td>864.0</td>\n",
       "      <td>0.0</td>\n",
       "      <td>85.0</td>\n",
       "      <td>Mabela Jenson</td>\n",
       "      <td>False</td>\n",
       "    </tr>\n",
       "    <tr>\n",
       "      <th>3997_01</th>\n",
       "      <td>Earth</td>\n",
       "      <td>0</td>\n",
       "      <td>G/657/S</td>\n",
       "      <td>55 Cancri e</td>\n",
       "      <td>25.0</td>\n",
       "      <td>False</td>\n",
       "      <td>0.0</td>\n",
       "      <td>83.0</td>\n",
       "      <td>0.0</td>\n",
       "      <td>439.0</td>\n",
       "      <td>0.0</td>\n",
       "      <td>Aliedy Yanton</td>\n",
       "      <td>False</td>\n",
       "    </tr>\n",
       "    <tr>\n",
       "      <th>1407_01</th>\n",
       "      <td>Earth</td>\n",
       "      <td>0</td>\n",
       "      <td>F/278/P</td>\n",
       "      <td>TRAPPIST-1e</td>\n",
       "      <td>21.0</td>\n",
       "      <td>False</td>\n",
       "      <td>737.0</td>\n",
       "      <td>4.0</td>\n",
       "      <td>27.0</td>\n",
       "      <td>8.0</td>\n",
       "      <td>0.0</td>\n",
       "      <td>Lerome Foxter</td>\n",
       "      <td>False</td>\n",
       "    </tr>\n",
       "    <tr>\n",
       "      <th>8956_02</th>\n",
       "      <td>Earth</td>\n",
       "      <td>1</td>\n",
       "      <td>G/1453/P</td>\n",
       "      <td>NaN</td>\n",
       "      <td>20.0</td>\n",
       "      <td>False</td>\n",
       "      <td>0.0</td>\n",
       "      <td>0.0</td>\n",
       "      <td>0.0</td>\n",
       "      <td>0.0</td>\n",
       "      <td>0.0</td>\n",
       "      <td>Erina Bonnondry</td>\n",
       "      <td>True</td>\n",
       "    </tr>\n",
       "    <tr>\n",
       "      <th>5912_01</th>\n",
       "      <td>Earth</td>\n",
       "      <td>1</td>\n",
       "      <td>G/963/S</td>\n",
       "      <td>TRAPPIST-1e</td>\n",
       "      <td>15.0</td>\n",
       "      <td>False</td>\n",
       "      <td>0.0</td>\n",
       "      <td>0.0</td>\n",
       "      <td>0.0</td>\n",
       "      <td>0.0</td>\n",
       "      <td>0.0</td>\n",
       "      <td>Dianya Joycerton</td>\n",
       "      <td>True</td>\n",
       "    </tr>\n",
       "  </tbody>\n",
       "</table>\n",
       "</div>"
      ],
      "text/plain": [
       "            HomePlanet  CryoSleep     Cabin  Destination   Age    VIP  \\\n",
       "PassengerId                                                             \n",
       "3305_02           Mars          0   D/106/P  55 Cancri e  31.0  False   \n",
       "8997_01          Earth          1  F/1742/S  55 Cancri e  15.0  False   \n",
       "2747_01           Mars          0   F/570/P  TRAPPIST-1e  49.0    NaN   \n",
       "1100_01           Mars          0   F/226/P  TRAPPIST-1e  18.0  False   \n",
       "1144_01          Earth          0   G/177/S  TRAPPIST-1e  12.0  False   \n",
       "1855_02          Earth          0   E/113/P  TRAPPIST-1e  39.0  False   \n",
       "3997_01          Earth          0   G/657/S  55 Cancri e  25.0  False   \n",
       "1407_01          Earth          0   F/278/P  TRAPPIST-1e  21.0  False   \n",
       "8956_02          Earth          1  G/1453/P          NaN  20.0  False   \n",
       "5912_01          Earth          1   G/963/S  TRAPPIST-1e  15.0  False   \n",
       "\n",
       "             RoomService  FoodCourt  ShoppingMall    Spa  VRDeck  \\\n",
       "PassengerId                                                        \n",
       "3305_02           1065.0       13.0         150.0   36.0     0.0   \n",
       "8997_01              0.0        NaN           0.0    0.0     0.0   \n",
       "2747_01              0.0        0.0           0.0    0.0     0.0   \n",
       "1100_01            490.0      355.0         298.0  245.0     0.0   \n",
       "1144_01              0.0        0.0           0.0    0.0     0.0   \n",
       "1855_02              0.0       43.0         864.0    0.0    85.0   \n",
       "3997_01              0.0       83.0           0.0  439.0     0.0   \n",
       "1407_01            737.0        4.0          27.0    8.0     0.0   \n",
       "8956_02              0.0        0.0           0.0    0.0     0.0   \n",
       "5912_01              0.0        0.0           0.0    0.0     0.0   \n",
       "\n",
       "                          Name  Transported  \n",
       "PassengerId                                  \n",
       "3305_02            Vivers Jaff        False  \n",
       "8997_01           Dont Guerson         True  \n",
       "2747_01           Stisps Chrie         True  \n",
       "1100_01              Ros Cuche        False  \n",
       "1144_01      Molley Barnolderg         True  \n",
       "1855_02          Mabela Jenson        False  \n",
       "3997_01          Aliedy Yanton        False  \n",
       "1407_01          Lerome Foxter        False  \n",
       "8956_02        Erina Bonnondry         True  \n",
       "5912_01       Dianya Joycerton         True  "
      ]
     },
     "execution_count": 47,
     "metadata": {},
     "output_type": "execute_result"
    }
   ],
   "source": [
    "data.sample(10)"
   ]
  },
  {
   "cell_type": "code",
   "execution_count": 48,
   "metadata": {},
   "outputs": [
    {
     "name": "stdout",
     "output_type": "stream",
     "text": [
      "<class 'pandas.core.frame.DataFrame'>\n",
      "Index: 8693 entries, 0001_01 to 9280_02\n",
      "Data columns (total 13 columns):\n",
      " #   Column        Non-Null Count  Dtype  \n",
      "---  ------        --------------  -----  \n",
      " 0   HomePlanet    8693 non-null   object \n",
      " 1   CryoSleep     8693 non-null   int64  \n",
      " 2   Cabin         8494 non-null   object \n",
      " 3   Destination   8511 non-null   object \n",
      " 4   Age           8514 non-null   float64\n",
      " 5   VIP           8490 non-null   object \n",
      " 6   RoomService   8512 non-null   float64\n",
      " 7   FoodCourt     8510 non-null   float64\n",
      " 8   ShoppingMall  8485 non-null   float64\n",
      " 9   Spa           8510 non-null   float64\n",
      " 10  VRDeck        8505 non-null   float64\n",
      " 11  Name          8493 non-null   object \n",
      " 12  Transported   8693 non-null   bool   \n",
      "dtypes: bool(1), float64(6), int64(1), object(5)\n",
      "memory usage: 1.1+ MB\n"
     ]
    }
   ],
   "source": [
    "data.info()"
   ]
  },
  {
   "cell_type": "markdown",
   "metadata": {},
   "source": [
    "#### `Cabin` values with highly occuring random values (count > 5)"
   ]
  },
  {
   "cell_type": "code",
   "execution_count": 49,
   "metadata": {},
   "outputs": [
    {
     "data": {
      "text/plain": [
       "NaN        199\n",
       "G/734/S      8\n",
       "C/137/S      7\n",
       "B/201/P      7\n",
       "G/109/P      7\n",
       "          ... \n",
       "G/556/P      1\n",
       "E/231/S      1\n",
       "G/545/S      1\n",
       "G/543/S      1\n",
       "C/178/S      1\n",
       "Name: Cabin, Length: 6561, dtype: int64"
      ]
     },
     "execution_count": 49,
     "metadata": {},
     "output_type": "execute_result"
    }
   ],
   "source": [
    "data[\"Cabin\"].value_counts(dropna=False)"
   ]
  },
  {
   "cell_type": "code",
   "execution_count": 50,
   "metadata": {},
   "outputs": [
    {
     "data": {
      "text/plain": [
       "count        8494\n",
       "unique       6560\n",
       "top       G/734/S\n",
       "freq            8\n",
       "Name: Cabin, dtype: object"
      ]
     },
     "execution_count": 50,
     "metadata": {},
     "output_type": "execute_result"
    }
   ],
   "source": [
    "data[\"Cabin\"].describe()"
   ]
  },
  {
   "cell_type": "markdown",
   "metadata": {},
   "source": [
    "#### count is `8`, `7` & `6`"
   ]
  },
  {
   "cell_type": "code",
   "execution_count": 89,
   "metadata": {},
   "outputs": [
    {
     "data": {
      "text/plain": [
       "Index(['C/42/P', 'F/1194/P', 'B/11/S', 'F/1411/P', 'G/292/S', 'G/943/S',\n",
       "       'C/255/S', 'C/306/S', 'B/183/S', 'E/13/S', 'B/19/S', 'D/56/P',\n",
       "       'C/225/P', 'A/67/P', 'G/1476/S', 'G/150/S', 'G/1368/P', 'C/319/S',\n",
       "       'G/117/S', 'C/137/S', 'G/657/P', 'G/974/P', 'B/201/P', 'C/125/S',\n",
       "       'B/82/S', 'G/230/S', 'C/21/P', 'G/981/S', 'C/82/P', 'G/734/S',\n",
       "       'G/383/S', 'D/176/S', 'G/186/S', 'F/856/P', 'G/377/P', 'G/1448/S',\n",
       "       'F/859/P', 'G/330/P', 'G/765/S', 'F/1808/P', 'G/1108/P', 'E/82/P',\n",
       "       'E/0/S', 'G/1460/S', 'G/109/P', 'G/1046/S', 'C/230/S'],\n",
       "      dtype='object')"
      ]
     },
     "execution_count": 89,
     "metadata": {},
     "output_type": "execute_result"
    }
   ],
   "source": [
    "cabin_values = data[\"Cabin\"].value_counts().head(47).index\n",
    "cabin_values"
   ]
  },
  {
   "cell_type": "code",
   "execution_count": 84,
   "metadata": {},
   "outputs": [],
   "source": [
    "data[\"Cabin\"].fillna(\"missing\", inplace=True)"
   ]
  },
  {
   "cell_type": "code",
   "execution_count": 85,
   "metadata": {},
   "outputs": [],
   "source": [
    "data[\"Cabin\"] = data[\"Cabin\"].map(\n",
    "    lambda x: random.choice(cabin_values) if x==\"missing\" else x\n",
    ")"
   ]
  },
  {
   "cell_type": "code",
   "execution_count": 86,
   "metadata": {},
   "outputs": [
    {
     "data": {
      "text/plain": [
       "C/42/P      15\n",
       "F/1194/P    14\n",
       "B/11/S      14\n",
       "F/1411/P    13\n",
       "G/292/S     13\n",
       "            ..\n",
       "F/643/S      1\n",
       "F/642/S      1\n",
       "G/540/S      1\n",
       "F/641/S      1\n",
       "B/152/P      1\n",
       "Name: Cabin, Length: 6560, dtype: int64"
      ]
     },
     "execution_count": 86,
     "metadata": {},
     "output_type": "execute_result"
    }
   ],
   "source": [
    "data[\"Cabin\"].value_counts(dropna=False)"
   ]
  },
  {
   "cell_type": "code",
   "execution_count": 88,
   "metadata": {},
   "outputs": [
    {
     "data": {
      "text/plain": [
       "0"
      ]
     },
     "execution_count": 88,
     "metadata": {},
     "output_type": "execute_result"
    }
   ],
   "source": [
    "data[\"Cabin\"].isnull().sum()"
   ]
  },
  {
   "cell_type": "code",
   "execution_count": 90,
   "metadata": {},
   "outputs": [
    {
     "name": "stdout",
     "output_type": "stream",
     "text": [
      "<class 'pandas.core.frame.DataFrame'>\n",
      "Index: 8693 entries, 0001_01 to 9280_02\n",
      "Data columns (total 13 columns):\n",
      " #   Column        Non-Null Count  Dtype  \n",
      "---  ------        --------------  -----  \n",
      " 0   HomePlanet    8693 non-null   object \n",
      " 1   CryoSleep     8693 non-null   int64  \n",
      " 2   Cabin         8693 non-null   object \n",
      " 3   Destination   8511 non-null   object \n",
      " 4   Age           8514 non-null   float64\n",
      " 5   VIP           8490 non-null   object \n",
      " 6   RoomService   8512 non-null   float64\n",
      " 7   FoodCourt     8510 non-null   float64\n",
      " 8   ShoppingMall  8485 non-null   float64\n",
      " 9   Spa           8510 non-null   float64\n",
      " 10  VRDeck        8505 non-null   float64\n",
      " 11  Name          8493 non-null   object \n",
      " 12  Transported   8693 non-null   bool   \n",
      "dtypes: bool(1), float64(6), int64(1), object(5)\n",
      "memory usage: 1.1+ MB\n"
     ]
    }
   ],
   "source": [
    "data.info()"
   ]
  },
  {
   "cell_type": "markdown",
   "metadata": {},
   "source": [
    "#### `Destination` with it's mode i.e. `TRAPPIST-1e`"
   ]
  },
  {
   "cell_type": "code",
   "execution_count": 92,
   "metadata": {},
   "outputs": [
    {
     "data": {
      "text/plain": [
       "TRAPPIST-1e      5915\n",
       "55 Cancri e      1800\n",
       "PSO J318.5-22     796\n",
       "NaN               182\n",
       "Name: Destination, dtype: int64"
      ]
     },
     "execution_count": 92,
     "metadata": {},
     "output_type": "execute_result"
    }
   ],
   "source": [
    "data[\"Destination\"].value_counts(dropna=False)"
   ]
  },
  {
   "cell_type": "code",
   "execution_count": 99,
   "metadata": {},
   "outputs": [
    {
     "data": {
      "text/plain": [
       "'TRAPPIST-1e'"
      ]
     },
     "execution_count": 99,
     "metadata": {},
     "output_type": "execute_result"
    }
   ],
   "source": [
    "data[\"Destination\"].mode()[0]"
   ]
  },
  {
   "cell_type": "code",
   "execution_count": 97,
   "metadata": {},
   "outputs": [],
   "source": [
    "data[\"Destination\"].fillna(\"TRAPPIST-1e\", inplace=True)"
   ]
  },
  {
   "cell_type": "code",
   "execution_count": 98,
   "metadata": {},
   "outputs": [
    {
     "data": {
      "text/plain": [
       "0"
      ]
     },
     "execution_count": 98,
     "metadata": {},
     "output_type": "execute_result"
    }
   ],
   "source": [
    "data[\"Destination\"].isna().sum()"
   ]
  },
  {
   "cell_type": "markdown",
   "metadata": {},
   "source": [
    "#### `Age` values with it's median i.e. `27`"
   ]
  },
  {
   "cell_type": "code",
   "execution_count": 100,
   "metadata": {},
   "outputs": [
    {
     "name": "stdout",
     "output_type": "stream",
     "text": [
      "<class 'pandas.core.frame.DataFrame'>\n",
      "Index: 8693 entries, 0001_01 to 9280_02\n",
      "Data columns (total 13 columns):\n",
      " #   Column        Non-Null Count  Dtype  \n",
      "---  ------        --------------  -----  \n",
      " 0   HomePlanet    8693 non-null   object \n",
      " 1   CryoSleep     8693 non-null   int64  \n",
      " 2   Cabin         8693 non-null   object \n",
      " 3   Destination   8693 non-null   object \n",
      " 4   Age           8514 non-null   float64\n",
      " 5   VIP           8490 non-null   object \n",
      " 6   RoomService   8512 non-null   float64\n",
      " 7   FoodCourt     8510 non-null   float64\n",
      " 8   ShoppingMall  8485 non-null   float64\n",
      " 9   Spa           8510 non-null   float64\n",
      " 10  VRDeck        8505 non-null   float64\n",
      " 11  Name          8493 non-null   object \n",
      " 12  Transported   8693 non-null   bool   \n",
      "dtypes: bool(1), float64(6), int64(1), object(5)\n",
      "memory usage: 1.1+ MB\n"
     ]
    }
   ],
   "source": [
    "data.info()"
   ]
  },
  {
   "cell_type": "code",
   "execution_count": 101,
   "metadata": {},
   "outputs": [
    {
     "data": {
      "text/plain": [
       "24.0    324\n",
       "18.0    320\n",
       "21.0    311\n",
       "19.0    293\n",
       "23.0    292\n",
       "       ... \n",
       "72.0      4\n",
       "78.0      3\n",
       "79.0      3\n",
       "76.0      2\n",
       "77.0      2\n",
       "Name: Age, Length: 81, dtype: int64"
      ]
     },
     "execution_count": 101,
     "metadata": {},
     "output_type": "execute_result"
    }
   ],
   "source": [
    "data[\"Age\"].value_counts(dropna=False)"
   ]
  },
  {
   "cell_type": "code",
   "execution_count": 107,
   "metadata": {},
   "outputs": [
    {
     "data": {
      "text/plain": [
       "(array([245., 150., 104.,  92.,  88.,  86., 182., 293., 305., 613., 588.,\n",
       "        583., 567., 527., 497., 385., 377., 319., 355., 299., 257., 247.,\n",
       "        204., 185., 155., 133., 113., 135.,  94.,  82.,  66.,  52.,  52.,\n",
       "         20.,  18.,  16.,  11.,   9.,   4.,   6.]),\n",
       " array([ 0.   ,  1.975,  3.95 ,  5.925,  7.9  ,  9.875, 11.85 , 13.825,\n",
       "        15.8  , 17.775, 19.75 , 21.725, 23.7  , 25.675, 27.65 , 29.625,\n",
       "        31.6  , 33.575, 35.55 , 37.525, 39.5  , 41.475, 43.45 , 45.425,\n",
       "        47.4  , 49.375, 51.35 , 53.325, 55.3  , 57.275, 59.25 , 61.225,\n",
       "        63.2  , 65.175, 67.15 , 69.125, 71.1  , 73.075, 75.05 , 77.025,\n",
       "        79.   ]),\n",
       " <BarContainer object of 40 artists>)"
      ]
     },
     "execution_count": 107,
     "metadata": {},
     "output_type": "execute_result"
    },
    {
     "data": {
      "image/png": "[encoded data removed]",
      "image/svg+xml": "<?xml version=\"1.0\" encoding=\"utf-8\" standalone=\"no\"?>\n<!DOCTYPE svg PUBLIC \"-//W3C//DTD SVG 1.1//EN\"\n  \"http://www.w3.org/Graphics/SVG/1.1/DTD/svg11.dtd\">\n<svg xmlns:xlink=\"http://www.w3.org/1999/xlink\" width=\"397.6075pt\" height=\"297.190125pt\" viewBox=\"0 0 397.6075 297.190125\" xmlns=\"http://www.w3.org/2000/svg\" version=\"1.1\">\n <metadata>\n  <rdf:RDF xmlns:dc=\"http://purl.org/dc/elements/1.1/\" xmlns:cc=\"http://creativecommons.org/ns#\" xmlns:rdf=\"http://www.w3.org/1999/02/22-rdf-syntax-ns#\">\n   <cc:Work>\n    <dc:type rdf:resource=\"http://purl.org/dc/dcmitype/StillImage\"/>\n    <dc:date>2022-08-27T12:33:12.257420</dc:date>\n    <dc:format>image/svg+xml</dc:format>\n    <dc:creator>\n     <cc:Agent>\n      <dc:title>Matplotlib v3.5.3, https://matplotlib.org/</dc:title>\n     </cc:Agent>\n    </dc:creator>\n   </cc:Work>\n  </rdf:RDF>\n </metadata>\n <defs>\n  <style type=\"text/css\">*{stroke-linejoin: round; stroke-linecap: butt}</style>\n </defs>\n <g id=\"figure_1\">\n  <g id=\"patch_1\">\n   <path d=\"M 0 297.190125 \nL 397.6075 297.190125 \nL 397.6075 0 \nL 0 0 \nz\n\"/>\n  </g>\n  <g id=\"axes_1\">\n   <g id=\"patch_2\">\n    <path d=\"M 33.2875 273.312 \nL 390.4075 273.312 \nL 390.4075 7.2 \nL 33.2875 7.2 \nz\n\"/>\n   </g>\n   <g id=\"patch_3\">\n    <path d=\"M 49.520227 273.312 \nL 57.636591 273.312 \nL 57.636591 172.018688 \nL 49.520227 172.018688 \nz\n\" clip-path=\"url(#pda0c25dace)\" style=\"fill: #8dd3c7\"/>\n   </g>\n   <g id=\"patch_4\">\n    <path d=\"M 57.636591 273.312 \nL 65.752955 273.312 \nL 65.752955 211.295687 \nL 57.636591 211.295687 \nz\n\" clip-path=\"url(#pda0c25dace)\" style=\"fill: #8dd3c7\"/>\n   </g>\n   <g id=\"patch_5\">\n    <path d=\"M 65.752955 273.312 \nL 73.869318 273.312 \nL 73.869318 230.314023 \nL 65.752955 230.314023 \nz\n\" clip-path=\"url(#pda0c25dace)\" style=\"fill: #8dd3c7\"/>\n   </g>\n   <g id=\"patch_6\">\n    <path d=\"M 73.869318 273.312 \nL 81.985682 273.312 \nL 81.985682 235.275328 \nL 73.869318 235.275328 \nz\n\" clip-path=\"url(#pda0c25dace)\" style=\"fill: #8dd3c7\"/>\n   </g>\n   <g id=\"patch_7\">\n    <path d=\"M 81.985682 273.312 \nL 90.102045 273.312 \nL 90.102045 236.929096 \nL 81.985682 236.929096 \nz\n\" clip-path=\"url(#pda0c25dace)\" style=\"fill: #8dd3c7\"/>\n   </g>\n   <g id=\"patch_8\">\n    <path d=\"M 90.102045 273.312 \nL 98.218409 273.312 \nL 98.218409 237.75598 \nL 90.102045 237.75598 \nz\n\" clip-path=\"url(#pda0c25dace)\" style=\"fill: #8dd3c7\"/>\n   </g>\n   <g id=\"patch_9\">\n    <path d=\"M 98.218409 273.312 \nL 106.334773 273.312 \nL 106.334773 198.06554 \nL 98.218409 198.06554 \nz\n\" clip-path=\"url(#pda0c25dace)\" style=\"fill: #8dd3c7\"/>\n   </g>\n   <g id=\"patch_10\">\n    <path d=\"M 106.334773 273.312 \nL 114.451136 273.312 \nL 114.451136 152.173468 \nL 106.334773 152.173468 \nz\n\" clip-path=\"url(#pda0c25dace)\" style=\"fill: #8dd3c7\"/>\n   </g>\n   <g id=\"patch_11\">\n    <path d=\"M 114.451136 273.312 \nL 122.5675 273.312 \nL 122.5675 147.212163 \nL 114.451136 147.212163 \nz\n\" clip-path=\"url(#pda0c25dace)\" style=\"fill: #8dd3c7\"/>\n   </g>\n   <g id=\"patch_12\">\n    <path d=\"M 122.5675 273.312 \nL 130.683864 273.312 \nL 130.683864 19.872 \nL 122.5675 19.872 \nz\n\" clip-path=\"url(#pda0c25dace)\" style=\"fill: #8dd3c7\"/>\n   </g>\n   <g id=\"patch_13\">\n    <path d=\"M 130.683864 273.312 \nL 138.800227 273.312 \nL 138.800227 30.208052 \nL 130.683864 30.208052 \nz\n\" clip-path=\"url(#pda0c25dace)\" style=\"fill: #8dd3c7\"/>\n   </g>\n   <g id=\"patch_14\">\n    <path d=\"M 138.800227 273.312 \nL 146.916591 273.312 \nL 146.916591 32.275263 \nL 138.800227 32.275263 \nz\n\" clip-path=\"url(#pda0c25dace)\" style=\"fill: #8dd3c7\"/>\n   </g>\n   <g id=\"patch_15\">\n    <path d=\"M 146.916591 273.312 \nL 155.032955 273.312 \nL 155.032955 38.890336 \nL 146.916591 38.890336 \nz\n\" clip-path=\"url(#pda0c25dace)\" style=\"fill: #8dd3c7\"/>\n   </g>\n   <g id=\"patch_16\">\n    <path d=\"M 155.032955 273.312 \nL 163.149318 273.312 \nL 163.149318 55.42802 \nL 155.032955 55.42802 \nz\n\" clip-path=\"url(#pda0c25dace)\" style=\"fill: #8dd3c7\"/>\n   </g>\n   <g id=\"patch_17\">\n    <path d=\"M 163.149318 273.312 \nL 171.265682 273.312 \nL 171.265682 67.831282 \nL 163.149318 67.831282 \nz\n\" clip-path=\"url(#pda0c25dace)\" style=\"fill: #8dd3c7\"/>\n   </g>\n   <g id=\"patch_18\">\n    <path d=\"M 171.265682 273.312 \nL 179.382045 273.312 \nL 179.382045 114.136796 \nL 171.265682 114.136796 \nz\n\" clip-path=\"url(#pda0c25dace)\" style=\"fill: #8dd3c7\"/>\n   </g>\n   <g id=\"patch_19\">\n    <path d=\"M 179.382045 273.312 \nL 187.498409 273.312 \nL 187.498409 117.444333 \nL 179.382045 117.444333 \nz\n\" clip-path=\"url(#pda0c25dace)\" style=\"fill: #8dd3c7\"/>\n   </g>\n   <g id=\"patch_20\">\n    <path d=\"M 187.498409 273.312 \nL 195.614773 273.312 \nL 195.614773 141.423974 \nL 187.498409 141.423974 \nz\n\" clip-path=\"url(#pda0c25dace)\" style=\"fill: #8dd3c7\"/>\n   </g>\n   <g id=\"patch_21\">\n    <path d=\"M 195.614773 273.312 \nL 203.731136 273.312 \nL 203.731136 126.540059 \nL 195.614773 126.540059 \nz\n\" clip-path=\"url(#pda0c25dace)\" style=\"fill: #8dd3c7\"/>\n   </g>\n   <g id=\"patch_22\">\n    <path d=\"M 203.731136 273.312 \nL 211.8475 273.312 \nL 211.8475 149.692816 \nL 203.731136 149.692816 \nz\n\" clip-path=\"url(#pda0c25dace)\" style=\"fill: #8dd3c7\"/>\n   </g>\n   <g id=\"patch_23\">\n    <path d=\"M 211.8475 273.312 \nL 219.963864 273.312 \nL 219.963864 167.057383 \nL 211.8475 167.057383 \nz\n\" clip-path=\"url(#pda0c25dace)\" style=\"fill: #8dd3c7\"/>\n   </g>\n   <g id=\"patch_24\">\n    <path d=\"M 219.963864 273.312 \nL 228.080227 273.312 \nL 228.080227 171.191804 \nL 219.963864 171.191804 \nz\n\" clip-path=\"url(#pda0c25dace)\" style=\"fill: #8dd3c7\"/>\n   </g>\n   <g id=\"patch_25\">\n    <path d=\"M 228.080227 273.312 \nL 236.196591 273.312 \nL 236.196591 188.969814 \nL 228.080227 188.969814 \nz\n\" clip-path=\"url(#pda0c25dace)\" style=\"fill: #8dd3c7\"/>\n   </g>\n   <g id=\"patch_26\">\n    <path d=\"M 236.196591 273.312 \nL 244.312955 273.312 \nL 244.312955 196.825214 \nL 236.196591 196.825214 \nz\n\" clip-path=\"url(#pda0c25dace)\" style=\"fill: #8dd3c7\"/>\n   </g>\n   <g id=\"patch_27\">\n    <path d=\"M 244.312955 273.312 \nL 252.429318 273.312 \nL 252.429318 209.228476 \nL 244.312955 209.228476 \nz\n\" clip-path=\"url(#pda0c25dace)\" style=\"fill: #8dd3c7\"/>\n   </g>\n   <g id=\"patch_28\">\n    <path d=\"M 252.429318 273.312 \nL 260.545682 273.312 \nL 260.545682 218.324202 \nL 252.429318 218.324202 \nz\n\" clip-path=\"url(#pda0c25dace)\" style=\"fill: #8dd3c7\"/>\n   </g>\n   <g id=\"patch_29\">\n    <path d=\"M 260.545682 273.312 \nL 268.662045 273.312 \nL 268.662045 226.593044 \nL 260.545682 226.593044 \nz\n\" clip-path=\"url(#pda0c25dace)\" style=\"fill: #8dd3c7\"/>\n   </g>\n   <g id=\"patch_30\">\n    <path d=\"M 268.662045 273.312 \nL 276.778409 273.312 \nL 276.778409 217.497318 \nL 268.662045 217.497318 \nz\n\" clip-path=\"url(#pda0c25dace)\" style=\"fill: #8dd3c7\"/>\n   </g>\n   <g id=\"patch_31\">\n    <path d=\"M 276.778409 273.312 \nL 284.894773 273.312 \nL 284.894773 234.448444 \nL 276.778409 234.448444 \nz\n\" clip-path=\"url(#pda0c25dace)\" style=\"fill: #8dd3c7\"/>\n   </g>\n   <g id=\"patch_32\">\n    <path d=\"M 284.894773 273.312 \nL 293.011136 273.312 \nL 293.011136 239.409749 \nL 284.894773 239.409749 \nz\n\" clip-path=\"url(#pda0c25dace)\" style=\"fill: #8dd3c7\"/>\n   </g>\n   <g id=\"patch_33\">\n    <path d=\"M 293.011136 273.312 \nL 301.1275 273.312 \nL 301.1275 246.024822 \nL 293.011136 246.024822 \nz\n\" clip-path=\"url(#pda0c25dace)\" style=\"fill: #8dd3c7\"/>\n   </g>\n   <g id=\"patch_34\">\n    <path d=\"M 301.1275 273.312 \nL 309.243864 273.312 \nL 309.243864 251.813011 \nL 301.1275 251.813011 \nz\n\" clip-path=\"url(#pda0c25dace)\" style=\"fill: #8dd3c7\"/>\n   </g>\n   <g id=\"patch_35\">\n    <path d=\"M 309.243864 273.312 \nL 317.360227 273.312 \nL 317.360227 251.813011 \nL 309.243864 251.813011 \nz\n\" clip-path=\"url(#pda0c25dace)\" style=\"fill: #8dd3c7\"/>\n   </g>\n   <g id=\"patch_36\">\n    <path d=\"M 317.360227 273.312 \nL 325.476591 273.312 \nL 325.476591 265.043158 \nL 317.360227 265.043158 \nz\n\" clip-path=\"url(#pda0c25dace)\" style=\"fill: #8dd3c7\"/>\n   </g>\n   <g id=\"patch_37\">\n    <path d=\"M 325.476591 273.312 \nL 333.592955 273.312 \nL 333.592955 265.870042 \nL 325.476591 265.870042 \nz\n\" clip-path=\"url(#pda0c25dace)\" style=\"fill: #8dd3c7\"/>\n   </g>\n   <g id=\"patch_38\">\n    <path d=\"M 333.592955 273.312 \nL 341.709318 273.312 \nL 341.709318 266.696927 \nL 333.592955 266.696927 \nz\n\" clip-path=\"url(#pda0c25dace)\" style=\"fill: #8dd3c7\"/>\n   </g>\n   <g id=\"patch_39\">\n    <path d=\"M 341.709318 273.312 \nL 349.825682 273.312 \nL 349.825682 268.764137 \nL 341.709318 268.764137 \nz\n\" clip-path=\"url(#pda0c25dace)\" style=\"fill: #8dd3c7\"/>\n   </g>\n   <g id=\"patch_40\">\n    <path d=\"M 349.825682 273.312 \nL 357.942045 273.312 \nL 357.942045 269.591021 \nL 349.825682 269.591021 \nz\n\" clip-path=\"url(#pda0c25dace)\" style=\"fill: #8dd3c7\"/>\n   </g>\n   <g id=\"patch_41\">\n    <path d=\"M 357.942045 273.312 \nL 366.058409 273.312 \nL 366.058409 271.658232 \nL 357.942045 271.658232 \nz\n\" clip-path=\"url(#pda0c25dace)\" style=\"fill: #8dd3c7\"/>\n   </g>\n   <g id=\"patch_42\">\n    <path d=\"M 366.058409 273.312 \nL 374.174773 273.312 \nL 374.174773 270.831347 \nL 366.058409 270.831347 \nz\n\" clip-path=\"url(#pda0c25dace)\" style=\"fill: #8dd3c7\"/>\n   </g>\n   <g id=\"matplotlib.axis_1\">\n    <g id=\"xtick_1\">\n     <g id=\"line2d_1\">\n      <defs>\n       <path id=\"md27bcc343f\" d=\"M 0 0 \nL 0 3.5 \n\" style=\"stroke: #ffffff; stroke-width: 0.8\"/>\n      </defs>\n      <g>\n       <use xlink:href=\"#md27bcc343f\" x=\"49.520227\" y=\"273.312\" style=\"fill: #ffffff; stroke: #ffffff; stroke-width: 0.8\"/>\n      </g>\n     </g>\n     <g id=\"text_1\">\n      <!-- 0 -->\n      <g style=\"fill: #ffffff\" transform=\"translate(46.338977 287.910437)scale(0.1 -0.1)\">\n       <defs>\n        <path id=\"DejaVuSans-30\" d=\"M 2034 4250 \nQ 1547 4250 1301 3770 \nQ 1056 3291 1056 2328 \nQ 1056 1369 1301 889 \nQ 1547 409 2034 409 \nQ 2525 409 2770 889 \nQ 3016 1369 3016 2328 \nQ 3016 3291 2770 3770 \nQ 2525 4250 2034 4250 \nz\nM 2034 4750 \nQ 2819 4750 3233 4129 \nQ 3647 3509 3647 2328 \nQ 3647 1150 3233 529 \nQ 2819 -91 2034 -91 \nQ 1250 -91 836 529 \nQ 422 1150 422 2328 \nQ 422 3509 836 4129 \nQ 1250 4750 2034 4750 \nz\n\" transform=\"scale(0.015625)\"/>\n       </defs>\n       <use xlink:href=\"#DejaVuSans-30\"/>\n      </g>\n     </g>\n    </g>\n    <g id=\"xtick_2\">\n     <g id=\"line2d_2\">\n      <g>\n       <use xlink:href=\"#md27bcc343f\" x=\"90.615739\" y=\"273.312\" style=\"fill: #ffffff; stroke: #ffffff; stroke-width: 0.8\"/>\n      </g>\n     </g>\n     <g id=\"text_2\">\n      <!-- 10 -->\n      <g style=\"fill: #ffffff\" transform=\"translate(84.253239 287.910437)scale(0.1 -0.1)\">\n       <defs>\n        <path id=\"DejaVuSans-31\" d=\"M 794 531 \nL 1825 531 \nL 1825 4091 \nL 703 3866 \nL 703 4441 \nL 1819 4666 \nL 2450 4666 \nL 2450 531 \nL 3481 531 \nL 3481 0 \nL 794 0 \nL 794 531 \nz\n\" transform=\"scale(0.015625)\"/>\n       </defs>\n       <use xlink:href=\"#DejaVuSans-31\"/>\n       <use xlink:href=\"#DejaVuSans-30\" x=\"63.623047\"/>\n      </g>\n     </g>\n    </g>\n    <g id=\"xtick_3\">\n     <g id=\"line2d_3\">\n      <g>\n       <use xlink:href=\"#md27bcc343f\" x=\"131.711251\" y=\"273.312\" style=\"fill: #ffffff; stroke: #ffffff; stroke-width: 0.8\"/>\n      </g>\n     </g>\n     <g id=\"text_3\">\n      <!-- 20 -->\n      <g style=\"fill: #ffffff\" transform=\"translate(125.348751 287.910437)scale(0.1 -0.1)\">\n       <defs>\n        <path id=\"DejaVuSans-32\" d=\"M 1228 531 \nL 3431 531 \nL 3431 0 \nL 469 0 \nL 469 531 \nQ 828 903 1448 1529 \nQ 2069 2156 2228 2338 \nQ 2531 2678 2651 2914 \nQ 2772 3150 2772 3378 \nQ 2772 3750 2511 3984 \nQ 2250 4219 1831 4219 \nQ 1534 4219 1204 4116 \nQ 875 4013 500 3803 \nL 500 4441 \nQ 881 4594 1212 4672 \nQ 1544 4750 1819 4750 \nQ 2544 4750 2975 4387 \nQ 3406 4025 3406 3419 \nQ 3406 3131 3298 2873 \nQ 3191 2616 2906 2266 \nQ 2828 2175 2409 1742 \nQ 1991 1309 1228 531 \nz\n\" transform=\"scale(0.015625)\"/>\n       </defs>\n       <use xlink:href=\"#DejaVuSans-32\"/>\n       <use xlink:href=\"#DejaVuSans-30\" x=\"63.623047\"/>\n      </g>\n     </g>\n    </g>\n    <g id=\"xtick_4\">\n     <g id=\"line2d_4\">\n      <g>\n       <use xlink:href=\"#md27bcc343f\" x=\"172.806764\" y=\"273.312\" style=\"fill: #ffffff; stroke: #ffffff; stroke-width: 0.8\"/>\n      </g>\n     </g>\n     <g id=\"text_4\">\n      <!-- 30 -->\n      <g style=\"fill: #ffffff\" transform=\"translate(166.444264 287.910437)scale(0.1 -0.1)\">\n       <defs>\n        <path id=\"DejaVuSans-33\" d=\"M 2597 2516 \nQ 3050 2419 3304 2112 \nQ 3559 1806 3559 1356 \nQ 3559 666 3084 287 \nQ 2609 -91 1734 -91 \nQ 1441 -91 1130 -33 \nQ 819 25 488 141 \nL 488 750 \nQ 750 597 1062 519 \nQ 1375 441 1716 441 \nQ 2309 441 2620 675 \nQ 2931 909 2931 1356 \nQ 2931 1769 2642 2001 \nQ 2353 2234 1838 2234 \nL 1294 2234 \nL 1294 2753 \nL 1863 2753 \nQ 2328 2753 2575 2939 \nQ 2822 3125 2822 3475 \nQ 2822 3834 2567 4026 \nQ 2313 4219 1838 4219 \nQ 1578 4219 1281 4162 \nQ 984 4106 628 3988 \nL 628 4550 \nQ 988 4650 1302 4700 \nQ 1616 4750 1894 4750 \nQ 2613 4750 3031 4423 \nQ 3450 4097 3450 3541 \nQ 3450 3153 3228 2886 \nQ 3006 2619 2597 2516 \nz\n\" transform=\"scale(0.015625)\"/>\n       </defs>\n       <use xlink:href=\"#DejaVuSans-33\"/>\n       <use xlink:href=\"#DejaVuSans-30\" x=\"63.623047\"/>\n      </g>\n     </g>\n    </g>\n    <g id=\"xtick_5\">\n     <g id=\"line2d_5\">\n      <g>\n       <use xlink:href=\"#md27bcc343f\" x=\"213.902276\" y=\"273.312\" style=\"fill: #ffffff; stroke: #ffffff; stroke-width: 0.8\"/>\n      </g>\n     </g>\n     <g id=\"text_5\">\n      <!-- 40 -->\n      <g style=\"fill: #ffffff\" transform=\"translate(207.539776 287.910437)scale(0.1 -0.1)\">\n       <defs>\n        <path id=\"DejaVuSans-34\" d=\"M 2419 4116 \nL 825 1625 \nL 2419 1625 \nL 2419 4116 \nz\nM 2253 4666 \nL 3047 4666 \nL 3047 1625 \nL 3713 1625 \nL 3713 1100 \nL 3047 1100 \nL 3047 0 \nL 2419 0 \nL 2419 1100 \nL 313 1100 \nL 313 1709 \nL 2253 4666 \nz\n\" transform=\"scale(0.015625)\"/>\n       </defs>\n       <use xlink:href=\"#DejaVuSans-34\"/>\n       <use xlink:href=\"#DejaVuSans-30\" x=\"63.623047\"/>\n      </g>\n     </g>\n    </g>\n    <g id=\"xtick_6\">\n     <g id=\"line2d_6\">\n      <g>\n       <use xlink:href=\"#md27bcc343f\" x=\"254.997788\" y=\"273.312\" style=\"fill: #ffffff; stroke: #ffffff; stroke-width: 0.8\"/>\n      </g>\n     </g>\n     <g id=\"text_6\">\n      <!-- 50 -->\n      <g style=\"fill: #ffffff\" transform=\"translate(248.635288 287.910437)scale(0.1 -0.1)\">\n       <defs>\n        <path id=\"DejaVuSans-35\" d=\"M 691 4666 \nL 3169 4666 \nL 3169 4134 \nL 1269 4134 \nL 1269 2991 \nQ 1406 3038 1543 3061 \nQ 1681 3084 1819 3084 \nQ 2600 3084 3056 2656 \nQ 3513 2228 3513 1497 \nQ 3513 744 3044 326 \nQ 2575 -91 1722 -91 \nQ 1428 -91 1123 -41 \nQ 819 9 494 109 \nL 494 744 \nQ 775 591 1075 516 \nQ 1375 441 1709 441 \nQ 2250 441 2565 725 \nQ 2881 1009 2881 1497 \nQ 2881 1984 2565 2268 \nQ 2250 2553 1709 2553 \nQ 1456 2553 1204 2497 \nQ 953 2441 691 2322 \nL 691 4666 \nz\n\" transform=\"scale(0.015625)\"/>\n       </defs>\n       <use xlink:href=\"#DejaVuSans-35\"/>\n       <use xlink:href=\"#DejaVuSans-30\" x=\"63.623047\"/>\n      </g>\n     </g>\n    </g>\n    <g id=\"xtick_7\">\n     <g id=\"line2d_7\">\n      <g>\n       <use xlink:href=\"#md27bcc343f\" x=\"296.0933\" y=\"273.312\" style=\"fill: #ffffff; stroke: #ffffff; stroke-width: 0.8\"/>\n      </g>\n     </g>\n     <g id=\"text_7\">\n      <!-- 60 -->\n      <g style=\"fill: #ffffff\" transform=\"translate(289.7308 287.910437)scale(0.1 -0.1)\">\n       <defs>\n        <path id=\"DejaVuSans-36\" d=\"M 2113 2584 \nQ 1688 2584 1439 2293 \nQ 1191 2003 1191 1497 \nQ 1191 994 1439 701 \nQ 1688 409 2113 409 \nQ 2538 409 2786 701 \nQ 3034 994 3034 1497 \nQ 3034 2003 2786 2293 \nQ 2538 2584 2113 2584 \nz\nM 3366 4563 \nL 3366 3988 \nQ 3128 4100 2886 4159 \nQ 2644 4219 2406 4219 \nQ 1781 4219 1451 3797 \nQ 1122 3375 1075 2522 \nQ 1259 2794 1537 2939 \nQ 1816 3084 2150 3084 \nQ 2853 3084 3261 2657 \nQ 3669 2231 3669 1497 \nQ 3669 778 3244 343 \nQ 2819 -91 2113 -91 \nQ 1303 -91 875 529 \nQ 447 1150 447 2328 \nQ 447 3434 972 4092 \nQ 1497 4750 2381 4750 \nQ 2619 4750 2861 4703 \nQ 3103 4656 3366 4563 \nz\n\" transform=\"scale(0.015625)\"/>\n       </defs>\n       <use xlink:href=\"#DejaVuSans-36\"/>\n       <use xlink:href=\"#DejaVuSans-30\" x=\"63.623047\"/>\n      </g>\n     </g>\n    </g>\n    <g id=\"xtick_8\">\n     <g id=\"line2d_8\">\n      <g>\n       <use xlink:href=\"#md27bcc343f\" x=\"337.188812\" y=\"273.312\" style=\"fill: #ffffff; stroke: #ffffff; stroke-width: 0.8\"/>\n      </g>\n     </g>\n     <g id=\"text_8\">\n      <!-- 70 -->\n      <g style=\"fill: #ffffff\" transform=\"translate(330.826312 287.910437)scale(0.1 -0.1)\">\n       <defs>\n        <path id=\"DejaVuSans-37\" d=\"M 525 4666 \nL 3525 4666 \nL 3525 4397 \nL 1831 0 \nL 1172 0 \nL 2766 4134 \nL 525 4134 \nL 525 4666 \nz\n\" transform=\"scale(0.015625)\"/>\n       </defs>\n       <use xlink:href=\"#DejaVuSans-37\"/>\n       <use xlink:href=\"#DejaVuSans-30\" x=\"63.623047\"/>\n      </g>\n     </g>\n    </g>\n    <g id=\"xtick_9\">\n     <g id=\"line2d_9\">\n      <g>\n       <use xlink:href=\"#md27bcc343f\" x=\"378.284324\" y=\"273.312\" style=\"fill: #ffffff; stroke: #ffffff; stroke-width: 0.8\"/>\n      </g>\n     </g>\n     <g id=\"text_9\">\n      <!-- 80 -->\n      <g style=\"fill: #ffffff\" transform=\"translate(371.921824 287.910437)scale(0.1 -0.1)\">\n       <defs>\n        <path id=\"DejaVuSans-38\" d=\"M 2034 2216 \nQ 1584 2216 1326 1975 \nQ 1069 1734 1069 1313 \nQ 1069 891 1326 650 \nQ 1584 409 2034 409 \nQ 2484 409 2743 651 \nQ 3003 894 3003 1313 \nQ 3003 1734 2745 1975 \nQ 2488 2216 2034 2216 \nz\nM 1403 2484 \nQ 997 2584 770 2862 \nQ 544 3141 544 3541 \nQ 544 4100 942 4425 \nQ 1341 4750 2034 4750 \nQ 2731 4750 3128 4425 \nQ 3525 4100 3525 3541 \nQ 3525 3141 3298 2862 \nQ 3072 2584 2669 2484 \nQ 3125 2378 3379 2068 \nQ 3634 1759 3634 1313 \nQ 3634 634 3220 271 \nQ 2806 -91 2034 -91 \nQ 1263 -91 848 271 \nQ 434 634 434 1313 \nQ 434 1759 690 2068 \nQ 947 2378 1403 2484 \nz\nM 1172 3481 \nQ 1172 3119 1398 2916 \nQ 1625 2713 2034 2713 \nQ 2441 2713 2670 2916 \nQ 2900 3119 2900 3481 \nQ 2900 3844 2670 4047 \nQ 2441 4250 2034 4250 \nQ 1625 4250 1398 4047 \nQ 1172 3844 1172 3481 \nz\n\" transform=\"scale(0.015625)\"/>\n       </defs>\n       <use xlink:href=\"#DejaVuSans-38\"/>\n       <use xlink:href=\"#DejaVuSans-30\" x=\"63.623047\"/>\n      </g>\n     </g>\n    </g>\n   </g>\n   <g id=\"matplotlib.axis_2\">\n    <g id=\"ytick_1\">\n     <g id=\"line2d_10\">\n      <defs>\n       <path id=\"m8aad4e0be6\" d=\"M 0 0 \nL -3.5 0 \n\" style=\"stroke: #ffffff; stroke-width: 0.8\"/>\n      </defs>\n      <g>\n       <use xlink:href=\"#m8aad4e0be6\" x=\"33.2875\" y=\"273.312\" style=\"fill: #ffffff; stroke: #ffffff; stroke-width: 0.8\"/>\n      </g>\n     </g>\n     <g id=\"text_10\">\n      <!-- 0 -->\n      <g style=\"fill: #ffffff\" transform=\"translate(19.925 277.111219)scale(0.1 -0.1)\">\n       <use xlink:href=\"#DejaVuSans-30\"/>\n      </g>\n     </g>\n    </g>\n    <g id=\"ytick_2\">\n     <g id=\"line2d_11\">\n      <g>\n       <use xlink:href=\"#m8aad4e0be6\" x=\"33.2875\" y=\"231.967791\" style=\"fill: #ffffff; stroke: #ffffff; stroke-width: 0.8\"/>\n      </g>\n     </g>\n     <g id=\"text_11\">\n      <!-- 100 -->\n      <g style=\"fill: #ffffff\" transform=\"translate(7.2 235.76701)scale(0.1 -0.1)\">\n       <use xlink:href=\"#DejaVuSans-31\"/>\n       <use xlink:href=\"#DejaVuSans-30\" x=\"63.623047\"/>\n       <use xlink:href=\"#DejaVuSans-30\" x=\"127.246094\"/>\n      </g>\n     </g>\n    </g>\n    <g id=\"ytick_3\">\n     <g id=\"line2d_12\">\n      <g>\n       <use xlink:href=\"#m8aad4e0be6\" x=\"33.2875\" y=\"190.623582\" style=\"fill: #ffffff; stroke: #ffffff; stroke-width: 0.8\"/>\n      </g>\n     </g>\n     <g id=\"text_12\">\n      <!-- 200 -->\n      <g style=\"fill: #ffffff\" transform=\"translate(7.2 194.422801)scale(0.1 -0.1)\">\n       <use xlink:href=\"#DejaVuSans-32\"/>\n       <use xlink:href=\"#DejaVuSans-30\" x=\"63.623047\"/>\n       <use xlink:href=\"#DejaVuSans-30\" x=\"127.246094\"/>\n      </g>\n     </g>\n    </g>\n    <g id=\"ytick_4\">\n     <g id=\"line2d_13\">\n      <g>\n       <use xlink:href=\"#m8aad4e0be6\" x=\"33.2875\" y=\"149.279374\" style=\"fill: #ffffff; stroke: #ffffff; stroke-width: 0.8\"/>\n      </g>\n     </g>\n     <g id=\"text_13\">\n      <!-- 300 -->\n      <g style=\"fill: #ffffff\" transform=\"translate(7.2 153.078592)scale(0.1 -0.1)\">\n       <use xlink:href=\"#DejaVuSans-33\"/>\n       <use xlink:href=\"#DejaVuSans-30\" x=\"63.623047\"/>\n       <use xlink:href=\"#DejaVuSans-30\" x=\"127.246094\"/>\n      </g>\n     </g>\n    </g>\n    <g id=\"ytick_5\">\n     <g id=\"line2d_14\">\n      <g>\n       <use xlink:href=\"#m8aad4e0be6\" x=\"33.2875\" y=\"107.935165\" style=\"fill: #ffffff; stroke: #ffffff; stroke-width: 0.8\"/>\n      </g>\n     </g>\n     <g id=\"text_14\">\n      <!-- 400 -->\n      <g style=\"fill: #ffffff\" transform=\"translate(7.2 111.734384)scale(0.1 -0.1)\">\n       <use xlink:href=\"#DejaVuSans-34\"/>\n       <use xlink:href=\"#DejaVuSans-30\" x=\"63.623047\"/>\n       <use xlink:href=\"#DejaVuSans-30\" x=\"127.246094\"/>\n      </g>\n     </g>\n    </g>\n    <g id=\"ytick_6\">\n     <g id=\"line2d_15\">\n      <g>\n       <use xlink:href=\"#m8aad4e0be6\" x=\"33.2875\" y=\"66.590956\" style=\"fill: #ffffff; stroke: #ffffff; stroke-width: 0.8\"/>\n      </g>\n     </g>\n     <g id=\"text_15\">\n      <!-- 500 -->\n      <g style=\"fill: #ffffff\" transform=\"translate(7.2 70.390175)scale(0.1 -0.1)\">\n       <use xlink:href=\"#DejaVuSans-35\"/>\n       <use xlink:href=\"#DejaVuSans-30\" x=\"63.623047\"/>\n       <use xlink:href=\"#DejaVuSans-30\" x=\"127.246094\"/>\n      </g>\n     </g>\n    </g>\n    <g id=\"ytick_7\">\n     <g id=\"line2d_16\">\n      <g>\n       <use xlink:href=\"#m8aad4e0be6\" x=\"33.2875\" y=\"25.246747\" style=\"fill: #ffffff; stroke: #ffffff; stroke-width: 0.8\"/>\n      </g>\n     </g>\n     <g id=\"text_16\">\n      <!-- 600 -->\n      <g style=\"fill: #ffffff\" transform=\"translate(7.2 29.045966)scale(0.1 -0.1)\">\n       <use xlink:href=\"#DejaVuSans-36\"/>\n       <use xlink:href=\"#DejaVuSans-30\" x=\"63.623047\"/>\n       <use xlink:href=\"#DejaVuSans-30\" x=\"127.246094\"/>\n      </g>\n     </g>\n    </g>\n   </g>\n   <g id=\"patch_43\">\n    <path d=\"M 33.2875 273.312 \nL 33.2875 7.2 \n\" style=\"fill: none; stroke: #ffffff; stroke-width: 0.8; stroke-linejoin: miter; stroke-linecap: square\"/>\n   </g>\n   <g id=\"patch_44\">\n    <path d=\"M 390.4075 273.312 \nL 390.4075 7.2 \n\" style=\"fill: none; stroke: #ffffff; stroke-width: 0.8; stroke-linejoin: miter; stroke-linecap: square\"/>\n   </g>\n   <g id=\"patch_45\">\n    <path d=\"M 33.2875 273.312 \nL 390.4075 273.312 \n\" style=\"fill: none; stroke: #ffffff; stroke-width: 0.8; stroke-linejoin: miter; stroke-linecap: square\"/>\n   </g>\n   <g id=\"patch_46\">\n    <path d=\"M 33.2875 7.2 \nL 390.4075 7.2 \n\" style=\"fill: none; stroke: #ffffff; stroke-width: 0.8; stroke-linejoin: miter; stroke-linecap: square\"/>\n   </g>\n  </g>\n </g>\n <defs>\n  <clipPath id=\"pda0c25dace\">\n   <rect x=\"33.2875\" y=\"7.2\" width=\"357.12\" height=\"266.112\"/>\n  </clipPath>\n </defs>\n</svg>\n",
      "text/plain": [
       "<Figure size 640x480 with 1 Axes>"
      ]
     },
     "metadata": {},
     "output_type": "display_data"
    }
   ],
   "source": [
    "plt.hist(data[\"Age\"], bins=40)"
   ]
  },
  {
   "cell_type": "code",
   "execution_count": 108,
   "metadata": {},
   "outputs": [
    {
     "data": {
      "text/plain": [
       "28.82793046746535"
      ]
     },
     "execution_count": 108,
     "metadata": {},
     "output_type": "execute_result"
    }
   ],
   "source": [
    "data[\"Age\"].mean()"
   ]
  },
  {
   "cell_type": "code",
   "execution_count": 118,
   "metadata": {},
   "outputs": [
    {
     "data": {
      "text/plain": [
       "0    27.0\n",
       "Name: Age, dtype: float64"
      ]
     },
     "execution_count": 118,
     "metadata": {},
     "output_type": "execute_result"
    }
   ],
   "source": [
    "data[\"Age\"].mode()"
   ]
  },
  {
   "cell_type": "code",
   "execution_count": 112,
   "metadata": {},
   "outputs": [
    {
     "data": {
      "text/plain": [
       "27.0"
      ]
     },
     "execution_count": 112,
     "metadata": {},
     "output_type": "execute_result"
    }
   ],
   "source": [
    "data[\"Age\"].median()"
   ]
  },
  {
   "cell_type": "code",
   "execution_count": 111,
   "metadata": {},
   "outputs": [
    {
     "data": {
      "text/plain": [
       "count    8514.000000\n",
       "mean       28.827930\n",
       "std        14.489021\n",
       "min         0.000000\n",
       "25%        19.000000\n",
       "50%        27.000000\n",
       "75%        38.000000\n",
       "max        79.000000\n",
       "Name: Age, dtype: float64"
      ]
     },
     "execution_count": 111,
     "metadata": {},
     "output_type": "execute_result"
    }
   ],
   "source": [
    "data[\"Age\"].describe()"
   ]
  },
  {
   "cell_type": "code",
   "execution_count": 114,
   "metadata": {},
   "outputs": [],
   "source": [
    "data[\"Age\"].fillna(data[\"Age\"].median(), inplace=True)"
   ]
  },
  {
   "cell_type": "code",
   "execution_count": 120,
   "metadata": {},
   "outputs": [
    {
     "data": {
      "text/plain": [
       "0"
      ]
     },
     "execution_count": 120,
     "metadata": {},
     "output_type": "execute_result"
    }
   ],
   "source": [
    "data[\"Age\"].isna().sum()"
   ]
  },
  {
   "cell_type": "markdown",
   "metadata": {},
   "source": [
    "#### `VIP` values with mode i.e. `False`"
   ]
  },
  {
   "cell_type": "code",
   "execution_count": 121,
   "metadata": {},
   "outputs": [
    {
     "name": "stdout",
     "output_type": "stream",
     "text": [
      "<class 'pandas.core.frame.DataFrame'>\n",
      "Index: 8693 entries, 0001_01 to 9280_02\n",
      "Data columns (total 13 columns):\n",
      " #   Column        Non-Null Count  Dtype  \n",
      "---  ------        --------------  -----  \n",
      " 0   HomePlanet    8693 non-null   object \n",
      " 1   CryoSleep     8693 non-null   int64  \n",
      " 2   Cabin         8693 non-null   object \n",
      " 3   Destination   8693 non-null   object \n",
      " 4   Age           8693 non-null   float64\n",
      " 5   VIP           8490 non-null   object \n",
      " 6   RoomService   8512 non-null   float64\n",
      " 7   FoodCourt     8510 non-null   float64\n",
      " 8   ShoppingMall  8485 non-null   float64\n",
      " 9   Spa           8510 non-null   float64\n",
      " 10  VRDeck        8505 non-null   float64\n",
      " 11  Name          8493 non-null   object \n",
      " 12  Transported   8693 non-null   bool   \n",
      "dtypes: bool(1), float64(6), int64(1), object(5)\n",
      "memory usage: 1.1+ MB\n"
     ]
    }
   ],
   "source": [
    "data.info()"
   ]
  },
  {
   "cell_type": "code",
   "execution_count": 123,
   "metadata": {},
   "outputs": [
    {
     "data": {
      "text/plain": [
       "False    8291\n",
       "NaN       203\n",
       "True      199\n",
       "Name: VIP, dtype: int64"
      ]
     },
     "execution_count": 123,
     "metadata": {},
     "output_type": "execute_result"
    }
   ],
   "source": [
    "data[\"VIP\"].value_counts(dropna=False)"
   ]
  },
  {
   "cell_type": "code",
   "execution_count": 124,
   "metadata": {},
   "outputs": [],
   "source": [
    "data[\"VIP\"].fillna(False, inplace=True)"
   ]
  },
  {
   "cell_type": "code",
   "execution_count": 125,
   "metadata": {},
   "outputs": [
    {
     "data": {
      "text/plain": [
       "0"
      ]
     },
     "execution_count": 125,
     "metadata": {},
     "output_type": "execute_result"
    }
   ],
   "source": [
    "data[\"VIP\"].isna().sum()"
   ]
  },
  {
   "cell_type": "code",
   "execution_count": 126,
   "metadata": {},
   "outputs": [
    {
     "data": {
      "text/plain": [
       "False    8494\n",
       "True      199\n",
       "Name: VIP, dtype: int64"
      ]
     },
     "execution_count": 126,
     "metadata": {},
     "output_type": "execute_result"
    }
   ],
   "source": [
    "data[\"VIP\"].value_counts(dropna=False)"
   ]
  },
  {
   "cell_type": "code",
   "execution_count": 127,
   "metadata": {},
   "outputs": [],
   "source": [
    "data[\"VIP\"].replace({False:0, True:1}, inplace=True)"
   ]
  },
  {
   "cell_type": "code",
   "execution_count": 128,
   "metadata": {},
   "outputs": [
    {
     "data": {
      "text/plain": [
       "0    8494\n",
       "1     199\n",
       "Name: VIP, dtype: int64"
      ]
     },
     "execution_count": 128,
     "metadata": {},
     "output_type": "execute_result"
    }
   ],
   "source": [
    "data[\"VIP\"].value_counts()"
   ]
  },
  {
   "cell_type": "markdown",
   "metadata": {},
   "source": [
    "#### `RoomService` values with their mode i.e. `0`"
   ]
  },
  {
   "cell_type": "code",
   "execution_count": 129,
   "metadata": {},
   "outputs": [
    {
     "name": "stdout",
     "output_type": "stream",
     "text": [
      "<class 'pandas.core.frame.DataFrame'>\n",
      "Index: 8693 entries, 0001_01 to 9280_02\n",
      "Data columns (total 13 columns):\n",
      " #   Column        Non-Null Count  Dtype  \n",
      "---  ------        --------------  -----  \n",
      " 0   HomePlanet    8693 non-null   object \n",
      " 1   CryoSleep     8693 non-null   int64  \n",
      " 2   Cabin         8693 non-null   object \n",
      " 3   Destination   8693 non-null   object \n",
      " 4   Age           8693 non-null   float64\n",
      " 5   VIP           8693 non-null   int64  \n",
      " 6   RoomService   8512 non-null   float64\n",
      " 7   FoodCourt     8510 non-null   float64\n",
      " 8   ShoppingMall  8485 non-null   float64\n",
      " 9   Spa           8510 non-null   float64\n",
      " 10  VRDeck        8505 non-null   float64\n",
      " 11  Name          8493 non-null   object \n",
      " 12  Transported   8693 non-null   bool   \n",
      "dtypes: bool(1), float64(6), int64(2), object(4)\n",
      "memory usage: 1.1+ MB\n"
     ]
    }
   ],
   "source": [
    "data.info()"
   ]
  },
  {
   "cell_type": "code",
   "execution_count": 130,
   "metadata": {},
   "outputs": [
    {
     "data": {
      "text/plain": [
       "PassengerId\n",
       "6394_02       0.0\n",
       "5269_01      38.0\n",
       "3719_02       0.0\n",
       "5229_01       0.0\n",
       "6634_02       0.0\n",
       "4185_01       0.0\n",
       "1439_02     806.0\n",
       "3561_02    1617.0\n",
       "8674_01    4924.0\n",
       "7787_02       0.0\n",
       "Name: RoomService, dtype: float64"
      ]
     },
     "execution_count": 130,
     "metadata": {},
     "output_type": "execute_result"
    }
   ],
   "source": [
    "data[\"RoomService\"].sample(10)"
   ]
  },
  {
   "cell_type": "code",
   "execution_count": 131,
   "metadata": {},
   "outputs": [
    {
     "data": {
      "text/plain": [
       "0.0       5577\n",
       "NaN        181\n",
       "1.0        117\n",
       "2.0         79\n",
       "3.0         61\n",
       "          ... \n",
       "1612.0       1\n",
       "2598.0       1\n",
       "632.0        1\n",
       "378.0        1\n",
       "745.0        1\n",
       "Name: RoomService, Length: 1274, dtype: int64"
      ]
     },
     "execution_count": 131,
     "metadata": {},
     "output_type": "execute_result"
    }
   ],
   "source": [
    "data[\"RoomService\"].value_counts(dropna=False)"
   ]
  },
  {
   "cell_type": "code",
   "execution_count": 134,
   "metadata": {},
   "outputs": [],
   "source": [
    "data[\"RoomService\"].fillna(0, inplace=True)"
   ]
  },
  {
   "cell_type": "code",
   "execution_count": 136,
   "metadata": {},
   "outputs": [
    {
     "data": {
      "text/plain": [
       "0"
      ]
     },
     "execution_count": 136,
     "metadata": {},
     "output_type": "execute_result"
    }
   ],
   "source": [
    "data.RoomService.isna().sum()"
   ]
  },
  {
   "cell_type": "markdown",
   "metadata": {},
   "source": [
    "#### `FoodCourt` values with their mode i.e. `0`"
   ]
  },
  {
   "cell_type": "code",
   "execution_count": 137,
   "metadata": {},
   "outputs": [
    {
     "name": "stdout",
     "output_type": "stream",
     "text": [
      "<class 'pandas.core.frame.DataFrame'>\n",
      "Index: 8693 entries, 0001_01 to 9280_02\n",
      "Data columns (total 13 columns):\n",
      " #   Column        Non-Null Count  Dtype  \n",
      "---  ------        --------------  -----  \n",
      " 0   HomePlanet    8693 non-null   object \n",
      " 1   CryoSleep     8693 non-null   int64  \n",
      " 2   Cabin         8693 non-null   object \n",
      " 3   Destination   8693 non-null   object \n",
      " 4   Age           8693 non-null   float64\n",
      " 5   VIP           8693 non-null   int64  \n",
      " 6   RoomService   8693 non-null   float64\n",
      " 7   FoodCourt     8510 non-null   float64\n",
      " 8   ShoppingMall  8485 non-null   float64\n",
      " 9   Spa           8510 non-null   float64\n",
      " 10  VRDeck        8505 non-null   float64\n",
      " 11  Name          8493 non-null   object \n",
      " 12  Transported   8693 non-null   bool   \n",
      "dtypes: bool(1), float64(6), int64(2), object(4)\n",
      "memory usage: 1.1+ MB\n"
     ]
    }
   ],
   "source": [
    "data.info()"
   ]
  },
  {
   "cell_type": "code",
   "execution_count": 140,
   "metadata": {},
   "outputs": [
    {
     "data": {
      "text/plain": [
       "count     8510.000000\n",
       "mean       458.077203\n",
       "std       1611.489240\n",
       "min          0.000000\n",
       "25%          0.000000\n",
       "50%          0.000000\n",
       "75%         76.000000\n",
       "max      29813.000000\n",
       "Name: FoodCourt, dtype: float64"
      ]
     },
     "execution_count": 140,
     "metadata": {},
     "output_type": "execute_result"
    }
   ],
   "source": [
    "data[\"FoodCourt\"].describe()"
   ]
  },
  {
   "cell_type": "code",
   "execution_count": 141,
   "metadata": {},
   "outputs": [
    {
     "data": {
      "text/plain": [
       "0.0"
      ]
     },
     "execution_count": 141,
     "metadata": {},
     "output_type": "execute_result"
    }
   ],
   "source": [
    "data.FoodCourt.median()"
   ]
  },
  {
   "cell_type": "code",
   "execution_count": 142,
   "metadata": {},
   "outputs": [
    {
     "data": {
      "text/plain": [
       "0    0.0\n",
       "Name: FoodCourt, dtype: float64"
      ]
     },
     "execution_count": 142,
     "metadata": {},
     "output_type": "execute_result"
    }
   ],
   "source": [
    "data.FoodCourt.mode()"
   ]
  },
  {
   "cell_type": "code",
   "execution_count": 143,
   "metadata": {},
   "outputs": [
    {
     "data": {
      "text/plain": [
       "0.0       5456\n",
       "NaN        183\n",
       "1.0        116\n",
       "2.0         75\n",
       "3.0         53\n",
       "          ... \n",
       "3846.0       1\n",
       "5193.0       1\n",
       "312.0        1\n",
       "827.0        1\n",
       "4688.0       1\n",
       "Name: FoodCourt, Length: 1508, dtype: int64"
      ]
     },
     "execution_count": 143,
     "metadata": {},
     "output_type": "execute_result"
    }
   ],
   "source": [
    "data.FoodCourt.value_counts(dropna=False)"
   ]
  },
  {
   "cell_type": "code",
   "execution_count": 144,
   "metadata": {},
   "outputs": [],
   "source": [
    "data.FoodCourt.fillna(0, inplace=True)"
   ]
  },
  {
   "cell_type": "markdown",
   "metadata": {},
   "source": [
    "#### `ShoppingMall` values with their mode i.e. `0`"
   ]
  },
  {
   "cell_type": "code",
   "execution_count": 145,
   "metadata": {},
   "outputs": [
    {
     "name": "stdout",
     "output_type": "stream",
     "text": [
      "<class 'pandas.core.frame.DataFrame'>\n",
      "Index: 8693 entries, 0001_01 to 9280_02\n",
      "Data columns (total 13 columns):\n",
      " #   Column        Non-Null Count  Dtype  \n",
      "---  ------        --------------  -----  \n",
      " 0   HomePlanet    8693 non-null   object \n",
      " 1   CryoSleep     8693 non-null   int64  \n",
      " 2   Cabin         8693 non-null   object \n",
      " 3   Destination   8693 non-null   object \n",
      " 4   Age           8693 non-null   float64\n",
      " 5   VIP           8693 non-null   int64  \n",
      " 6   RoomService   8693 non-null   float64\n",
      " 7   FoodCourt     8693 non-null   float64\n",
      " 8   ShoppingMall  8485 non-null   float64\n",
      " 9   Spa           8510 non-null   float64\n",
      " 10  VRDeck        8505 non-null   float64\n",
      " 11  Name          8493 non-null   object \n",
      " 12  Transported   8693 non-null   bool   \n",
      "dtypes: bool(1), float64(6), int64(2), object(4)\n",
      "memory usage: 1.1+ MB\n"
     ]
    }
   ],
   "source": [
    "data.info()"
   ]
  },
  {
   "cell_type": "code",
   "execution_count": 146,
   "metadata": {},
   "outputs": [
    {
     "data": {
      "text/plain": [
       "0.0       5587\n",
       "NaN        208\n",
       "1.0        153\n",
       "2.0         80\n",
       "3.0         59\n",
       "          ... \n",
       "3627.0       1\n",
       "2074.0       1\n",
       "871.0        1\n",
       "742.0        1\n",
       "1872.0       1\n",
       "Name: ShoppingMall, Length: 1116, dtype: int64"
      ]
     },
     "execution_count": 146,
     "metadata": {},
     "output_type": "execute_result"
    }
   ],
   "source": [
    "data[\"ShoppingMall\"].value_counts(dropna=False)"
   ]
  },
  {
   "cell_type": "code",
   "execution_count": 147,
   "metadata": {},
   "outputs": [],
   "source": [
    "data[\"ShoppingMall\"].fillna(0, inplace=True)"
   ]
  },
  {
   "cell_type": "code",
   "execution_count": 148,
   "metadata": {},
   "outputs": [
    {
     "data": {
      "text/plain": [
       "0.0       5795\n",
       "1.0        153\n",
       "2.0         80\n",
       "3.0         59\n",
       "4.0         45\n",
       "          ... \n",
       "3627.0       1\n",
       "2074.0       1\n",
       "871.0        1\n",
       "742.0        1\n",
       "1872.0       1\n",
       "Name: ShoppingMall, Length: 1115, dtype: int64"
      ]
     },
     "execution_count": 148,
     "metadata": {},
     "output_type": "execute_result"
    }
   ],
   "source": [
    "data[\"ShoppingMall\"].value_counts(dropna=False)"
   ]
  },
  {
   "cell_type": "code",
   "execution_count": 149,
   "metadata": {},
   "outputs": [
    {
     "data": {
      "text/plain": [
       "0"
      ]
     },
     "execution_count": 149,
     "metadata": {},
     "output_type": "execute_result"
    }
   ],
   "source": [
    "data[\"ShoppingMall\"].isna().sum()"
   ]
  },
  {
   "cell_type": "markdown",
   "metadata": {},
   "source": [
    "#### `Spa` values with their mode i.e. `0`"
   ]
  },
  {
   "cell_type": "code",
   "execution_count": 150,
   "metadata": {},
   "outputs": [
    {
     "name": "stdout",
     "output_type": "stream",
     "text": [
      "<class 'pandas.core.frame.DataFrame'>\n",
      "Index: 8693 entries, 0001_01 to 9280_02\n",
      "Data columns (total 13 columns):\n",
      " #   Column        Non-Null Count  Dtype  \n",
      "---  ------        --------------  -----  \n",
      " 0   HomePlanet    8693 non-null   object \n",
      " 1   CryoSleep     8693 non-null   int64  \n",
      " 2   Cabin         8693 non-null   object \n",
      " 3   Destination   8693 non-null   object \n",
      " 4   Age           8693 non-null   float64\n",
      " 5   VIP           8693 non-null   int64  \n",
      " 6   RoomService   8693 non-null   float64\n",
      " 7   FoodCourt     8693 non-null   float64\n",
      " 8   ShoppingMall  8693 non-null   float64\n",
      " 9   Spa           8510 non-null   float64\n",
      " 10  VRDeck        8505 non-null   float64\n",
      " 11  Name          8493 non-null   object \n",
      " 12  Transported   8693 non-null   bool   \n",
      "dtypes: bool(1), float64(6), int64(2), object(4)\n",
      "memory usage: 1.1+ MB\n"
     ]
    }
   ],
   "source": [
    "data.info()"
   ]
  },
  {
   "cell_type": "code",
   "execution_count": 151,
   "metadata": {},
   "outputs": [
    {
     "data": {
      "text/plain": [
       "0.0       5324\n",
       "NaN        183\n",
       "1.0        146\n",
       "2.0        105\n",
       "3.0         53\n",
       "          ... \n",
       "273.0        1\n",
       "2581.0       1\n",
       "2948.0       1\n",
       "3778.0       1\n",
       "1643.0       1\n",
       "Name: Spa, Length: 1328, dtype: int64"
      ]
     },
     "execution_count": 151,
     "metadata": {},
     "output_type": "execute_result"
    }
   ],
   "source": [
    "data[\"Spa\"].value_counts(dropna=False)"
   ]
  },
  {
   "cell_type": "code",
   "execution_count": 152,
   "metadata": {},
   "outputs": [],
   "source": [
    "data[\"Spa\"].fillna(0, inplace=True)"
   ]
  },
  {
   "cell_type": "code",
   "execution_count": 153,
   "metadata": {},
   "outputs": [
    {
     "data": {
      "text/plain": [
       "0.0       5507\n",
       "1.0        146\n",
       "2.0        105\n",
       "5.0         53\n",
       "3.0         53\n",
       "          ... \n",
       "273.0        1\n",
       "2581.0       1\n",
       "2948.0       1\n",
       "3778.0       1\n",
       "1643.0       1\n",
       "Name: Spa, Length: 1327, dtype: int64"
      ]
     },
     "execution_count": 153,
     "metadata": {},
     "output_type": "execute_result"
    }
   ],
   "source": [
    "data[\"Spa\"].value_counts(dropna=False)"
   ]
  },
  {
   "cell_type": "markdown",
   "metadata": {},
   "source": [
    "#### `VRDeck` values with their mode i.e. `0`"
   ]
  },
  {
   "cell_type": "code",
   "execution_count": 154,
   "metadata": {},
   "outputs": [
    {
     "name": "stdout",
     "output_type": "stream",
     "text": [
      "<class 'pandas.core.frame.DataFrame'>\n",
      "Index: 8693 entries, 0001_01 to 9280_02\n",
      "Data columns (total 13 columns):\n",
      " #   Column        Non-Null Count  Dtype  \n",
      "---  ------        --------------  -----  \n",
      " 0   HomePlanet    8693 non-null   object \n",
      " 1   CryoSleep     8693 non-null   int64  \n",
      " 2   Cabin         8693 non-null   object \n",
      " 3   Destination   8693 non-null   object \n",
      " 4   Age           8693 non-null   float64\n",
      " 5   VIP           8693 non-null   int64  \n",
      " 6   RoomService   8693 non-null   float64\n",
      " 7   FoodCourt     8693 non-null   float64\n",
      " 8   ShoppingMall  8693 non-null   float64\n",
      " 9   Spa           8693 non-null   float64\n",
      " 10  VRDeck        8505 non-null   float64\n",
      " 11  Name          8493 non-null   object \n",
      " 12  Transported   8693 non-null   bool   \n",
      "dtypes: bool(1), float64(6), int64(2), object(4)\n",
      "memory usage: 1.1+ MB\n"
     ]
    }
   ],
   "source": [
    "data.info()"
   ]
  },
  {
   "cell_type": "code",
   "execution_count": 156,
   "metadata": {},
   "outputs": [
    {
     "data": {
      "text/plain": [
       "0.0       5495\n",
       "NaN        188\n",
       "1.0        139\n",
       "2.0         70\n",
       "3.0         56\n",
       "          ... \n",
       "297.0        1\n",
       "1788.0       1\n",
       "1113.0       1\n",
       "9244.0       1\n",
       "3235.0       1\n",
       "Name: VRDeck, Length: 1307, dtype: int64"
      ]
     },
     "execution_count": 156,
     "metadata": {},
     "output_type": "execute_result"
    }
   ],
   "source": [
    "data[\"VRDeck\"].value_counts(dropna=False)"
   ]
  },
  {
   "cell_type": "code",
   "execution_count": 157,
   "metadata": {},
   "outputs": [],
   "source": [
    "data[\"VRDeck\"].fillna(0, inplace=True)"
   ]
  },
  {
   "cell_type": "markdown",
   "metadata": {},
   "source": [
    "#### Dropping `Name` column"
   ]
  },
  {
   "cell_type": "code",
   "execution_count": 158,
   "metadata": {},
   "outputs": [
    {
     "name": "stdout",
     "output_type": "stream",
     "text": [
      "<class 'pandas.core.frame.DataFrame'>\n",
      "Index: 8693 entries, 0001_01 to 9280_02\n",
      "Data columns (total 13 columns):\n",
      " #   Column        Non-Null Count  Dtype  \n",
      "---  ------        --------------  -----  \n",
      " 0   HomePlanet    8693 non-null   object \n",
      " 1   CryoSleep     8693 non-null   int64  \n",
      " 2   Cabin         8693 non-null   object \n",
      " 3   Destination   8693 non-null   object \n",
      " 4   Age           8693 non-null   float64\n",
      " 5   VIP           8693 non-null   int64  \n",
      " 6   RoomService   8693 non-null   float64\n",
      " 7   FoodCourt     8693 non-null   float64\n",
      " 8   ShoppingMall  8693 non-null   float64\n",
      " 9   Spa           8693 non-null   float64\n",
      " 10  VRDeck        8693 non-null   float64\n",
      " 11  Name          8493 non-null   object \n",
      " 12  Transported   8693 non-null   bool   \n",
      "dtypes: bool(1), float64(6), int64(2), object(4)\n",
      "memory usage: 1.1+ MB\n"
     ]
    }
   ],
   "source": [
    "data.info()"
   ]
  },
  {
   "cell_type": "code",
   "execution_count": 163,
   "metadata": {},
   "outputs": [],
   "source": [
    "data.drop(columns=\"Name\", inplace=True)"
   ]
  },
  {
   "cell_type": "code",
   "execution_count": 164,
   "metadata": {},
   "outputs": [
    {
     "data": {
      "text/html": [
       "<div>\n",
       "<style scoped>\n",
       "    .dataframe tbody tr th:only-of-type {\n",
       "        vertical-align: middle;\n",
       "    }\n",
       "\n",
       "    .dataframe tbody tr th {\n",
       "        vertical-align: top;\n",
       "    }\n",
       "\n",
       "    .dataframe thead th {\n",
       "        text-align: right;\n",
       "    }\n",
       "</style>\n",
       "<table border=\"1\" class=\"dataframe\">\n",
       "  <thead>\n",
       "    <tr style=\"text-align: right;\">\n",
       "      <th></th>\n",
       "      <th>HomePlanet</th>\n",
       "      <th>CryoSleep</th>\n",
       "      <th>Cabin</th>\n",
       "      <th>Destination</th>\n",
       "      <th>Age</th>\n",
       "      <th>VIP</th>\n",
       "      <th>RoomService</th>\n",
       "      <th>FoodCourt</th>\n",
       "      <th>ShoppingMall</th>\n",
       "      <th>Spa</th>\n",
       "      <th>VRDeck</th>\n",
       "      <th>Transported</th>\n",
       "    </tr>\n",
       "    <tr>\n",
       "      <th>PassengerId</th>\n",
       "      <th></th>\n",
       "      <th></th>\n",
       "      <th></th>\n",
       "      <th></th>\n",
       "      <th></th>\n",
       "      <th></th>\n",
       "      <th></th>\n",
       "      <th></th>\n",
       "      <th></th>\n",
       "      <th></th>\n",
       "      <th></th>\n",
       "      <th></th>\n",
       "    </tr>\n",
       "  </thead>\n",
       "  <tbody>\n",
       "    <tr>\n",
       "      <th>0001_01</th>\n",
       "      <td>Europa</td>\n",
       "      <td>0</td>\n",
       "      <td>B/0/P</td>\n",
       "      <td>TRAPPIST-1e</td>\n",
       "      <td>39.0</td>\n",
       "      <td>0</td>\n",
       "      <td>0.0</td>\n",
       "      <td>0.0</td>\n",
       "      <td>0.0</td>\n",
       "      <td>0.0</td>\n",
       "      <td>0.0</td>\n",
       "      <td>False</td>\n",
       "    </tr>\n",
       "    <tr>\n",
       "      <th>0002_01</th>\n",
       "      <td>Earth</td>\n",
       "      <td>0</td>\n",
       "      <td>F/0/S</td>\n",
       "      <td>TRAPPIST-1e</td>\n",
       "      <td>24.0</td>\n",
       "      <td>0</td>\n",
       "      <td>109.0</td>\n",
       "      <td>9.0</td>\n",
       "      <td>25.0</td>\n",
       "      <td>549.0</td>\n",
       "      <td>44.0</td>\n",
       "      <td>True</td>\n",
       "    </tr>\n",
       "    <tr>\n",
       "      <th>0003_01</th>\n",
       "      <td>Europa</td>\n",
       "      <td>0</td>\n",
       "      <td>A/0/S</td>\n",
       "      <td>TRAPPIST-1e</td>\n",
       "      <td>58.0</td>\n",
       "      <td>1</td>\n",
       "      <td>43.0</td>\n",
       "      <td>3576.0</td>\n",
       "      <td>0.0</td>\n",
       "      <td>6715.0</td>\n",
       "      <td>49.0</td>\n",
       "      <td>False</td>\n",
       "    </tr>\n",
       "    <tr>\n",
       "      <th>0003_02</th>\n",
       "      <td>Europa</td>\n",
       "      <td>0</td>\n",
       "      <td>A/0/S</td>\n",
       "      <td>TRAPPIST-1e</td>\n",
       "      <td>33.0</td>\n",
       "      <td>0</td>\n",
       "      <td>0.0</td>\n",
       "      <td>1283.0</td>\n",
       "      <td>371.0</td>\n",
       "      <td>3329.0</td>\n",
       "      <td>193.0</td>\n",
       "      <td>False</td>\n",
       "    </tr>\n",
       "    <tr>\n",
       "      <th>0004_01</th>\n",
       "      <td>Earth</td>\n",
       "      <td>0</td>\n",
       "      <td>F/1/S</td>\n",
       "      <td>TRAPPIST-1e</td>\n",
       "      <td>16.0</td>\n",
       "      <td>0</td>\n",
       "      <td>303.0</td>\n",
       "      <td>70.0</td>\n",
       "      <td>151.0</td>\n",
       "      <td>565.0</td>\n",
       "      <td>2.0</td>\n",
       "      <td>True</td>\n",
       "    </tr>\n",
       "    <tr>\n",
       "      <th>0005_01</th>\n",
       "      <td>Earth</td>\n",
       "      <td>0</td>\n",
       "      <td>F/0/P</td>\n",
       "      <td>PSO J318.5-22</td>\n",
       "      <td>44.0</td>\n",
       "      <td>0</td>\n",
       "      <td>0.0</td>\n",
       "      <td>483.0</td>\n",
       "      <td>0.0</td>\n",
       "      <td>291.0</td>\n",
       "      <td>0.0</td>\n",
       "      <td>True</td>\n",
       "    </tr>\n",
       "    <tr>\n",
       "      <th>0006_01</th>\n",
       "      <td>Earth</td>\n",
       "      <td>0</td>\n",
       "      <td>F/2/S</td>\n",
       "      <td>TRAPPIST-1e</td>\n",
       "      <td>26.0</td>\n",
       "      <td>0</td>\n",
       "      <td>42.0</td>\n",
       "      <td>1539.0</td>\n",
       "      <td>3.0</td>\n",
       "      <td>0.0</td>\n",
       "      <td>0.0</td>\n",
       "      <td>True</td>\n",
       "    </tr>\n",
       "    <tr>\n",
       "      <th>0006_02</th>\n",
       "      <td>Earth</td>\n",
       "      <td>1</td>\n",
       "      <td>G/0/S</td>\n",
       "      <td>TRAPPIST-1e</td>\n",
       "      <td>28.0</td>\n",
       "      <td>0</td>\n",
       "      <td>0.0</td>\n",
       "      <td>0.0</td>\n",
       "      <td>0.0</td>\n",
       "      <td>0.0</td>\n",
       "      <td>0.0</td>\n",
       "      <td>True</td>\n",
       "    </tr>\n",
       "    <tr>\n",
       "      <th>0007_01</th>\n",
       "      <td>Earth</td>\n",
       "      <td>0</td>\n",
       "      <td>F/3/S</td>\n",
       "      <td>TRAPPIST-1e</td>\n",
       "      <td>35.0</td>\n",
       "      <td>0</td>\n",
       "      <td>0.0</td>\n",
       "      <td>785.0</td>\n",
       "      <td>17.0</td>\n",
       "      <td>216.0</td>\n",
       "      <td>0.0</td>\n",
       "      <td>True</td>\n",
       "    </tr>\n",
       "    <tr>\n",
       "      <th>0008_01</th>\n",
       "      <td>Europa</td>\n",
       "      <td>1</td>\n",
       "      <td>B/1/P</td>\n",
       "      <td>55 Cancri e</td>\n",
       "      <td>14.0</td>\n",
       "      <td>0</td>\n",
       "      <td>0.0</td>\n",
       "      <td>0.0</td>\n",
       "      <td>0.0</td>\n",
       "      <td>0.0</td>\n",
       "      <td>0.0</td>\n",
       "      <td>True</td>\n",
       "    </tr>\n",
       "  </tbody>\n",
       "</table>\n",
       "</div>"
      ],
      "text/plain": [
       "            HomePlanet  CryoSleep  Cabin    Destination   Age  VIP  \\\n",
       "PassengerId                                                          \n",
       "0001_01         Europa          0  B/0/P    TRAPPIST-1e  39.0    0   \n",
       "0002_01          Earth          0  F/0/S    TRAPPIST-1e  24.0    0   \n",
       "0003_01         Europa          0  A/0/S    TRAPPIST-1e  58.0    1   \n",
       "0003_02         Europa          0  A/0/S    TRAPPIST-1e  33.0    0   \n",
       "0004_01          Earth          0  F/1/S    TRAPPIST-1e  16.0    0   \n",
       "0005_01          Earth          0  F/0/P  PSO J318.5-22  44.0    0   \n",
       "0006_01          Earth          0  F/2/S    TRAPPIST-1e  26.0    0   \n",
       "0006_02          Earth          1  G/0/S    TRAPPIST-1e  28.0    0   \n",
       "0007_01          Earth          0  F/3/S    TRAPPIST-1e  35.0    0   \n",
       "0008_01         Europa          1  B/1/P    55 Cancri e  14.0    0   \n",
       "\n",
       "             RoomService  FoodCourt  ShoppingMall     Spa  VRDeck  Transported  \n",
       "PassengerId                                                                     \n",
       "0001_01              0.0        0.0           0.0     0.0     0.0        False  \n",
       "0002_01            109.0        9.0          25.0   549.0    44.0         True  \n",
       "0003_01             43.0     3576.0           0.0  6715.0    49.0        False  \n",
       "0003_02              0.0     1283.0         371.0  3329.0   193.0        False  \n",
       "0004_01            303.0       70.0         151.0   565.0     2.0         True  \n",
       "0005_01              0.0      483.0           0.0   291.0     0.0         True  \n",
       "0006_01             42.0     1539.0           3.0     0.0     0.0         True  \n",
       "0006_02              0.0        0.0           0.0     0.0     0.0         True  \n",
       "0007_01              0.0      785.0          17.0   216.0     0.0         True  \n",
       "0008_01              0.0        0.0           0.0     0.0     0.0         True  "
      ]
     },
     "execution_count": 164,
     "metadata": {},
     "output_type": "execute_result"
    }
   ],
   "source": [
    "data.head(10)"
   ]
  },
  {
   "cell_type": "code",
   "execution_count": 165,
   "metadata": {},
   "outputs": [
    {
     "data": {
      "text/plain": [
       "HomePlanet      0\n",
       "CryoSleep       0\n",
       "Cabin           0\n",
       "Destination     0\n",
       "Age             0\n",
       "VIP             0\n",
       "RoomService     0\n",
       "FoodCourt       0\n",
       "ShoppingMall    0\n",
       "Spa             0\n",
       "VRDeck          0\n",
       "Transported     0\n",
       "dtype: int64"
      ]
     },
     "execution_count": 165,
     "metadata": {},
     "output_type": "execute_result"
    }
   ],
   "source": [
    "data.isnull().sum()"
   ]
  },
  {
   "cell_type": "code",
   "execution_count": 166,
   "metadata": {},
   "outputs": [
    {
     "data": {
      "text/html": [
       "<div>\n",
       "<style scoped>\n",
       "    .dataframe tbody tr th:only-of-type {\n",
       "        vertical-align: middle;\n",
       "    }\n",
       "\n",
       "    .dataframe tbody tr th {\n",
       "        vertical-align: top;\n",
       "    }\n",
       "\n",
       "    .dataframe thead th {\n",
       "        text-align: right;\n",
       "    }\n",
       "</style>\n",
       "<table border=\"1\" class=\"dataframe\">\n",
       "  <thead>\n",
       "    <tr style=\"text-align: right;\">\n",
       "      <th></th>\n",
       "      <th>CryoSleep</th>\n",
       "      <th>Age</th>\n",
       "      <th>VIP</th>\n",
       "      <th>RoomService</th>\n",
       "      <th>FoodCourt</th>\n",
       "      <th>ShoppingMall</th>\n",
       "      <th>Spa</th>\n",
       "      <th>VRDeck</th>\n",
       "    </tr>\n",
       "  </thead>\n",
       "  <tbody>\n",
       "    <tr>\n",
       "      <th>count</th>\n",
       "      <td>8693.000000</td>\n",
       "      <td>8693.000000</td>\n",
       "      <td>8693.000000</td>\n",
       "      <td>8693.000000</td>\n",
       "      <td>8693.000000</td>\n",
       "      <td>8693.000000</td>\n",
       "      <td>8693.000000</td>\n",
       "      <td>8693.000000</td>\n",
       "    </tr>\n",
       "    <tr>\n",
       "      <th>mean</th>\n",
       "      <td>0.349362</td>\n",
       "      <td>28.790291</td>\n",
       "      <td>0.022892</td>\n",
       "      <td>220.009318</td>\n",
       "      <td>448.434027</td>\n",
       "      <td>169.572300</td>\n",
       "      <td>304.588865</td>\n",
       "      <td>298.261820</td>\n",
       "    </tr>\n",
       "    <tr>\n",
       "      <th>std</th>\n",
       "      <td>0.476796</td>\n",
       "      <td>14.341404</td>\n",
       "      <td>0.149568</td>\n",
       "      <td>660.519050</td>\n",
       "      <td>1595.790627</td>\n",
       "      <td>598.007164</td>\n",
       "      <td>1125.562559</td>\n",
       "      <td>1134.126417</td>\n",
       "    </tr>\n",
       "    <tr>\n",
       "      <th>min</th>\n",
       "      <td>0.000000</td>\n",
       "      <td>0.000000</td>\n",
       "      <td>0.000000</td>\n",
       "      <td>0.000000</td>\n",
       "      <td>0.000000</td>\n",
       "      <td>0.000000</td>\n",
       "      <td>0.000000</td>\n",
       "      <td>0.000000</td>\n",
       "    </tr>\n",
       "    <tr>\n",
       "      <th>25%</th>\n",
       "      <td>0.000000</td>\n",
       "      <td>20.000000</td>\n",
       "      <td>0.000000</td>\n",
       "      <td>0.000000</td>\n",
       "      <td>0.000000</td>\n",
       "      <td>0.000000</td>\n",
       "      <td>0.000000</td>\n",
       "      <td>0.000000</td>\n",
       "    </tr>\n",
       "    <tr>\n",
       "      <th>50%</th>\n",
       "      <td>0.000000</td>\n",
       "      <td>27.000000</td>\n",
       "      <td>0.000000</td>\n",
       "      <td>0.000000</td>\n",
       "      <td>0.000000</td>\n",
       "      <td>0.000000</td>\n",
       "      <td>0.000000</td>\n",
       "      <td>0.000000</td>\n",
       "    </tr>\n",
       "    <tr>\n",
       "      <th>75%</th>\n",
       "      <td>1.000000</td>\n",
       "      <td>37.000000</td>\n",
       "      <td>0.000000</td>\n",
       "      <td>41.000000</td>\n",
       "      <td>61.000000</td>\n",
       "      <td>22.000000</td>\n",
       "      <td>53.000000</td>\n",
       "      <td>40.000000</td>\n",
       "    </tr>\n",
       "    <tr>\n",
       "      <th>max</th>\n",
       "      <td>1.000000</td>\n",
       "      <td>79.000000</td>\n",
       "      <td>1.000000</td>\n",
       "      <td>14327.000000</td>\n",
       "      <td>29813.000000</td>\n",
       "      <td>23492.000000</td>\n",
       "      <td>22408.000000</td>\n",
       "      <td>24133.000000</td>\n",
       "    </tr>\n",
       "  </tbody>\n",
       "</table>\n",
       "</div>"
      ],
      "text/plain": [
       "         CryoSleep          Age          VIP   RoomService     FoodCourt  \\\n",
       "count  8693.000000  8693.000000  8693.000000   8693.000000   8693.000000   \n",
       "mean      0.349362    28.790291     0.022892    220.009318    448.434027   \n",
       "std       0.476796    14.341404     0.149568    660.519050   1595.790627   \n",
       "min       0.000000     0.000000     0.000000      0.000000      0.000000   \n",
       "25%       0.000000    20.000000     0.000000      0.000000      0.000000   \n",
       "50%       0.000000    27.000000     0.000000      0.000000      0.000000   \n",
       "75%       1.000000    37.000000     0.000000     41.000000     61.000000   \n",
       "max       1.000000    79.000000     1.000000  14327.000000  29813.000000   \n",
       "\n",
       "       ShoppingMall           Spa        VRDeck  \n",
       "count   8693.000000   8693.000000   8693.000000  \n",
       "mean     169.572300    304.588865    298.261820  \n",
       "std      598.007164   1125.562559   1134.126417  \n",
       "min        0.000000      0.000000      0.000000  \n",
       "25%        0.000000      0.000000      0.000000  \n",
       "50%        0.000000      0.000000      0.000000  \n",
       "75%       22.000000     53.000000     40.000000  \n",
       "max    23492.000000  22408.000000  24133.000000  "
      ]
     },
     "execution_count": 166,
     "metadata": {},
     "output_type": "execute_result"
    }
   ],
   "source": [
    "data.describe()"
   ]
  },
  {
   "cell_type": "code",
   "execution_count": 171,
   "metadata": {},
   "outputs": [
    {
     "data": {
      "text/plain": [
       "<AxesSubplot:>"
      ]
     },
     "execution_count": 171,
     "metadata": {},
     "output_type": "execute_result"
    },
    {
     "data": {
      "image/png": "[encoded data removed]",
      "image/svg+xml": "<?xml version=\"1.0\" encoding=\"utf-8\" standalone=\"no\"?>\n<!DOCTYPE svg PUBLIC \"-//W3C//DTD SVG 1.1//EN\"\n  \"http://www.w3.org/Graphics/SVG/1.1/DTD/svg11.dtd\">\n<svg xmlns:xlink=\"http://www.w3.org/1999/xlink\" width=\"613.556938pt\" height=\"535.997344pt\" viewBox=\"0 0 613.556938 535.997344\" xmlns=\"http://www.w3.org/2000/svg\" version=\"1.1\">\n <metadata>\n  <rdf:RDF xmlns:dc=\"http://purl.org/dc/elements/1.1/\" xmlns:cc=\"http://creativecommons.org/ns#\" xmlns:rdf=\"http://www.w3.org/1999/02/22-rdf-syntax-ns#\">\n   <cc:Work>\n    <dc:type rdf:resource=\"http://purl.org/dc/dcmitype/StillImage\"/>\n    <dc:date>2022-08-27T13:19:14.317866</dc:date>\n    <dc:format>image/svg+xml</dc:format>\n    <dc:creator>\n     <cc:Agent>\n      <dc:title>Matplotlib v3.5.3, https://matplotlib.org/</dc:title>\n     </cc:Agent>\n    </dc:creator>\n   </cc:Work>\n  </rdf:RDF>\n </metadata>\n <defs>\n  <style type=\"text/css\">*{stroke-linejoin: round; stroke-linecap: butt}</style>\n </defs>\n <g id=\"figure_1\">\n  <g id=\"patch_1\">\n   <path d=\"M 0 535.997344 \nL 613.556938 535.997344 \nL 613.556938 0 \nL 0 0 \nz\n\"/>\n  </g>\n  <g id=\"axes_1\">\n   <g id=\"patch_2\">\n    <path d=\"M 81.478125 454.519219 \nL 524.998125 454.519219 \nL 524.998125 10.999219 \nL 81.478125 10.999219 \nz\n\"/>\n   </g>\n   <g id=\"QuadMesh_1\">\n    <path d=\"M 81.478125 10.999219 \nL 130.758125 10.999219 \nL 130.758125 60.279219 \nL 81.478125 60.279219 \nL 81.478125 10.999219 \n\" clip-path=\"url(#pe70413f1fa)\" style=\"fill: #faebdd\"/>\n    <path d=\"M 130.758125 10.999219 \nL 180.038125 10.999219 \nL 180.038125 60.279219 \nL 130.758125 60.279219 \nL 130.758125 10.999219 \n\" clip-path=\"url(#pe70413f1fa)\" style=\"fill: #34193d\"/>\n    <path d=\"M 180.038125 10.999219 \nL 229.318125 10.999219 \nL 229.318125 60.279219 \nL 180.038125 60.279219 \nL 180.038125 10.999219 \n\" clip-path=\"url(#pe70413f1fa)\" style=\"fill: #33183c\"/>\n    <path d=\"M 229.318125 10.999219 \nL 278.598125 10.999219 \nL 278.598125 60.279219 \nL 229.318125 60.279219 \nL 229.318125 10.999219 \n\" clip-path=\"url(#pe70413f1fa)\" style=\"fill: #03051a\"/>\n    <path d=\"M 278.598125 10.999219 \nL 327.878125 10.999219 \nL 327.878125 60.279219 \nL 278.598125 60.279219 \nL 278.598125 10.999219 \n\" clip-path=\"url(#pe70413f1fa)\" style=\"fill: #0b0920\"/>\n    <path d=\"M 327.878125 10.999219 \nL 377.158125 10.999219 \nL 377.158125 60.279219 \nL 327.878125 60.279219 \nL 327.878125 10.999219 \n\" clip-path=\"url(#pe70413f1fa)\" style=\"fill: #0b0920\"/>\n    <path d=\"M 377.158125 10.999219 \nL 426.438125 10.999219 \nL 426.438125 60.279219 \nL 377.158125 60.279219 \nL 377.158125 10.999219 \n\" clip-path=\"url(#pe70413f1fa)\" style=\"fill: #0e0b22\"/>\n    <path d=\"M 426.438125 10.999219 \nL 475.718125 10.999219 \nL 475.718125 60.279219 \nL 426.438125 60.279219 \nL 426.438125 10.999219 \n\" clip-path=\"url(#pe70413f1fa)\" style=\"fill: #100b23\"/>\n    <path d=\"M 475.718125 10.999219 \nL 524.998125 10.999219 \nL 524.998125 60.279219 \nL 475.718125 60.279219 \nL 475.718125 10.999219 \n\" clip-path=\"url(#pe70413f1fa)\" style=\"fill: #df2f44\"/>\n    <path d=\"M 81.478125 60.279219 \nL 130.758125 60.279219 \nL 130.758125 109.559219 \nL 81.478125 109.559219 \nL 81.478125 60.279219 \n\" clip-path=\"url(#pe70413f1fa)\" style=\"fill: #34193d\"/>\n    <path d=\"M 130.758125 60.279219 \nL 180.038125 60.279219 \nL 180.038125 109.559219 \nL 130.758125 109.559219 \nL 130.758125 60.279219 \n\" clip-path=\"url(#pe70413f1fa)\" style=\"fill: #faebdd\"/>\n    <path d=\"M 180.038125 60.279219 \nL 229.318125 60.279219 \nL 229.318125 109.559219 \nL 180.038125 109.559219 \nL 180.038125 60.279219 \n\" clip-path=\"url(#pe70413f1fa)\" style=\"fill: #691f55\"/>\n    <path d=\"M 229.318125 60.279219 \nL 278.598125 60.279219 \nL 278.598125 109.559219 \nL 229.318125 109.559219 \nL 229.318125 60.279219 \n\" clip-path=\"url(#pe70413f1fa)\" style=\"fill: #611f53\"/>\n    <path d=\"M 278.598125 60.279219 \nL 327.878125 60.279219 \nL 327.878125 109.559219 \nL 278.598125 109.559219 \nL 278.598125 60.279219 \n\" clip-path=\"url(#pe70413f1fa)\" style=\"fill: #751f58\"/>\n    <path d=\"M 327.878125 60.279219 \nL 377.158125 60.279219 \nL 377.158125 109.559219 \nL 327.878125 109.559219 \nL 327.878125 60.279219 \n\" clip-path=\"url(#pe70413f1fa)\" style=\"fill: #561e4f\"/>\n    <path d=\"M 377.158125 60.279219 \nL 426.438125 60.279219 \nL 426.438125 109.559219 \nL 377.158125 109.559219 \nL 377.158125 60.279219 \n\" clip-path=\"url(#pe70413f1fa)\" style=\"fill: #731f58\"/>\n    <path d=\"M 426.438125 60.279219 \nL 475.718125 60.279219 \nL 475.718125 109.559219 \nL 426.438125 109.559219 \nL 426.438125 60.279219 \n\" clip-path=\"url(#pe70413f1fa)\" style=\"fill: #6b1f56\"/>\n    <path d=\"M 475.718125 60.279219 \nL 524.998125 60.279219 \nL 524.998125 109.559219 \nL 475.718125 109.559219 \nL 475.718125 60.279219 \n\" clip-path=\"url(#pe70413f1fa)\" style=\"fill: #33183c\"/>\n    <path d=\"M 81.478125 109.559219 \nL 130.758125 109.559219 \nL 130.758125 158.839219 \nL 81.478125 158.839219 \nL 81.478125 109.559219 \n\" clip-path=\"url(#pe70413f1fa)\" style=\"fill: #33183c\"/>\n    <path d=\"M 130.758125 109.559219 \nL 180.038125 109.559219 \nL 180.038125 158.839219 \nL 130.758125 158.839219 \nL 130.758125 109.559219 \n\" clip-path=\"url(#pe70413f1fa)\" style=\"fill: #691f55\"/>\n    <path d=\"M 180.038125 109.559219 \nL 229.318125 109.559219 \nL 229.318125 158.839219 \nL 180.038125 158.839219 \nL 180.038125 109.559219 \n\" clip-path=\"url(#pe70413f1fa)\" style=\"fill: #faebdd\"/>\n    <path d=\"M 229.318125 109.559219 \nL 278.598125 109.559219 \nL 278.598125 158.839219 \nL 229.318125 158.839219 \nL 229.318125 109.559219 \n\" clip-path=\"url(#pe70413f1fa)\" style=\"fill: #5c1e51\"/>\n    <path d=\"M 278.598125 109.559219 \nL 327.878125 109.559219 \nL 327.878125 158.839219 \nL 278.598125 158.839219 \nL 278.598125 109.559219 \n\" clip-path=\"url(#pe70413f1fa)\" style=\"fill: #751f58\"/>\n    <path d=\"M 327.878125 109.559219 \nL 377.158125 109.559219 \nL 377.158125 158.839219 \nL 327.878125 158.839219 \nL 327.878125 109.559219 \n\" clip-path=\"url(#pe70413f1fa)\" style=\"fill: #511e4d\"/>\n    <path d=\"M 377.158125 109.559219 \nL 426.438125 109.559219 \nL 426.438125 158.839219 \nL 377.158125 158.839219 \nL 377.158125 109.559219 \n\" clip-path=\"url(#pe70413f1fa)\" style=\"fill: #5e1f52\"/>\n    <path d=\"M 426.438125 109.559219 \nL 475.718125 109.559219 \nL 475.718125 158.839219 \nL 426.438125 158.839219 \nL 426.438125 109.559219 \n\" clip-path=\"url(#pe70413f1fa)\" style=\"fill: #731f58\"/>\n    <path d=\"M 475.718125 109.559219 \nL 524.998125 109.559219 \nL 524.998125 158.839219 \nL 475.718125 158.839219 \nL 475.718125 109.559219 \n\" clip-path=\"url(#pe70413f1fa)\" style=\"fill: #3f1b43\"/>\n    <path d=\"M 81.478125 158.839219 \nL 130.758125 158.839219 \nL 130.758125 208.119219 \nL 81.478125 208.119219 \nL 81.478125 158.839219 \n\" clip-path=\"url(#pe70413f1fa)\" style=\"fill: #03051a\"/>\n    <path d=\"M 130.758125 158.839219 \nL 180.038125 158.839219 \nL 180.038125 208.119219 \nL 130.758125 208.119219 \nL 130.758125 158.839219 \n\" clip-path=\"url(#pe70413f1fa)\" style=\"fill: #611f53\"/>\n    <path d=\"M 180.038125 158.839219 \nL 229.318125 158.839219 \nL 229.318125 208.119219 \nL 180.038125 208.119219 \nL 180.038125 158.839219 \n\" clip-path=\"url(#pe70413f1fa)\" style=\"fill: #5c1e51\"/>\n    <path d=\"M 229.318125 158.839219 \nL 278.598125 158.839219 \nL 278.598125 208.119219 \nL 229.318125 208.119219 \nL 229.318125 158.839219 \n\" clip-path=\"url(#pe70413f1fa)\" style=\"fill: #faebdd\"/>\n    <path d=\"M 278.598125 158.839219 \nL 327.878125 158.839219 \nL 327.878125 208.119219 \nL 278.598125 208.119219 \nL 278.598125 158.839219 \n\" clip-path=\"url(#pe70413f1fa)\" style=\"fill: #461c48\"/>\n    <path d=\"M 327.878125 158.839219 \nL 377.158125 158.839219 \nL 377.158125 208.119219 \nL 327.878125 208.119219 \nL 327.878125 158.839219 \n\" clip-path=\"url(#pe70413f1fa)\" style=\"fill: #5b1e51\"/>\n    <path d=\"M 377.158125 158.839219 \nL 426.438125 158.839219 \nL 426.438125 208.119219 \nL 377.158125 208.119219 \nL 377.158125 158.839219 \n\" clip-path=\"url(#pe70413f1fa)\" style=\"fill: #4e1d4b\"/>\n    <path d=\"M 426.438125 158.839219 \nL 475.718125 158.839219 \nL 475.718125 208.119219 \nL 426.438125 208.119219 \nL 426.438125 158.839219 \n\" clip-path=\"url(#pe70413f1fa)\" style=\"fill: #451c47\"/>\n    <path d=\"M 475.718125 158.839219 \nL 524.998125 158.839219 \nL 524.998125 208.119219 \nL 475.718125 208.119219 \nL 475.718125 158.839219 \n\" clip-path=\"url(#pe70413f1fa)\" style=\"fill: #03051a\"/>\n    <path d=\"M 81.478125 208.119219 \nL 130.758125 208.119219 \nL 130.758125 257.399219 \nL 81.478125 257.399219 \nL 81.478125 208.119219 \n\" clip-path=\"url(#pe70413f1fa)\" style=\"fill: #0b0920\"/>\n    <path d=\"M 130.758125 208.119219 \nL 180.038125 208.119219 \nL 180.038125 257.399219 \nL 130.758125 257.399219 \nL 130.758125 208.119219 \n\" clip-path=\"url(#pe70413f1fa)\" style=\"fill: #751f58\"/>\n    <path d=\"M 180.038125 208.119219 \nL 229.318125 208.119219 \nL 229.318125 257.399219 \nL 180.038125 257.399219 \nL 180.038125 208.119219 \n\" clip-path=\"url(#pe70413f1fa)\" style=\"fill: #751f58\"/>\n    <path d=\"M 229.318125 208.119219 \nL 278.598125 208.119219 \nL 278.598125 257.399219 \nL 229.318125 257.399219 \nL 229.318125 208.119219 \n\" clip-path=\"url(#pe70413f1fa)\" style=\"fill: #461c48\"/>\n    <path d=\"M 278.598125 208.119219 \nL 327.878125 208.119219 \nL 327.878125 257.399219 \nL 278.598125 257.399219 \nL 278.598125 208.119219 \n\" clip-path=\"url(#pe70413f1fa)\" style=\"fill: #faebdd\"/>\n    <path d=\"M 327.878125 208.119219 \nL 377.158125 208.119219 \nL 377.158125 257.399219 \nL 327.878125 257.399219 \nL 327.878125 208.119219 \n\" clip-path=\"url(#pe70413f1fa)\" style=\"fill: #461c48\"/>\n    <path d=\"M 377.158125 208.119219 \nL 426.438125 208.119219 \nL 426.438125 257.399219 \nL 377.158125 257.399219 \nL 377.158125 208.119219 \n\" clip-path=\"url(#pe70413f1fa)\" style=\"fill: #951c5b\"/>\n    <path d=\"M 426.438125 208.119219 \nL 475.718125 208.119219 \nL 475.718125 257.399219 \nL 426.438125 257.399219 \nL 426.438125 208.119219 \n\" clip-path=\"url(#pe70413f1fa)\" style=\"fill: #971c5b\"/>\n    <path d=\"M 475.718125 208.119219 \nL 524.998125 208.119219 \nL 524.998125 257.399219 \nL 475.718125 257.399219 \nL 475.718125 208.119219 \n\" clip-path=\"url(#pe70413f1fa)\" style=\"fill: #591e50\"/>\n    <path d=\"M 81.478125 257.399219 \nL 130.758125 257.399219 \nL 130.758125 306.679219 \nL 81.478125 306.679219 \nL 81.478125 257.399219 \n\" clip-path=\"url(#pe70413f1fa)\" style=\"fill: #0b0920\"/>\n    <path d=\"M 130.758125 257.399219 \nL 180.038125 257.399219 \nL 180.038125 306.679219 \nL 130.758125 306.679219 \nL 130.758125 257.399219 \n\" clip-path=\"url(#pe70413f1fa)\" style=\"fill: #561e4f\"/>\n    <path d=\"M 180.038125 257.399219 \nL 229.318125 257.399219 \nL 229.318125 306.679219 \nL 180.038125 306.679219 \nL 180.038125 257.399219 \n\" clip-path=\"url(#pe70413f1fa)\" style=\"fill: #511e4d\"/>\n    <path d=\"M 229.318125 257.399219 \nL 278.598125 257.399219 \nL 278.598125 306.679219 \nL 229.318125 306.679219 \nL 229.318125 257.399219 \n\" clip-path=\"url(#pe70413f1fa)\" style=\"fill: #5b1e51\"/>\n    <path d=\"M 278.598125 257.399219 \nL 327.878125 257.399219 \nL 327.878125 306.679219 \nL 278.598125 306.679219 \nL 278.598125 257.399219 \n\" clip-path=\"url(#pe70413f1fa)\" style=\"fill: #461c48\"/>\n    <path d=\"M 327.878125 257.399219 \nL 377.158125 257.399219 \nL 377.158125 306.679219 \nL 327.878125 306.679219 \nL 327.878125 257.399219 \n\" clip-path=\"url(#pe70413f1fa)\" style=\"fill: #faebdd\"/>\n    <path d=\"M 377.158125 257.399219 \nL 426.438125 257.399219 \nL 426.438125 306.679219 \nL 377.158125 306.679219 \nL 377.158125 257.399219 \n\" clip-path=\"url(#pe70413f1fa)\" style=\"fill: #501d4c\"/>\n    <path d=\"M 426.438125 257.399219 \nL 475.718125 257.399219 \nL 475.718125 306.679219 \nL 426.438125 306.679219 \nL 426.438125 257.399219 \n\" clip-path=\"url(#pe70413f1fa)\" style=\"fill: #481c48\"/>\n    <path d=\"M 475.718125 257.399219 \nL 524.998125 257.399219 \nL 524.998125 306.679219 \nL 475.718125 306.679219 \nL 475.718125 257.399219 \n\" clip-path=\"url(#pe70413f1fa)\" style=\"fill: #4e1d4b\"/>\n    <path d=\"M 81.478125 306.679219 \nL 130.758125 306.679219 \nL 130.758125 355.959219 \nL 81.478125 355.959219 \nL 81.478125 306.679219 \n\" clip-path=\"url(#pe70413f1fa)\" style=\"fill: #0e0b22\"/>\n    <path d=\"M 130.758125 306.679219 \nL 180.038125 306.679219 \nL 180.038125 355.959219 \nL 130.758125 355.959219 \nL 130.758125 306.679219 \n\" clip-path=\"url(#pe70413f1fa)\" style=\"fill: #731f58\"/>\n    <path d=\"M 180.038125 306.679219 \nL 229.318125 306.679219 \nL 229.318125 355.959219 \nL 180.038125 355.959219 \nL 180.038125 306.679219 \n\" clip-path=\"url(#pe70413f1fa)\" style=\"fill: #5e1f52\"/>\n    <path d=\"M 229.318125 306.679219 \nL 278.598125 306.679219 \nL 278.598125 355.959219 \nL 229.318125 355.959219 \nL 229.318125 306.679219 \n\" clip-path=\"url(#pe70413f1fa)\" style=\"fill: #4e1d4b\"/>\n    <path d=\"M 278.598125 306.679219 \nL 327.878125 306.679219 \nL 327.878125 355.959219 \nL 278.598125 355.959219 \nL 278.598125 306.679219 \n\" clip-path=\"url(#pe70413f1fa)\" style=\"fill: #951c5b\"/>\n    <path d=\"M 327.878125 306.679219 \nL 377.158125 306.679219 \nL 377.158125 355.959219 \nL 327.878125 355.959219 \nL 327.878125 306.679219 \n\" clip-path=\"url(#pe70413f1fa)\" style=\"fill: #501d4c\"/>\n    <path d=\"M 377.158125 306.679219 \nL 426.438125 306.679219 \nL 426.438125 355.959219 \nL 377.158125 355.959219 \nL 377.158125 306.679219 \n\" clip-path=\"url(#pe70413f1fa)\" style=\"fill: #faebdd\"/>\n    <path d=\"M 426.438125 306.679219 \nL 475.718125 306.679219 \nL 475.718125 355.959219 \nL 426.438125 355.959219 \nL 426.438125 306.679219 \n\" clip-path=\"url(#pe70413f1fa)\" style=\"fill: #7b1f59\"/>\n    <path d=\"M 475.718125 306.679219 \nL 524.998125 306.679219 \nL 524.998125 355.959219 \nL 475.718125 355.959219 \nL 475.718125 306.679219 \n\" clip-path=\"url(#pe70413f1fa)\" style=\"fill: #08081e\"/>\n    <path d=\"M 81.478125 355.959219 \nL 130.758125 355.959219 \nL 130.758125 405.239219 \nL 81.478125 405.239219 \nL 81.478125 355.959219 \n\" clip-path=\"url(#pe70413f1fa)\" style=\"fill: #100b23\"/>\n    <path d=\"M 130.758125 355.959219 \nL 180.038125 355.959219 \nL 180.038125 405.239219 \nL 130.758125 405.239219 \nL 130.758125 355.959219 \n\" clip-path=\"url(#pe70413f1fa)\" style=\"fill: #6b1f56\"/>\n    <path d=\"M 180.038125 355.959219 \nL 229.318125 355.959219 \nL 229.318125 405.239219 \nL 180.038125 405.239219 \nL 180.038125 355.959219 \n\" clip-path=\"url(#pe70413f1fa)\" style=\"fill: #731f58\"/>\n    <path d=\"M 229.318125 355.959219 \nL 278.598125 355.959219 \nL 278.598125 405.239219 \nL 229.318125 405.239219 \nL 229.318125 355.959219 \n\" clip-path=\"url(#pe70413f1fa)\" style=\"fill: #451c47\"/>\n    <path d=\"M 278.598125 355.959219 \nL 327.878125 355.959219 \nL 327.878125 405.239219 \nL 278.598125 405.239219 \nL 278.598125 355.959219 \n\" clip-path=\"url(#pe70413f1fa)\" style=\"fill: #971c5b\"/>\n    <path d=\"M 327.878125 355.959219 \nL 377.158125 355.959219 \nL 377.158125 405.239219 \nL 327.878125 405.239219 \nL 327.878125 355.959219 \n\" clip-path=\"url(#pe70413f1fa)\" style=\"fill: #481c48\"/>\n    <path d=\"M 377.158125 355.959219 \nL 426.438125 355.959219 \nL 426.438125 405.239219 \nL 377.158125 405.239219 \nL 377.158125 355.959219 \n\" clip-path=\"url(#pe70413f1fa)\" style=\"fill: #7b1f59\"/>\n    <path d=\"M 426.438125 355.959219 \nL 475.718125 355.959219 \nL 475.718125 405.239219 \nL 426.438125 405.239219 \nL 426.438125 355.959219 \n\" clip-path=\"url(#pe70413f1fa)\" style=\"fill: #faebdd\"/>\n    <path d=\"M 475.718125 355.959219 \nL 524.998125 355.959219 \nL 524.998125 405.239219 \nL 475.718125 405.239219 \nL 475.718125 355.959219 \n\" clip-path=\"url(#pe70413f1fa)\" style=\"fill: #0d0a21\"/>\n    <path d=\"M 81.478125 405.239219 \nL 130.758125 405.239219 \nL 130.758125 454.519219 \nL 81.478125 454.519219 \nL 81.478125 405.239219 \n\" clip-path=\"url(#pe70413f1fa)\" style=\"fill: #df2f44\"/>\n    <path d=\"M 130.758125 405.239219 \nL 180.038125 405.239219 \nL 180.038125 454.519219 \nL 130.758125 454.519219 \nL 130.758125 405.239219 \n\" clip-path=\"url(#pe70413f1fa)\" style=\"fill: #33183c\"/>\n    <path d=\"M 180.038125 405.239219 \nL 229.318125 405.239219 \nL 229.318125 454.519219 \nL 180.038125 454.519219 \nL 180.038125 405.239219 \n\" clip-path=\"url(#pe70413f1fa)\" style=\"fill: #3f1b43\"/>\n    <path d=\"M 229.318125 405.239219 \nL 278.598125 405.239219 \nL 278.598125 454.519219 \nL 229.318125 454.519219 \nL 229.318125 405.239219 \n\" clip-path=\"url(#pe70413f1fa)\" style=\"fill: #03051a\"/>\n    <path d=\"M 278.598125 405.239219 \nL 327.878125 405.239219 \nL 327.878125 454.519219 \nL 278.598125 454.519219 \nL 278.598125 405.239219 \n\" clip-path=\"url(#pe70413f1fa)\" style=\"fill: #591e50\"/>\n    <path d=\"M 327.878125 405.239219 \nL 377.158125 405.239219 \nL 377.158125 454.519219 \nL 327.878125 454.519219 \nL 327.878125 405.239219 \n\" clip-path=\"url(#pe70413f1fa)\" style=\"fill: #4e1d4b\"/>\n    <path d=\"M 377.158125 405.239219 \nL 426.438125 405.239219 \nL 426.438125 454.519219 \nL 377.158125 454.519219 \nL 377.158125 405.239219 \n\" clip-path=\"url(#pe70413f1fa)\" style=\"fill: #08081e\"/>\n    <path d=\"M 426.438125 405.239219 \nL 475.718125 405.239219 \nL 475.718125 454.519219 \nL 426.438125 454.519219 \nL 426.438125 405.239219 \n\" clip-path=\"url(#pe70413f1fa)\" style=\"fill: #0d0a21\"/>\n    <path d=\"M 475.718125 405.239219 \nL 524.998125 405.239219 \nL 524.998125 454.519219 \nL 475.718125 454.519219 \nL 475.718125 405.239219 \n\" clip-path=\"url(#pe70413f1fa)\" style=\"fill: #faebdd\"/>\n   </g>\n   <g id=\"matplotlib.axis_1\">\n    <g id=\"xtick_1\">\n     <g id=\"line2d_1\">\n      <defs>\n       <path id=\"mcbd3583b37\" d=\"M 0 0 \nL 0 3.5 \n\" style=\"stroke: #ffffff; stroke-width: 0.8\"/>\n      </defs>\n      <g>\n       <use xlink:href=\"#mcbd3583b37\" x=\"106.118125\" y=\"454.519219\" style=\"fill: #ffffff; stroke: #ffffff; stroke-width: 0.8\"/>\n      </g>\n     </g>\n     <g id=\"text_1\">\n      <!-- CryoSleep -->\n      <g style=\"fill: #ffffff\" transform=\"translate(108.8775 512.431719)rotate(-90)scale(0.1 -0.1)\">\n       <defs>\n        <path id=\"DejaVuSans-43\" d=\"M 4122 4306 \nL 4122 3641 \nQ 3803 3938 3442 4084 \nQ 3081 4231 2675 4231 \nQ 1875 4231 1450 3742 \nQ 1025 3253 1025 2328 \nQ 1025 1406 1450 917 \nQ 1875 428 2675 428 \nQ 3081 428 3442 575 \nQ 3803 722 4122 1019 \nL 4122 359 \nQ 3791 134 3420 21 \nQ 3050 -91 2638 -91 \nQ 1578 -91 968 557 \nQ 359 1206 359 2328 \nQ 359 3453 968 4101 \nQ 1578 4750 2638 4750 \nQ 3056 4750 3426 4639 \nQ 3797 4528 4122 4306 \nz\n\" transform=\"scale(0.015625)\"/>\n        <path id=\"DejaVuSans-72\" d=\"M 2631 2963 \nQ 2534 3019 2420 3045 \nQ 2306 3072 2169 3072 \nQ 1681 3072 1420 2755 \nQ 1159 2438 1159 1844 \nL 1159 0 \nL 581 0 \nL 581 3500 \nL 1159 3500 \nL 1159 2956 \nQ 1341 3275 1631 3429 \nQ 1922 3584 2338 3584 \nQ 2397 3584 2469 3576 \nQ 2541 3569 2628 3553 \nL 2631 2963 \nz\n\" transform=\"scale(0.015625)\"/>\n        <path id=\"DejaVuSans-79\" d=\"M 2059 -325 \nQ 1816 -950 1584 -1140 \nQ 1353 -1331 966 -1331 \nL 506 -1331 \nL 506 -850 \nL 844 -850 \nQ 1081 -850 1212 -737 \nQ 1344 -625 1503 -206 \nL 1606 56 \nL 191 3500 \nL 800 3500 \nL 1894 763 \nL 2988 3500 \nL 3597 3500 \nL 2059 -325 \nz\n\" transform=\"scale(0.015625)\"/>\n        <path id=\"DejaVuSans-6f\" d=\"M 1959 3097 \nQ 1497 3097 1228 2736 \nQ 959 2375 959 1747 \nQ 959 1119 1226 758 \nQ 1494 397 1959 397 \nQ 2419 397 2687 759 \nQ 2956 1122 2956 1747 \nQ 2956 2369 2687 2733 \nQ 2419 3097 1959 3097 \nz\nM 1959 3584 \nQ 2709 3584 3137 3096 \nQ 3566 2609 3566 1747 \nQ 3566 888 3137 398 \nQ 2709 -91 1959 -91 \nQ 1206 -91 779 398 \nQ 353 888 353 1747 \nQ 353 2609 779 3096 \nQ 1206 3584 1959 3584 \nz\n\" transform=\"scale(0.015625)\"/>\n        <path id=\"DejaVuSans-53\" d=\"M 3425 4513 \nL 3425 3897 \nQ 3066 4069 2747 4153 \nQ 2428 4238 2131 4238 \nQ 1616 4238 1336 4038 \nQ 1056 3838 1056 3469 \nQ 1056 3159 1242 3001 \nQ 1428 2844 1947 2747 \nL 2328 2669 \nQ 3034 2534 3370 2195 \nQ 3706 1856 3706 1288 \nQ 3706 609 3251 259 \nQ 2797 -91 1919 -91 \nQ 1588 -91 1214 -16 \nQ 841 59 441 206 \nL 441 856 \nQ 825 641 1194 531 \nQ 1563 422 1919 422 \nQ 2459 422 2753 634 \nQ 3047 847 3047 1241 \nQ 3047 1584 2836 1778 \nQ 2625 1972 2144 2069 \nL 1759 2144 \nQ 1053 2284 737 2584 \nQ 422 2884 422 3419 \nQ 422 4038 858 4394 \nQ 1294 4750 2059 4750 \nQ 2388 4750 2728 4690 \nQ 3069 4631 3425 4513 \nz\n\" transform=\"scale(0.015625)\"/>\n        <path id=\"DejaVuSans-6c\" d=\"M 603 4863 \nL 1178 4863 \nL 1178 0 \nL 603 0 \nL 603 4863 \nz\n\" transform=\"scale(0.015625)\"/>\n        <path id=\"DejaVuSans-65\" d=\"M 3597 1894 \nL 3597 1613 \nL 953 1613 \nQ 991 1019 1311 708 \nQ 1631 397 2203 397 \nQ 2534 397 2845 478 \nQ 3156 559 3463 722 \nL 3463 178 \nQ 3153 47 2828 -22 \nQ 2503 -91 2169 -91 \nQ 1331 -91 842 396 \nQ 353 884 353 1716 \nQ 353 2575 817 3079 \nQ 1281 3584 2069 3584 \nQ 2775 3584 3186 3129 \nQ 3597 2675 3597 1894 \nz\nM 3022 2063 \nQ 3016 2534 2758 2815 \nQ 2500 3097 2075 3097 \nQ 1594 3097 1305 2825 \nQ 1016 2553 972 2059 \nL 3022 2063 \nz\n\" transform=\"scale(0.015625)\"/>\n        <path id=\"DejaVuSans-70\" d=\"M 1159 525 \nL 1159 -1331 \nL 581 -1331 \nL 581 3500 \nL 1159 3500 \nL 1159 2969 \nQ 1341 3281 1617 3432 \nQ 1894 3584 2278 3584 \nQ 2916 3584 3314 3078 \nQ 3713 2572 3713 1747 \nQ 3713 922 3314 415 \nQ 2916 -91 2278 -91 \nQ 1894 -91 1617 61 \nQ 1341 213 1159 525 \nz\nM 3116 1747 \nQ 3116 2381 2855 2742 \nQ 2594 3103 2138 3103 \nQ 1681 3103 1420 2742 \nQ 1159 2381 1159 1747 \nQ 1159 1113 1420 752 \nQ 1681 391 2138 391 \nQ 2594 391 2855 752 \nQ 3116 1113 3116 1747 \nz\n\" transform=\"scale(0.015625)\"/>\n       </defs>\n       <use xlink:href=\"#DejaVuSans-43\"/>\n       <use xlink:href=\"#DejaVuSans-72\" x=\"69.824219\"/>\n       <use xlink:href=\"#DejaVuSans-79\" x=\"110.9375\"/>\n       <use xlink:href=\"#DejaVuSans-6f\" x=\"170.117188\"/>\n       <use xlink:href=\"#DejaVuSans-53\" x=\"231.298828\"/>\n       <use xlink:href=\"#DejaVuSans-6c\" x=\"294.775391\"/>\n       <use xlink:href=\"#DejaVuSans-65\" x=\"322.558594\"/>\n       <use xlink:href=\"#DejaVuSans-65\" x=\"384.082031\"/>\n       <use xlink:href=\"#DejaVuSans-70\" x=\"445.605469\"/>\n      </g>\n     </g>\n    </g>\n    <g id=\"xtick_2\">\n     <g id=\"line2d_2\">\n      <g>\n       <use xlink:href=\"#mcbd3583b37\" x=\"155.398125\" y=\"454.519219\" style=\"fill: #ffffff; stroke: #ffffff; stroke-width: 0.8\"/>\n      </g>\n     </g>\n     <g id=\"text_2\">\n      <!-- Age -->\n      <g style=\"fill: #ffffff\" transform=\"translate(158.1575 480.861406)rotate(-90)scale(0.1 -0.1)\">\n       <defs>\n        <path id=\"DejaVuSans-41\" d=\"M 2188 4044 \nL 1331 1722 \nL 3047 1722 \nL 2188 4044 \nz\nM 1831 4666 \nL 2547 4666 \nL 4325 0 \nL 3669 0 \nL 3244 1197 \nL 1141 1197 \nL 716 0 \nL 50 0 \nL 1831 4666 \nz\n\" transform=\"scale(0.015625)\"/>\n        <path id=\"DejaVuSans-67\" d=\"M 2906 1791 \nQ 2906 2416 2648 2759 \nQ 2391 3103 1925 3103 \nQ 1463 3103 1205 2759 \nQ 947 2416 947 1791 \nQ 947 1169 1205 825 \nQ 1463 481 1925 481 \nQ 2391 481 2648 825 \nQ 2906 1169 2906 1791 \nz\nM 3481 434 \nQ 3481 -459 3084 -895 \nQ 2688 -1331 1869 -1331 \nQ 1566 -1331 1297 -1286 \nQ 1028 -1241 775 -1147 \nL 775 -588 \nQ 1028 -725 1275 -790 \nQ 1522 -856 1778 -856 \nQ 2344 -856 2625 -561 \nQ 2906 -266 2906 331 \nL 2906 616 \nQ 2728 306 2450 153 \nQ 2172 0 1784 0 \nQ 1141 0 747 490 \nQ 353 981 353 1791 \nQ 353 2603 747 3093 \nQ 1141 3584 1784 3584 \nQ 2172 3584 2450 3431 \nQ 2728 3278 2906 2969 \nL 2906 3500 \nL 3481 3500 \nL 3481 434 \nz\n\" transform=\"scale(0.015625)\"/>\n       </defs>\n       <use xlink:href=\"#DejaVuSans-41\"/>\n       <use xlink:href=\"#DejaVuSans-67\" x=\"68.408203\"/>\n       <use xlink:href=\"#DejaVuSans-65\" x=\"131.884766\"/>\n      </g>\n     </g>\n    </g>\n    <g id=\"xtick_3\">\n     <g id=\"line2d_3\">\n      <g>\n       <use xlink:href=\"#mcbd3583b37\" x=\"204.678125\" y=\"454.519219\" style=\"fill: #ffffff; stroke: #ffffff; stroke-width: 0.8\"/>\n      </g>\n     </g>\n     <g id=\"text_3\">\n      <!-- VIP -->\n      <g style=\"fill: #ffffff\" transform=\"translate(207.4375 477.339531)rotate(-90)scale(0.1 -0.1)\">\n       <defs>\n        <path id=\"DejaVuSans-56\" d=\"M 1831 0 \nL 50 4666 \nL 709 4666 \nL 2188 738 \nL 3669 4666 \nL 4325 4666 \nL 2547 0 \nL 1831 0 \nz\n\" transform=\"scale(0.015625)\"/>\n        <path id=\"DejaVuSans-49\" d=\"M 628 4666 \nL 1259 4666 \nL 1259 0 \nL 628 0 \nL 628 4666 \nz\n\" transform=\"scale(0.015625)\"/>\n        <path id=\"DejaVuSans-50\" d=\"M 1259 4147 \nL 1259 2394 \nL 2053 2394 \nQ 2494 2394 2734 2622 \nQ 2975 2850 2975 3272 \nQ 2975 3691 2734 3919 \nQ 2494 4147 2053 4147 \nL 1259 4147 \nz\nM 628 4666 \nL 2053 4666 \nQ 2838 4666 3239 4311 \nQ 3641 3956 3641 3272 \nQ 3641 2581 3239 2228 \nQ 2838 1875 2053 1875 \nL 1259 1875 \nL 1259 0 \nL 628 0 \nL 628 4666 \nz\n\" transform=\"scale(0.015625)\"/>\n       </defs>\n       <use xlink:href=\"#DejaVuSans-56\"/>\n       <use xlink:href=\"#DejaVuSans-49\" x=\"68.408203\"/>\n       <use xlink:href=\"#DejaVuSans-50\" x=\"97.900391\"/>\n      </g>\n     </g>\n    </g>\n    <g id=\"xtick_4\">\n     <g id=\"line2d_4\">\n      <g>\n       <use xlink:href=\"#mcbd3583b37\" x=\"253.958125\" y=\"454.519219\" style=\"fill: #ffffff; stroke: #ffffff; stroke-width: 0.8\"/>\n      </g>\n     </g>\n     <g id=\"text_4\">\n      <!-- RoomService -->\n      <g style=\"fill: #ffffff\" transform=\"translate(256.7175 526.956719)rotate(-90)scale(0.1 -0.1)\">\n       <defs>\n        <path id=\"DejaVuSans-52\" d=\"M 2841 2188 \nQ 3044 2119 3236 1894 \nQ 3428 1669 3622 1275 \nL 4263 0 \nL 3584 0 \nL 2988 1197 \nQ 2756 1666 2539 1819 \nQ 2322 1972 1947 1972 \nL 1259 1972 \nL 1259 0 \nL 628 0 \nL 628 4666 \nL 2053 4666 \nQ 2853 4666 3247 4331 \nQ 3641 3997 3641 3322 \nQ 3641 2881 3436 2590 \nQ 3231 2300 2841 2188 \nz\nM 1259 4147 \nL 1259 2491 \nL 2053 2491 \nQ 2509 2491 2742 2702 \nQ 2975 2913 2975 3322 \nQ 2975 3731 2742 3939 \nQ 2509 4147 2053 4147 \nL 1259 4147 \nz\n\" transform=\"scale(0.015625)\"/>\n        <path id=\"DejaVuSans-6d\" d=\"M 3328 2828 \nQ 3544 3216 3844 3400 \nQ 4144 3584 4550 3584 \nQ 5097 3584 5394 3201 \nQ 5691 2819 5691 2113 \nL 5691 0 \nL 5113 0 \nL 5113 2094 \nQ 5113 2597 4934 2840 \nQ 4756 3084 4391 3084 \nQ 3944 3084 3684 2787 \nQ 3425 2491 3425 1978 \nL 3425 0 \nL 2847 0 \nL 2847 2094 \nQ 2847 2600 2669 2842 \nQ 2491 3084 2119 3084 \nQ 1678 3084 1418 2786 \nQ 1159 2488 1159 1978 \nL 1159 0 \nL 581 0 \nL 581 3500 \nL 1159 3500 \nL 1159 2956 \nQ 1356 3278 1631 3431 \nQ 1906 3584 2284 3584 \nQ 2666 3584 2933 3390 \nQ 3200 3197 3328 2828 \nz\n\" transform=\"scale(0.015625)\"/>\n        <path id=\"DejaVuSans-76\" d=\"M 191 3500 \nL 800 3500 \nL 1894 563 \nL 2988 3500 \nL 3597 3500 \nL 2284 0 \nL 1503 0 \nL 191 3500 \nz\n\" transform=\"scale(0.015625)\"/>\n        <path id=\"DejaVuSans-69\" d=\"M 603 3500 \nL 1178 3500 \nL 1178 0 \nL 603 0 \nL 603 3500 \nz\nM 603 4863 \nL 1178 4863 \nL 1178 4134 \nL 603 4134 \nL 603 4863 \nz\n\" transform=\"scale(0.015625)\"/>\n        <path id=\"DejaVuSans-63\" d=\"M 3122 3366 \nL 3122 2828 \nQ 2878 2963 2633 3030 \nQ 2388 3097 2138 3097 \nQ 1578 3097 1268 2742 \nQ 959 2388 959 1747 \nQ 959 1106 1268 751 \nQ 1578 397 2138 397 \nQ 2388 397 2633 464 \nQ 2878 531 3122 666 \nL 3122 134 \nQ 2881 22 2623 -34 \nQ 2366 -91 2075 -91 \nQ 1284 -91 818 406 \nQ 353 903 353 1747 \nQ 353 2603 823 3093 \nQ 1294 3584 2113 3584 \nQ 2378 3584 2631 3529 \nQ 2884 3475 3122 3366 \nz\n\" transform=\"scale(0.015625)\"/>\n       </defs>\n       <use xlink:href=\"#DejaVuSans-52\"/>\n       <use xlink:href=\"#DejaVuSans-6f\" x=\"64.982422\"/>\n       <use xlink:href=\"#DejaVuSans-6f\" x=\"126.164062\"/>\n       <use xlink:href=\"#DejaVuSans-6d\" x=\"187.345703\"/>\n       <use xlink:href=\"#DejaVuSans-53\" x=\"284.757812\"/>\n       <use xlink:href=\"#DejaVuSans-65\" x=\"348.234375\"/>\n       <use xlink:href=\"#DejaVuSans-72\" x=\"409.757812\"/>\n       <use xlink:href=\"#DejaVuSans-76\" x=\"450.871094\"/>\n       <use xlink:href=\"#DejaVuSans-69\" x=\"510.050781\"/>\n       <use xlink:href=\"#DejaVuSans-63\" x=\"537.833984\"/>\n       <use xlink:href=\"#DejaVuSans-65\" x=\"592.814453\"/>\n      </g>\n     </g>\n    </g>\n    <g id=\"xtick_5\">\n     <g id=\"line2d_5\">\n      <g>\n       <use xlink:href=\"#mcbd3583b37\" x=\"303.238125\" y=\"454.519219\" style=\"fill: #ffffff; stroke: #ffffff; stroke-width: 0.8\"/>\n      </g>\n     </g>\n     <g id=\"text_5\">\n      <!-- FoodCourt -->\n      <g style=\"fill: #ffffff\" transform=\"translate(305.9975 512.964531)rotate(-90)scale(0.1 -0.1)\">\n       <defs>\n        <path id=\"DejaVuSans-46\" d=\"M 628 4666 \nL 3309 4666 \nL 3309 4134 \nL 1259 4134 \nL 1259 2759 \nL 3109 2759 \nL 3109 2228 \nL 1259 2228 \nL 1259 0 \nL 628 0 \nL 628 4666 \nz\n\" transform=\"scale(0.015625)\"/>\n        <path id=\"DejaVuSans-64\" d=\"M 2906 2969 \nL 2906 4863 \nL 3481 4863 \nL 3481 0 \nL 2906 0 \nL 2906 525 \nQ 2725 213 2448 61 \nQ 2172 -91 1784 -91 \nQ 1150 -91 751 415 \nQ 353 922 353 1747 \nQ 353 2572 751 3078 \nQ 1150 3584 1784 3584 \nQ 2172 3584 2448 3432 \nQ 2725 3281 2906 2969 \nz\nM 947 1747 \nQ 947 1113 1208 752 \nQ 1469 391 1925 391 \nQ 2381 391 2643 752 \nQ 2906 1113 2906 1747 \nQ 2906 2381 2643 2742 \nQ 2381 3103 1925 3103 \nQ 1469 3103 1208 2742 \nQ 947 2381 947 1747 \nz\n\" transform=\"scale(0.015625)\"/>\n        <path id=\"DejaVuSans-75\" d=\"M 544 1381 \nL 544 3500 \nL 1119 3500 \nL 1119 1403 \nQ 1119 906 1312 657 \nQ 1506 409 1894 409 \nQ 2359 409 2629 706 \nQ 2900 1003 2900 1516 \nL 2900 3500 \nL 3475 3500 \nL 3475 0 \nL 2900 0 \nL 2900 538 \nQ 2691 219 2414 64 \nQ 2138 -91 1772 -91 \nQ 1169 -91 856 284 \nQ 544 659 544 1381 \nz\nM 1991 3584 \nL 1991 3584 \nz\n\" transform=\"scale(0.015625)\"/>\n        <path id=\"DejaVuSans-74\" d=\"M 1172 4494 \nL 1172 3500 \nL 2356 3500 \nL 2356 3053 \nL 1172 3053 \nL 1172 1153 \nQ 1172 725 1289 603 \nQ 1406 481 1766 481 \nL 2356 481 \nL 2356 0 \nL 1766 0 \nQ 1100 0 847 248 \nQ 594 497 594 1153 \nL 594 3053 \nL 172 3053 \nL 172 3500 \nL 594 3500 \nL 594 4494 \nL 1172 4494 \nz\n\" transform=\"scale(0.015625)\"/>\n       </defs>\n       <use xlink:href=\"#DejaVuSans-46\"/>\n       <use xlink:href=\"#DejaVuSans-6f\" x=\"53.894531\"/>\n       <use xlink:href=\"#DejaVuSans-6f\" x=\"115.076172\"/>\n       <use xlink:href=\"#DejaVuSans-64\" x=\"176.257812\"/>\n       <use xlink:href=\"#DejaVuSans-43\" x=\"239.734375\"/>\n       <use xlink:href=\"#DejaVuSans-6f\" x=\"309.558594\"/>\n       <use xlink:href=\"#DejaVuSans-75\" x=\"370.740234\"/>\n       <use xlink:href=\"#DejaVuSans-72\" x=\"434.119141\"/>\n       <use xlink:href=\"#DejaVuSans-74\" x=\"475.232422\"/>\n      </g>\n     </g>\n    </g>\n    <g id=\"xtick_6\">\n     <g id=\"line2d_6\">\n      <g>\n       <use xlink:href=\"#mcbd3583b37\" x=\"352.518125\" y=\"454.519219\" style=\"fill: #ffffff; stroke: #ffffff; stroke-width: 0.8\"/>\n      </g>\n     </g>\n     <g id=\"text_6\">\n      <!-- ShoppingMall -->\n      <g style=\"fill: #ffffff\" transform=\"translate(355.2775 528.797344)rotate(-90)scale(0.1 -0.1)\">\n       <defs>\n        <path id=\"DejaVuSans-68\" d=\"M 3513 2113 \nL 3513 0 \nL 2938 0 \nL 2938 2094 \nQ 2938 2591 2744 2837 \nQ 2550 3084 2163 3084 \nQ 1697 3084 1428 2787 \nQ 1159 2491 1159 1978 \nL 1159 0 \nL 581 0 \nL 581 4863 \nL 1159 4863 \nL 1159 2956 \nQ 1366 3272 1645 3428 \nQ 1925 3584 2291 3584 \nQ 2894 3584 3203 3211 \nQ 3513 2838 3513 2113 \nz\n\" transform=\"scale(0.015625)\"/>\n        <path id=\"DejaVuSans-6e\" d=\"M 3513 2113 \nL 3513 0 \nL 2938 0 \nL 2938 2094 \nQ 2938 2591 2744 2837 \nQ 2550 3084 2163 3084 \nQ 1697 3084 1428 2787 \nQ 1159 2491 1159 1978 \nL 1159 0 \nL 581 0 \nL 581 3500 \nL 1159 3500 \nL 1159 2956 \nQ 1366 3272 1645 3428 \nQ 1925 3584 2291 3584 \nQ 2894 3584 3203 3211 \nQ 3513 2838 3513 2113 \nz\n\" transform=\"scale(0.015625)\"/>\n        <path id=\"DejaVuSans-4d\" d=\"M 628 4666 \nL 1569 4666 \nL 2759 1491 \nL 3956 4666 \nL 4897 4666 \nL 4897 0 \nL 4281 0 \nL 4281 4097 \nL 3078 897 \nL 2444 897 \nL 1241 4097 \nL 1241 0 \nL 628 0 \nL 628 4666 \nz\n\" transform=\"scale(0.015625)\"/>\n        <path id=\"DejaVuSans-61\" d=\"M 2194 1759 \nQ 1497 1759 1228 1600 \nQ 959 1441 959 1056 \nQ 959 750 1161 570 \nQ 1363 391 1709 391 \nQ 2188 391 2477 730 \nQ 2766 1069 2766 1631 \nL 2766 1759 \nL 2194 1759 \nz\nM 3341 1997 \nL 3341 0 \nL 2766 0 \nL 2766 531 \nQ 2569 213 2275 61 \nQ 1981 -91 1556 -91 \nQ 1019 -91 701 211 \nQ 384 513 384 1019 \nQ 384 1609 779 1909 \nQ 1175 2209 1959 2209 \nL 2766 2209 \nL 2766 2266 \nQ 2766 2663 2505 2880 \nQ 2244 3097 1772 3097 \nQ 1472 3097 1187 3025 \nQ 903 2953 641 2809 \nL 641 3341 \nQ 956 3463 1253 3523 \nQ 1550 3584 1831 3584 \nQ 2591 3584 2966 3190 \nQ 3341 2797 3341 1997 \nz\n\" transform=\"scale(0.015625)\"/>\n       </defs>\n       <use xlink:href=\"#DejaVuSans-53\"/>\n       <use xlink:href=\"#DejaVuSans-68\" x=\"63.476562\"/>\n       <use xlink:href=\"#DejaVuSans-6f\" x=\"126.855469\"/>\n       <use xlink:href=\"#DejaVuSans-70\" x=\"188.037109\"/>\n       <use xlink:href=\"#DejaVuSans-70\" x=\"251.513672\"/>\n       <use xlink:href=\"#DejaVuSans-69\" x=\"314.990234\"/>\n       <use xlink:href=\"#DejaVuSans-6e\" x=\"342.773438\"/>\n       <use xlink:href=\"#DejaVuSans-67\" x=\"406.152344\"/>\n       <use xlink:href=\"#DejaVuSans-4d\" x=\"469.628906\"/>\n       <use xlink:href=\"#DejaVuSans-61\" x=\"555.908203\"/>\n       <use xlink:href=\"#DejaVuSans-6c\" x=\"617.1875\"/>\n       <use xlink:href=\"#DejaVuSans-6c\" x=\"644.970703\"/>\n      </g>\n     </g>\n    </g>\n    <g id=\"xtick_7\">\n     <g id=\"line2d_7\">\n      <g>\n       <use xlink:href=\"#mcbd3583b37\" x=\"401.798125\" y=\"454.519219\" style=\"fill: #ffffff; stroke: #ffffff; stroke-width: 0.8\"/>\n      </g>\n     </g>\n     <g id=\"text_7\">\n      <!-- Spa -->\n      <g style=\"fill: #ffffff\" transform=\"translate(404.5575 480.344219)rotate(-90)scale(0.1 -0.1)\">\n       <use xlink:href=\"#DejaVuSans-53\"/>\n       <use xlink:href=\"#DejaVuSans-70\" x=\"63.476562\"/>\n       <use xlink:href=\"#DejaVuSans-61\" x=\"126.953125\"/>\n      </g>\n     </g>\n    </g>\n    <g id=\"xtick_8\">\n     <g id=\"line2d_8\">\n      <g>\n       <use xlink:href=\"#mcbd3583b37\" x=\"451.078125\" y=\"454.519219\" style=\"fill: #ffffff; stroke: #ffffff; stroke-width: 0.8\"/>\n      </g>\n     </g>\n     <g id=\"text_8\">\n      <!-- VRDeck -->\n      <g style=\"fill: #ffffff\" transform=\"translate(453.8375 500.450469)rotate(-90)scale(0.1 -0.1)\">\n       <defs>\n        <path id=\"DejaVuSans-44\" d=\"M 1259 4147 \nL 1259 519 \nL 2022 519 \nQ 2988 519 3436 956 \nQ 3884 1394 3884 2338 \nQ 3884 3275 3436 3711 \nQ 2988 4147 2022 4147 \nL 1259 4147 \nz\nM 628 4666 \nL 1925 4666 \nQ 3281 4666 3915 4102 \nQ 4550 3538 4550 2338 \nQ 4550 1131 3912 565 \nQ 3275 0 1925 0 \nL 628 0 \nL 628 4666 \nz\n\" transform=\"scale(0.015625)\"/>\n        <path id=\"DejaVuSans-6b\" d=\"M 581 4863 \nL 1159 4863 \nL 1159 1991 \nL 2875 3500 \nL 3609 3500 \nL 1753 1863 \nL 3688 0 \nL 2938 0 \nL 1159 1709 \nL 1159 0 \nL 581 0 \nL 581 4863 \nz\n\" transform=\"scale(0.015625)\"/>\n       </defs>\n       <use xlink:href=\"#DejaVuSans-56\"/>\n       <use xlink:href=\"#DejaVuSans-52\" x=\"68.408203\"/>\n       <use xlink:href=\"#DejaVuSans-44\" x=\"137.890625\"/>\n       <use xlink:href=\"#DejaVuSans-65\" x=\"214.892578\"/>\n       <use xlink:href=\"#DejaVuSans-63\" x=\"276.416016\"/>\n       <use xlink:href=\"#DejaVuSans-6b\" x=\"331.396484\"/>\n      </g>\n     </g>\n    </g>\n    <g id=\"xtick_9\">\n     <g id=\"line2d_9\">\n      <g>\n       <use xlink:href=\"#mcbd3583b37\" x=\"500.358125\" y=\"454.519219\" style=\"fill: #ffffff; stroke: #ffffff; stroke-width: 0.8\"/>\n      </g>\n     </g>\n     <g id=\"text_9\">\n      <!-- Transported -->\n      <g style=\"fill: #ffffff\" transform=\"translate(503.1175 520.937969)rotate(-90)scale(0.1 -0.1)\">\n       <defs>\n        <path id=\"DejaVuSans-54\" d=\"M -19 4666 \nL 3928 4666 \nL 3928 4134 \nL 2272 4134 \nL 2272 0 \nL 1638 0 \nL 1638 4134 \nL -19 4134 \nL -19 4666 \nz\n\" transform=\"scale(0.015625)\"/>\n        <path id=\"DejaVuSans-73\" d=\"M 2834 3397 \nL 2834 2853 \nQ 2591 2978 2328 3040 \nQ 2066 3103 1784 3103 \nQ 1356 3103 1142 2972 \nQ 928 2841 928 2578 \nQ 928 2378 1081 2264 \nQ 1234 2150 1697 2047 \nL 1894 2003 \nQ 2506 1872 2764 1633 \nQ 3022 1394 3022 966 \nQ 3022 478 2636 193 \nQ 2250 -91 1575 -91 \nQ 1294 -91 989 -36 \nQ 684 19 347 128 \nL 347 722 \nQ 666 556 975 473 \nQ 1284 391 1588 391 \nQ 1994 391 2212 530 \nQ 2431 669 2431 922 \nQ 2431 1156 2273 1281 \nQ 2116 1406 1581 1522 \nL 1381 1569 \nQ 847 1681 609 1914 \nQ 372 2147 372 2553 \nQ 372 3047 722 3315 \nQ 1072 3584 1716 3584 \nQ 2034 3584 2315 3537 \nQ 2597 3491 2834 3397 \nz\n\" transform=\"scale(0.015625)\"/>\n       </defs>\n       <use xlink:href=\"#DejaVuSans-54\"/>\n       <use xlink:href=\"#DejaVuSans-72\" x=\"46.333984\"/>\n       <use xlink:href=\"#DejaVuSans-61\" x=\"87.447266\"/>\n       <use xlink:href=\"#DejaVuSans-6e\" x=\"148.726562\"/>\n       <use xlink:href=\"#DejaVuSans-73\" x=\"212.105469\"/>\n       <use xlink:href=\"#DejaVuSans-70\" x=\"264.205078\"/>\n       <use xlink:href=\"#DejaVuSans-6f\" x=\"327.681641\"/>\n       <use xlink:href=\"#DejaVuSans-72\" x=\"388.863281\"/>\n       <use xlink:href=\"#DejaVuSans-74\" x=\"429.976562\"/>\n       <use xlink:href=\"#DejaVuSans-65\" x=\"469.185547\"/>\n       <use xlink:href=\"#DejaVuSans-64\" x=\"530.708984\"/>\n      </g>\n     </g>\n    </g>\n   </g>\n   <g id=\"matplotlib.axis_2\">\n    <g id=\"ytick_1\">\n     <g id=\"line2d_10\">\n      <defs>\n       <path id=\"m78a3de8b12\" d=\"M 0 0 \nL -3.5 0 \n\" style=\"stroke: #ffffff; stroke-width: 0.8\"/>\n      </defs>\n      <g>\n       <use xlink:href=\"#m78a3de8b12\" x=\"81.478125\" y=\"35.639219\" style=\"fill: #ffffff; stroke: #ffffff; stroke-width: 0.8\"/>\n      </g>\n     </g>\n     <g id=\"text_10\">\n      <!-- CryoSleep -->\n      <g style=\"fill: #ffffff\" transform=\"translate(23.565625 38.398594)scale(0.1 -0.1)\">\n       <use xlink:href=\"#DejaVuSans-43\"/>\n       <use xlink:href=\"#DejaVuSans-72\" x=\"69.824219\"/>\n       <use xlink:href=\"#DejaVuSans-79\" x=\"110.9375\"/>\n       <use xlink:href=\"#DejaVuSans-6f\" x=\"170.117188\"/>\n       <use xlink:href=\"#DejaVuSans-53\" x=\"231.298828\"/>\n       <use xlink:href=\"#DejaVuSans-6c\" x=\"294.775391\"/>\n       <use xlink:href=\"#DejaVuSans-65\" x=\"322.558594\"/>\n       <use xlink:href=\"#DejaVuSans-65\" x=\"384.082031\"/>\n       <use xlink:href=\"#DejaVuSans-70\" x=\"445.605469\"/>\n      </g>\n     </g>\n    </g>\n    <g id=\"ytick_2\">\n     <g id=\"line2d_11\">\n      <g>\n       <use xlink:href=\"#m78a3de8b12\" x=\"81.478125\" y=\"84.919219\" style=\"fill: #ffffff; stroke: #ffffff; stroke-width: 0.8\"/>\n      </g>\n     </g>\n     <g id=\"text_11\">\n      <!-- Age -->\n      <g style=\"fill: #ffffff\" transform=\"translate(55.135938 87.678594)scale(0.1 -0.1)\">\n       <use xlink:href=\"#DejaVuSans-41\"/>\n       <use xlink:href=\"#DejaVuSans-67\" x=\"68.408203\"/>\n       <use xlink:href=\"#DejaVuSans-65\" x=\"131.884766\"/>\n      </g>\n     </g>\n    </g>\n    <g id=\"ytick_3\">\n     <g id=\"line2d_12\">\n      <g>\n       <use xlink:href=\"#m78a3de8b12\" x=\"81.478125\" y=\"134.199219\" style=\"fill: #ffffff; stroke: #ffffff; stroke-width: 0.8\"/>\n      </g>\n     </g>\n     <g id=\"text_12\">\n      <!-- VIP -->\n      <g style=\"fill: #ffffff\" transform=\"translate(58.657813 136.958594)scale(0.1 -0.1)\">\n       <use xlink:href=\"#DejaVuSans-56\"/>\n       <use xlink:href=\"#DejaVuSans-49\" x=\"68.408203\"/>\n       <use xlink:href=\"#DejaVuSans-50\" x=\"97.900391\"/>\n      </g>\n     </g>\n    </g>\n    <g id=\"ytick_4\">\n     <g id=\"line2d_13\">\n      <g>\n       <use xlink:href=\"#m78a3de8b12\" x=\"81.478125\" y=\"183.479219\" style=\"fill: #ffffff; stroke: #ffffff; stroke-width: 0.8\"/>\n      </g>\n     </g>\n     <g id=\"text_13\">\n      <!-- RoomService -->\n      <g style=\"fill: #ffffff\" transform=\"translate(9.040625 186.238594)scale(0.1 -0.1)\">\n       <use xlink:href=\"#DejaVuSans-52\"/>\n       <use xlink:href=\"#DejaVuSans-6f\" x=\"64.982422\"/>\n       <use xlink:href=\"#DejaVuSans-6f\" x=\"126.164062\"/>\n       <use xlink:href=\"#DejaVuSans-6d\" x=\"187.345703\"/>\n       <use xlink:href=\"#DejaVuSans-53\" x=\"284.757812\"/>\n       <use xlink:href=\"#DejaVuSans-65\" x=\"348.234375\"/>\n       <use xlink:href=\"#DejaVuSans-72\" x=\"409.757812\"/>\n       <use xlink:href=\"#DejaVuSans-76\" x=\"450.871094\"/>\n       <use xlink:href=\"#DejaVuSans-69\" x=\"510.050781\"/>\n       <use xlink:href=\"#DejaVuSans-63\" x=\"537.833984\"/>\n       <use xlink:href=\"#DejaVuSans-65\" x=\"592.814453\"/>\n      </g>\n     </g>\n    </g>\n    <g id=\"ytick_5\">\n     <g id=\"line2d_14\">\n      <g>\n       <use xlink:href=\"#m78a3de8b12\" x=\"81.478125\" y=\"232.759219\" style=\"fill: #ffffff; stroke: #ffffff; stroke-width: 0.8\"/>\n      </g>\n     </g>\n     <g id=\"text_14\">\n      <!-- FoodCourt -->\n      <g style=\"fill: #ffffff\" transform=\"translate(23.032813 235.518594)scale(0.1 -0.1)\">\n       <use xlink:href=\"#DejaVuSans-46\"/>\n       <use xlink:href=\"#DejaVuSans-6f\" x=\"53.894531\"/>\n       <use xlink:href=\"#DejaVuSans-6f\" x=\"115.076172\"/>\n       <use xlink:href=\"#DejaVuSans-64\" x=\"176.257812\"/>\n       <use xlink:href=\"#DejaVuSans-43\" x=\"239.734375\"/>\n       <use xlink:href=\"#DejaVuSans-6f\" x=\"309.558594\"/>\n       <use xlink:href=\"#DejaVuSans-75\" x=\"370.740234\"/>\n       <use xlink:href=\"#DejaVuSans-72\" x=\"434.119141\"/>\n       <use xlink:href=\"#DejaVuSans-74\" x=\"475.232422\"/>\n      </g>\n     </g>\n    </g>\n    <g id=\"ytick_6\">\n     <g id=\"line2d_15\">\n      <g>\n       <use xlink:href=\"#m78a3de8b12\" x=\"81.478125\" y=\"282.039219\" style=\"fill: #ffffff; stroke: #ffffff; stroke-width: 0.8\"/>\n      </g>\n     </g>\n     <g id=\"text_15\">\n      <!-- ShoppingMall -->\n      <g style=\"fill: #ffffff\" transform=\"translate(7.2 284.798594)scale(0.1 -0.1)\">\n       <use xlink:href=\"#DejaVuSans-53\"/>\n       <use xlink:href=\"#DejaVuSans-68\" x=\"63.476562\"/>\n       <use xlink:href=\"#DejaVuSans-6f\" x=\"126.855469\"/>\n       <use xlink:href=\"#DejaVuSans-70\" x=\"188.037109\"/>\n       <use xlink:href=\"#DejaVuSans-70\" x=\"251.513672\"/>\n       <use xlink:href=\"#DejaVuSans-69\" x=\"314.990234\"/>\n       <use xlink:href=\"#DejaVuSans-6e\" x=\"342.773438\"/>\n       <use xlink:href=\"#DejaVuSans-67\" x=\"406.152344\"/>\n       <use xlink:href=\"#DejaVuSans-4d\" x=\"469.628906\"/>\n       <use xlink:href=\"#DejaVuSans-61\" x=\"555.908203\"/>\n       <use xlink:href=\"#DejaVuSans-6c\" x=\"617.1875\"/>\n       <use xlink:href=\"#DejaVuSans-6c\" x=\"644.970703\"/>\n      </g>\n     </g>\n    </g>\n    <g id=\"ytick_7\">\n     <g id=\"line2d_16\">\n      <g>\n       <use xlink:href=\"#m78a3de8b12\" x=\"81.478125\" y=\"331.319219\" style=\"fill: #ffffff; stroke: #ffffff; stroke-width: 0.8\"/>\n      </g>\n     </g>\n     <g id=\"text_16\">\n      <!-- Spa -->\n      <g style=\"fill: #ffffff\" transform=\"translate(55.653125 334.078594)scale(0.1 -0.1)\">\n       <use xlink:href=\"#DejaVuSans-53\"/>\n       <use xlink:href=\"#DejaVuSans-70\" x=\"63.476562\"/>\n       <use xlink:href=\"#DejaVuSans-61\" x=\"126.953125\"/>\n      </g>\n     </g>\n    </g>\n    <g id=\"ytick_8\">\n     <g id=\"line2d_17\">\n      <g>\n       <use xlink:href=\"#m78a3de8b12\" x=\"81.478125\" y=\"380.599219\" style=\"fill: #ffffff; stroke: #ffffff; stroke-width: 0.8\"/>\n      </g>\n     </g>\n     <g id=\"text_17\">\n      <!-- VRDeck -->\n      <g style=\"fill: #ffffff\" transform=\"translate(35.546875 383.358594)scale(0.1 -0.1)\">\n       <use xlink:href=\"#DejaVuSans-56\"/>\n       <use xlink:href=\"#DejaVuSans-52\" x=\"68.408203\"/>\n       <use xlink:href=\"#DejaVuSans-44\" x=\"137.890625\"/>\n       <use xlink:href=\"#DejaVuSans-65\" x=\"214.892578\"/>\n       <use xlink:href=\"#DejaVuSans-63\" x=\"276.416016\"/>\n       <use xlink:href=\"#DejaVuSans-6b\" x=\"331.396484\"/>\n      </g>\n     </g>\n    </g>\n    <g id=\"ytick_9\">\n     <g id=\"line2d_18\">\n      <g>\n       <use xlink:href=\"#m78a3de8b12\" x=\"81.478125\" y=\"429.879219\" style=\"fill: #ffffff; stroke: #ffffff; stroke-width: 0.8\"/>\n      </g>\n     </g>\n     <g id=\"text_18\">\n      <!-- Transported -->\n      <g style=\"fill: #ffffff\" transform=\"translate(15.059375 432.638594)scale(0.1 -0.1)\">\n       <use xlink:href=\"#DejaVuSans-54\"/>\n       <use xlink:href=\"#DejaVuSans-72\" x=\"46.333984\"/>\n       <use xlink:href=\"#DejaVuSans-61\" x=\"87.447266\"/>\n       <use xlink:href=\"#DejaVuSans-6e\" x=\"148.726562\"/>\n       <use xlink:href=\"#DejaVuSans-73\" x=\"212.105469\"/>\n       <use xlink:href=\"#DejaVuSans-70\" x=\"264.205078\"/>\n       <use xlink:href=\"#DejaVuSans-6f\" x=\"327.681641\"/>\n       <use xlink:href=\"#DejaVuSans-72\" x=\"388.863281\"/>\n       <use xlink:href=\"#DejaVuSans-74\" x=\"429.976562\"/>\n       <use xlink:href=\"#DejaVuSans-65\" x=\"469.185547\"/>\n       <use xlink:href=\"#DejaVuSans-64\" x=\"530.708984\"/>\n      </g>\n     </g>\n    </g>\n   </g>\n   <g id=\"text_19\">\n    <!-- 1 -->\n    <g style=\"fill: #262626\" transform=\"translate(102.936875 38.398594)scale(0.1 -0.1)\">\n     <defs>\n      <path id=\"DejaVuSans-31\" d=\"M 794 531 \nL 1825 531 \nL 1825 4091 \nL 703 3866 \nL 703 4441 \nL 1819 4666 \nL 2450 4666 \nL 2450 531 \nL 3481 531 \nL 3481 0 \nL 794 0 \nL 794 531 \nz\n\" transform=\"scale(0.015625)\"/>\n     </defs>\n     <use xlink:href=\"#DejaVuSans-31\"/>\n    </g>\n   </g>\n   <g id=\"text_20\">\n    <!-- -0.071 -->\n    <g style=\"fill: #ffffff\" transform=\"translate(139.280156 38.398594)scale(0.1 -0.1)\">\n     <defs>\n      <path id=\"DejaVuSans-2d\" d=\"M 313 2009 \nL 1997 2009 \nL 1997 1497 \nL 313 1497 \nL 313 2009 \nz\n\" transform=\"scale(0.015625)\"/>\n      <path id=\"DejaVuSans-30\" d=\"M 2034 4250 \nQ 1547 4250 1301 3770 \nQ 1056 3291 1056 2328 \nQ 1056 1369 1301 889 \nQ 1547 409 2034 409 \nQ 2525 409 2770 889 \nQ 3016 1369 3016 2328 \nQ 3016 3291 2770 3770 \nQ 2525 4250 2034 4250 \nz\nM 2034 4750 \nQ 2819 4750 3233 4129 \nQ 3647 3509 3647 2328 \nQ 3647 1150 3233 529 \nQ 2819 -91 2034 -91 \nQ 1250 -91 836 529 \nQ 422 1150 422 2328 \nQ 422 3509 836 4129 \nQ 1250 4750 2034 4750 \nz\n\" transform=\"scale(0.015625)\"/>\n      <path id=\"DejaVuSans-2e\" d=\"M 684 794 \nL 1344 794 \nL 1344 0 \nL 684 0 \nL 684 794 \nz\n\" transform=\"scale(0.015625)\"/>\n      <path id=\"DejaVuSans-37\" d=\"M 525 4666 \nL 3525 4666 \nL 3525 4397 \nL 1831 0 \nL 1172 0 \nL 2766 4134 \nL 525 4134 \nL 525 4666 \nz\n\" transform=\"scale(0.015625)\"/>\n     </defs>\n     <use xlink:href=\"#DejaVuSans-2d\"/>\n     <use xlink:href=\"#DejaVuSans-30\" x=\"36.083984\"/>\n     <use xlink:href=\"#DejaVuSans-2e\" x=\"99.707031\"/>\n     <use xlink:href=\"#DejaVuSans-30\" x=\"131.494141\"/>\n     <use xlink:href=\"#DejaVuSans-37\" x=\"195.117188\"/>\n     <use xlink:href=\"#DejaVuSans-31\" x=\"258.740234\"/>\n    </g>\n   </g>\n   <g id=\"text_21\">\n    <!-- -0.078 -->\n    <g style=\"fill: #ffffff\" transform=\"translate(188.560156 38.398594)scale(0.1 -0.1)\">\n     <defs>\n      <path id=\"DejaVuSans-38\" d=\"M 2034 2216 \nQ 1584 2216 1326 1975 \nQ 1069 1734 1069 1313 \nQ 1069 891 1326 650 \nQ 1584 409 2034 409 \nQ 2484 409 2743 651 \nQ 3003 894 3003 1313 \nQ 3003 1734 2745 1975 \nQ 2488 2216 2034 2216 \nz\nM 1403 2484 \nQ 997 2584 770 2862 \nQ 544 3141 544 3541 \nQ 544 4100 942 4425 \nQ 1341 4750 2034 4750 \nQ 2731 4750 3128 4425 \nQ 3525 4100 3525 3541 \nQ 3525 3141 3298 2862 \nQ 3072 2584 2669 2484 \nQ 3125 2378 3379 2068 \nQ 3634 1759 3634 1313 \nQ 3634 634 3220 271 \nQ 2806 -91 2034 -91 \nQ 1263 -91 848 271 \nQ 434 634 434 1313 \nQ 434 1759 690 2068 \nQ 947 2378 1403 2484 \nz\nM 1172 3481 \nQ 1172 3119 1398 2916 \nQ 1625 2713 2034 2713 \nQ 2441 2713 2670 2916 \nQ 2900 3119 2900 3481 \nQ 2900 3844 2670 4047 \nQ 2441 4250 2034 4250 \nQ 1625 4250 1398 4047 \nQ 1172 3844 1172 3481 \nz\n\" transform=\"scale(0.015625)\"/>\n     </defs>\n     <use xlink:href=\"#DejaVuSans-2d\"/>\n     <use xlink:href=\"#DejaVuSans-30\" x=\"36.083984\"/>\n     <use xlink:href=\"#DejaVuSans-2e\" x=\"99.707031\"/>\n     <use xlink:href=\"#DejaVuSans-30\" x=\"131.494141\"/>\n     <use xlink:href=\"#DejaVuSans-37\" x=\"195.117188\"/>\n     <use xlink:href=\"#DejaVuSans-38\" x=\"258.740234\"/>\n    </g>\n   </g>\n   <g id=\"text_22\">\n    <!-- -0.24 -->\n    <g style=\"fill: #ffffff\" transform=\"translate(241.021406 38.398594)scale(0.1 -0.1)\">\n     <defs>\n      <path id=\"DejaVuSans-32\" d=\"M 1228 531 \nL 3431 531 \nL 3431 0 \nL 469 0 \nL 469 531 \nQ 828 903 1448 1529 \nQ 2069 2156 2228 2338 \nQ 2531 2678 2651 2914 \nQ 2772 3150 2772 3378 \nQ 2772 3750 2511 3984 \nQ 2250 4219 1831 4219 \nQ 1534 4219 1204 4116 \nQ 875 4013 500 3803 \nL 500 4441 \nQ 881 4594 1212 4672 \nQ 1544 4750 1819 4750 \nQ 2544 4750 2975 4387 \nQ 3406 4025 3406 3419 \nQ 3406 3131 3298 2873 \nQ 3191 2616 2906 2266 \nQ 2828 2175 2409 1742 \nQ 1991 1309 1228 531 \nz\n\" transform=\"scale(0.015625)\"/>\n      <path id=\"DejaVuSans-34\" d=\"M 2419 4116 \nL 825 1625 \nL 2419 1625 \nL 2419 4116 \nz\nM 2253 4666 \nL 3047 4666 \nL 3047 1625 \nL 3713 1625 \nL 3713 1100 \nL 3047 1100 \nL 3047 0 \nL 2419 0 \nL 2419 1100 \nL 313 1100 \nL 313 1709 \nL 2253 4666 \nz\n\" transform=\"scale(0.015625)\"/>\n     </defs>\n     <use xlink:href=\"#DejaVuSans-2d\"/>\n     <use xlink:href=\"#DejaVuSans-30\" x=\"36.083984\"/>\n     <use xlink:href=\"#DejaVuSans-2e\" x=\"99.707031\"/>\n     <use xlink:href=\"#DejaVuSans-32\" x=\"131.494141\"/>\n     <use xlink:href=\"#DejaVuSans-34\" x=\"195.117188\"/>\n    </g>\n   </g>\n   <g id=\"text_23\">\n    <!-- -0.21 -->\n    <g style=\"fill: #ffffff\" transform=\"translate(290.301406 38.398594)scale(0.1 -0.1)\">\n     <use xlink:href=\"#DejaVuSans-2d\"/>\n     <use xlink:href=\"#DejaVuSans-30\" x=\"36.083984\"/>\n     <use xlink:href=\"#DejaVuSans-2e\" x=\"99.707031\"/>\n     <use xlink:href=\"#DejaVuSans-32\" x=\"131.494141\"/>\n     <use xlink:href=\"#DejaVuSans-31\" x=\"195.117188\"/>\n    </g>\n   </g>\n   <g id=\"text_24\">\n    <!-- -0.21 -->\n    <g style=\"fill: #ffffff\" transform=\"translate(339.581406 38.398594)scale(0.1 -0.1)\">\n     <use xlink:href=\"#DejaVuSans-2d\"/>\n     <use xlink:href=\"#DejaVuSans-30\" x=\"36.083984\"/>\n     <use xlink:href=\"#DejaVuSans-2e\" x=\"99.707031\"/>\n     <use xlink:href=\"#DejaVuSans-32\" x=\"131.494141\"/>\n     <use xlink:href=\"#DejaVuSans-31\" x=\"195.117188\"/>\n    </g>\n   </g>\n   <g id=\"text_25\">\n    <!-- -0.2 -->\n    <g style=\"fill: #ffffff\" transform=\"translate(392.042656 38.398594)scale(0.1 -0.1)\">\n     <use xlink:href=\"#DejaVuSans-2d\"/>\n     <use xlink:href=\"#DejaVuSans-30\" x=\"36.083984\"/>\n     <use xlink:href=\"#DejaVuSans-2e\" x=\"99.707031\"/>\n     <use xlink:href=\"#DejaVuSans-32\" x=\"131.494141\"/>\n    </g>\n   </g>\n   <g id=\"text_26\">\n    <!-- -0.19 -->\n    <g style=\"fill: #ffffff\" transform=\"translate(438.141406 38.398594)scale(0.1 -0.1)\">\n     <defs>\n      <path id=\"DejaVuSans-39\" d=\"M 703 97 \nL 703 672 \nQ 941 559 1184 500 \nQ 1428 441 1663 441 \nQ 2288 441 2617 861 \nQ 2947 1281 2994 2138 \nQ 2813 1869 2534 1725 \nQ 2256 1581 1919 1581 \nQ 1219 1581 811 2004 \nQ 403 2428 403 3163 \nQ 403 3881 828 4315 \nQ 1253 4750 1959 4750 \nQ 2769 4750 3195 4129 \nQ 3622 3509 3622 2328 \nQ 3622 1225 3098 567 \nQ 2575 -91 1691 -91 \nQ 1453 -91 1209 -44 \nQ 966 3 703 97 \nz\nM 1959 2075 \nQ 2384 2075 2632 2365 \nQ 2881 2656 2881 3163 \nQ 2881 3666 2632 3958 \nQ 2384 4250 1959 4250 \nQ 1534 4250 1286 3958 \nQ 1038 3666 1038 3163 \nQ 1038 2656 1286 2365 \nQ 1534 2075 1959 2075 \nz\n\" transform=\"scale(0.015625)\"/>\n     </defs>\n     <use xlink:href=\"#DejaVuSans-2d\"/>\n     <use xlink:href=\"#DejaVuSans-30\" x=\"36.083984\"/>\n     <use xlink:href=\"#DejaVuSans-2e\" x=\"99.707031\"/>\n     <use xlink:href=\"#DejaVuSans-31\" x=\"131.494141\"/>\n     <use xlink:href=\"#DejaVuSans-39\" x=\"195.117188\"/>\n    </g>\n   </g>\n   <g id=\"text_27\">\n    <!-- 0.46 -->\n    <g style=\"fill: #ffffff\" transform=\"translate(489.225313 38.398594)scale(0.1 -0.1)\">\n     <defs>\n      <path id=\"DejaVuSans-36\" d=\"M 2113 2584 \nQ 1688 2584 1439 2293 \nQ 1191 2003 1191 1497 \nQ 1191 994 1439 701 \nQ 1688 409 2113 409 \nQ 2538 409 2786 701 \nQ 3034 994 3034 1497 \nQ 3034 2003 2786 2293 \nQ 2538 2584 2113 2584 \nz\nM 3366 4563 \nL 3366 3988 \nQ 3128 4100 2886 4159 \nQ 2644 4219 2406 4219 \nQ 1781 4219 1451 3797 \nQ 1122 3375 1075 2522 \nQ 1259 2794 1537 2939 \nQ 1816 3084 2150 3084 \nQ 2853 3084 3261 2657 \nQ 3669 2231 3669 1497 \nQ 3669 778 3244 343 \nQ 2819 -91 2113 -91 \nQ 1303 -91 875 529 \nQ 447 1150 447 2328 \nQ 447 3434 972 4092 \nQ 1497 4750 2381 4750 \nQ 2619 4750 2861 4703 \nQ 3103 4656 3366 4563 \nz\n\" transform=\"scale(0.015625)\"/>\n     </defs>\n     <use xlink:href=\"#DejaVuSans-30\"/>\n     <use xlink:href=\"#DejaVuSans-2e\" x=\"63.623047\"/>\n     <use xlink:href=\"#DejaVuSans-34\" x=\"95.410156\"/>\n     <use xlink:href=\"#DejaVuSans-36\" x=\"159.033203\"/>\n    </g>\n   </g>\n   <g id=\"text_28\">\n    <!-- -0.071 -->\n    <g style=\"fill: #ffffff\" transform=\"translate(90.000156 87.678594)scale(0.1 -0.1)\">\n     <use xlink:href=\"#DejaVuSans-2d\"/>\n     <use xlink:href=\"#DejaVuSans-30\" x=\"36.083984\"/>\n     <use xlink:href=\"#DejaVuSans-2e\" x=\"99.707031\"/>\n     <use xlink:href=\"#DejaVuSans-30\" x=\"131.494141\"/>\n     <use xlink:href=\"#DejaVuSans-37\" x=\"195.117188\"/>\n     <use xlink:href=\"#DejaVuSans-31\" x=\"258.740234\"/>\n    </g>\n   </g>\n   <g id=\"text_29\">\n    <!-- 1 -->\n    <g style=\"fill: #262626\" transform=\"translate(152.216875 87.678594)scale(0.1 -0.1)\">\n     <use xlink:href=\"#DejaVuSans-31\"/>\n    </g>\n   </g>\n   <g id=\"text_30\">\n    <!-- 0.092 -->\n    <g style=\"fill: #ffffff\" transform=\"translate(190.364063 87.678594)scale(0.1 -0.1)\">\n     <use xlink:href=\"#DejaVuSans-30\"/>\n     <use xlink:href=\"#DejaVuSans-2e\" x=\"63.623047\"/>\n     <use xlink:href=\"#DejaVuSans-30\" x=\"95.410156\"/>\n     <use xlink:href=\"#DejaVuSans-39\" x=\"159.033203\"/>\n     <use xlink:href=\"#DejaVuSans-32\" x=\"222.65625\"/>\n    </g>\n   </g>\n   <g id=\"text_31\">\n    <!-- 0.069 -->\n    <g style=\"fill: #ffffff\" transform=\"translate(239.644063 87.678594)scale(0.1 -0.1)\">\n     <use xlink:href=\"#DejaVuSans-30\"/>\n     <use xlink:href=\"#DejaVuSans-2e\" x=\"63.623047\"/>\n     <use xlink:href=\"#DejaVuSans-30\" x=\"95.410156\"/>\n     <use xlink:href=\"#DejaVuSans-36\" x=\"159.033203\"/>\n     <use xlink:href=\"#DejaVuSans-39\" x=\"222.65625\"/>\n    </g>\n   </g>\n   <g id=\"text_32\">\n    <!-- 0.13 -->\n    <g style=\"fill: #ffffff\" transform=\"translate(292.105313 87.678594)scale(0.1 -0.1)\">\n     <defs>\n      <path id=\"DejaVuSans-33\" d=\"M 2597 2516 \nQ 3050 2419 3304 2112 \nQ 3559 1806 3559 1356 \nQ 3559 666 3084 287 \nQ 2609 -91 1734 -91 \nQ 1441 -91 1130 -33 \nQ 819 25 488 141 \nL 488 750 \nQ 750 597 1062 519 \nQ 1375 441 1716 441 \nQ 2309 441 2620 675 \nQ 2931 909 2931 1356 \nQ 2931 1769 2642 2001 \nQ 2353 2234 1838 2234 \nL 1294 2234 \nL 1294 2753 \nL 1863 2753 \nQ 2328 2753 2575 2939 \nQ 2822 3125 2822 3475 \nQ 2822 3834 2567 4026 \nQ 2313 4219 1838 4219 \nQ 1578 4219 1281 4162 \nQ 984 4106 628 3988 \nL 628 4550 \nQ 988 4650 1302 4700 \nQ 1616 4750 1894 4750 \nQ 2613 4750 3031 4423 \nQ 3450 4097 3450 3541 \nQ 3450 3153 3228 2886 \nQ 3006 2619 2597 2516 \nz\n\" transform=\"scale(0.015625)\"/>\n     </defs>\n     <use xlink:href=\"#DejaVuSans-30\"/>\n     <use xlink:href=\"#DejaVuSans-2e\" x=\"63.623047\"/>\n     <use xlink:href=\"#DejaVuSans-31\" x=\"95.410156\"/>\n     <use xlink:href=\"#DejaVuSans-33\" x=\"159.033203\"/>\n    </g>\n   </g>\n   <g id=\"text_33\">\n    <!-- 0.033 -->\n    <g style=\"fill: #ffffff\" transform=\"translate(338.204063 87.678594)scale(0.1 -0.1)\">\n     <use xlink:href=\"#DejaVuSans-30\"/>\n     <use xlink:href=\"#DejaVuSans-2e\" x=\"63.623047\"/>\n     <use xlink:href=\"#DejaVuSans-30\" x=\"95.410156\"/>\n     <use xlink:href=\"#DejaVuSans-33\" x=\"159.033203\"/>\n     <use xlink:href=\"#DejaVuSans-33\" x=\"222.65625\"/>\n    </g>\n   </g>\n   <g id=\"text_34\">\n    <!-- 0.12 -->\n    <g style=\"fill: #ffffff\" transform=\"translate(390.665313 87.678594)scale(0.1 -0.1)\">\n     <use xlink:href=\"#DejaVuSans-30\"/>\n     <use xlink:href=\"#DejaVuSans-2e\" x=\"63.623047\"/>\n     <use xlink:href=\"#DejaVuSans-31\" x=\"95.410156\"/>\n     <use xlink:href=\"#DejaVuSans-32\" x=\"159.033203\"/>\n    </g>\n   </g>\n   <g id=\"text_35\">\n    <!-- 0.1 -->\n    <g style=\"fill: #ffffff\" transform=\"translate(443.126563 87.678594)scale(0.1 -0.1)\">\n     <use xlink:href=\"#DejaVuSans-30\"/>\n     <use xlink:href=\"#DejaVuSans-2e\" x=\"63.623047\"/>\n     <use xlink:href=\"#DejaVuSans-31\" x=\"95.410156\"/>\n    </g>\n   </g>\n   <g id=\"text_36\">\n    <!-- -0.074 -->\n    <g style=\"fill: #ffffff\" transform=\"translate(484.240156 87.678594)scale(0.1 -0.1)\">\n     <use xlink:href=\"#DejaVuSans-2d\"/>\n     <use xlink:href=\"#DejaVuSans-30\" x=\"36.083984\"/>\n     <use xlink:href=\"#DejaVuSans-2e\" x=\"99.707031\"/>\n     <use xlink:href=\"#DejaVuSans-30\" x=\"131.494141\"/>\n     <use xlink:href=\"#DejaVuSans-37\" x=\"195.117188\"/>\n     <use xlink:href=\"#DejaVuSans-34\" x=\"258.740234\"/>\n    </g>\n   </g>\n   <g id=\"text_37\">\n    <!-- -0.078 -->\n    <g style=\"fill: #ffffff\" transform=\"translate(90.000156 136.958594)scale(0.1 -0.1)\">\n     <use xlink:href=\"#DejaVuSans-2d\"/>\n     <use xlink:href=\"#DejaVuSans-30\" x=\"36.083984\"/>\n     <use xlink:href=\"#DejaVuSans-2e\" x=\"99.707031\"/>\n     <use xlink:href=\"#DejaVuSans-30\" x=\"131.494141\"/>\n     <use xlink:href=\"#DejaVuSans-37\" x=\"195.117188\"/>\n     <use xlink:href=\"#DejaVuSans-38\" x=\"258.740234\"/>\n    </g>\n   </g>\n   <g id=\"text_38\">\n    <!-- 0.092 -->\n    <g style=\"fill: #ffffff\" transform=\"translate(141.084063 136.958594)scale(0.1 -0.1)\">\n     <use xlink:href=\"#DejaVuSans-30\"/>\n     <use xlink:href=\"#DejaVuSans-2e\" x=\"63.623047\"/>\n     <use xlink:href=\"#DejaVuSans-30\" x=\"95.410156\"/>\n     <use xlink:href=\"#DejaVuSans-39\" x=\"159.033203\"/>\n     <use xlink:href=\"#DejaVuSans-32\" x=\"222.65625\"/>\n    </g>\n   </g>\n   <g id=\"text_39\">\n    <!-- 1 -->\n    <g style=\"fill: #262626\" transform=\"translate(201.496875 136.958594)scale(0.1 -0.1)\">\n     <use xlink:href=\"#DejaVuSans-31\"/>\n    </g>\n   </g>\n   <g id=\"text_40\">\n    <!-- 0.057 -->\n    <g style=\"fill: #ffffff\" transform=\"translate(239.644063 136.958594)scale(0.1 -0.1)\">\n     <defs>\n      <path id=\"DejaVuSans-35\" d=\"M 691 4666 \nL 3169 4666 \nL 3169 4134 \nL 1269 4134 \nL 1269 2991 \nQ 1406 3038 1543 3061 \nQ 1681 3084 1819 3084 \nQ 2600 3084 3056 2656 \nQ 3513 2228 3513 1497 \nQ 3513 744 3044 326 \nQ 2575 -91 1722 -91 \nQ 1428 -91 1123 -41 \nQ 819 9 494 109 \nL 494 744 \nQ 775 591 1075 516 \nQ 1375 441 1709 441 \nQ 2250 441 2565 725 \nQ 2881 1009 2881 1497 \nQ 2881 1984 2565 2268 \nQ 2250 2553 1709 2553 \nQ 1456 2553 1204 2497 \nQ 953 2441 691 2322 \nL 691 4666 \nz\n\" transform=\"scale(0.015625)\"/>\n     </defs>\n     <use xlink:href=\"#DejaVuSans-30\"/>\n     <use xlink:href=\"#DejaVuSans-2e\" x=\"63.623047\"/>\n     <use xlink:href=\"#DejaVuSans-30\" x=\"95.410156\"/>\n     <use xlink:href=\"#DejaVuSans-35\" x=\"159.033203\"/>\n     <use xlink:href=\"#DejaVuSans-37\" x=\"222.65625\"/>\n    </g>\n   </g>\n   <g id=\"text_41\">\n    <!-- 0.13 -->\n    <g style=\"fill: #ffffff\" transform=\"translate(292.105313 136.958594)scale(0.1 -0.1)\">\n     <use xlink:href=\"#DejaVuSans-30\"/>\n     <use xlink:href=\"#DejaVuSans-2e\" x=\"63.623047\"/>\n     <use xlink:href=\"#DejaVuSans-31\" x=\"95.410156\"/>\n     <use xlink:href=\"#DejaVuSans-33\" x=\"159.033203\"/>\n    </g>\n   </g>\n   <g id=\"text_42\">\n    <!-- 0.018 -->\n    <g style=\"fill: #ffffff\" transform=\"translate(338.204063 136.958594)scale(0.1 -0.1)\">\n     <use xlink:href=\"#DejaVuSans-30\"/>\n     <use xlink:href=\"#DejaVuSans-2e\" x=\"63.623047\"/>\n     <use xlink:href=\"#DejaVuSans-30\" x=\"95.410156\"/>\n     <use xlink:href=\"#DejaVuSans-31\" x=\"159.033203\"/>\n     <use xlink:href=\"#DejaVuSans-38\" x=\"222.65625\"/>\n    </g>\n   </g>\n   <g id=\"text_43\">\n    <!-- 0.061 -->\n    <g style=\"fill: #ffffff\" transform=\"translate(387.484063 136.958594)scale(0.1 -0.1)\">\n     <use xlink:href=\"#DejaVuSans-30\"/>\n     <use xlink:href=\"#DejaVuSans-2e\" x=\"63.623047\"/>\n     <use xlink:href=\"#DejaVuSans-30\" x=\"95.410156\"/>\n     <use xlink:href=\"#DejaVuSans-36\" x=\"159.033203\"/>\n     <use xlink:href=\"#DejaVuSans-31\" x=\"222.65625\"/>\n    </g>\n   </g>\n   <g id=\"text_44\">\n    <!-- 0.12 -->\n    <g style=\"fill: #ffffff\" transform=\"translate(439.945313 136.958594)scale(0.1 -0.1)\">\n     <use xlink:href=\"#DejaVuSans-30\"/>\n     <use xlink:href=\"#DejaVuSans-2e\" x=\"63.623047\"/>\n     <use xlink:href=\"#DejaVuSans-31\" x=\"95.410156\"/>\n     <use xlink:href=\"#DejaVuSans-32\" x=\"159.033203\"/>\n    </g>\n   </g>\n   <g id=\"text_45\">\n    <!-- -0.037 -->\n    <g style=\"fill: #ffffff\" transform=\"translate(484.240156 136.958594)scale(0.1 -0.1)\">\n     <use xlink:href=\"#DejaVuSans-2d\"/>\n     <use xlink:href=\"#DejaVuSans-30\" x=\"36.083984\"/>\n     <use xlink:href=\"#DejaVuSans-2e\" x=\"99.707031\"/>\n     <use xlink:href=\"#DejaVuSans-30\" x=\"131.494141\"/>\n     <use xlink:href=\"#DejaVuSans-33\" x=\"195.117188\"/>\n     <use xlink:href=\"#DejaVuSans-37\" x=\"258.740234\"/>\n    </g>\n   </g>\n   <g id=\"text_46\">\n    <!-- -0.24 -->\n    <g style=\"fill: #ffffff\" transform=\"translate(93.181406 186.238594)scale(0.1 -0.1)\">\n     <use xlink:href=\"#DejaVuSans-2d\"/>\n     <use xlink:href=\"#DejaVuSans-30\" x=\"36.083984\"/>\n     <use xlink:href=\"#DejaVuSans-2e\" x=\"99.707031\"/>\n     <use xlink:href=\"#DejaVuSans-32\" x=\"131.494141\"/>\n     <use xlink:href=\"#DejaVuSans-34\" x=\"195.117188\"/>\n    </g>\n   </g>\n   <g id=\"text_47\">\n    <!-- 0.069 -->\n    <g style=\"fill: #ffffff\" transform=\"translate(141.084063 186.238594)scale(0.1 -0.1)\">\n     <use xlink:href=\"#DejaVuSans-30\"/>\n     <use xlink:href=\"#DejaVuSans-2e\" x=\"63.623047\"/>\n     <use xlink:href=\"#DejaVuSans-30\" x=\"95.410156\"/>\n     <use xlink:href=\"#DejaVuSans-36\" x=\"159.033203\"/>\n     <use xlink:href=\"#DejaVuSans-39\" x=\"222.65625\"/>\n    </g>\n   </g>\n   <g id=\"text_48\">\n    <!-- 0.057 -->\n    <g style=\"fill: #ffffff\" transform=\"translate(190.364063 186.238594)scale(0.1 -0.1)\">\n     <use xlink:href=\"#DejaVuSans-30\"/>\n     <use xlink:href=\"#DejaVuSans-2e\" x=\"63.623047\"/>\n     <use xlink:href=\"#DejaVuSans-30\" x=\"95.410156\"/>\n     <use xlink:href=\"#DejaVuSans-35\" x=\"159.033203\"/>\n     <use xlink:href=\"#DejaVuSans-37\" x=\"222.65625\"/>\n    </g>\n   </g>\n   <g id=\"text_49\">\n    <!-- 1 -->\n    <g style=\"fill: #262626\" transform=\"translate(250.776875 186.238594)scale(0.1 -0.1)\">\n     <use xlink:href=\"#DejaVuSans-31\"/>\n    </g>\n   </g>\n   <g id=\"text_50\">\n    <!-- -0.015 -->\n    <g style=\"fill: #ffffff\" transform=\"translate(287.120156 186.238594)scale(0.1 -0.1)\">\n     <use xlink:href=\"#DejaVuSans-2d\"/>\n     <use xlink:href=\"#DejaVuSans-30\" x=\"36.083984\"/>\n     <use xlink:href=\"#DejaVuSans-2e\" x=\"99.707031\"/>\n     <use xlink:href=\"#DejaVuSans-30\" x=\"131.494141\"/>\n     <use xlink:href=\"#DejaVuSans-31\" x=\"195.117188\"/>\n     <use xlink:href=\"#DejaVuSans-35\" x=\"258.740234\"/>\n    </g>\n   </g>\n   <g id=\"text_51\">\n    <!-- 0.052 -->\n    <g style=\"fill: #ffffff\" transform=\"translate(338.204063 186.238594)scale(0.1 -0.1)\">\n     <use xlink:href=\"#DejaVuSans-30\"/>\n     <use xlink:href=\"#DejaVuSans-2e\" x=\"63.623047\"/>\n     <use xlink:href=\"#DejaVuSans-30\" x=\"95.410156\"/>\n     <use xlink:href=\"#DejaVuSans-35\" x=\"159.033203\"/>\n     <use xlink:href=\"#DejaVuSans-32\" x=\"222.65625\"/>\n    </g>\n   </g>\n   <g id=\"text_52\">\n    <!-- 0.0092 -->\n    <g style=\"fill: #ffffff\" transform=\"translate(384.302813 186.238594)scale(0.1 -0.1)\">\n     <use xlink:href=\"#DejaVuSans-30\"/>\n     <use xlink:href=\"#DejaVuSans-2e\" x=\"63.623047\"/>\n     <use xlink:href=\"#DejaVuSans-30\" x=\"95.410156\"/>\n     <use xlink:href=\"#DejaVuSans-30\" x=\"159.033203\"/>\n     <use xlink:href=\"#DejaVuSans-39\" x=\"222.65625\"/>\n     <use xlink:href=\"#DejaVuSans-32\" x=\"286.279297\"/>\n    </g>\n   </g>\n   <g id=\"text_53\">\n    <!-- -0.019 -->\n    <g style=\"fill: #ffffff\" transform=\"translate(434.960156 186.238594)scale(0.1 -0.1)\">\n     <use xlink:href=\"#DejaVuSans-2d\"/>\n     <use xlink:href=\"#DejaVuSans-30\" x=\"36.083984\"/>\n     <use xlink:href=\"#DejaVuSans-2e\" x=\"99.707031\"/>\n     <use xlink:href=\"#DejaVuSans-30\" x=\"131.494141\"/>\n     <use xlink:href=\"#DejaVuSans-31\" x=\"195.117188\"/>\n     <use xlink:href=\"#DejaVuSans-39\" x=\"258.740234\"/>\n    </g>\n   </g>\n   <g id=\"text_54\">\n    <!-- -0.24 -->\n    <g style=\"fill: #ffffff\" transform=\"translate(487.421406 186.238594)scale(0.1 -0.1)\">\n     <use xlink:href=\"#DejaVuSans-2d\"/>\n     <use xlink:href=\"#DejaVuSans-30\" x=\"36.083984\"/>\n     <use xlink:href=\"#DejaVuSans-2e\" x=\"99.707031\"/>\n     <use xlink:href=\"#DejaVuSans-32\" x=\"131.494141\"/>\n     <use xlink:href=\"#DejaVuSans-34\" x=\"195.117188\"/>\n    </g>\n   </g>\n   <g id=\"text_55\">\n    <!-- -0.21 -->\n    <g style=\"fill: #ffffff\" transform=\"translate(93.181406 235.518594)scale(0.1 -0.1)\">\n     <use xlink:href=\"#DejaVuSans-2d\"/>\n     <use xlink:href=\"#DejaVuSans-30\" x=\"36.083984\"/>\n     <use xlink:href=\"#DejaVuSans-2e\" x=\"99.707031\"/>\n     <use xlink:href=\"#DejaVuSans-32\" x=\"131.494141\"/>\n     <use xlink:href=\"#DejaVuSans-31\" x=\"195.117188\"/>\n    </g>\n   </g>\n   <g id=\"text_56\">\n    <!-- 0.13 -->\n    <g style=\"fill: #ffffff\" transform=\"translate(144.265313 235.518594)scale(0.1 -0.1)\">\n     <use xlink:href=\"#DejaVuSans-30\"/>\n     <use xlink:href=\"#DejaVuSans-2e\" x=\"63.623047\"/>\n     <use xlink:href=\"#DejaVuSans-31\" x=\"95.410156\"/>\n     <use xlink:href=\"#DejaVuSans-33\" x=\"159.033203\"/>\n    </g>\n   </g>\n   <g id=\"text_57\">\n    <!-- 0.13 -->\n    <g style=\"fill: #ffffff\" transform=\"translate(193.545313 235.518594)scale(0.1 -0.1)\">\n     <use xlink:href=\"#DejaVuSans-30\"/>\n     <use xlink:href=\"#DejaVuSans-2e\" x=\"63.623047\"/>\n     <use xlink:href=\"#DejaVuSans-31\" x=\"95.410156\"/>\n     <use xlink:href=\"#DejaVuSans-33\" x=\"159.033203\"/>\n    </g>\n   </g>\n   <g id=\"text_58\">\n    <!-- -0.015 -->\n    <g style=\"fill: #ffffff\" transform=\"translate(237.840156 235.518594)scale(0.1 -0.1)\">\n     <use xlink:href=\"#DejaVuSans-2d\"/>\n     <use xlink:href=\"#DejaVuSans-30\" x=\"36.083984\"/>\n     <use xlink:href=\"#DejaVuSans-2e\" x=\"99.707031\"/>\n     <use xlink:href=\"#DejaVuSans-30\" x=\"131.494141\"/>\n     <use xlink:href=\"#DejaVuSans-31\" x=\"195.117188\"/>\n     <use xlink:href=\"#DejaVuSans-35\" x=\"258.740234\"/>\n    </g>\n   </g>\n   <g id=\"text_59\">\n    <!-- 1 -->\n    <g style=\"fill: #262626\" transform=\"translate(300.056875 235.518594)scale(0.1 -0.1)\">\n     <use xlink:href=\"#DejaVuSans-31\"/>\n    </g>\n   </g>\n   <g id=\"text_60\">\n    <!-- -0.014 -->\n    <g style=\"fill: #ffffff\" transform=\"translate(336.400156 235.518594)scale(0.1 -0.1)\">\n     <use xlink:href=\"#DejaVuSans-2d\"/>\n     <use xlink:href=\"#DejaVuSans-30\" x=\"36.083984\"/>\n     <use xlink:href=\"#DejaVuSans-2e\" x=\"99.707031\"/>\n     <use xlink:href=\"#DejaVuSans-30\" x=\"131.494141\"/>\n     <use xlink:href=\"#DejaVuSans-31\" x=\"195.117188\"/>\n     <use xlink:href=\"#DejaVuSans-34\" x=\"258.740234\"/>\n    </g>\n   </g>\n   <g id=\"text_61\">\n    <!-- 0.22 -->\n    <g style=\"fill: #ffffff\" transform=\"translate(390.665313 235.518594)scale(0.1 -0.1)\">\n     <use xlink:href=\"#DejaVuSans-30\"/>\n     <use xlink:href=\"#DejaVuSans-2e\" x=\"63.623047\"/>\n     <use xlink:href=\"#DejaVuSans-32\" x=\"95.410156\"/>\n     <use xlink:href=\"#DejaVuSans-32\" x=\"159.033203\"/>\n    </g>\n   </g>\n   <g id=\"text_62\">\n    <!-- 0.22 -->\n    <g style=\"fill: #ffffff\" transform=\"translate(439.945313 235.518594)scale(0.1 -0.1)\">\n     <use xlink:href=\"#DejaVuSans-30\"/>\n     <use xlink:href=\"#DejaVuSans-2e\" x=\"63.623047\"/>\n     <use xlink:href=\"#DejaVuSans-32\" x=\"95.410156\"/>\n     <use xlink:href=\"#DejaVuSans-32\" x=\"159.033203\"/>\n    </g>\n   </g>\n   <g id=\"text_63\">\n    <!-- 0.046 -->\n    <g style=\"fill: #ffffff\" transform=\"translate(486.044063 235.518594)scale(0.1 -0.1)\">\n     <use xlink:href=\"#DejaVuSans-30\"/>\n     <use xlink:href=\"#DejaVuSans-2e\" x=\"63.623047\"/>\n     <use xlink:href=\"#DejaVuSans-30\" x=\"95.410156\"/>\n     <use xlink:href=\"#DejaVuSans-34\" x=\"159.033203\"/>\n     <use xlink:href=\"#DejaVuSans-36\" x=\"222.65625\"/>\n    </g>\n   </g>\n   <g id=\"text_64\">\n    <!-- -0.21 -->\n    <g style=\"fill: #ffffff\" transform=\"translate(93.181406 284.798594)scale(0.1 -0.1)\">\n     <use xlink:href=\"#DejaVuSans-2d\"/>\n     <use xlink:href=\"#DejaVuSans-30\" x=\"36.083984\"/>\n     <use xlink:href=\"#DejaVuSans-2e\" x=\"99.707031\"/>\n     <use xlink:href=\"#DejaVuSans-32\" x=\"131.494141\"/>\n     <use xlink:href=\"#DejaVuSans-31\" x=\"195.117188\"/>\n    </g>\n   </g>\n   <g id=\"text_65\">\n    <!-- 0.033 -->\n    <g style=\"fill: #ffffff\" transform=\"translate(141.084063 284.798594)scale(0.1 -0.1)\">\n     <use xlink:href=\"#DejaVuSans-30\"/>\n     <use xlink:href=\"#DejaVuSans-2e\" x=\"63.623047\"/>\n     <use xlink:href=\"#DejaVuSans-30\" x=\"95.410156\"/>\n     <use xlink:href=\"#DejaVuSans-33\" x=\"159.033203\"/>\n     <use xlink:href=\"#DejaVuSans-33\" x=\"222.65625\"/>\n    </g>\n   </g>\n   <g id=\"text_66\">\n    <!-- 0.018 -->\n    <g style=\"fill: #ffffff\" transform=\"translate(190.364063 284.798594)scale(0.1 -0.1)\">\n     <use xlink:href=\"#DejaVuSans-30\"/>\n     <use xlink:href=\"#DejaVuSans-2e\" x=\"63.623047\"/>\n     <use xlink:href=\"#DejaVuSans-30\" x=\"95.410156\"/>\n     <use xlink:href=\"#DejaVuSans-31\" x=\"159.033203\"/>\n     <use xlink:href=\"#DejaVuSans-38\" x=\"222.65625\"/>\n    </g>\n   </g>\n   <g id=\"text_67\">\n    <!-- 0.052 -->\n    <g style=\"fill: #ffffff\" transform=\"translate(239.644063 284.798594)scale(0.1 -0.1)\">\n     <use xlink:href=\"#DejaVuSans-30\"/>\n     <use xlink:href=\"#DejaVuSans-2e\" x=\"63.623047\"/>\n     <use xlink:href=\"#DejaVuSans-30\" x=\"95.410156\"/>\n     <use xlink:href=\"#DejaVuSans-35\" x=\"159.033203\"/>\n     <use xlink:href=\"#DejaVuSans-32\" x=\"222.65625\"/>\n    </g>\n   </g>\n   <g id=\"text_68\">\n    <!-- -0.014 -->\n    <g style=\"fill: #ffffff\" transform=\"translate(287.120156 284.798594)scale(0.1 -0.1)\">\n     <use xlink:href=\"#DejaVuSans-2d\"/>\n     <use xlink:href=\"#DejaVuSans-30\" x=\"36.083984\"/>\n     <use xlink:href=\"#DejaVuSans-2e\" x=\"99.707031\"/>\n     <use xlink:href=\"#DejaVuSans-30\" x=\"131.494141\"/>\n     <use xlink:href=\"#DejaVuSans-31\" x=\"195.117188\"/>\n     <use xlink:href=\"#DejaVuSans-34\" x=\"258.740234\"/>\n    </g>\n   </g>\n   <g id=\"text_69\">\n    <!-- 1 -->\n    <g style=\"fill: #262626\" transform=\"translate(349.336875 284.798594)scale(0.1 -0.1)\">\n     <use xlink:href=\"#DejaVuSans-31\"/>\n    </g>\n   </g>\n   <g id=\"text_70\">\n    <!-- 0.015 -->\n    <g style=\"fill: #ffffff\" transform=\"translate(387.484063 284.798594)scale(0.1 -0.1)\">\n     <use xlink:href=\"#DejaVuSans-30\"/>\n     <use xlink:href=\"#DejaVuSans-2e\" x=\"63.623047\"/>\n     <use xlink:href=\"#DejaVuSans-30\" x=\"95.410156\"/>\n     <use xlink:href=\"#DejaVuSans-31\" x=\"159.033203\"/>\n     <use xlink:href=\"#DejaVuSans-35\" x=\"222.65625\"/>\n    </g>\n   </g>\n   <g id=\"text_71\">\n    <!-- -0.0078 -->\n    <g style=\"fill: #ffffff\" transform=\"translate(431.778906 284.798594)scale(0.1 -0.1)\">\n     <use xlink:href=\"#DejaVuSans-2d\"/>\n     <use xlink:href=\"#DejaVuSans-30\" x=\"36.083984\"/>\n     <use xlink:href=\"#DejaVuSans-2e\" x=\"99.707031\"/>\n     <use xlink:href=\"#DejaVuSans-30\" x=\"131.494141\"/>\n     <use xlink:href=\"#DejaVuSans-30\" x=\"195.117188\"/>\n     <use xlink:href=\"#DejaVuSans-37\" x=\"258.740234\"/>\n     <use xlink:href=\"#DejaVuSans-38\" x=\"322.363281\"/>\n    </g>\n   </g>\n   <g id=\"text_72\">\n    <!-- 0.0094 -->\n    <g style=\"fill: #ffffff\" transform=\"translate(482.862813 284.798594)scale(0.1 -0.1)\">\n     <use xlink:href=\"#DejaVuSans-30\"/>\n     <use xlink:href=\"#DejaVuSans-2e\" x=\"63.623047\"/>\n     <use xlink:href=\"#DejaVuSans-30\" x=\"95.410156\"/>\n     <use xlink:href=\"#DejaVuSans-30\" x=\"159.033203\"/>\n     <use xlink:href=\"#DejaVuSans-39\" x=\"222.65625\"/>\n     <use xlink:href=\"#DejaVuSans-34\" x=\"286.279297\"/>\n    </g>\n   </g>\n   <g id=\"text_73\">\n    <!-- -0.2 -->\n    <g style=\"fill: #ffffff\" transform=\"translate(96.362656 334.078594)scale(0.1 -0.1)\">\n     <use xlink:href=\"#DejaVuSans-2d\"/>\n     <use xlink:href=\"#DejaVuSans-30\" x=\"36.083984\"/>\n     <use xlink:href=\"#DejaVuSans-2e\" x=\"99.707031\"/>\n     <use xlink:href=\"#DejaVuSans-32\" x=\"131.494141\"/>\n    </g>\n   </g>\n   <g id=\"text_74\">\n    <!-- 0.12 -->\n    <g style=\"fill: #ffffff\" transform=\"translate(144.265313 334.078594)scale(0.1 -0.1)\">\n     <use xlink:href=\"#DejaVuSans-30\"/>\n     <use xlink:href=\"#DejaVuSans-2e\" x=\"63.623047\"/>\n     <use xlink:href=\"#DejaVuSans-31\" x=\"95.410156\"/>\n     <use xlink:href=\"#DejaVuSans-32\" x=\"159.033203\"/>\n    </g>\n   </g>\n   <g id=\"text_75\">\n    <!-- 0.061 -->\n    <g style=\"fill: #ffffff\" transform=\"translate(190.364063 334.078594)scale(0.1 -0.1)\">\n     <use xlink:href=\"#DejaVuSans-30\"/>\n     <use xlink:href=\"#DejaVuSans-2e\" x=\"63.623047\"/>\n     <use xlink:href=\"#DejaVuSans-30\" x=\"95.410156\"/>\n     <use xlink:href=\"#DejaVuSans-36\" x=\"159.033203\"/>\n     <use xlink:href=\"#DejaVuSans-31\" x=\"222.65625\"/>\n    </g>\n   </g>\n   <g id=\"text_76\">\n    <!-- 0.0092 -->\n    <g style=\"fill: #ffffff\" transform=\"translate(236.462813 334.078594)scale(0.1 -0.1)\">\n     <use xlink:href=\"#DejaVuSans-30\"/>\n     <use xlink:href=\"#DejaVuSans-2e\" x=\"63.623047\"/>\n     <use xlink:href=\"#DejaVuSans-30\" x=\"95.410156\"/>\n     <use xlink:href=\"#DejaVuSans-30\" x=\"159.033203\"/>\n     <use xlink:href=\"#DejaVuSans-39\" x=\"222.65625\"/>\n     <use xlink:href=\"#DejaVuSans-32\" x=\"286.279297\"/>\n    </g>\n   </g>\n   <g id=\"text_77\">\n    <!-- 0.22 -->\n    <g style=\"fill: #ffffff\" transform=\"translate(292.105313 334.078594)scale(0.1 -0.1)\">\n     <use xlink:href=\"#DejaVuSans-30\"/>\n     <use xlink:href=\"#DejaVuSans-2e\" x=\"63.623047\"/>\n     <use xlink:href=\"#DejaVuSans-32\" x=\"95.410156\"/>\n     <use xlink:href=\"#DejaVuSans-32\" x=\"159.033203\"/>\n    </g>\n   </g>\n   <g id=\"text_78\">\n    <!-- 0.015 -->\n    <g style=\"fill: #ffffff\" transform=\"translate(338.204063 334.078594)scale(0.1 -0.1)\">\n     <use xlink:href=\"#DejaVuSans-30\"/>\n     <use xlink:href=\"#DejaVuSans-2e\" x=\"63.623047\"/>\n     <use xlink:href=\"#DejaVuSans-30\" x=\"95.410156\"/>\n     <use xlink:href=\"#DejaVuSans-31\" x=\"159.033203\"/>\n     <use xlink:href=\"#DejaVuSans-35\" x=\"222.65625\"/>\n    </g>\n   </g>\n   <g id=\"text_79\">\n    <!-- 1 -->\n    <g style=\"fill: #262626\" transform=\"translate(398.616875 334.078594)scale(0.1 -0.1)\">\n     <use xlink:href=\"#DejaVuSans-31\"/>\n    </g>\n   </g>\n   <g id=\"text_80\">\n    <!-- 0.15 -->\n    <g style=\"fill: #ffffff\" transform=\"translate(439.945313 334.078594)scale(0.1 -0.1)\">\n     <use xlink:href=\"#DejaVuSans-30\"/>\n     <use xlink:href=\"#DejaVuSans-2e\" x=\"63.623047\"/>\n     <use xlink:href=\"#DejaVuSans-31\" x=\"95.410156\"/>\n     <use xlink:href=\"#DejaVuSans-35\" x=\"159.033203\"/>\n    </g>\n   </g>\n   <g id=\"text_81\">\n    <!-- -0.22 -->\n    <g style=\"fill: #ffffff\" transform=\"translate(487.421406 334.078594)scale(0.1 -0.1)\">\n     <use xlink:href=\"#DejaVuSans-2d\"/>\n     <use xlink:href=\"#DejaVuSans-30\" x=\"36.083984\"/>\n     <use xlink:href=\"#DejaVuSans-2e\" x=\"99.707031\"/>\n     <use xlink:href=\"#DejaVuSans-32\" x=\"131.494141\"/>\n     <use xlink:href=\"#DejaVuSans-32\" x=\"195.117188\"/>\n    </g>\n   </g>\n   <g id=\"text_82\">\n    <!-- -0.19 -->\n    <g style=\"fill: #ffffff\" transform=\"translate(93.181406 383.358594)scale(0.1 -0.1)\">\n     <use xlink:href=\"#DejaVuSans-2d\"/>\n     <use xlink:href=\"#DejaVuSans-30\" x=\"36.083984\"/>\n     <use xlink:href=\"#DejaVuSans-2e\" x=\"99.707031\"/>\n     <use xlink:href=\"#DejaVuSans-31\" x=\"131.494141\"/>\n     <use xlink:href=\"#DejaVuSans-39\" x=\"195.117188\"/>\n    </g>\n   </g>\n   <g id=\"text_83\">\n    <!-- 0.1 -->\n    <g style=\"fill: #ffffff\" transform=\"translate(147.446563 383.358594)scale(0.1 -0.1)\">\n     <use xlink:href=\"#DejaVuSans-30\"/>\n     <use xlink:href=\"#DejaVuSans-2e\" x=\"63.623047\"/>\n     <use xlink:href=\"#DejaVuSans-31\" x=\"95.410156\"/>\n    </g>\n   </g>\n   <g id=\"text_84\">\n    <!-- 0.12 -->\n    <g style=\"fill: #ffffff\" transform=\"translate(193.545313 383.358594)scale(0.1 -0.1)\">\n     <use xlink:href=\"#DejaVuSans-30\"/>\n     <use xlink:href=\"#DejaVuSans-2e\" x=\"63.623047\"/>\n     <use xlink:href=\"#DejaVuSans-31\" x=\"95.410156\"/>\n     <use xlink:href=\"#DejaVuSans-32\" x=\"159.033203\"/>\n    </g>\n   </g>\n   <g id=\"text_85\">\n    <!-- -0.019 -->\n    <g style=\"fill: #ffffff\" transform=\"translate(237.840156 383.358594)scale(0.1 -0.1)\">\n     <use xlink:href=\"#DejaVuSans-2d\"/>\n     <use xlink:href=\"#DejaVuSans-30\" x=\"36.083984\"/>\n     <use xlink:href=\"#DejaVuSans-2e\" x=\"99.707031\"/>\n     <use xlink:href=\"#DejaVuSans-30\" x=\"131.494141\"/>\n     <use xlink:href=\"#DejaVuSans-31\" x=\"195.117188\"/>\n     <use xlink:href=\"#DejaVuSans-39\" x=\"258.740234\"/>\n    </g>\n   </g>\n   <g id=\"text_86\">\n    <!-- 0.22 -->\n    <g style=\"fill: #ffffff\" transform=\"translate(292.105313 383.358594)scale(0.1 -0.1)\">\n     <use xlink:href=\"#DejaVuSans-30\"/>\n     <use xlink:href=\"#DejaVuSans-2e\" x=\"63.623047\"/>\n     <use xlink:href=\"#DejaVuSans-32\" x=\"95.410156\"/>\n     <use xlink:href=\"#DejaVuSans-32\" x=\"159.033203\"/>\n    </g>\n   </g>\n   <g id=\"text_87\">\n    <!-- -0.0078 -->\n    <g style=\"fill: #ffffff\" transform=\"translate(333.218906 383.358594)scale(0.1 -0.1)\">\n     <use xlink:href=\"#DejaVuSans-2d\"/>\n     <use xlink:href=\"#DejaVuSans-30\" x=\"36.083984\"/>\n     <use xlink:href=\"#DejaVuSans-2e\" x=\"99.707031\"/>\n     <use xlink:href=\"#DejaVuSans-30\" x=\"131.494141\"/>\n     <use xlink:href=\"#DejaVuSans-30\" x=\"195.117188\"/>\n     <use xlink:href=\"#DejaVuSans-37\" x=\"258.740234\"/>\n     <use xlink:href=\"#DejaVuSans-38\" x=\"322.363281\"/>\n    </g>\n   </g>\n   <g id=\"text_88\">\n    <!-- 0.15 -->\n    <g style=\"fill: #ffffff\" transform=\"translate(390.665313 383.358594)scale(0.1 -0.1)\">\n     <use xlink:href=\"#DejaVuSans-30\"/>\n     <use xlink:href=\"#DejaVuSans-2e\" x=\"63.623047\"/>\n     <use xlink:href=\"#DejaVuSans-31\" x=\"95.410156\"/>\n     <use xlink:href=\"#DejaVuSans-35\" x=\"159.033203\"/>\n    </g>\n   </g>\n   <g id=\"text_89\">\n    <!-- 1 -->\n    <g style=\"fill: #262626\" transform=\"translate(447.896875 383.358594)scale(0.1 -0.1)\">\n     <use xlink:href=\"#DejaVuSans-31\"/>\n    </g>\n   </g>\n   <g id=\"text_90\">\n    <!-- -0.2 -->\n    <g style=\"fill: #ffffff\" transform=\"translate(490.602656 383.358594)scale(0.1 -0.1)\">\n     <use xlink:href=\"#DejaVuSans-2d\"/>\n     <use xlink:href=\"#DejaVuSans-30\" x=\"36.083984\"/>\n     <use xlink:href=\"#DejaVuSans-2e\" x=\"99.707031\"/>\n     <use xlink:href=\"#DejaVuSans-32\" x=\"131.494141\"/>\n    </g>\n   </g>\n   <g id=\"text_91\">\n    <!-- 0.46 -->\n    <g style=\"fill: #ffffff\" transform=\"translate(94.985313 432.638594)scale(0.1 -0.1)\">\n     <use xlink:href=\"#DejaVuSans-30\"/>\n     <use xlink:href=\"#DejaVuSans-2e\" x=\"63.623047\"/>\n     <use xlink:href=\"#DejaVuSans-34\" x=\"95.410156\"/>\n     <use xlink:href=\"#DejaVuSans-36\" x=\"159.033203\"/>\n    </g>\n   </g>\n   <g id=\"text_92\">\n    <!-- -0.074 -->\n    <g style=\"fill: #ffffff\" transform=\"translate(139.280156 432.638594)scale(0.1 -0.1)\">\n     <use xlink:href=\"#DejaVuSans-2d\"/>\n     <use xlink:href=\"#DejaVuSans-30\" x=\"36.083984\"/>\n     <use xlink:href=\"#DejaVuSans-2e\" x=\"99.707031\"/>\n     <use xlink:href=\"#DejaVuSans-30\" x=\"131.494141\"/>\n     <use xlink:href=\"#DejaVuSans-37\" x=\"195.117188\"/>\n     <use xlink:href=\"#DejaVuSans-34\" x=\"258.740234\"/>\n    </g>\n   </g>\n   <g id=\"text_93\">\n    <!-- -0.037 -->\n    <g style=\"fill: #ffffff\" transform=\"translate(188.560156 432.638594)scale(0.1 -0.1)\">\n     <use xlink:href=\"#DejaVuSans-2d\"/>\n     <use xlink:href=\"#DejaVuSans-30\" x=\"36.083984\"/>\n     <use xlink:href=\"#DejaVuSans-2e\" x=\"99.707031\"/>\n     <use xlink:href=\"#DejaVuSans-30\" x=\"131.494141\"/>\n     <use xlink:href=\"#DejaVuSans-33\" x=\"195.117188\"/>\n     <use xlink:href=\"#DejaVuSans-37\" x=\"258.740234\"/>\n    </g>\n   </g>\n   <g id=\"text_94\">\n    <!-- -0.24 -->\n    <g style=\"fill: #ffffff\" transform=\"translate(241.021406 432.638594)scale(0.1 -0.1)\">\n     <use xlink:href=\"#DejaVuSans-2d\"/>\n     <use xlink:href=\"#DejaVuSans-30\" x=\"36.083984\"/>\n     <use xlink:href=\"#DejaVuSans-2e\" x=\"99.707031\"/>\n     <use xlink:href=\"#DejaVuSans-32\" x=\"131.494141\"/>\n     <use xlink:href=\"#DejaVuSans-34\" x=\"195.117188\"/>\n    </g>\n   </g>\n   <g id=\"text_95\">\n    <!-- 0.046 -->\n    <g style=\"fill: #ffffff\" transform=\"translate(288.924063 432.638594)scale(0.1 -0.1)\">\n     <use xlink:href=\"#DejaVuSans-30\"/>\n     <use xlink:href=\"#DejaVuSans-2e\" x=\"63.623047\"/>\n     <use xlink:href=\"#DejaVuSans-30\" x=\"95.410156\"/>\n     <use xlink:href=\"#DejaVuSans-34\" x=\"159.033203\"/>\n     <use xlink:href=\"#DejaVuSans-36\" x=\"222.65625\"/>\n    </g>\n   </g>\n   <g id=\"text_96\">\n    <!-- 0.0094 -->\n    <g style=\"fill: #ffffff\" transform=\"translate(335.022813 432.638594)scale(0.1 -0.1)\">\n     <use xlink:href=\"#DejaVuSans-30\"/>\n     <use xlink:href=\"#DejaVuSans-2e\" x=\"63.623047\"/>\n     <use xlink:href=\"#DejaVuSans-30\" x=\"95.410156\"/>\n     <use xlink:href=\"#DejaVuSans-30\" x=\"159.033203\"/>\n     <use xlink:href=\"#DejaVuSans-39\" x=\"222.65625\"/>\n     <use xlink:href=\"#DejaVuSans-34\" x=\"286.279297\"/>\n    </g>\n   </g>\n   <g id=\"text_97\">\n    <!-- -0.22 -->\n    <g style=\"fill: #ffffff\" transform=\"translate(388.861406 432.638594)scale(0.1 -0.1)\">\n     <use xlink:href=\"#DejaVuSans-2d\"/>\n     <use xlink:href=\"#DejaVuSans-30\" x=\"36.083984\"/>\n     <use xlink:href=\"#DejaVuSans-2e\" x=\"99.707031\"/>\n     <use xlink:href=\"#DejaVuSans-32\" x=\"131.494141\"/>\n     <use xlink:href=\"#DejaVuSans-32\" x=\"195.117188\"/>\n    </g>\n   </g>\n   <g id=\"text_98\">\n    <!-- -0.2 -->\n    <g style=\"fill: #ffffff\" transform=\"translate(441.322656 432.638594)scale(0.1 -0.1)\">\n     <use xlink:href=\"#DejaVuSans-2d\"/>\n     <use xlink:href=\"#DejaVuSans-30\" x=\"36.083984\"/>\n     <use xlink:href=\"#DejaVuSans-2e\" x=\"99.707031\"/>\n     <use xlink:href=\"#DejaVuSans-32\" x=\"131.494141\"/>\n    </g>\n   </g>\n   <g id=\"text_99\">\n    <!-- 1 -->\n    <g style=\"fill: #262626\" transform=\"translate(497.176875 432.638594)scale(0.1 -0.1)\">\n     <use xlink:href=\"#DejaVuSans-31\"/>\n    </g>\n   </g>\n  </g>\n  <g id=\"axes_2\">\n   <g id=\"patch_3\">\n    <path d=\"M 552.898125 454.519219 \nL 575.074125 454.519219 \nL 575.074125 10.999219 \nL 552.898125 10.999219 \nz\n\"/>\n   </g>\n   <g id=\"patch_4\">\n    <path clip-path=\"url(#pc14700a758)\" style=\"stroke: #000000; stroke-width: 0.01; stroke-linejoin: miter\"/>\n   </g>\n   <image xlink:href=\"data:image/png;base64,\niVBORw0KGgoAAAANSUhEUgAAAB8AAAJoCAYAAACeFjppAAAC6UlEQVR4nO3d0XEjMRAD0eWaTsL55ylnoffR6ASmhmxAlF3nOz+/f58H8arBfPg9cDje/Ljdt3lv+D1P9NgnHOG+1WMPRy1752s4wn2rUZtwhG7Dde98DUeYcIS9XgmLWm/4up0w4QhaODc/LNweE4LdeW/4hCNMOMKEI3TvfMIRut9Y9Nel6LF3heve+bqd0I3ack7oCtfdXHe7Y18Ue8P3mCDs87w3vCxcdXMtnGMNR+iWzBqO0C0ZfexV4bLdroVzrNsJ3ZLRx+5Y1HrDuznfz9sJ6ag5dNQm3PeZcITdeW/4nlGECUfQmzt01KJ3PuEI63bCup2wqPWGL2qEsHDZnJejxv67gHTUsg3XLZkJR+h2+3JOKEdtjwnAokYIC5c99m7DdUtmUSN0N8c5zzZcVrju5ntMEPaYIHRzvqgR0lFzxi1qveHhbs823H0/0ZJZ1AjdqGnhojnvPibuqd65jppjm/eGd3M+4Qhp4bKbw4f7okbQUXOUhYO/vdcNV918P5MRlIWrbj7hCBf+SUC+efTOFzVCN2r62KvChaMGf7eVjpobPuF6w9ftBB01N3xRI2jhoptr4dzwCUfobr6oESYcofuG6z6jJhyh23DdO7fH/lQbbsIRusce3lyOX9QIE643fMIR9J3vj0p/nwlHmHAEvXlUuEWNsKgRwsJlc94Vrru5/o1i9NgnHKF77Pd53Xy9efTO94wiTDjCfeAP3Cdcb3j32O/ZYwJQjtq6HVAWbg0HWMn0hoeFyz6jJhyh23DdO9fHnhWu+qutCUdIb76ofZ/0YyK6uf66FM35okYIRy177Hu3E9LCZTev3vmOnbBuJ5SFq26ucx499q5w3TufcIQJRygL1918UQNMOMKEI0w4QvfO9b+8/2HDJ1xvePfY1+2EctTCwkU/1SYcodtw3Tvfu53QjdpyTugK171zLVy22yccINxwZ8IBwsJlG677qTbhCN2S2UcqoStct2S0cNGP1H/TYjCPbnSkZQAAAABJRU5ErkJggg==\" id=\"imagee2f42dd44f\" transform=\"scale(1 -1)translate(0 -443.52)\" x=\"552.96\" y=\"-10.8\" width=\"22.32\" height=\"443.52\"/>\n   <g id=\"matplotlib.axis_3\">\n    <g id=\"ytick_10\">\n     <g id=\"line2d_19\">\n      <defs>\n       <path id=\"mf207bc4332\" d=\"M 0 0 \nL 3.5 0 \n\" style=\"stroke: #ffffff; stroke-width: 0.8\"/>\n      </defs>\n      <g>\n       <use xlink:href=\"#mf207bc4332\" x=\"575.074125\" y=\"438.801372\" style=\"fill: #ffffff; stroke: #ffffff; stroke-width: 0.8\"/>\n      </g>\n     </g>\n     <g id=\"text_100\">\n      <!-- −0.2 -->\n      <g style=\"fill: #ffffff\" transform=\"translate(582.074125 442.600591)scale(0.1 -0.1)\">\n       <defs>\n        <path id=\"DejaVuSans-2212\" d=\"M 678 2272 \nL 4684 2272 \nL 4684 1741 \nL 678 1741 \nL 678 2272 \nz\n\" transform=\"scale(0.015625)\"/>\n       </defs>\n       <use xlink:href=\"#DejaVuSans-2212\"/>\n       <use xlink:href=\"#DejaVuSans-30\" x=\"83.789062\"/>\n       <use xlink:href=\"#DejaVuSans-2e\" x=\"147.412109\"/>\n       <use xlink:href=\"#DejaVuSans-32\" x=\"179.199219\"/>\n      </g>\n     </g>\n    </g>\n    <g id=\"ytick_11\">\n     <g id=\"line2d_20\">\n      <g>\n       <use xlink:href=\"#mf207bc4332\" x=\"575.074125\" y=\"367.501013\" style=\"fill: #ffffff; stroke: #ffffff; stroke-width: 0.8\"/>\n      </g>\n     </g>\n     <g id=\"text_101\">\n      <!-- 0.0 -->\n      <g style=\"fill: #ffffff\" transform=\"translate(582.074125 371.300232)scale(0.1 -0.1)\">\n       <use xlink:href=\"#DejaVuSans-30\"/>\n       <use xlink:href=\"#DejaVuSans-2e\" x=\"63.623047\"/>\n       <use xlink:href=\"#DejaVuSans-30\" x=\"95.410156\"/>\n      </g>\n     </g>\n    </g>\n    <g id=\"ytick_12\">\n     <g id=\"line2d_21\">\n      <g>\n       <use xlink:href=\"#mf207bc4332\" x=\"575.074125\" y=\"296.200654\" style=\"fill: #ffffff; stroke: #ffffff; stroke-width: 0.8\"/>\n      </g>\n     </g>\n     <g id=\"text_102\">\n      <!-- 0.2 -->\n      <g style=\"fill: #ffffff\" transform=\"translate(582.074125 299.999873)scale(0.1 -0.1)\">\n       <use xlink:href=\"#DejaVuSans-30\"/>\n       <use xlink:href=\"#DejaVuSans-2e\" x=\"63.623047\"/>\n       <use xlink:href=\"#DejaVuSans-32\" x=\"95.410156\"/>\n      </g>\n     </g>\n    </g>\n    <g id=\"ytick_13\">\n     <g id=\"line2d_22\">\n      <g>\n       <use xlink:href=\"#mf207bc4332\" x=\"575.074125\" y=\"224.900295\" style=\"fill: #ffffff; stroke: #ffffff; stroke-width: 0.8\"/>\n      </g>\n     </g>\n     <g id=\"text_103\">\n      <!-- 0.4 -->\n      <g style=\"fill: #ffffff\" transform=\"translate(582.074125 228.699514)scale(0.1 -0.1)\">\n       <use xlink:href=\"#DejaVuSans-30\"/>\n       <use xlink:href=\"#DejaVuSans-2e\" x=\"63.623047\"/>\n       <use xlink:href=\"#DejaVuSans-34\" x=\"95.410156\"/>\n      </g>\n     </g>\n    </g>\n    <g id=\"ytick_14\">\n     <g id=\"line2d_23\">\n      <g>\n       <use xlink:href=\"#mf207bc4332\" x=\"575.074125\" y=\"153.599937\" style=\"fill: #ffffff; stroke: #ffffff; stroke-width: 0.8\"/>\n      </g>\n     </g>\n     <g id=\"text_104\">\n      <!-- 0.6 -->\n      <g style=\"fill: #ffffff\" transform=\"translate(582.074125 157.399155)scale(0.1 -0.1)\">\n       <use xlink:href=\"#DejaVuSans-30\"/>\n       <use xlink:href=\"#DejaVuSans-2e\" x=\"63.623047\"/>\n       <use xlink:href=\"#DejaVuSans-36\" x=\"95.410156\"/>\n      </g>\n     </g>\n    </g>\n    <g id=\"ytick_15\">\n     <g id=\"line2d_24\">\n      <g>\n       <use xlink:href=\"#mf207bc4332\" x=\"575.074125\" y=\"82.299578\" style=\"fill: #ffffff; stroke: #ffffff; stroke-width: 0.8\"/>\n      </g>\n     </g>\n     <g id=\"text_105\">\n      <!-- 0.8 -->\n      <g style=\"fill: #ffffff\" transform=\"translate(582.074125 86.098796)scale(0.1 -0.1)\">\n       <use xlink:href=\"#DejaVuSans-30\"/>\n       <use xlink:href=\"#DejaVuSans-2e\" x=\"63.623047\"/>\n       <use xlink:href=\"#DejaVuSans-38\" x=\"95.410156\"/>\n      </g>\n     </g>\n    </g>\n    <g id=\"ytick_16\">\n     <g id=\"line2d_25\">\n      <g>\n       <use xlink:href=\"#mf207bc4332\" x=\"575.074125\" y=\"10.999219\" style=\"fill: #ffffff; stroke: #ffffff; stroke-width: 0.8\"/>\n      </g>\n     </g>\n     <g id=\"text_106\">\n      <!-- 1.0 -->\n      <g style=\"fill: #ffffff\" transform=\"translate(582.074125 14.798437)scale(0.1 -0.1)\">\n       <use xlink:href=\"#DejaVuSans-31\"/>\n       <use xlink:href=\"#DejaVuSans-2e\" x=\"63.623047\"/>\n       <use xlink:href=\"#DejaVuSans-30\" x=\"95.410156\"/>\n      </g>\n     </g>\n    </g>\n   </g>\n   <g id=\"LineCollection_1\"/>\n   <g id=\"patch_5\">\n    <path d=\"M 552.898125 454.519219 \nL 563.986125 454.519219 \nL 575.074125 454.519219 \nL 575.074125 10.999219 \nL 563.986125 10.999219 \nL 552.898125 10.999219 \nL 552.898125 454.519219 \nz\n\" style=\"fill: none\"/>\n   </g>\n  </g>\n </g>\n <defs>\n  <clipPath id=\"pe70413f1fa\">\n   <rect x=\"81.478125\" y=\"10.999219\" width=\"443.52\" height=\"443.52\"/>\n  </clipPath>\n  <clipPath id=\"pc14700a758\">\n   <rect x=\"552.898125\" y=\"10.999219\" width=\"22.176\" height=\"443.52\"/>\n  </clipPath>\n </defs>\n</svg>\n",
      "text/plain": [
       "<Figure size 1000x800 with 2 Axes>"
      ]
     },
     "metadata": {},
     "output_type": "display_data"
    }
   ],
   "source": [
    "import seaborn as sns\n",
    "plt.figure(figsize=(10, 8))\n",
    "sns.heatmap(data.corr(), annot=True, square=True)"
   ]
  },
  {
   "cell_type": "code",
   "execution_count": 174,
   "metadata": {},
   "outputs": [],
   "source": [
    "data.to_csv(\"./data/cleaned_data.csv\")"
   ]
  },
  {
   "cell_type": "markdown",
   "metadata": {},
   "source": [
    "## Checking for Outliers"
   ]
  },
  {
   "cell_type": "code",
   "execution_count": 3,
   "metadata": {},
   "outputs": [
    {
     "data": {
      "text/html": [
       "<div>\n",
       "<style scoped>\n",
       "    .dataframe tbody tr th:only-of-type {\n",
       "        vertical-align: middle;\n",
       "    }\n",
       "\n",
       "    .dataframe tbody tr th {\n",
       "        vertical-align: top;\n",
       "    }\n",
       "\n",
       "    .dataframe thead th {\n",
       "        text-align: right;\n",
       "    }\n",
       "</style>\n",
       "<table border=\"1\" class=\"dataframe\">\n",
       "  <thead>\n",
       "    <tr style=\"text-align: right;\">\n",
       "      <th></th>\n",
       "      <th>HomePlanet</th>\n",
       "      <th>CryoSleep</th>\n",
       "      <th>Cabin</th>\n",
       "      <th>Destination</th>\n",
       "      <th>Age</th>\n",
       "      <th>VIP</th>\n",
       "      <th>RoomService</th>\n",
       "      <th>FoodCourt</th>\n",
       "      <th>ShoppingMall</th>\n",
       "      <th>Spa</th>\n",
       "      <th>VRDeck</th>\n",
       "      <th>Transported</th>\n",
       "    </tr>\n",
       "    <tr>\n",
       "      <th>PassengerId</th>\n",
       "      <th></th>\n",
       "      <th></th>\n",
       "      <th></th>\n",
       "      <th></th>\n",
       "      <th></th>\n",
       "      <th></th>\n",
       "      <th></th>\n",
       "      <th></th>\n",
       "      <th></th>\n",
       "      <th></th>\n",
       "      <th></th>\n",
       "      <th></th>\n",
       "    </tr>\n",
       "  </thead>\n",
       "  <tbody>\n",
       "    <tr>\n",
       "      <th>0001_01</th>\n",
       "      <td>Europa</td>\n",
       "      <td>0</td>\n",
       "      <td>B/0/P</td>\n",
       "      <td>TRAPPIST-1e</td>\n",
       "      <td>39.0</td>\n",
       "      <td>0</td>\n",
       "      <td>0.0</td>\n",
       "      <td>0.0</td>\n",
       "      <td>0.0</td>\n",
       "      <td>0.0</td>\n",
       "      <td>0.0</td>\n",
       "      <td>False</td>\n",
       "    </tr>\n",
       "    <tr>\n",
       "      <th>0002_01</th>\n",
       "      <td>Earth</td>\n",
       "      <td>0</td>\n",
       "      <td>F/0/S</td>\n",
       "      <td>TRAPPIST-1e</td>\n",
       "      <td>24.0</td>\n",
       "      <td>0</td>\n",
       "      <td>109.0</td>\n",
       "      <td>9.0</td>\n",
       "      <td>25.0</td>\n",
       "      <td>549.0</td>\n",
       "      <td>44.0</td>\n",
       "      <td>True</td>\n",
       "    </tr>\n",
       "    <tr>\n",
       "      <th>0003_01</th>\n",
       "      <td>Europa</td>\n",
       "      <td>0</td>\n",
       "      <td>A/0/S</td>\n",
       "      <td>TRAPPIST-1e</td>\n",
       "      <td>58.0</td>\n",
       "      <td>1</td>\n",
       "      <td>43.0</td>\n",
       "      <td>3576.0</td>\n",
       "      <td>0.0</td>\n",
       "      <td>6715.0</td>\n",
       "      <td>49.0</td>\n",
       "      <td>False</td>\n",
       "    </tr>\n",
       "    <tr>\n",
       "      <th>0003_02</th>\n",
       "      <td>Europa</td>\n",
       "      <td>0</td>\n",
       "      <td>A/0/S</td>\n",
       "      <td>TRAPPIST-1e</td>\n",
       "      <td>33.0</td>\n",
       "      <td>0</td>\n",
       "      <td>0.0</td>\n",
       "      <td>1283.0</td>\n",
       "      <td>371.0</td>\n",
       "      <td>3329.0</td>\n",
       "      <td>193.0</td>\n",
       "      <td>False</td>\n",
       "    </tr>\n",
       "    <tr>\n",
       "      <th>0004_01</th>\n",
       "      <td>Earth</td>\n",
       "      <td>0</td>\n",
       "      <td>F/1/S</td>\n",
       "      <td>TRAPPIST-1e</td>\n",
       "      <td>16.0</td>\n",
       "      <td>0</td>\n",
       "      <td>303.0</td>\n",
       "      <td>70.0</td>\n",
       "      <td>151.0</td>\n",
       "      <td>565.0</td>\n",
       "      <td>2.0</td>\n",
       "      <td>True</td>\n",
       "    </tr>\n",
       "  </tbody>\n",
       "</table>\n",
       "</div>"
      ],
      "text/plain": [
       "            HomePlanet  CryoSleep  Cabin  Destination   Age  VIP  RoomService  \\\n",
       "PassengerId                                                                     \n",
       "0001_01         Europa          0  B/0/P  TRAPPIST-1e  39.0    0          0.0   \n",
       "0002_01          Earth          0  F/0/S  TRAPPIST-1e  24.0    0        109.0   \n",
       "0003_01         Europa          0  A/0/S  TRAPPIST-1e  58.0    1         43.0   \n",
       "0003_02         Europa          0  A/0/S  TRAPPIST-1e  33.0    0          0.0   \n",
       "0004_01          Earth          0  F/1/S  TRAPPIST-1e  16.0    0        303.0   \n",
       "\n",
       "             FoodCourt  ShoppingMall     Spa  VRDeck  Transported  \n",
       "PassengerId                                                        \n",
       "0001_01            0.0           0.0     0.0     0.0        False  \n",
       "0002_01            9.0          25.0   549.0    44.0         True  \n",
       "0003_01         3576.0           0.0  6715.0    49.0        False  \n",
       "0003_02         1283.0         371.0  3329.0   193.0        False  \n",
       "0004_01           70.0         151.0   565.0     2.0         True  "
      ]
     },
     "execution_count": 3,
     "metadata": {},
     "output_type": "execute_result"
    }
   ],
   "source": [
    "data = pd.read_csv(\"./data/cleaned_data.csv\", index_col=\"PassengerId\")\n",
    "data.head()"
   ]
  },
  {
   "cell_type": "code",
   "execution_count": 7,
   "metadata": {},
   "outputs": [
    {
     "data": {
      "text/plain": [
       "(array([ 591.,  649., 2089., 2155., 1350.,  893.,  536.,  294.,  106.,\n",
       "          30.]),\n",
       " array([ 0. ,  7.9, 15.8, 23.7, 31.6, 39.5, 47.4, 55.3, 63.2, 71.1, 79. ]),\n",
       " <BarContainer object of 10 artists>)"
      ]
     },
     "execution_count": 7,
     "metadata": {},
     "output_type": "execute_result"
    },
    {
     "data": {
      "image/png": "[encoded data removed]",
      "image/svg+xml": "<?xml version=\"1.0\" encoding=\"utf-8\" standalone=\"no\"?>\n<!DOCTYPE svg PUBLIC \"-//W3C//DTD SVG 1.1//EN\"\n  \"http://www.w3.org/Graphics/SVG/1.1/DTD/svg11.dtd\">\n<svg xmlns:xlink=\"http://www.w3.org/1999/xlink\" width=\"403.97pt\" height=\"297.190125pt\" viewBox=\"0 0 403.97 297.190125\" xmlns=\"http://www.w3.org/2000/svg\" version=\"1.1\">\n <metadata>\n  <rdf:RDF xmlns:dc=\"http://purl.org/dc/elements/1.1/\" xmlns:cc=\"http://creativecommons.org/ns#\" xmlns:rdf=\"http://www.w3.org/1999/02/22-rdf-syntax-ns#\">\n   <cc:Work>\n    <dc:type rdf:resource=\"http://purl.org/dc/dcmitype/StillImage\"/>\n    <dc:date>2022-08-27T17:38:55.586872</dc:date>\n    <dc:format>image/svg+xml</dc:format>\n    <dc:creator>\n     <cc:Agent>\n      <dc:title>Matplotlib v3.5.3, https://matplotlib.org/</dc:title>\n     </cc:Agent>\n    </dc:creator>\n   </cc:Work>\n  </rdf:RDF>\n </metadata>\n <defs>\n  <style type=\"text/css\">*{stroke-linejoin: round; stroke-linecap: butt}</style>\n </defs>\n <g id=\"figure_1\">\n  <g id=\"patch_1\">\n   <path d=\"M 0 297.190125 \nL 403.97 297.190125 \nL 403.97 0 \nL 0 0 \nz\n\"/>\n  </g>\n  <g id=\"axes_1\">\n   <g id=\"patch_2\">\n    <path d=\"M 39.65 273.312 \nL 396.77 273.312 \nL 396.77 7.2 \nL 39.65 7.2 \nz\n\"/>\n   </g>\n   <g id=\"patch_3\">\n    <path d=\"M 55.882727 273.312 \nL 88.348182 273.312 \nL 88.348182 203.807109 \nL 55.882727 203.807109 \nz\n\" clip-path=\"url(#p7416c6832b)\" style=\"fill: #8dd3c7\"/>\n   </g>\n   <g id=\"patch_4\">\n    <path d=\"M 88.348182 273.312 \nL 120.813636 273.312 \nL 120.813636 196.985986 \nL 88.348182 196.985986 \nz\n\" clip-path=\"url(#p7416c6832b)\" style=\"fill: #8dd3c7\"/>\n   </g>\n   <g id=\"patch_5\">\n    <path d=\"M 120.813636 273.312 \nL 153.279091 273.312 \nL 153.279091 27.633968 \nL 120.813636 27.633968 \nz\n\" clip-path=\"url(#p7416c6832b)\" style=\"fill: #8dd3c7\"/>\n   </g>\n   <g id=\"patch_6\">\n    <path d=\"M 153.279091 273.312 \nL 185.744545 273.312 \nL 185.744545 19.872 \nL 153.279091 19.872 \nz\n\" clip-path=\"url(#p7416c6832b)\" style=\"fill: #8dd3c7\"/>\n   </g>\n   <g id=\"patch_7\">\n    <path d=\"M 185.744545 273.312 \nL 218.21 273.312 \nL 218.21 114.544483 \nL 185.744545 114.544483 \nz\n\" clip-path=\"url(#p7416c6832b)\" style=\"fill: #8dd3c7\"/>\n   </g>\n   <g id=\"patch_8\">\n    <path d=\"M 218.21 273.312 \nL 250.675455 273.312 \nL 250.675455 168.290227 \nL 218.21 168.290227 \nz\n\" clip-path=\"url(#p7416c6832b)\" style=\"fill: #8dd3c7\"/>\n   </g>\n   <g id=\"patch_9\">\n    <path d=\"M 250.675455 273.312 \nL 283.140909 273.312 \nL 283.140909 210.275415 \nL 250.675455 210.275415 \nz\n\" clip-path=\"url(#p7416c6832b)\" style=\"fill: #8dd3c7\"/>\n   </g>\n   <g id=\"patch_10\">\n    <path d=\"M 283.140909 273.312 \nL 315.606364 273.312 \nL 315.606364 238.735963 \nL 283.140909 238.735963 \nz\n\" clip-path=\"url(#p7416c6832b)\" style=\"fill: #8dd3c7\"/>\n   </g>\n   <g id=\"patch_11\">\n    <path d=\"M 315.606364 273.312 \nL 348.071818 273.312 \nL 348.071818 260.84581 \nL 315.606364 260.84581 \nz\n\" clip-path=\"url(#p7416c6832b)\" style=\"fill: #8dd3c7\"/>\n   </g>\n   <g id=\"patch_12\">\n    <path d=\"M 348.071818 273.312 \nL 380.537273 273.312 \nL 380.537273 269.783833 \nL 348.071818 269.783833 \nz\n\" clip-path=\"url(#p7416c6832b)\" style=\"fill: #8dd3c7\"/>\n   </g>\n   <g id=\"matplotlib.axis_1\">\n    <g id=\"xtick_1\">\n     <g id=\"line2d_1\">\n      <defs>\n       <path id=\"m66a4eefd91\" d=\"M 0 0 \nL 0 3.5 \n\" style=\"stroke: #ffffff; stroke-width: 0.8\"/>\n      </defs>\n      <g>\n       <use xlink:href=\"#m66a4eefd91\" x=\"55.882727\" y=\"273.312\" style=\"fill: #ffffff; stroke: #ffffff; stroke-width: 0.8\"/>\n      </g>\n     </g>\n     <g id=\"text_1\">\n      <!-- 0 -->\n      <g style=\"fill: #ffffff\" transform=\"translate(52.701477 287.910437)scale(0.1 -0.1)\">\n       <defs>\n        <path id=\"DejaVuSans-30\" d=\"M 2034 4250 \nQ 1547 4250 1301 3770 \nQ 1056 3291 1056 2328 \nQ 1056 1369 1301 889 \nQ 1547 409 2034 409 \nQ 2525 409 2770 889 \nQ 3016 1369 3016 2328 \nQ 3016 3291 2770 3770 \nQ 2525 4250 2034 4250 \nz\nM 2034 4750 \nQ 2819 4750 3233 4129 \nQ 3647 3509 3647 2328 \nQ 3647 1150 3233 529 \nQ 2819 -91 2034 -91 \nQ 1250 -91 836 529 \nQ 422 1150 422 2328 \nQ 422 3509 836 4129 \nQ 1250 4750 2034 4750 \nz\n\" transform=\"scale(0.015625)\"/>\n       </defs>\n       <use xlink:href=\"#DejaVuSans-30\"/>\n      </g>\n     </g>\n    </g>\n    <g id=\"xtick_2\">\n     <g id=\"line2d_2\">\n      <g>\n       <use xlink:href=\"#m66a4eefd91\" x=\"96.978239\" y=\"273.312\" style=\"fill: #ffffff; stroke: #ffffff; stroke-width: 0.8\"/>\n      </g>\n     </g>\n     <g id=\"text_2\">\n      <!-- 10 -->\n      <g style=\"fill: #ffffff\" transform=\"translate(90.615739 287.910437)scale(0.1 -0.1)\">\n       <defs>\n        <path id=\"DejaVuSans-31\" d=\"M 794 531 \nL 1825 531 \nL 1825 4091 \nL 703 3866 \nL 703 4441 \nL 1819 4666 \nL 2450 4666 \nL 2450 531 \nL 3481 531 \nL 3481 0 \nL 794 0 \nL 794 531 \nz\n\" transform=\"scale(0.015625)\"/>\n       </defs>\n       <use xlink:href=\"#DejaVuSans-31\"/>\n       <use xlink:href=\"#DejaVuSans-30\" x=\"63.623047\"/>\n      </g>\n     </g>\n    </g>\n    <g id=\"xtick_3\">\n     <g id=\"line2d_3\">\n      <g>\n       <use xlink:href=\"#m66a4eefd91\" x=\"138.073751\" y=\"273.312\" style=\"fill: #ffffff; stroke: #ffffff; stroke-width: 0.8\"/>\n      </g>\n     </g>\n     <g id=\"text_3\">\n      <!-- 20 -->\n      <g style=\"fill: #ffffff\" transform=\"translate(131.711251 287.910437)scale(0.1 -0.1)\">\n       <defs>\n        <path id=\"DejaVuSans-32\" d=\"M 1228 531 \nL 3431 531 \nL 3431 0 \nL 469 0 \nL 469 531 \nQ 828 903 1448 1529 \nQ 2069 2156 2228 2338 \nQ 2531 2678 2651 2914 \nQ 2772 3150 2772 3378 \nQ 2772 3750 2511 3984 \nQ 2250 4219 1831 4219 \nQ 1534 4219 1204 4116 \nQ 875 4013 500 3803 \nL 500 4441 \nQ 881 4594 1212 4672 \nQ 1544 4750 1819 4750 \nQ 2544 4750 2975 4387 \nQ 3406 4025 3406 3419 \nQ 3406 3131 3298 2873 \nQ 3191 2616 2906 2266 \nQ 2828 2175 2409 1742 \nQ 1991 1309 1228 531 \nz\n\" transform=\"scale(0.015625)\"/>\n       </defs>\n       <use xlink:href=\"#DejaVuSans-32\"/>\n       <use xlink:href=\"#DejaVuSans-30\" x=\"63.623047\"/>\n      </g>\n     </g>\n    </g>\n    <g id=\"xtick_4\">\n     <g id=\"line2d_4\">\n      <g>\n       <use xlink:href=\"#m66a4eefd91\" x=\"179.169264\" y=\"273.312\" style=\"fill: #ffffff; stroke: #ffffff; stroke-width: 0.8\"/>\n      </g>\n     </g>\n     <g id=\"text_4\">\n      <!-- 30 -->\n      <g style=\"fill: #ffffff\" transform=\"translate(172.806764 287.910437)scale(0.1 -0.1)\">\n       <defs>\n        <path id=\"DejaVuSans-33\" d=\"M 2597 2516 \nQ 3050 2419 3304 2112 \nQ 3559 1806 3559 1356 \nQ 3559 666 3084 287 \nQ 2609 -91 1734 -91 \nQ 1441 -91 1130 -33 \nQ 819 25 488 141 \nL 488 750 \nQ 750 597 1062 519 \nQ 1375 441 1716 441 \nQ 2309 441 2620 675 \nQ 2931 909 2931 1356 \nQ 2931 1769 2642 2001 \nQ 2353 2234 1838 2234 \nL 1294 2234 \nL 1294 2753 \nL 1863 2753 \nQ 2328 2753 2575 2939 \nQ 2822 3125 2822 3475 \nQ 2822 3834 2567 4026 \nQ 2313 4219 1838 4219 \nQ 1578 4219 1281 4162 \nQ 984 4106 628 3988 \nL 628 4550 \nQ 988 4650 1302 4700 \nQ 1616 4750 1894 4750 \nQ 2613 4750 3031 4423 \nQ 3450 4097 3450 3541 \nQ 3450 3153 3228 2886 \nQ 3006 2619 2597 2516 \nz\n\" transform=\"scale(0.015625)\"/>\n       </defs>\n       <use xlink:href=\"#DejaVuSans-33\"/>\n       <use xlink:href=\"#DejaVuSans-30\" x=\"63.623047\"/>\n      </g>\n     </g>\n    </g>\n    <g id=\"xtick_5\">\n     <g id=\"line2d_5\">\n      <g>\n       <use xlink:href=\"#m66a4eefd91\" x=\"220.264776\" y=\"273.312\" style=\"fill: #ffffff; stroke: #ffffff; stroke-width: 0.8\"/>\n      </g>\n     </g>\n     <g id=\"text_5\">\n      <!-- 40 -->\n      <g style=\"fill: #ffffff\" transform=\"translate(213.902276 287.910437)scale(0.1 -0.1)\">\n       <defs>\n        <path id=\"DejaVuSans-34\" d=\"M 2419 4116 \nL 825 1625 \nL 2419 1625 \nL 2419 4116 \nz\nM 2253 4666 \nL 3047 4666 \nL 3047 1625 \nL 3713 1625 \nL 3713 1100 \nL 3047 1100 \nL 3047 0 \nL 2419 0 \nL 2419 1100 \nL 313 1100 \nL 313 1709 \nL 2253 4666 \nz\n\" transform=\"scale(0.015625)\"/>\n       </defs>\n       <use xlink:href=\"#DejaVuSans-34\"/>\n       <use xlink:href=\"#DejaVuSans-30\" x=\"63.623047\"/>\n      </g>\n     </g>\n    </g>\n    <g id=\"xtick_6\">\n     <g id=\"line2d_6\">\n      <g>\n       <use xlink:href=\"#m66a4eefd91\" x=\"261.360288\" y=\"273.312\" style=\"fill: #ffffff; stroke: #ffffff; stroke-width: 0.8\"/>\n      </g>\n     </g>\n     <g id=\"text_6\">\n      <!-- 50 -->\n      <g style=\"fill: #ffffff\" transform=\"translate(254.997788 287.910437)scale(0.1 -0.1)\">\n       <defs>\n        <path id=\"DejaVuSans-35\" d=\"M 691 4666 \nL 3169 4666 \nL 3169 4134 \nL 1269 4134 \nL 1269 2991 \nQ 1406 3038 1543 3061 \nQ 1681 3084 1819 3084 \nQ 2600 3084 3056 2656 \nQ 3513 2228 3513 1497 \nQ 3513 744 3044 326 \nQ 2575 -91 1722 -91 \nQ 1428 -91 1123 -41 \nQ 819 9 494 109 \nL 494 744 \nQ 775 591 1075 516 \nQ 1375 441 1709 441 \nQ 2250 441 2565 725 \nQ 2881 1009 2881 1497 \nQ 2881 1984 2565 2268 \nQ 2250 2553 1709 2553 \nQ 1456 2553 1204 2497 \nQ 953 2441 691 2322 \nL 691 4666 \nz\n\" transform=\"scale(0.015625)\"/>\n       </defs>\n       <use xlink:href=\"#DejaVuSans-35\"/>\n       <use xlink:href=\"#DejaVuSans-30\" x=\"63.623047\"/>\n      </g>\n     </g>\n    </g>\n    <g id=\"xtick_7\">\n     <g id=\"line2d_7\">\n      <g>\n       <use xlink:href=\"#m66a4eefd91\" x=\"302.4558\" y=\"273.312\" style=\"fill: #ffffff; stroke: #ffffff; stroke-width: 0.8\"/>\n      </g>\n     </g>\n     <g id=\"text_7\">\n      <!-- 60 -->\n      <g style=\"fill: #ffffff\" transform=\"translate(296.0933 287.910437)scale(0.1 -0.1)\">\n       <defs>\n        <path id=\"DejaVuSans-36\" d=\"M 2113 2584 \nQ 1688 2584 1439 2293 \nQ 1191 2003 1191 1497 \nQ 1191 994 1439 701 \nQ 1688 409 2113 409 \nQ 2538 409 2786 701 \nQ 3034 994 3034 1497 \nQ 3034 2003 2786 2293 \nQ 2538 2584 2113 2584 \nz\nM 3366 4563 \nL 3366 3988 \nQ 3128 4100 2886 4159 \nQ 2644 4219 2406 4219 \nQ 1781 4219 1451 3797 \nQ 1122 3375 1075 2522 \nQ 1259 2794 1537 2939 \nQ 1816 3084 2150 3084 \nQ 2853 3084 3261 2657 \nQ 3669 2231 3669 1497 \nQ 3669 778 3244 343 \nQ 2819 -91 2113 -91 \nQ 1303 -91 875 529 \nQ 447 1150 447 2328 \nQ 447 3434 972 4092 \nQ 1497 4750 2381 4750 \nQ 2619 4750 2861 4703 \nQ 3103 4656 3366 4563 \nz\n\" transform=\"scale(0.015625)\"/>\n       </defs>\n       <use xlink:href=\"#DejaVuSans-36\"/>\n       <use xlink:href=\"#DejaVuSans-30\" x=\"63.623047\"/>\n      </g>\n     </g>\n    </g>\n    <g id=\"xtick_8\">\n     <g id=\"line2d_8\">\n      <g>\n       <use xlink:href=\"#m66a4eefd91\" x=\"343.551312\" y=\"273.312\" style=\"fill: #ffffff; stroke: #ffffff; stroke-width: 0.8\"/>\n      </g>\n     </g>\n     <g id=\"text_8\">\n      <!-- 70 -->\n      <g style=\"fill: #ffffff\" transform=\"translate(337.188812 287.910437)scale(0.1 -0.1)\">\n       <defs>\n        <path id=\"DejaVuSans-37\" d=\"M 525 4666 \nL 3525 4666 \nL 3525 4397 \nL 1831 0 \nL 1172 0 \nL 2766 4134 \nL 525 4134 \nL 525 4666 \nz\n\" transform=\"scale(0.015625)\"/>\n       </defs>\n       <use xlink:href=\"#DejaVuSans-37\"/>\n       <use xlink:href=\"#DejaVuSans-30\" x=\"63.623047\"/>\n      </g>\n     </g>\n    </g>\n    <g id=\"xtick_9\">\n     <g id=\"line2d_9\">\n      <g>\n       <use xlink:href=\"#m66a4eefd91\" x=\"384.646824\" y=\"273.312\" style=\"fill: #ffffff; stroke: #ffffff; stroke-width: 0.8\"/>\n      </g>\n     </g>\n     <g id=\"text_9\">\n      <!-- 80 -->\n      <g style=\"fill: #ffffff\" transform=\"translate(378.284324 287.910437)scale(0.1 -0.1)\">\n       <defs>\n        <path id=\"DejaVuSans-38\" d=\"M 2034 2216 \nQ 1584 2216 1326 1975 \nQ 1069 1734 1069 1313 \nQ 1069 891 1326 650 \nQ 1584 409 2034 409 \nQ 2484 409 2743 651 \nQ 3003 894 3003 1313 \nQ 3003 1734 2745 1975 \nQ 2488 2216 2034 2216 \nz\nM 1403 2484 \nQ 997 2584 770 2862 \nQ 544 3141 544 3541 \nQ 544 4100 942 4425 \nQ 1341 4750 2034 4750 \nQ 2731 4750 3128 4425 \nQ 3525 4100 3525 3541 \nQ 3525 3141 3298 2862 \nQ 3072 2584 2669 2484 \nQ 3125 2378 3379 2068 \nQ 3634 1759 3634 1313 \nQ 3634 634 3220 271 \nQ 2806 -91 2034 -91 \nQ 1263 -91 848 271 \nQ 434 634 434 1313 \nQ 434 1759 690 2068 \nQ 947 2378 1403 2484 \nz\nM 1172 3481 \nQ 1172 3119 1398 2916 \nQ 1625 2713 2034 2713 \nQ 2441 2713 2670 2916 \nQ 2900 3119 2900 3481 \nQ 2900 3844 2670 4047 \nQ 2441 4250 2034 4250 \nQ 1625 4250 1398 4047 \nQ 1172 3844 1172 3481 \nz\n\" transform=\"scale(0.015625)\"/>\n       </defs>\n       <use xlink:href=\"#DejaVuSans-38\"/>\n       <use xlink:href=\"#DejaVuSans-30\" x=\"63.623047\"/>\n      </g>\n     </g>\n    </g>\n   </g>\n   <g id=\"matplotlib.axis_2\">\n    <g id=\"ytick_1\">\n     <g id=\"line2d_10\">\n      <defs>\n       <path id=\"m609b27fa0f\" d=\"M 0 0 \nL -3.5 0 \n\" style=\"stroke: #ffffff; stroke-width: 0.8\"/>\n      </defs>\n      <g>\n       <use xlink:href=\"#m609b27fa0f\" x=\"39.65\" y=\"273.312\" style=\"fill: #ffffff; stroke: #ffffff; stroke-width: 0.8\"/>\n      </g>\n     </g>\n     <g id=\"text_10\">\n      <!-- 0 -->\n      <g style=\"fill: #ffffff\" transform=\"translate(26.2875 277.111219)scale(0.1 -0.1)\">\n       <use xlink:href=\"#DejaVuSans-30\"/>\n      </g>\n     </g>\n    </g>\n    <g id=\"ytick_2\">\n     <g id=\"line2d_11\">\n      <g>\n       <use xlink:href=\"#m609b27fa0f\" x=\"39.65\" y=\"214.509216\" style=\"fill: #ffffff; stroke: #ffffff; stroke-width: 0.8\"/>\n      </g>\n     </g>\n     <g id=\"text_11\">\n      <!-- 500 -->\n      <g style=\"fill: #ffffff\" transform=\"translate(13.5625 218.308435)scale(0.1 -0.1)\">\n       <use xlink:href=\"#DejaVuSans-35\"/>\n       <use xlink:href=\"#DejaVuSans-30\" x=\"63.623047\"/>\n       <use xlink:href=\"#DejaVuSans-30\" x=\"127.246094\"/>\n      </g>\n     </g>\n    </g>\n    <g id=\"ytick_3\">\n     <g id=\"line2d_12\">\n      <g>\n       <use xlink:href=\"#m609b27fa0f\" x=\"39.65\" y=\"155.706432\" style=\"fill: #ffffff; stroke: #ffffff; stroke-width: 0.8\"/>\n      </g>\n     </g>\n     <g id=\"text_12\">\n      <!-- 1000 -->\n      <g style=\"fill: #ffffff\" transform=\"translate(7.2 159.50565)scale(0.1 -0.1)\">\n       <use xlink:href=\"#DejaVuSans-31\"/>\n       <use xlink:href=\"#DejaVuSans-30\" x=\"63.623047\"/>\n       <use xlink:href=\"#DejaVuSans-30\" x=\"127.246094\"/>\n       <use xlink:href=\"#DejaVuSans-30\" x=\"190.869141\"/>\n      </g>\n     </g>\n    </g>\n    <g id=\"ytick_4\">\n     <g id=\"line2d_13\">\n      <g>\n       <use xlink:href=\"#m609b27fa0f\" x=\"39.65\" y=\"96.903647\" style=\"fill: #ffffff; stroke: #ffffff; stroke-width: 0.8\"/>\n      </g>\n     </g>\n     <g id=\"text_13\">\n      <!-- 1500 -->\n      <g style=\"fill: #ffffff\" transform=\"translate(7.2 100.702866)scale(0.1 -0.1)\">\n       <use xlink:href=\"#DejaVuSans-31\"/>\n       <use xlink:href=\"#DejaVuSans-35\" x=\"63.623047\"/>\n       <use xlink:href=\"#DejaVuSans-30\" x=\"127.246094\"/>\n       <use xlink:href=\"#DejaVuSans-30\" x=\"190.869141\"/>\n      </g>\n     </g>\n    </g>\n    <g id=\"ytick_5\">\n     <g id=\"line2d_14\">\n      <g>\n       <use xlink:href=\"#m609b27fa0f\" x=\"39.65\" y=\"38.100863\" style=\"fill: #ffffff; stroke: #ffffff; stroke-width: 0.8\"/>\n      </g>\n     </g>\n     <g id=\"text_14\">\n      <!-- 2000 -->\n      <g style=\"fill: #ffffff\" transform=\"translate(7.2 41.900082)scale(0.1 -0.1)\">\n       <use xlink:href=\"#DejaVuSans-32\"/>\n       <use xlink:href=\"#DejaVuSans-30\" x=\"63.623047\"/>\n       <use xlink:href=\"#DejaVuSans-30\" x=\"127.246094\"/>\n       <use xlink:href=\"#DejaVuSans-30\" x=\"190.869141\"/>\n      </g>\n     </g>\n    </g>\n   </g>\n   <g id=\"patch_13\">\n    <path d=\"M 39.65 273.312 \nL 39.65 7.2 \n\" style=\"fill: none; stroke: #ffffff; stroke-width: 0.8; stroke-linejoin: miter; stroke-linecap: square\"/>\n   </g>\n   <g id=\"patch_14\">\n    <path d=\"M 396.77 273.312 \nL 396.77 7.2 \n\" style=\"fill: none; stroke: #ffffff; stroke-width: 0.8; stroke-linejoin: miter; stroke-linecap: square\"/>\n   </g>\n   <g id=\"patch_15\">\n    <path d=\"M 39.65 273.312 \nL 396.77 273.312 \n\" style=\"fill: none; stroke: #ffffff; stroke-width: 0.8; stroke-linejoin: miter; stroke-linecap: square\"/>\n   </g>\n   <g id=\"patch_16\">\n    <path d=\"M 39.65 7.2 \nL 396.77 7.2 \n\" style=\"fill: none; stroke: #ffffff; stroke-width: 0.8; stroke-linejoin: miter; stroke-linecap: square\"/>\n   </g>\n  </g>\n </g>\n <defs>\n  <clipPath id=\"p7416c6832b\">\n   <rect x=\"39.65\" y=\"7.2\" width=\"357.12\" height=\"266.112\"/>\n  </clipPath>\n </defs>\n</svg>\n",
      "text/plain": [
       "<Figure size 640x480 with 1 Axes>"
      ]
     },
     "metadata": {},
     "output_type": "display_data"
    }
   ],
   "source": [
    "plt.hist(data[\"Age\"], bins=10)"
   ]
  },
  {
   "cell_type": "code",
   "execution_count": 18,
   "metadata": {},
   "outputs": [
    {
     "data": {
      "text/plain": [
       "False    26\n",
       "True     20\n",
       "Name: Transported, dtype: int64"
      ]
     },
     "execution_count": 18,
     "metadata": {},
     "output_type": "execute_result"
    }
   ],
   "source": [
    "data[data[\"Age\"]>=70][\"Transported\"].value_counts()"
   ]
  },
  {
   "cell_type": "code",
   "execution_count": 12,
   "metadata": {},
   "outputs": [
    {
     "data": {
      "text/plain": [
       "True     4378\n",
       "False    4315\n",
       "Name: Transported, dtype: int64"
      ]
     },
     "execution_count": 12,
     "metadata": {},
     "output_type": "execute_result"
    }
   ],
   "source": [
    "data[\"Transported\"].value_counts()"
   ]
  },
  {
   "cell_type": "code",
   "execution_count": 22,
   "metadata": {},
   "outputs": [
    {
     "data": {
      "text/plain": [
       "<AxesSubplot:xlabel='CryoSleep', ylabel='count'>"
      ]
     },
     "execution_count": 22,
     "metadata": {},
     "output_type": "execute_result"
    },
    {
     "data": {
      "image/png": "[encoded data removed]",
      "image/svg+xml": "<?xml version=\"1.0\" encoding=\"utf-8\" standalone=\"no\"?>\n<!DOCTYPE svg PUBLIC \"-//W3C//DTD SVG 1.1//EN\"\n  \"http://www.w3.org/Graphics/SVG/1.1/DTD/svg11.dtd\">\n<svg xmlns:xlink=\"http://www.w3.org/1999/xlink\" width=\"417.648125pt\" height=\"310.86825pt\" viewBox=\"0 0 417.648125 310.86825\" xmlns=\"http://www.w3.org/2000/svg\" version=\"1.1\">\n <metadata>\n  <rdf:RDF xmlns:dc=\"http://purl.org/dc/elements/1.1/\" xmlns:cc=\"http://creativecommons.org/ns#\" xmlns:rdf=\"http://www.w3.org/1999/02/22-rdf-syntax-ns#\">\n   <cc:Work>\n    <dc:type rdf:resource=\"http://purl.org/dc/dcmitype/StillImage\"/>\n    <dc:date>2022-08-27T17:43:17.857676</dc:date>\n    <dc:format>image/svg+xml</dc:format>\n    <dc:creator>\n     <cc:Agent>\n      <dc:title>Matplotlib v3.5.3, https://matplotlib.org/</dc:title>\n     </cc:Agent>\n    </dc:creator>\n   </cc:Work>\n  </rdf:RDF>\n </metadata>\n <defs>\n  <style type=\"text/css\">*{stroke-linejoin: round; stroke-linecap: butt}</style>\n </defs>\n <g id=\"figure_1\">\n  <g id=\"patch_1\">\n   <path d=\"M 0 310.86825 \nL 417.648125 310.86825 \nL 417.648125 0 \nL 0 0 \nz\n\"/>\n  </g>\n  <g id=\"axes_1\">\n   <g id=\"patch_2\">\n    <path d=\"M 53.328125 273.312 \nL 410.448125 273.312 \nL 410.448125 7.2 \nL 53.328125 7.2 \nz\n\"/>\n   </g>\n   <g id=\"patch_3\">\n    <path d=\"M 71.184125 273.312 \nL 214.032125 273.312 \nL 214.032125 19.872 \nL 71.184125 19.872 \nz\n\" clip-path=\"url(#p39c5a7ed33)\" style=\"fill: #96cac1\"/>\n   </g>\n   <g id=\"patch_4\">\n    <path d=\"M 249.744125 273.312 \nL 392.592125 273.312 \nL 392.592125 137.226908 \nL 249.744125 137.226908 \nz\n\" clip-path=\"url(#p39c5a7ed33)\" style=\"fill: #f5f6bc\"/>\n   </g>\n   <g id=\"matplotlib.axis_1\">\n    <g id=\"xtick_1\">\n     <g id=\"line2d_1\">\n      <defs>\n       <path id=\"m6ed7f21285\" d=\"M 0 0 \nL 0 3.5 \n\" style=\"stroke: #ffffff; stroke-width: 0.8\"/>\n      </defs>\n      <g>\n       <use xlink:href=\"#m6ed7f21285\" x=\"142.608125\" y=\"273.312\" style=\"fill: #ffffff; stroke: #ffffff; stroke-width: 0.8\"/>\n      </g>\n     </g>\n     <g id=\"text_1\">\n      <!-- 0 -->\n      <g style=\"fill: #ffffff\" transform=\"translate(139.426875 287.910437)scale(0.1 -0.1)\">\n       <defs>\n        <path id=\"DejaVuSans-30\" d=\"M 2034 4250 \nQ 1547 4250 1301 3770 \nQ 1056 3291 1056 2328 \nQ 1056 1369 1301 889 \nQ 1547 409 2034 409 \nQ 2525 409 2770 889 \nQ 3016 1369 3016 2328 \nQ 3016 3291 2770 3770 \nQ 2525 4250 2034 4250 \nz\nM 2034 4750 \nQ 2819 4750 3233 4129 \nQ 3647 3509 3647 2328 \nQ 3647 1150 3233 529 \nQ 2819 -91 2034 -91 \nQ 1250 -91 836 529 \nQ 422 1150 422 2328 \nQ 422 3509 836 4129 \nQ 1250 4750 2034 4750 \nz\n\" transform=\"scale(0.015625)\"/>\n       </defs>\n       <use xlink:href=\"#DejaVuSans-30\"/>\n      </g>\n     </g>\n    </g>\n    <g id=\"xtick_2\">\n     <g id=\"line2d_2\">\n      <g>\n       <use xlink:href=\"#m6ed7f21285\" x=\"321.168125\" y=\"273.312\" style=\"fill: #ffffff; stroke: #ffffff; stroke-width: 0.8\"/>\n      </g>\n     </g>\n     <g id=\"text_2\">\n      <!-- 1 -->\n      <g style=\"fill: #ffffff\" transform=\"translate(317.986875 287.910437)scale(0.1 -0.1)\">\n       <defs>\n        <path id=\"DejaVuSans-31\" d=\"M 794 531 \nL 1825 531 \nL 1825 4091 \nL 703 3866 \nL 703 4441 \nL 1819 4666 \nL 2450 4666 \nL 2450 531 \nL 3481 531 \nL 3481 0 \nL 794 0 \nL 794 531 \nz\n\" transform=\"scale(0.015625)\"/>\n       </defs>\n       <use xlink:href=\"#DejaVuSans-31\"/>\n      </g>\n     </g>\n    </g>\n    <g id=\"text_3\">\n     <!-- CryoSleep -->\n     <g style=\"fill: #ffffff\" transform=\"translate(206.431875 301.588562)scale(0.1 -0.1)\">\n      <defs>\n       <path id=\"DejaVuSans-43\" d=\"M 4122 4306 \nL 4122 3641 \nQ 3803 3938 3442 4084 \nQ 3081 4231 2675 4231 \nQ 1875 4231 1450 3742 \nQ 1025 3253 1025 2328 \nQ 1025 1406 1450 917 \nQ 1875 428 2675 428 \nQ 3081 428 3442 575 \nQ 3803 722 4122 1019 \nL 4122 359 \nQ 3791 134 3420 21 \nQ 3050 -91 2638 -91 \nQ 1578 -91 968 557 \nQ 359 1206 359 2328 \nQ 359 3453 968 4101 \nQ 1578 4750 2638 4750 \nQ 3056 4750 3426 4639 \nQ 3797 4528 4122 4306 \nz\n\" transform=\"scale(0.015625)\"/>\n       <path id=\"DejaVuSans-72\" d=\"M 2631 2963 \nQ 2534 3019 2420 3045 \nQ 2306 3072 2169 3072 \nQ 1681 3072 1420 2755 \nQ 1159 2438 1159 1844 \nL 1159 0 \nL 581 0 \nL 581 3500 \nL 1159 3500 \nL 1159 2956 \nQ 1341 3275 1631 3429 \nQ 1922 3584 2338 3584 \nQ 2397 3584 2469 3576 \nQ 2541 3569 2628 3553 \nL 2631 2963 \nz\n\" transform=\"scale(0.015625)\"/>\n       <path id=\"DejaVuSans-79\" d=\"M 2059 -325 \nQ 1816 -950 1584 -1140 \nQ 1353 -1331 966 -1331 \nL 506 -1331 \nL 506 -850 \nL 844 -850 \nQ 1081 -850 1212 -737 \nQ 1344 -625 1503 -206 \nL 1606 56 \nL 191 3500 \nL 800 3500 \nL 1894 763 \nL 2988 3500 \nL 3597 3500 \nL 2059 -325 \nz\n\" transform=\"scale(0.015625)\"/>\n       <path id=\"DejaVuSans-6f\" d=\"M 1959 3097 \nQ 1497 3097 1228 2736 \nQ 959 2375 959 1747 \nQ 959 1119 1226 758 \nQ 1494 397 1959 397 \nQ 2419 397 2687 759 \nQ 2956 1122 2956 1747 \nQ 2956 2369 2687 2733 \nQ 2419 3097 1959 3097 \nz\nM 1959 3584 \nQ 2709 3584 3137 3096 \nQ 3566 2609 3566 1747 \nQ 3566 888 3137 398 \nQ 2709 -91 1959 -91 \nQ 1206 -91 779 398 \nQ 353 888 353 1747 \nQ 353 2609 779 3096 \nQ 1206 3584 1959 3584 \nz\n\" transform=\"scale(0.015625)\"/>\n       <path id=\"DejaVuSans-53\" d=\"M 3425 4513 \nL 3425 3897 \nQ 3066 4069 2747 4153 \nQ 2428 4238 2131 4238 \nQ 1616 4238 1336 4038 \nQ 1056 3838 1056 3469 \nQ 1056 3159 1242 3001 \nQ 1428 2844 1947 2747 \nL 2328 2669 \nQ 3034 2534 3370 2195 \nQ 3706 1856 3706 1288 \nQ 3706 609 3251 259 \nQ 2797 -91 1919 -91 \nQ 1588 -91 1214 -16 \nQ 841 59 441 206 \nL 441 856 \nQ 825 641 1194 531 \nQ 1563 422 1919 422 \nQ 2459 422 2753 634 \nQ 3047 847 3047 1241 \nQ 3047 1584 2836 1778 \nQ 2625 1972 2144 2069 \nL 1759 2144 \nQ 1053 2284 737 2584 \nQ 422 2884 422 3419 \nQ 422 4038 858 4394 \nQ 1294 4750 2059 4750 \nQ 2388 4750 2728 4690 \nQ 3069 4631 3425 4513 \nz\n\" transform=\"scale(0.015625)\"/>\n       <path id=\"DejaVuSans-6c\" d=\"M 603 4863 \nL 1178 4863 \nL 1178 0 \nL 603 0 \nL 603 4863 \nz\n\" transform=\"scale(0.015625)\"/>\n       <path id=\"DejaVuSans-65\" d=\"M 3597 1894 \nL 3597 1613 \nL 953 1613 \nQ 991 1019 1311 708 \nQ 1631 397 2203 397 \nQ 2534 397 2845 478 \nQ 3156 559 3463 722 \nL 3463 178 \nQ 3153 47 2828 -22 \nQ 2503 -91 2169 -91 \nQ 1331 -91 842 396 \nQ 353 884 353 1716 \nQ 353 2575 817 3079 \nQ 1281 3584 2069 3584 \nQ 2775 3584 3186 3129 \nQ 3597 2675 3597 1894 \nz\nM 3022 2063 \nQ 3016 2534 2758 2815 \nQ 2500 3097 2075 3097 \nQ 1594 3097 1305 2825 \nQ 1016 2553 972 2059 \nL 3022 2063 \nz\n\" transform=\"scale(0.015625)\"/>\n       <path id=\"DejaVuSans-70\" d=\"M 1159 525 \nL 1159 -1331 \nL 581 -1331 \nL 581 3500 \nL 1159 3500 \nL 1159 2969 \nQ 1341 3281 1617 3432 \nQ 1894 3584 2278 3584 \nQ 2916 3584 3314 3078 \nQ 3713 2572 3713 1747 \nQ 3713 922 3314 415 \nQ 2916 -91 2278 -91 \nQ 1894 -91 1617 61 \nQ 1341 213 1159 525 \nz\nM 3116 1747 \nQ 3116 2381 2855 2742 \nQ 2594 3103 2138 3103 \nQ 1681 3103 1420 2742 \nQ 1159 2381 1159 1747 \nQ 1159 1113 1420 752 \nQ 1681 391 2138 391 \nQ 2594 391 2855 752 \nQ 3116 1113 3116 1747 \nz\n\" transform=\"scale(0.015625)\"/>\n      </defs>\n      <use xlink:href=\"#DejaVuSans-43\"/>\n      <use xlink:href=\"#DejaVuSans-72\" x=\"69.824219\"/>\n      <use xlink:href=\"#DejaVuSans-79\" x=\"110.9375\"/>\n      <use xlink:href=\"#DejaVuSans-6f\" x=\"170.117188\"/>\n      <use xlink:href=\"#DejaVuSans-53\" x=\"231.298828\"/>\n      <use xlink:href=\"#DejaVuSans-6c\" x=\"294.775391\"/>\n      <use xlink:href=\"#DejaVuSans-65\" x=\"322.558594\"/>\n      <use xlink:href=\"#DejaVuSans-65\" x=\"384.082031\"/>\n      <use xlink:href=\"#DejaVuSans-70\" x=\"445.605469\"/>\n     </g>\n    </g>\n   </g>\n   <g id=\"matplotlib.axis_2\">\n    <g id=\"ytick_1\">\n     <g id=\"line2d_3\">\n      <defs>\n       <path id=\"m2b833cfb94\" d=\"M 0 0 \nL -3.5 0 \n\" style=\"stroke: #ffffff; stroke-width: 0.8\"/>\n      </defs>\n      <g>\n       <use xlink:href=\"#m2b833cfb94\" x=\"53.328125\" y=\"273.312\" style=\"fill: #ffffff; stroke: #ffffff; stroke-width: 0.8\"/>\n      </g>\n     </g>\n     <g id=\"text_4\">\n      <!-- 0 -->\n      <g style=\"fill: #ffffff\" transform=\"translate(39.965625 277.111219)scale(0.1 -0.1)\">\n       <use xlink:href=\"#DejaVuSans-30\"/>\n      </g>\n     </g>\n    </g>\n    <g id=\"ytick_2\">\n     <g id=\"line2d_4\">\n      <g>\n       <use xlink:href=\"#m2b833cfb94\" x=\"53.328125\" y=\"228.502948\" style=\"fill: #ffffff; stroke: #ffffff; stroke-width: 0.8\"/>\n      </g>\n     </g>\n     <g id=\"text_5\">\n      <!-- 1000 -->\n      <g style=\"fill: #ffffff\" transform=\"translate(20.878125 232.302166)scale(0.1 -0.1)\">\n       <use xlink:href=\"#DejaVuSans-31\"/>\n       <use xlink:href=\"#DejaVuSans-30\" x=\"63.623047\"/>\n       <use xlink:href=\"#DejaVuSans-30\" x=\"127.246094\"/>\n       <use xlink:href=\"#DejaVuSans-30\" x=\"190.869141\"/>\n      </g>\n     </g>\n    </g>\n    <g id=\"ytick_3\">\n     <g id=\"line2d_5\">\n      <g>\n       <use xlink:href=\"#m2b833cfb94\" x=\"53.328125\" y=\"183.693895\" style=\"fill: #ffffff; stroke: #ffffff; stroke-width: 0.8\"/>\n      </g>\n     </g>\n     <g id=\"text_6\">\n      <!-- 2000 -->\n      <g style=\"fill: #ffffff\" transform=\"translate(20.878125 187.493114)scale(0.1 -0.1)\">\n       <defs>\n        <path id=\"DejaVuSans-32\" d=\"M 1228 531 \nL 3431 531 \nL 3431 0 \nL 469 0 \nL 469 531 \nQ 828 903 1448 1529 \nQ 2069 2156 2228 2338 \nQ 2531 2678 2651 2914 \nQ 2772 3150 2772 3378 \nQ 2772 3750 2511 3984 \nQ 2250 4219 1831 4219 \nQ 1534 4219 1204 4116 \nQ 875 4013 500 3803 \nL 500 4441 \nQ 881 4594 1212 4672 \nQ 1544 4750 1819 4750 \nQ 2544 4750 2975 4387 \nQ 3406 4025 3406 3419 \nQ 3406 3131 3298 2873 \nQ 3191 2616 2906 2266 \nQ 2828 2175 2409 1742 \nQ 1991 1309 1228 531 \nz\n\" transform=\"scale(0.015625)\"/>\n       </defs>\n       <use xlink:href=\"#DejaVuSans-32\"/>\n       <use xlink:href=\"#DejaVuSans-30\" x=\"63.623047\"/>\n       <use xlink:href=\"#DejaVuSans-30\" x=\"127.246094\"/>\n       <use xlink:href=\"#DejaVuSans-30\" x=\"190.869141\"/>\n      </g>\n     </g>\n    </g>\n    <g id=\"ytick_4\">\n     <g id=\"line2d_6\">\n      <g>\n       <use xlink:href=\"#m2b833cfb94\" x=\"53.328125\" y=\"138.884843\" style=\"fill: #ffffff; stroke: #ffffff; stroke-width: 0.8\"/>\n      </g>\n     </g>\n     <g id=\"text_7\">\n      <!-- 3000 -->\n      <g style=\"fill: #ffffff\" transform=\"translate(20.878125 142.684062)scale(0.1 -0.1)\">\n       <defs>\n        <path id=\"DejaVuSans-33\" d=\"M 2597 2516 \nQ 3050 2419 3304 2112 \nQ 3559 1806 3559 1356 \nQ 3559 666 3084 287 \nQ 2609 -91 1734 -91 \nQ 1441 -91 1130 -33 \nQ 819 25 488 141 \nL 488 750 \nQ 750 597 1062 519 \nQ 1375 441 1716 441 \nQ 2309 441 2620 675 \nQ 2931 909 2931 1356 \nQ 2931 1769 2642 2001 \nQ 2353 2234 1838 2234 \nL 1294 2234 \nL 1294 2753 \nL 1863 2753 \nQ 2328 2753 2575 2939 \nQ 2822 3125 2822 3475 \nQ 2822 3834 2567 4026 \nQ 2313 4219 1838 4219 \nQ 1578 4219 1281 4162 \nQ 984 4106 628 3988 \nL 628 4550 \nQ 988 4650 1302 4700 \nQ 1616 4750 1894 4750 \nQ 2613 4750 3031 4423 \nQ 3450 4097 3450 3541 \nQ 3450 3153 3228 2886 \nQ 3006 2619 2597 2516 \nz\n\" transform=\"scale(0.015625)\"/>\n       </defs>\n       <use xlink:href=\"#DejaVuSans-33\"/>\n       <use xlink:href=\"#DejaVuSans-30\" x=\"63.623047\"/>\n       <use xlink:href=\"#DejaVuSans-30\" x=\"127.246094\"/>\n       <use xlink:href=\"#DejaVuSans-30\" x=\"190.869141\"/>\n      </g>\n     </g>\n    </g>\n    <g id=\"ytick_5\">\n     <g id=\"line2d_7\">\n      <g>\n       <use xlink:href=\"#m2b833cfb94\" x=\"53.328125\" y=\"94.075791\" style=\"fill: #ffffff; stroke: #ffffff; stroke-width: 0.8\"/>\n      </g>\n     </g>\n     <g id=\"text_8\">\n      <!-- 4000 -->\n      <g style=\"fill: #ffffff\" transform=\"translate(20.878125 97.875009)scale(0.1 -0.1)\">\n       <defs>\n        <path id=\"DejaVuSans-34\" d=\"M 2419 4116 \nL 825 1625 \nL 2419 1625 \nL 2419 4116 \nz\nM 2253 4666 \nL 3047 4666 \nL 3047 1625 \nL 3713 1625 \nL 3713 1100 \nL 3047 1100 \nL 3047 0 \nL 2419 0 \nL 2419 1100 \nL 313 1100 \nL 313 1709 \nL 2253 4666 \nz\n\" transform=\"scale(0.015625)\"/>\n       </defs>\n       <use xlink:href=\"#DejaVuSans-34\"/>\n       <use xlink:href=\"#DejaVuSans-30\" x=\"63.623047\"/>\n       <use xlink:href=\"#DejaVuSans-30\" x=\"127.246094\"/>\n       <use xlink:href=\"#DejaVuSans-30\" x=\"190.869141\"/>\n      </g>\n     </g>\n    </g>\n    <g id=\"ytick_6\">\n     <g id=\"line2d_8\">\n      <g>\n       <use xlink:href=\"#m2b833cfb94\" x=\"53.328125\" y=\"49.266738\" style=\"fill: #ffffff; stroke: #ffffff; stroke-width: 0.8\"/>\n      </g>\n     </g>\n     <g id=\"text_9\">\n      <!-- 5000 -->\n      <g style=\"fill: #ffffff\" transform=\"translate(20.878125 53.065957)scale(0.1 -0.1)\">\n       <defs>\n        <path id=\"DejaVuSans-35\" d=\"M 691 4666 \nL 3169 4666 \nL 3169 4134 \nL 1269 4134 \nL 1269 2991 \nQ 1406 3038 1543 3061 \nQ 1681 3084 1819 3084 \nQ 2600 3084 3056 2656 \nQ 3513 2228 3513 1497 \nQ 3513 744 3044 326 \nQ 2575 -91 1722 -91 \nQ 1428 -91 1123 -41 \nQ 819 9 494 109 \nL 494 744 \nQ 775 591 1075 516 \nQ 1375 441 1709 441 \nQ 2250 441 2565 725 \nQ 2881 1009 2881 1497 \nQ 2881 1984 2565 2268 \nQ 2250 2553 1709 2553 \nQ 1456 2553 1204 2497 \nQ 953 2441 691 2322 \nL 691 4666 \nz\n\" transform=\"scale(0.015625)\"/>\n       </defs>\n       <use xlink:href=\"#DejaVuSans-35\"/>\n       <use xlink:href=\"#DejaVuSans-30\" x=\"63.623047\"/>\n       <use xlink:href=\"#DejaVuSans-30\" x=\"127.246094\"/>\n       <use xlink:href=\"#DejaVuSans-30\" x=\"190.869141\"/>\n      </g>\n     </g>\n    </g>\n    <g id=\"text_10\">\n     <!-- count -->\n     <g style=\"fill: #ffffff\" transform=\"translate(14.798438 154.36225)rotate(-90)scale(0.1 -0.1)\">\n      <defs>\n       <path id=\"DejaVuSans-63\" d=\"M 3122 3366 \nL 3122 2828 \nQ 2878 2963 2633 3030 \nQ 2388 3097 2138 3097 \nQ 1578 3097 1268 2742 \nQ 959 2388 959 1747 \nQ 959 1106 1268 751 \nQ 1578 397 2138 397 \nQ 2388 397 2633 464 \nQ 2878 531 3122 666 \nL 3122 134 \nQ 2881 22 2623 -34 \nQ 2366 -91 2075 -91 \nQ 1284 -91 818 406 \nQ 353 903 353 1747 \nQ 353 2603 823 3093 \nQ 1294 3584 2113 3584 \nQ 2378 3584 2631 3529 \nQ 2884 3475 3122 3366 \nz\n\" transform=\"scale(0.015625)\"/>\n       <path id=\"DejaVuSans-75\" d=\"M 544 1381 \nL 544 3500 \nL 1119 3500 \nL 1119 1403 \nQ 1119 906 1312 657 \nQ 1506 409 1894 409 \nQ 2359 409 2629 706 \nQ 2900 1003 2900 1516 \nL 2900 3500 \nL 3475 3500 \nL 3475 0 \nL 2900 0 \nL 2900 538 \nQ 2691 219 2414 64 \nQ 2138 -91 1772 -91 \nQ 1169 -91 856 284 \nQ 544 659 544 1381 \nz\nM 1991 3584 \nL 1991 3584 \nz\n\" transform=\"scale(0.015625)\"/>\n       <path id=\"DejaVuSans-6e\" d=\"M 3513 2113 \nL 3513 0 \nL 2938 0 \nL 2938 2094 \nQ 2938 2591 2744 2837 \nQ 2550 3084 2163 3084 \nQ 1697 3084 1428 2787 \nQ 1159 2491 1159 1978 \nL 1159 0 \nL 581 0 \nL 581 3500 \nL 1159 3500 \nL 1159 2956 \nQ 1366 3272 1645 3428 \nQ 1925 3584 2291 3584 \nQ 2894 3584 3203 3211 \nQ 3513 2838 3513 2113 \nz\n\" transform=\"scale(0.015625)\"/>\n       <path id=\"DejaVuSans-74\" d=\"M 1172 4494 \nL 1172 3500 \nL 2356 3500 \nL 2356 3053 \nL 1172 3053 \nL 1172 1153 \nQ 1172 725 1289 603 \nQ 1406 481 1766 481 \nL 2356 481 \nL 2356 0 \nL 1766 0 \nQ 1100 0 847 248 \nQ 594 497 594 1153 \nL 594 3053 \nL 172 3053 \nL 172 3500 \nL 594 3500 \nL 594 4494 \nL 1172 4494 \nz\n\" transform=\"scale(0.015625)\"/>\n      </defs>\n      <use xlink:href=\"#DejaVuSans-63\"/>\n      <use xlink:href=\"#DejaVuSans-6f\" x=\"54.980469\"/>\n      <use xlink:href=\"#DejaVuSans-75\" x=\"116.162109\"/>\n      <use xlink:href=\"#DejaVuSans-6e\" x=\"179.541016\"/>\n      <use xlink:href=\"#DejaVuSans-74\" x=\"242.919922\"/>\n     </g>\n    </g>\n   </g>\n   <g id=\"patch_5\">\n    <path d=\"M 53.328125 273.312 \nL 53.328125 7.2 \n\" style=\"fill: none; stroke: #ffffff; stroke-width: 0.8; stroke-linejoin: miter; stroke-linecap: square\"/>\n   </g>\n   <g id=\"patch_6\">\n    <path d=\"M 410.448125 273.312 \nL 410.448125 7.2 \n\" style=\"fill: none; stroke: #ffffff; stroke-width: 0.8; stroke-linejoin: miter; stroke-linecap: square\"/>\n   </g>\n   <g id=\"patch_7\">\n    <path d=\"M 53.328125 273.312 \nL 410.448125 273.312 \n\" style=\"fill: none; stroke: #ffffff; stroke-width: 0.8; stroke-linejoin: miter; stroke-linecap: square\"/>\n   </g>\n   <g id=\"patch_8\">\n    <path d=\"M 53.328125 7.2 \nL 410.448125 7.2 \n\" style=\"fill: none; stroke: #ffffff; stroke-width: 0.8; stroke-linejoin: miter; stroke-linecap: square\"/>\n   </g>\n  </g>\n </g>\n <defs>\n  <clipPath id=\"p39c5a7ed33\">\n   <rect x=\"53.328125\" y=\"7.2\" width=\"357.12\" height=\"266.112\"/>\n  </clipPath>\n </defs>\n</svg>\n",
      "text/plain": [
       "<Figure size 640x480 with 1 Axes>"
      ]
     },
     "metadata": {},
     "output_type": "display_data"
    }
   ],
   "source": [
    "sns.countplot(x=data[\"CryoSleep\"])"
   ]
  },
  {
   "cell_type": "markdown",
   "metadata": {},
   "source": [
    "- Majority of the passengers were not put into Cryo Sleep"
   ]
  },
  {
   "cell_type": "code",
   "execution_count": 24,
   "metadata": {},
   "outputs": [
    {
     "data": {
      "text/html": [
       "<div>\n",
       "<style scoped>\n",
       "    .dataframe tbody tr th:only-of-type {\n",
       "        vertical-align: middle;\n",
       "    }\n",
       "\n",
       "    .dataframe tbody tr th {\n",
       "        vertical-align: top;\n",
       "    }\n",
       "\n",
       "    .dataframe thead th {\n",
       "        text-align: right;\n",
       "    }\n",
       "</style>\n",
       "<table border=\"1\" class=\"dataframe\">\n",
       "  <thead>\n",
       "    <tr style=\"text-align: right;\">\n",
       "      <th></th>\n",
       "      <th>HomePlanet</th>\n",
       "      <th>CryoSleep</th>\n",
       "      <th>Cabin</th>\n",
       "      <th>Destination</th>\n",
       "      <th>Age</th>\n",
       "      <th>VIP</th>\n",
       "      <th>RoomService</th>\n",
       "      <th>FoodCourt</th>\n",
       "      <th>ShoppingMall</th>\n",
       "      <th>Spa</th>\n",
       "      <th>VRDeck</th>\n",
       "      <th>Transported</th>\n",
       "    </tr>\n",
       "    <tr>\n",
       "      <th>PassengerId</th>\n",
       "      <th></th>\n",
       "      <th></th>\n",
       "      <th></th>\n",
       "      <th></th>\n",
       "      <th></th>\n",
       "      <th></th>\n",
       "      <th></th>\n",
       "      <th></th>\n",
       "      <th></th>\n",
       "      <th></th>\n",
       "      <th></th>\n",
       "      <th></th>\n",
       "    </tr>\n",
       "  </thead>\n",
       "  <tbody>\n",
       "    <tr>\n",
       "      <th>0001_01</th>\n",
       "      <td>Europa</td>\n",
       "      <td>0</td>\n",
       "      <td>B/0/P</td>\n",
       "      <td>TRAPPIST-1e</td>\n",
       "      <td>39.0</td>\n",
       "      <td>0</td>\n",
       "      <td>0.0</td>\n",
       "      <td>0.0</td>\n",
       "      <td>0.0</td>\n",
       "      <td>0.0</td>\n",
       "      <td>0.0</td>\n",
       "      <td>False</td>\n",
       "    </tr>\n",
       "    <tr>\n",
       "      <th>0002_01</th>\n",
       "      <td>Earth</td>\n",
       "      <td>0</td>\n",
       "      <td>F/0/S</td>\n",
       "      <td>TRAPPIST-1e</td>\n",
       "      <td>24.0</td>\n",
       "      <td>0</td>\n",
       "      <td>109.0</td>\n",
       "      <td>9.0</td>\n",
       "      <td>25.0</td>\n",
       "      <td>549.0</td>\n",
       "      <td>44.0</td>\n",
       "      <td>True</td>\n",
       "    </tr>\n",
       "    <tr>\n",
       "      <th>0003_01</th>\n",
       "      <td>Europa</td>\n",
       "      <td>0</td>\n",
       "      <td>A/0/S</td>\n",
       "      <td>TRAPPIST-1e</td>\n",
       "      <td>58.0</td>\n",
       "      <td>1</td>\n",
       "      <td>43.0</td>\n",
       "      <td>3576.0</td>\n",
       "      <td>0.0</td>\n",
       "      <td>6715.0</td>\n",
       "      <td>49.0</td>\n",
       "      <td>False</td>\n",
       "    </tr>\n",
       "    <tr>\n",
       "      <th>0003_02</th>\n",
       "      <td>Europa</td>\n",
       "      <td>0</td>\n",
       "      <td>A/0/S</td>\n",
       "      <td>TRAPPIST-1e</td>\n",
       "      <td>33.0</td>\n",
       "      <td>0</td>\n",
       "      <td>0.0</td>\n",
       "      <td>1283.0</td>\n",
       "      <td>371.0</td>\n",
       "      <td>3329.0</td>\n",
       "      <td>193.0</td>\n",
       "      <td>False</td>\n",
       "    </tr>\n",
       "    <tr>\n",
       "      <th>0004_01</th>\n",
       "      <td>Earth</td>\n",
       "      <td>0</td>\n",
       "      <td>F/1/S</td>\n",
       "      <td>TRAPPIST-1e</td>\n",
       "      <td>16.0</td>\n",
       "      <td>0</td>\n",
       "      <td>303.0</td>\n",
       "      <td>70.0</td>\n",
       "      <td>151.0</td>\n",
       "      <td>565.0</td>\n",
       "      <td>2.0</td>\n",
       "      <td>True</td>\n",
       "    </tr>\n",
       "  </tbody>\n",
       "</table>\n",
       "</div>"
      ],
      "text/plain": [
       "            HomePlanet  CryoSleep  Cabin  Destination   Age  VIP  RoomService  \\\n",
       "PassengerId                                                                     \n",
       "0001_01         Europa          0  B/0/P  TRAPPIST-1e  39.0    0          0.0   \n",
       "0002_01          Earth          0  F/0/S  TRAPPIST-1e  24.0    0        109.0   \n",
       "0003_01         Europa          0  A/0/S  TRAPPIST-1e  58.0    1         43.0   \n",
       "0003_02         Europa          0  A/0/S  TRAPPIST-1e  33.0    0          0.0   \n",
       "0004_01          Earth          0  F/1/S  TRAPPIST-1e  16.0    0        303.0   \n",
       "\n",
       "             FoodCourt  ShoppingMall     Spa  VRDeck  Transported  \n",
       "PassengerId                                                        \n",
       "0001_01            0.0           0.0     0.0     0.0        False  \n",
       "0002_01            9.0          25.0   549.0    44.0         True  \n",
       "0003_01         3576.0           0.0  6715.0    49.0        False  \n",
       "0003_02         1283.0         371.0  3329.0   193.0        False  \n",
       "0004_01           70.0         151.0   565.0     2.0         True  "
      ]
     },
     "execution_count": 24,
     "metadata": {},
     "output_type": "execute_result"
    }
   ],
   "source": [
    "data.head()\n"
   ]
  },
  {
   "cell_type": "code",
   "execution_count": 26,
   "metadata": {},
   "outputs": [
    {
     "data": {
      "text/plain": [
       "<AxesSubplot:xlabel='Transported', ylabel='Age'>"
      ]
     },
     "execution_count": 26,
     "metadata": {},
     "output_type": "execute_result"
    },
    {
     "data": {
      "image/png": "[encoded data removed]",
      "image/svg+xml": "<?xml version=\"1.0\" encoding=\"utf-8\" standalone=\"no\"?>\n<!DOCTYPE svg PUBLIC \"-//W3C//DTD SVG 1.1//EN\"\n  \"http://www.w3.org/Graphics/SVG/1.1/DTD/svg11.dtd\">\n<svg xmlns:xlink=\"http://www.w3.org/1999/xlink\" width=\"402.904375pt\" height=\"309.802625pt\" viewBox=\"0 0 402.904375 309.802625\" xmlns=\"http://www.w3.org/2000/svg\" version=\"1.1\">\n <metadata>\n  <rdf:RDF xmlns:dc=\"http://purl.org/dc/elements/1.1/\" xmlns:cc=\"http://creativecommons.org/ns#\" xmlns:rdf=\"http://www.w3.org/1999/02/22-rdf-syntax-ns#\">\n   <cc:Work>\n    <dc:type rdf:resource=\"http://purl.org/dc/dcmitype/StillImage\"/>\n    <dc:date>2022-08-27T17:46:34.813006</dc:date>\n    <dc:format>image/svg+xml</dc:format>\n    <dc:creator>\n     <cc:Agent>\n      <dc:title>Matplotlib v3.5.3, https://matplotlib.org/</dc:title>\n     </cc:Agent>\n    </dc:creator>\n   </cc:Work>\n  </rdf:RDF>\n </metadata>\n <defs>\n  <style type=\"text/css\">*{stroke-linejoin: round; stroke-linecap: butt}</style>\n </defs>\n <g id=\"figure_1\">\n  <g id=\"patch_1\">\n   <path d=\"M 0 309.802625 \nL 402.904375 309.802625 \nL 402.904375 0 \nL 0 0 \nz\n\" style=\"fill: #ffffff\"/>\n  </g>\n  <g id=\"axes_1\">\n   <g id=\"patch_2\">\n    <path d=\"M 38.584375 273.312 \nL 395.704375 273.312 \nL 395.704375 7.2 \nL 38.584375 7.2 \nz\n\" style=\"fill: #eaeaf2\"/>\n   </g>\n   <g id=\"matplotlib.axis_1\">\n    <g id=\"xtick_1\">\n     <g id=\"text_1\">\n      <!-- False -->\n      <g style=\"fill: #262626\" transform=\"translate(115.638594 287.469812)scale(0.1 -0.1)\">\n       <defs>\n        <path id=\"ArialMT-46\" d=\"M 525 0 \nL 525 4581 \nL 3616 4581 \nL 3616 4041 \nL 1131 4041 \nL 1131 2622 \nL 3281 2622 \nL 3281 2081 \nL 1131 2081 \nL 1131 0 \nL 525 0 \nz\n\" transform=\"scale(0.015625)\"/>\n        <path id=\"ArialMT-61\" d=\"M 2588 409 \nQ 2275 144 1986 34 \nQ 1697 -75 1366 -75 \nQ 819 -75 525 192 \nQ 231 459 231 875 \nQ 231 1119 342 1320 \nQ 453 1522 633 1644 \nQ 813 1766 1038 1828 \nQ 1203 1872 1538 1913 \nQ 2219 1994 2541 2106 \nQ 2544 2222 2544 2253 \nQ 2544 2597 2384 2738 \nQ 2169 2928 1744 2928 \nQ 1347 2928 1158 2789 \nQ 969 2650 878 2297 \nL 328 2372 \nQ 403 2725 575 2942 \nQ 747 3159 1072 3276 \nQ 1397 3394 1825 3394 \nQ 2250 3394 2515 3294 \nQ 2781 3194 2906 3042 \nQ 3031 2891 3081 2659 \nQ 3109 2516 3109 2141 \nL 3109 1391 \nQ 3109 606 3145 398 \nQ 3181 191 3288 0 \nL 2700 0 \nQ 2613 175 2588 409 \nz\nM 2541 1666 \nQ 2234 1541 1622 1453 \nQ 1275 1403 1131 1340 \nQ 988 1278 909 1158 \nQ 831 1038 831 891 \nQ 831 666 1001 516 \nQ 1172 366 1500 366 \nQ 1825 366 2078 508 \nQ 2331 650 2450 897 \nQ 2541 1088 2541 1459 \nL 2541 1666 \nz\n\" transform=\"scale(0.015625)\"/>\n        <path id=\"ArialMT-6c\" d=\"M 409 0 \nL 409 4581 \nL 972 4581 \nL 972 0 \nL 409 0 \nz\n\" transform=\"scale(0.015625)\"/>\n        <path id=\"ArialMT-73\" d=\"M 197 991 \nL 753 1078 \nQ 800 744 1014 566 \nQ 1228 388 1613 388 \nQ 2000 388 2187 545 \nQ 2375 703 2375 916 \nQ 2375 1106 2209 1216 \nQ 2094 1291 1634 1406 \nQ 1016 1563 777 1677 \nQ 538 1791 414 1992 \nQ 291 2194 291 2438 \nQ 291 2659 392 2848 \nQ 494 3038 669 3163 \nQ 800 3259 1026 3326 \nQ 1253 3394 1513 3394 \nQ 1903 3394 2198 3281 \nQ 2494 3169 2634 2976 \nQ 2775 2784 2828 2463 \nL 2278 2388 \nQ 2241 2644 2061 2787 \nQ 1881 2931 1553 2931 \nQ 1166 2931 1000 2803 \nQ 834 2675 834 2503 \nQ 834 2394 903 2306 \nQ 972 2216 1119 2156 \nQ 1203 2125 1616 2013 \nQ 2213 1853 2448 1751 \nQ 2684 1650 2818 1456 \nQ 2953 1263 2953 975 \nQ 2953 694 2789 445 \nQ 2625 197 2315 61 \nQ 2006 -75 1616 -75 \nQ 969 -75 630 194 \nQ 291 463 197 991 \nz\n\" transform=\"scale(0.015625)\"/>\n        <path id=\"ArialMT-65\" d=\"M 2694 1069 \nL 3275 997 \nQ 3138 488 2766 206 \nQ 2394 -75 1816 -75 \nQ 1088 -75 661 373 \nQ 234 822 234 1631 \nQ 234 2469 665 2931 \nQ 1097 3394 1784 3394 \nQ 2450 3394 2872 2941 \nQ 3294 2488 3294 1666 \nQ 3294 1616 3291 1516 \nL 816 1516 \nQ 847 969 1125 678 \nQ 1403 388 1819 388 \nQ 2128 388 2347 550 \nQ 2566 713 2694 1069 \nz\nM 847 1978 \nL 2700 1978 \nQ 2663 2397 2488 2606 \nQ 2219 2931 1791 2931 \nQ 1403 2931 1139 2672 \nQ 875 2413 847 1978 \nz\n\" transform=\"scale(0.015625)\"/>\n       </defs>\n       <use xlink:href=\"#ArialMT-46\"/>\n       <use xlink:href=\"#ArialMT-61\" x=\"61.083984\"/>\n       <use xlink:href=\"#ArialMT-6c\" x=\"116.699219\"/>\n       <use xlink:href=\"#ArialMT-73\" x=\"138.916016\"/>\n       <use xlink:href=\"#ArialMT-65\" x=\"188.916016\"/>\n      </g>\n     </g>\n    </g>\n    <g id=\"xtick_2\">\n     <g id=\"text_2\">\n      <!-- True -->\n      <g style=\"fill: #262626\" transform=\"translate(296.332187 287.469812)scale(0.1 -0.1)\">\n       <defs>\n        <path id=\"ArialMT-54\" d=\"M 1659 0 \nL 1659 4041 \nL 150 4041 \nL 150 4581 \nL 3781 4581 \nL 3781 4041 \nL 2266 4041 \nL 2266 0 \nL 1659 0 \nz\n\" transform=\"scale(0.015625)\"/>\n        <path id=\"ArialMT-72\" d=\"M 416 0 \nL 416 3319 \nL 922 3319 \nL 922 2816 \nQ 1116 3169 1280 3281 \nQ 1444 3394 1641 3394 \nQ 1925 3394 2219 3213 \nL 2025 2691 \nQ 1819 2813 1613 2813 \nQ 1428 2813 1281 2702 \nQ 1134 2591 1072 2394 \nQ 978 2094 978 1738 \nL 978 0 \nL 416 0 \nz\n\" transform=\"scale(0.015625)\"/>\n        <path id=\"ArialMT-75\" d=\"M 2597 0 \nL 2597 488 \nQ 2209 -75 1544 -75 \nQ 1250 -75 995 37 \nQ 741 150 617 320 \nQ 494 491 444 738 \nQ 409 903 409 1263 \nL 409 3319 \nL 972 3319 \nL 972 1478 \nQ 972 1038 1006 884 \nQ 1059 663 1231 536 \nQ 1403 409 1656 409 \nQ 1909 409 2131 539 \nQ 2353 669 2445 892 \nQ 2538 1116 2538 1541 \nL 2538 3319 \nL 3100 3319 \nL 3100 0 \nL 2597 0 \nz\n\" transform=\"scale(0.015625)\"/>\n       </defs>\n       <use xlink:href=\"#ArialMT-54\"/>\n       <use xlink:href=\"#ArialMT-72\" x=\"57.333984\"/>\n       <use xlink:href=\"#ArialMT-75\" x=\"90.634766\"/>\n       <use xlink:href=\"#ArialMT-65\" x=\"146.25\"/>\n      </g>\n     </g>\n    </g>\n    <g id=\"text_3\">\n     <!-- Transported -->\n     <g style=\"fill: #262626\" transform=\"translate(190.376406 300.615125)scale(0.1 -0.1)\">\n      <defs>\n       <path id=\"ArialMT-6e\" d=\"M 422 0 \nL 422 3319 \nL 928 3319 \nL 928 2847 \nQ 1294 3394 1984 3394 \nQ 2284 3394 2536 3286 \nQ 2788 3178 2913 3003 \nQ 3038 2828 3088 2588 \nQ 3119 2431 3119 2041 \nL 3119 0 \nL 2556 0 \nL 2556 2019 \nQ 2556 2363 2490 2533 \nQ 2425 2703 2258 2804 \nQ 2091 2906 1866 2906 \nQ 1506 2906 1245 2678 \nQ 984 2450 984 1813 \nL 984 0 \nL 422 0 \nz\n\" transform=\"scale(0.015625)\"/>\n       <path id=\"ArialMT-70\" d=\"M 422 -1272 \nL 422 3319 \nL 934 3319 \nL 934 2888 \nQ 1116 3141 1344 3267 \nQ 1572 3394 1897 3394 \nQ 2322 3394 2647 3175 \nQ 2972 2956 3137 2557 \nQ 3303 2159 3303 1684 \nQ 3303 1175 3120 767 \nQ 2938 359 2589 142 \nQ 2241 -75 1856 -75 \nQ 1575 -75 1351 44 \nQ 1128 163 984 344 \nL 984 -1272 \nL 422 -1272 \nz\nM 931 1641 \nQ 931 1000 1190 694 \nQ 1450 388 1819 388 \nQ 2194 388 2461 705 \nQ 2728 1022 2728 1688 \nQ 2728 2322 2467 2637 \nQ 2206 2953 1844 2953 \nQ 1484 2953 1207 2617 \nQ 931 2281 931 1641 \nz\n\" transform=\"scale(0.015625)\"/>\n       <path id=\"ArialMT-6f\" d=\"M 213 1659 \nQ 213 2581 725 3025 \nQ 1153 3394 1769 3394 \nQ 2453 3394 2887 2945 \nQ 3322 2497 3322 1706 \nQ 3322 1066 3130 698 \nQ 2938 331 2570 128 \nQ 2203 -75 1769 -75 \nQ 1072 -75 642 372 \nQ 213 819 213 1659 \nz\nM 791 1659 \nQ 791 1022 1069 705 \nQ 1347 388 1769 388 \nQ 2188 388 2466 706 \nQ 2744 1025 2744 1678 \nQ 2744 2294 2464 2611 \nQ 2184 2928 1769 2928 \nQ 1347 2928 1069 2612 \nQ 791 2297 791 1659 \nz\n\" transform=\"scale(0.015625)\"/>\n       <path id=\"ArialMT-74\" d=\"M 1650 503 \nL 1731 6 \nQ 1494 -44 1306 -44 \nQ 1000 -44 831 53 \nQ 663 150 594 308 \nQ 525 466 525 972 \nL 525 2881 \nL 113 2881 \nL 113 3319 \nL 525 3319 \nL 525 4141 \nL 1084 4478 \nL 1084 3319 \nL 1650 3319 \nL 1650 2881 \nL 1084 2881 \nL 1084 941 \nQ 1084 700 1114 631 \nQ 1144 563 1211 522 \nQ 1278 481 1403 481 \nQ 1497 481 1650 503 \nz\n\" transform=\"scale(0.015625)\"/>\n       <path id=\"ArialMT-64\" d=\"M 2575 0 \nL 2575 419 \nQ 2259 -75 1647 -75 \nQ 1250 -75 917 144 \nQ 584 363 401 755 \nQ 219 1147 219 1656 \nQ 219 2153 384 2558 \nQ 550 2963 881 3178 \nQ 1213 3394 1622 3394 \nQ 1922 3394 2156 3267 \nQ 2391 3141 2538 2938 \nL 2538 4581 \nL 3097 4581 \nL 3097 0 \nL 2575 0 \nz\nM 797 1656 \nQ 797 1019 1065 703 \nQ 1334 388 1700 388 \nQ 2069 388 2326 689 \nQ 2584 991 2584 1609 \nQ 2584 2291 2321 2609 \nQ 2059 2928 1675 2928 \nQ 1300 2928 1048 2622 \nQ 797 2316 797 1656 \nz\n\" transform=\"scale(0.015625)\"/>\n      </defs>\n      <use xlink:href=\"#ArialMT-54\"/>\n      <use xlink:href=\"#ArialMT-72\" x=\"57.333984\"/>\n      <use xlink:href=\"#ArialMT-61\" x=\"90.634766\"/>\n      <use xlink:href=\"#ArialMT-6e\" x=\"146.25\"/>\n      <use xlink:href=\"#ArialMT-73\" x=\"201.865234\"/>\n      <use xlink:href=\"#ArialMT-70\" x=\"251.865234\"/>\n      <use xlink:href=\"#ArialMT-6f\" x=\"307.480469\"/>\n      <use xlink:href=\"#ArialMT-72\" x=\"363.095703\"/>\n      <use xlink:href=\"#ArialMT-74\" x=\"396.396484\"/>\n      <use xlink:href=\"#ArialMT-65\" x=\"424.179688\"/>\n      <use xlink:href=\"#ArialMT-64\" x=\"479.794922\"/>\n     </g>\n    </g>\n   </g>\n   <g id=\"matplotlib.axis_2\">\n    <g id=\"ytick_1\">\n     <g id=\"line2d_1\">\n      <path d=\"M 38.584375 261.216 \nL 395.704375 261.216 \n\" clip-path=\"url(#pc38ccb1aab)\" style=\"fill: none; stroke: #ffffff; stroke-width: 0.8; stroke-linecap: round\"/>\n     </g>\n     <g id=\"text_4\">\n      <!-- 0 -->\n      <g style=\"fill: #262626\" transform=\"translate(26.023438 264.794906)scale(0.1 -0.1)\">\n       <defs>\n        <path id=\"ArialMT-30\" d=\"M 266 2259 \nQ 266 3072 433 3567 \nQ 600 4063 929 4331 \nQ 1259 4600 1759 4600 \nQ 2128 4600 2406 4451 \nQ 2684 4303 2865 4023 \nQ 3047 3744 3150 3342 \nQ 3253 2941 3253 2259 \nQ 3253 1453 3087 958 \nQ 2922 463 2592 192 \nQ 2263 -78 1759 -78 \nQ 1097 -78 719 397 \nQ 266 969 266 2259 \nz\nM 844 2259 \nQ 844 1131 1108 757 \nQ 1372 384 1759 384 \nQ 2147 384 2411 759 \nQ 2675 1134 2675 2259 \nQ 2675 3391 2411 3762 \nQ 2147 4134 1753 4134 \nQ 1366 4134 1134 3806 \nQ 844 3388 844 2259 \nz\n\" transform=\"scale(0.015625)\"/>\n       </defs>\n       <use xlink:href=\"#ArialMT-30\"/>\n      </g>\n     </g>\n    </g>\n    <g id=\"ytick_2\">\n     <g id=\"line2d_2\">\n      <path d=\"M 38.584375 230.593215 \nL 395.704375 230.593215 \n\" clip-path=\"url(#pc38ccb1aab)\" style=\"fill: none; stroke: #ffffff; stroke-width: 0.8; stroke-linecap: round\"/>\n     </g>\n     <g id=\"text_5\">\n      <!-- 10 -->\n      <g style=\"fill: #262626\" transform=\"translate(20.4625 234.172121)scale(0.1 -0.1)\">\n       <defs>\n        <path id=\"ArialMT-31\" d=\"M 2384 0 \nL 1822 0 \nL 1822 3584 \nQ 1619 3391 1289 3197 \nQ 959 3003 697 2906 \nL 697 3450 \nQ 1169 3672 1522 3987 \nQ 1875 4303 2022 4600 \nL 2384 4600 \nL 2384 0 \nz\n\" transform=\"scale(0.015625)\"/>\n       </defs>\n       <use xlink:href=\"#ArialMT-31\"/>\n       <use xlink:href=\"#ArialMT-30\" x=\"55.615234\"/>\n      </g>\n     </g>\n    </g>\n    <g id=\"ytick_3\">\n     <g id=\"line2d_3\">\n      <path d=\"M 38.584375 199.97043 \nL 395.704375 199.97043 \n\" clip-path=\"url(#pc38ccb1aab)\" style=\"fill: none; stroke: #ffffff; stroke-width: 0.8; stroke-linecap: round\"/>\n     </g>\n     <g id=\"text_6\">\n      <!-- 20 -->\n      <g style=\"fill: #262626\" transform=\"translate(20.4625 203.549337)scale(0.1 -0.1)\">\n       <defs>\n        <path id=\"ArialMT-32\" d=\"M 3222 541 \nL 3222 0 \nL 194 0 \nQ 188 203 259 391 \nQ 375 700 629 1000 \nQ 884 1300 1366 1694 \nQ 2113 2306 2375 2664 \nQ 2638 3022 2638 3341 \nQ 2638 3675 2398 3904 \nQ 2159 4134 1775 4134 \nQ 1369 4134 1125 3890 \nQ 881 3647 878 3216 \nL 300 3275 \nQ 359 3922 746 4261 \nQ 1134 4600 1788 4600 \nQ 2447 4600 2831 4234 \nQ 3216 3869 3216 3328 \nQ 3216 3053 3103 2787 \nQ 2991 2522 2730 2228 \nQ 2469 1934 1863 1422 \nQ 1356 997 1212 845 \nQ 1069 694 975 541 \nL 3222 541 \nz\n\" transform=\"scale(0.015625)\"/>\n       </defs>\n       <use xlink:href=\"#ArialMT-32\"/>\n       <use xlink:href=\"#ArialMT-30\" x=\"55.615234\"/>\n      </g>\n     </g>\n    </g>\n    <g id=\"ytick_4\">\n     <g id=\"line2d_4\">\n      <path d=\"M 38.584375 169.347646 \nL 395.704375 169.347646 \n\" clip-path=\"url(#pc38ccb1aab)\" style=\"fill: none; stroke: #ffffff; stroke-width: 0.8; stroke-linecap: round\"/>\n     </g>\n     <g id=\"text_7\">\n      <!-- 30 -->\n      <g style=\"fill: #262626\" transform=\"translate(20.4625 172.926552)scale(0.1 -0.1)\">\n       <defs>\n        <path id=\"ArialMT-33\" d=\"M 269 1209 \nL 831 1284 \nQ 928 806 1161 595 \nQ 1394 384 1728 384 \nQ 2125 384 2398 659 \nQ 2672 934 2672 1341 \nQ 2672 1728 2419 1979 \nQ 2166 2231 1775 2231 \nQ 1616 2231 1378 2169 \nL 1441 2663 \nQ 1497 2656 1531 2656 \nQ 1891 2656 2178 2843 \nQ 2466 3031 2466 3422 \nQ 2466 3731 2256 3934 \nQ 2047 4138 1716 4138 \nQ 1388 4138 1169 3931 \nQ 950 3725 888 3313 \nL 325 3413 \nQ 428 3978 793 4289 \nQ 1159 4600 1703 4600 \nQ 2078 4600 2393 4439 \nQ 2709 4278 2876 4000 \nQ 3044 3722 3044 3409 \nQ 3044 3113 2884 2869 \nQ 2725 2625 2413 2481 \nQ 2819 2388 3044 2092 \nQ 3269 1797 3269 1353 \nQ 3269 753 2831 336 \nQ 2394 -81 1725 -81 \nQ 1122 -81 723 278 \nQ 325 638 269 1209 \nz\n\" transform=\"scale(0.015625)\"/>\n       </defs>\n       <use xlink:href=\"#ArialMT-33\"/>\n       <use xlink:href=\"#ArialMT-30\" x=\"55.615234\"/>\n      </g>\n     </g>\n    </g>\n    <g id=\"ytick_5\">\n     <g id=\"line2d_5\">\n      <path d=\"M 38.584375 138.724861 \nL 395.704375 138.724861 \n\" clip-path=\"url(#pc38ccb1aab)\" style=\"fill: none; stroke: #ffffff; stroke-width: 0.8; stroke-linecap: round\"/>\n     </g>\n     <g id=\"text_8\">\n      <!-- 40 -->\n      <g style=\"fill: #262626\" transform=\"translate(20.4625 142.303767)scale(0.1 -0.1)\">\n       <defs>\n        <path id=\"ArialMT-34\" d=\"M 2069 0 \nL 2069 1097 \nL 81 1097 \nL 81 1613 \nL 2172 4581 \nL 2631 4581 \nL 2631 1613 \nL 3250 1613 \nL 3250 1097 \nL 2631 1097 \nL 2631 0 \nL 2069 0 \nz\nM 2069 1613 \nL 2069 3678 \nL 634 1613 \nL 2069 1613 \nz\n\" transform=\"scale(0.015625)\"/>\n       </defs>\n       <use xlink:href=\"#ArialMT-34\"/>\n       <use xlink:href=\"#ArialMT-30\" x=\"55.615234\"/>\n      </g>\n     </g>\n    </g>\n    <g id=\"ytick_6\">\n     <g id=\"line2d_6\">\n      <path d=\"M 38.584375 108.102076 \nL 395.704375 108.102076 \n\" clip-path=\"url(#pc38ccb1aab)\" style=\"fill: none; stroke: #ffffff; stroke-width: 0.8; stroke-linecap: round\"/>\n     </g>\n     <g id=\"text_9\">\n      <!-- 50 -->\n      <g style=\"fill: #262626\" transform=\"translate(20.4625 111.680982)scale(0.1 -0.1)\">\n       <defs>\n        <path id=\"ArialMT-35\" d=\"M 266 1200 \nL 856 1250 \nQ 922 819 1161 601 \nQ 1400 384 1738 384 \nQ 2144 384 2425 690 \nQ 2706 997 2706 1503 \nQ 2706 1984 2436 2262 \nQ 2166 2541 1728 2541 \nQ 1456 2541 1237 2417 \nQ 1019 2294 894 2097 \nL 366 2166 \nL 809 4519 \nL 3088 4519 \nL 3088 3981 \nL 1259 3981 \nL 1013 2750 \nQ 1425 3038 1878 3038 \nQ 2478 3038 2890 2622 \nQ 3303 2206 3303 1553 \nQ 3303 931 2941 478 \nQ 2500 -78 1738 -78 \nQ 1113 -78 717 272 \nQ 322 622 266 1200 \nz\n\" transform=\"scale(0.015625)\"/>\n       </defs>\n       <use xlink:href=\"#ArialMT-35\"/>\n       <use xlink:href=\"#ArialMT-30\" x=\"55.615234\"/>\n      </g>\n     </g>\n    </g>\n    <g id=\"ytick_7\">\n     <g id=\"line2d_7\">\n      <path d=\"M 38.584375 77.479291 \nL 395.704375 77.479291 \n\" clip-path=\"url(#pc38ccb1aab)\" style=\"fill: none; stroke: #ffffff; stroke-width: 0.8; stroke-linecap: round\"/>\n     </g>\n     <g id=\"text_10\">\n      <!-- 60 -->\n      <g style=\"fill: #262626\" transform=\"translate(20.4625 81.058197)scale(0.1 -0.1)\">\n       <defs>\n        <path id=\"ArialMT-36\" d=\"M 3184 3459 \nL 2625 3416 \nQ 2550 3747 2413 3897 \nQ 2184 4138 1850 4138 \nQ 1581 4138 1378 3988 \nQ 1113 3794 959 3422 \nQ 806 3050 800 2363 \nQ 1003 2672 1297 2822 \nQ 1591 2972 1913 2972 \nQ 2475 2972 2870 2558 \nQ 3266 2144 3266 1488 \nQ 3266 1056 3080 686 \nQ 2894 316 2569 119 \nQ 2244 -78 1831 -78 \nQ 1128 -78 684 439 \nQ 241 956 241 2144 \nQ 241 3472 731 4075 \nQ 1159 4600 1884 4600 \nQ 2425 4600 2770 4297 \nQ 3116 3994 3184 3459 \nz\nM 888 1484 \nQ 888 1194 1011 928 \nQ 1134 663 1356 523 \nQ 1578 384 1822 384 \nQ 2178 384 2434 671 \nQ 2691 959 2691 1453 \nQ 2691 1928 2437 2201 \nQ 2184 2475 1800 2475 \nQ 1419 2475 1153 2201 \nQ 888 1928 888 1484 \nz\n\" transform=\"scale(0.015625)\"/>\n       </defs>\n       <use xlink:href=\"#ArialMT-36\"/>\n       <use xlink:href=\"#ArialMT-30\" x=\"55.615234\"/>\n      </g>\n     </g>\n    </g>\n    <g id=\"ytick_8\">\n     <g id=\"line2d_8\">\n      <path d=\"M 38.584375 46.856506 \nL 395.704375 46.856506 \n\" clip-path=\"url(#pc38ccb1aab)\" style=\"fill: none; stroke: #ffffff; stroke-width: 0.8; stroke-linecap: round\"/>\n     </g>\n     <g id=\"text_11\">\n      <!-- 70 -->\n      <g style=\"fill: #262626\" transform=\"translate(20.4625 50.435413)scale(0.1 -0.1)\">\n       <defs>\n        <path id=\"ArialMT-37\" d=\"M 303 3981 \nL 303 4522 \nL 3269 4522 \nL 3269 4084 \nQ 2831 3619 2401 2847 \nQ 1972 2075 1738 1259 \nQ 1569 684 1522 0 \nL 944 0 \nQ 953 541 1156 1306 \nQ 1359 2072 1739 2783 \nQ 2119 3494 2547 3981 \nL 303 3981 \nz\n\" transform=\"scale(0.015625)\"/>\n       </defs>\n       <use xlink:href=\"#ArialMT-37\"/>\n       <use xlink:href=\"#ArialMT-30\" x=\"55.615234\"/>\n      </g>\n     </g>\n    </g>\n    <g id=\"ytick_9\">\n     <g id=\"line2d_9\">\n      <path d=\"M 38.584375 16.233722 \nL 395.704375 16.233722 \n\" clip-path=\"url(#pc38ccb1aab)\" style=\"fill: none; stroke: #ffffff; stroke-width: 0.8; stroke-linecap: round\"/>\n     </g>\n     <g id=\"text_12\">\n      <!-- 80 -->\n      <g style=\"fill: #262626\" transform=\"translate(20.4625 19.812628)scale(0.1 -0.1)\">\n       <defs>\n        <path id=\"ArialMT-38\" d=\"M 1131 2484 \nQ 781 2613 612 2850 \nQ 444 3088 444 3419 \nQ 444 3919 803 4259 \nQ 1163 4600 1759 4600 \nQ 2359 4600 2725 4251 \nQ 3091 3903 3091 3403 \nQ 3091 3084 2923 2848 \nQ 2756 2613 2416 2484 \nQ 2838 2347 3058 2040 \nQ 3278 1734 3278 1309 \nQ 3278 722 2862 322 \nQ 2447 -78 1769 -78 \nQ 1091 -78 675 323 \nQ 259 725 259 1325 \nQ 259 1772 486 2073 \nQ 713 2375 1131 2484 \nz\nM 1019 3438 \nQ 1019 3113 1228 2906 \nQ 1438 2700 1772 2700 \nQ 2097 2700 2305 2904 \nQ 2513 3109 2513 3406 \nQ 2513 3716 2298 3927 \nQ 2084 4138 1766 4138 \nQ 1444 4138 1231 3931 \nQ 1019 3725 1019 3438 \nz\nM 838 1322 \nQ 838 1081 952 856 \nQ 1066 631 1291 507 \nQ 1516 384 1775 384 \nQ 2178 384 2440 643 \nQ 2703 903 2703 1303 \nQ 2703 1709 2433 1975 \nQ 2163 2241 1756 2241 \nQ 1359 2241 1098 1978 \nQ 838 1716 838 1322 \nz\n\" transform=\"scale(0.015625)\"/>\n       </defs>\n       <use xlink:href=\"#ArialMT-38\"/>\n       <use xlink:href=\"#ArialMT-30\" x=\"55.615234\"/>\n      </g>\n     </g>\n    </g>\n    <g id=\"text_13\">\n     <!-- Age -->\n     <g style=\"fill: #262626\" transform=\"translate(14.357813 149.152094)rotate(-90)scale(0.1 -0.1)\">\n      <defs>\n       <path id=\"ArialMT-41\" d=\"M -9 0 \nL 1750 4581 \nL 2403 4581 \nL 4278 0 \nL 3588 0 \nL 3053 1388 \nL 1138 1388 \nL 634 0 \nL -9 0 \nz\nM 1313 1881 \nL 2866 1881 \nL 2388 3150 \nQ 2169 3728 2063 4100 \nQ 1975 3659 1816 3225 \nL 1313 1881 \nz\n\" transform=\"scale(0.015625)\"/>\n       <path id=\"ArialMT-67\" d=\"M 319 -275 \nL 866 -356 \nQ 900 -609 1056 -725 \nQ 1266 -881 1628 -881 \nQ 2019 -881 2231 -725 \nQ 2444 -569 2519 -288 \nQ 2563 -116 2559 434 \nQ 2191 0 1641 0 \nQ 956 0 581 494 \nQ 206 988 206 1678 \nQ 206 2153 378 2554 \nQ 550 2956 876 3175 \nQ 1203 3394 1644 3394 \nQ 2231 3394 2613 2919 \nL 2613 3319 \nL 3131 3319 \nL 3131 450 \nQ 3131 -325 2973 -648 \nQ 2816 -972 2473 -1159 \nQ 2131 -1347 1631 -1347 \nQ 1038 -1347 672 -1080 \nQ 306 -813 319 -275 \nz\nM 784 1719 \nQ 784 1066 1043 766 \nQ 1303 466 1694 466 \nQ 2081 466 2343 764 \nQ 2606 1063 2606 1700 \nQ 2606 2309 2336 2618 \nQ 2066 2928 1684 2928 \nQ 1309 2928 1046 2623 \nQ 784 2319 784 1719 \nz\n\" transform=\"scale(0.015625)\"/>\n      </defs>\n      <use xlink:href=\"#ArialMT-41\"/>\n      <use xlink:href=\"#ArialMT-67\" x=\"66.699219\"/>\n      <use xlink:href=\"#ArialMT-65\" x=\"122.314453\"/>\n     </g>\n    </g>\n   </g>\n   <g id=\"patch_3\">\n    <path d=\"M 56.440375 196.908152 \nL 199.288375 196.908152 \nL 199.288375 144.849418 \nL 56.440375 144.849418 \nL 56.440375 196.908152 \nz\n\" clip-path=\"url(#pc38ccb1aab)\" style=\"fill: #96cac1; stroke: #6a6a6a; stroke-width: 1.5; stroke-linejoin: miter\"/>\n   </g>\n   <g id=\"patch_4\">\n    <path d=\"M 235.000375 206.094987 \nL 377.848375 206.094987 \nL 377.848375 147.911696 \nL 235.000375 147.911696 \nL 235.000375 206.094987 \nz\n\" clip-path=\"url(#pc38ccb1aab)\" style=\"fill: #f5f6bc; stroke: #6a6a6a; stroke-width: 1.5; stroke-linejoin: miter\"/>\n   </g>\n   <g id=\"line2d_10\">\n    <path d=\"M 127.864375 196.908152 \nL 127.864375 261.216 \n\" clip-path=\"url(#pc38ccb1aab)\" style=\"fill: none; stroke: #6a6a6a; stroke-width: 1.5; stroke-linecap: round\"/>\n   </g>\n   <g id=\"line2d_11\">\n    <path d=\"M 127.864375 144.849418 \nL 127.864375 68.292456 \n\" clip-path=\"url(#pc38ccb1aab)\" style=\"fill: none; stroke: #6a6a6a; stroke-width: 1.5; stroke-linecap: round\"/>\n   </g>\n   <g id=\"line2d_12\">\n    <path d=\"M 92.152375 261.216 \nL 163.576375 261.216 \n\" clip-path=\"url(#pc38ccb1aab)\" style=\"fill: none; stroke: #6a6a6a; stroke-width: 1.5; stroke-linecap: round\"/>\n   </g>\n   <g id=\"line2d_13\">\n    <path d=\"M 92.152375 68.292456 \nL 163.576375 68.292456 \n\" clip-path=\"url(#pc38ccb1aab)\" style=\"fill: none; stroke: #6a6a6a; stroke-width: 1.5; stroke-linecap: round\"/>\n   </g>\n   <g id=\"line2d_14\">\n    <defs>\n     <path id=\"ma188067969\" d=\"M 0 3.535534 \nL 2.12132 0 \nL 0 -3.535534 \nL -2.12132 0 \nz\n\" style=\"stroke: #6a6a6a; stroke-linejoin: miter\"/>\n    </defs>\n    <g clip-path=\"url(#pc38ccb1aab)\">\n     <use xlink:href=\"#ma188067969\" x=\"127.864375\" y=\"56.043342\" style=\"fill: #6a6a6a; stroke: #6a6a6a; stroke-linejoin: miter\"/>\n     <use xlink:href=\"#ma188067969\" x=\"127.864375\" y=\"19.296\" style=\"fill: #6a6a6a; stroke: #6a6a6a; stroke-linejoin: miter\"/>\n     <use xlink:href=\"#ma188067969\" x=\"127.864375\" y=\"65.230177\" style=\"fill: #6a6a6a; stroke: #6a6a6a; stroke-linejoin: miter\"/>\n     <use xlink:href=\"#ma188067969\" x=\"127.864375\" y=\"62.167899\" style=\"fill: #6a6a6a; stroke: #6a6a6a; stroke-linejoin: miter\"/>\n     <use xlink:href=\"#ma188067969\" x=\"127.864375\" y=\"19.296\" style=\"fill: #6a6a6a; stroke: #6a6a6a; stroke-linejoin: miter\"/>\n     <use xlink:href=\"#ma188067969\" x=\"127.864375\" y=\"62.167899\" style=\"fill: #6a6a6a; stroke: #6a6a6a; stroke-linejoin: miter\"/>\n     <use xlink:href=\"#ma188067969\" x=\"127.864375\" y=\"56.043342\" style=\"fill: #6a6a6a; stroke: #6a6a6a; stroke-linejoin: miter\"/>\n     <use xlink:href=\"#ma188067969\" x=\"127.864375\" y=\"62.167899\" style=\"fill: #6a6a6a; stroke: #6a6a6a; stroke-linejoin: miter\"/>\n     <use xlink:href=\"#ma188067969\" x=\"127.864375\" y=\"56.043342\" style=\"fill: #6a6a6a; stroke: #6a6a6a; stroke-linejoin: miter\"/>\n     <use xlink:href=\"#ma188067969\" x=\"127.864375\" y=\"65.230177\" style=\"fill: #6a6a6a; stroke: #6a6a6a; stroke-linejoin: miter\"/>\n     <use xlink:href=\"#ma188067969\" x=\"127.864375\" y=\"31.545114\" style=\"fill: #6a6a6a; stroke: #6a6a6a; stroke-linejoin: miter\"/>\n     <use xlink:href=\"#ma188067969\" x=\"127.864375\" y=\"62.167899\" style=\"fill: #6a6a6a; stroke: #6a6a6a; stroke-linejoin: miter\"/>\n     <use xlink:href=\"#ma188067969\" x=\"127.864375\" y=\"56.043342\" style=\"fill: #6a6a6a; stroke: #6a6a6a; stroke-linejoin: miter\"/>\n     <use xlink:href=\"#ma188067969\" x=\"127.864375\" y=\"28.482835\" style=\"fill: #6a6a6a; stroke: #6a6a6a; stroke-linejoin: miter\"/>\n     <use xlink:href=\"#ma188067969\" x=\"127.864375\" y=\"22.358278\" style=\"fill: #6a6a6a; stroke: #6a6a6a; stroke-linejoin: miter\"/>\n     <use xlink:href=\"#ma188067969\" x=\"127.864375\" y=\"65.230177\" style=\"fill: #6a6a6a; stroke: #6a6a6a; stroke-linejoin: miter\"/>\n     <use xlink:href=\"#ma188067969\" x=\"127.864375\" y=\"46.856506\" style=\"fill: #6a6a6a; stroke: #6a6a6a; stroke-linejoin: miter\"/>\n     <use xlink:href=\"#ma188067969\" x=\"127.864375\" y=\"56.043342\" style=\"fill: #6a6a6a; stroke: #6a6a6a; stroke-linejoin: miter\"/>\n     <use xlink:href=\"#ma188067969\" x=\"127.864375\" y=\"37.669671\" style=\"fill: #6a6a6a; stroke: #6a6a6a; stroke-linejoin: miter\"/>\n     <use xlink:href=\"#ma188067969\" x=\"127.864375\" y=\"62.167899\" style=\"fill: #6a6a6a; stroke: #6a6a6a; stroke-linejoin: miter\"/>\n     <use xlink:href=\"#ma188067969\" x=\"127.864375\" y=\"52.981063\" style=\"fill: #6a6a6a; stroke: #6a6a6a; stroke-linejoin: miter\"/>\n     <use xlink:href=\"#ma188067969\" x=\"127.864375\" y=\"31.545114\" style=\"fill: #6a6a6a; stroke: #6a6a6a; stroke-linejoin: miter\"/>\n     <use xlink:href=\"#ma188067969\" x=\"127.864375\" y=\"49.918785\" style=\"fill: #6a6a6a; stroke: #6a6a6a; stroke-linejoin: miter\"/>\n     <use xlink:href=\"#ma188067969\" x=\"127.864375\" y=\"49.918785\" style=\"fill: #6a6a6a; stroke: #6a6a6a; stroke-linejoin: miter\"/>\n     <use xlink:href=\"#ma188067969\" x=\"127.864375\" y=\"22.358278\" style=\"fill: #6a6a6a; stroke: #6a6a6a; stroke-linejoin: miter\"/>\n     <use xlink:href=\"#ma188067969\" x=\"127.864375\" y=\"43.794228\" style=\"fill: #6a6a6a; stroke: #6a6a6a; stroke-linejoin: miter\"/>\n     <use xlink:href=\"#ma188067969\" x=\"127.864375\" y=\"59.10562\" style=\"fill: #6a6a6a; stroke: #6a6a6a; stroke-linejoin: miter\"/>\n     <use xlink:href=\"#ma188067969\" x=\"127.864375\" y=\"49.918785\" style=\"fill: #6a6a6a; stroke: #6a6a6a; stroke-linejoin: miter\"/>\n     <use xlink:href=\"#ma188067969\" x=\"127.864375\" y=\"37.669671\" style=\"fill: #6a6a6a; stroke: #6a6a6a; stroke-linejoin: miter\"/>\n     <use xlink:href=\"#ma188067969\" x=\"127.864375\" y=\"43.794228\" style=\"fill: #6a6a6a; stroke: #6a6a6a; stroke-linejoin: miter\"/>\n     <use xlink:href=\"#ma188067969\" x=\"127.864375\" y=\"34.607392\" style=\"fill: #6a6a6a; stroke: #6a6a6a; stroke-linejoin: miter\"/>\n     <use xlink:href=\"#ma188067969\" x=\"127.864375\" y=\"65.230177\" style=\"fill: #6a6a6a; stroke: #6a6a6a; stroke-linejoin: miter\"/>\n     <use xlink:href=\"#ma188067969\" x=\"127.864375\" y=\"65.230177\" style=\"fill: #6a6a6a; stroke: #6a6a6a; stroke-linejoin: miter\"/>\n     <use xlink:href=\"#ma188067969\" x=\"127.864375\" y=\"62.167899\" style=\"fill: #6a6a6a; stroke: #6a6a6a; stroke-linejoin: miter\"/>\n     <use xlink:href=\"#ma188067969\" x=\"127.864375\" y=\"34.607392\" style=\"fill: #6a6a6a; stroke: #6a6a6a; stroke-linejoin: miter\"/>\n     <use xlink:href=\"#ma188067969\" x=\"127.864375\" y=\"25.420557\" style=\"fill: #6a6a6a; stroke: #6a6a6a; stroke-linejoin: miter\"/>\n     <use xlink:href=\"#ma188067969\" x=\"127.864375\" y=\"37.669671\" style=\"fill: #6a6a6a; stroke: #6a6a6a; stroke-linejoin: miter\"/>\n     <use xlink:href=\"#ma188067969\" x=\"127.864375\" y=\"62.167899\" style=\"fill: #6a6a6a; stroke: #6a6a6a; stroke-linejoin: miter\"/>\n     <use xlink:href=\"#ma188067969\" x=\"127.864375\" y=\"52.981063\" style=\"fill: #6a6a6a; stroke: #6a6a6a; stroke-linejoin: miter\"/>\n     <use xlink:href=\"#ma188067969\" x=\"127.864375\" y=\"65.230177\" style=\"fill: #6a6a6a; stroke: #6a6a6a; stroke-linejoin: miter\"/>\n     <use xlink:href=\"#ma188067969\" x=\"127.864375\" y=\"62.167899\" style=\"fill: #6a6a6a; stroke: #6a6a6a; stroke-linejoin: miter\"/>\n     <use xlink:href=\"#ma188067969\" x=\"127.864375\" y=\"65.230177\" style=\"fill: #6a6a6a; stroke: #6a6a6a; stroke-linejoin: miter\"/>\n     <use xlink:href=\"#ma188067969\" x=\"127.864375\" y=\"19.296\" style=\"fill: #6a6a6a; stroke: #6a6a6a; stroke-linejoin: miter\"/>\n     <use xlink:href=\"#ma188067969\" x=\"127.864375\" y=\"62.167899\" style=\"fill: #6a6a6a; stroke: #6a6a6a; stroke-linejoin: miter\"/>\n     <use xlink:href=\"#ma188067969\" x=\"127.864375\" y=\"65.230177\" style=\"fill: #6a6a6a; stroke: #6a6a6a; stroke-linejoin: miter\"/>\n     <use xlink:href=\"#ma188067969\" x=\"127.864375\" y=\"40.731949\" style=\"fill: #6a6a6a; stroke: #6a6a6a; stroke-linejoin: miter\"/>\n     <use xlink:href=\"#ma188067969\" x=\"127.864375\" y=\"62.167899\" style=\"fill: #6a6a6a; stroke: #6a6a6a; stroke-linejoin: miter\"/>\n     <use xlink:href=\"#ma188067969\" x=\"127.864375\" y=\"52.981063\" style=\"fill: #6a6a6a; stroke: #6a6a6a; stroke-linejoin: miter\"/>\n     <use xlink:href=\"#ma188067969\" x=\"127.864375\" y=\"65.230177\" style=\"fill: #6a6a6a; stroke: #6a6a6a; stroke-linejoin: miter\"/>\n     <use xlink:href=\"#ma188067969\" x=\"127.864375\" y=\"62.167899\" style=\"fill: #6a6a6a; stroke: #6a6a6a; stroke-linejoin: miter\"/>\n     <use xlink:href=\"#ma188067969\" x=\"127.864375\" y=\"62.167899\" style=\"fill: #6a6a6a; stroke: #6a6a6a; stroke-linejoin: miter\"/>\n     <use xlink:href=\"#ma188067969\" x=\"127.864375\" y=\"37.669671\" style=\"fill: #6a6a6a; stroke: #6a6a6a; stroke-linejoin: miter\"/>\n     <use xlink:href=\"#ma188067969\" x=\"127.864375\" y=\"46.856506\" style=\"fill: #6a6a6a; stroke: #6a6a6a; stroke-linejoin: miter\"/>\n     <use xlink:href=\"#ma188067969\" x=\"127.864375\" y=\"62.167899\" style=\"fill: #6a6a6a; stroke: #6a6a6a; stroke-linejoin: miter\"/>\n     <use xlink:href=\"#ma188067969\" x=\"127.864375\" y=\"62.167899\" style=\"fill: #6a6a6a; stroke: #6a6a6a; stroke-linejoin: miter\"/>\n     <use xlink:href=\"#ma188067969\" x=\"127.864375\" y=\"43.794228\" style=\"fill: #6a6a6a; stroke: #6a6a6a; stroke-linejoin: miter\"/>\n     <use xlink:href=\"#ma188067969\" x=\"127.864375\" y=\"65.230177\" style=\"fill: #6a6a6a; stroke: #6a6a6a; stroke-linejoin: miter\"/>\n     <use xlink:href=\"#ma188067969\" x=\"127.864375\" y=\"52.981063\" style=\"fill: #6a6a6a; stroke: #6a6a6a; stroke-linejoin: miter\"/>\n     <use xlink:href=\"#ma188067969\" x=\"127.864375\" y=\"65.230177\" style=\"fill: #6a6a6a; stroke: #6a6a6a; stroke-linejoin: miter\"/>\n     <use xlink:href=\"#ma188067969\" x=\"127.864375\" y=\"65.230177\" style=\"fill: #6a6a6a; stroke: #6a6a6a; stroke-linejoin: miter\"/>\n     <use xlink:href=\"#ma188067969\" x=\"127.864375\" y=\"49.918785\" style=\"fill: #6a6a6a; stroke: #6a6a6a; stroke-linejoin: miter\"/>\n     <use xlink:href=\"#ma188067969\" x=\"127.864375\" y=\"37.669671\" style=\"fill: #6a6a6a; stroke: #6a6a6a; stroke-linejoin: miter\"/>\n     <use xlink:href=\"#ma188067969\" x=\"127.864375\" y=\"49.918785\" style=\"fill: #6a6a6a; stroke: #6a6a6a; stroke-linejoin: miter\"/>\n     <use xlink:href=\"#ma188067969\" x=\"127.864375\" y=\"43.794228\" style=\"fill: #6a6a6a; stroke: #6a6a6a; stroke-linejoin: miter\"/>\n     <use xlink:href=\"#ma188067969\" x=\"127.864375\" y=\"62.167899\" style=\"fill: #6a6a6a; stroke: #6a6a6a; stroke-linejoin: miter\"/>\n     <use xlink:href=\"#ma188067969\" x=\"127.864375\" y=\"40.731949\" style=\"fill: #6a6a6a; stroke: #6a6a6a; stroke-linejoin: miter\"/>\n     <use xlink:href=\"#ma188067969\" x=\"127.864375\" y=\"62.167899\" style=\"fill: #6a6a6a; stroke: #6a6a6a; stroke-linejoin: miter\"/>\n     <use xlink:href=\"#ma188067969\" x=\"127.864375\" y=\"59.10562\" style=\"fill: #6a6a6a; stroke: #6a6a6a; stroke-linejoin: miter\"/>\n     <use xlink:href=\"#ma188067969\" x=\"127.864375\" y=\"56.043342\" style=\"fill: #6a6a6a; stroke: #6a6a6a; stroke-linejoin: miter\"/>\n     <use xlink:href=\"#ma188067969\" x=\"127.864375\" y=\"59.10562\" style=\"fill: #6a6a6a; stroke: #6a6a6a; stroke-linejoin: miter\"/>\n     <use xlink:href=\"#ma188067969\" x=\"127.864375\" y=\"65.230177\" style=\"fill: #6a6a6a; stroke: #6a6a6a; stroke-linejoin: miter\"/>\n     <use xlink:href=\"#ma188067969\" x=\"127.864375\" y=\"37.669671\" style=\"fill: #6a6a6a; stroke: #6a6a6a; stroke-linejoin: miter\"/>\n     <use xlink:href=\"#ma188067969\" x=\"127.864375\" y=\"46.856506\" style=\"fill: #6a6a6a; stroke: #6a6a6a; stroke-linejoin: miter\"/>\n    </g>\n   </g>\n   <g id=\"line2d_15\">\n    <path d=\"M 306.424375 206.094987 \nL 306.424375 261.216 \n\" clip-path=\"url(#pc38ccb1aab)\" style=\"fill: none; stroke: #6a6a6a; stroke-width: 1.5; stroke-linecap: round\"/>\n   </g>\n   <g id=\"line2d_16\">\n    <path d=\"M 306.424375 147.911696 \nL 306.424375 62.167899 \n\" clip-path=\"url(#pc38ccb1aab)\" style=\"fill: none; stroke: #6a6a6a; stroke-width: 1.5; stroke-linecap: round\"/>\n   </g>\n   <g id=\"line2d_17\">\n    <path d=\"M 270.712375 261.216 \nL 342.136375 261.216 \n\" clip-path=\"url(#pc38ccb1aab)\" style=\"fill: none; stroke: #6a6a6a; stroke-width: 1.5; stroke-linecap: round\"/>\n   </g>\n   <g id=\"line2d_18\">\n    <path d=\"M 270.712375 62.167899 \nL 342.136375 62.167899 \n\" clip-path=\"url(#pc38ccb1aab)\" style=\"fill: none; stroke: #6a6a6a; stroke-width: 1.5; stroke-linecap: round\"/>\n   </g>\n   <g id=\"line2d_19\">\n    <g clip-path=\"url(#pc38ccb1aab)\">\n     <use xlink:href=\"#ma188067969\" x=\"306.424375\" y=\"56.043342\" style=\"fill: #6a6a6a; stroke: #6a6a6a; stroke-linejoin: miter\"/>\n     <use xlink:href=\"#ma188067969\" x=\"306.424375\" y=\"52.981063\" style=\"fill: #6a6a6a; stroke: #6a6a6a; stroke-linejoin: miter\"/>\n     <use xlink:href=\"#ma188067969\" x=\"306.424375\" y=\"34.607392\" style=\"fill: #6a6a6a; stroke: #6a6a6a; stroke-linejoin: miter\"/>\n     <use xlink:href=\"#ma188067969\" x=\"306.424375\" y=\"43.794228\" style=\"fill: #6a6a6a; stroke: #6a6a6a; stroke-linejoin: miter\"/>\n     <use xlink:href=\"#ma188067969\" x=\"306.424375\" y=\"34.607392\" style=\"fill: #6a6a6a; stroke: #6a6a6a; stroke-linejoin: miter\"/>\n     <use xlink:href=\"#ma188067969\" x=\"306.424375\" y=\"43.794228\" style=\"fill: #6a6a6a; stroke: #6a6a6a; stroke-linejoin: miter\"/>\n     <use xlink:href=\"#ma188067969\" x=\"306.424375\" y=\"56.043342\" style=\"fill: #6a6a6a; stroke: #6a6a6a; stroke-linejoin: miter\"/>\n     <use xlink:href=\"#ma188067969\" x=\"306.424375\" y=\"46.856506\" style=\"fill: #6a6a6a; stroke: #6a6a6a; stroke-linejoin: miter\"/>\n     <use xlink:href=\"#ma188067969\" x=\"306.424375\" y=\"56.043342\" style=\"fill: #6a6a6a; stroke: #6a6a6a; stroke-linejoin: miter\"/>\n     <use xlink:href=\"#ma188067969\" x=\"306.424375\" y=\"59.10562\" style=\"fill: #6a6a6a; stroke: #6a6a6a; stroke-linejoin: miter\"/>\n     <use xlink:href=\"#ma188067969\" x=\"306.424375\" y=\"56.043342\" style=\"fill: #6a6a6a; stroke: #6a6a6a; stroke-linejoin: miter\"/>\n     <use xlink:href=\"#ma188067969\" x=\"306.424375\" y=\"46.856506\" style=\"fill: #6a6a6a; stroke: #6a6a6a; stroke-linejoin: miter\"/>\n     <use xlink:href=\"#ma188067969\" x=\"306.424375\" y=\"49.918785\" style=\"fill: #6a6a6a; stroke: #6a6a6a; stroke-linejoin: miter\"/>\n     <use xlink:href=\"#ma188067969\" x=\"306.424375\" y=\"43.794228\" style=\"fill: #6a6a6a; stroke: #6a6a6a; stroke-linejoin: miter\"/>\n     <use xlink:href=\"#ma188067969\" x=\"306.424375\" y=\"40.731949\" style=\"fill: #6a6a6a; stroke: #6a6a6a; stroke-linejoin: miter\"/>\n     <use xlink:href=\"#ma188067969\" x=\"306.424375\" y=\"52.981063\" style=\"fill: #6a6a6a; stroke: #6a6a6a; stroke-linejoin: miter\"/>\n     <use xlink:href=\"#ma188067969\" x=\"306.424375\" y=\"46.856506\" style=\"fill: #6a6a6a; stroke: #6a6a6a; stroke-linejoin: miter\"/>\n     <use xlink:href=\"#ma188067969\" x=\"306.424375\" y=\"25.420557\" style=\"fill: #6a6a6a; stroke: #6a6a6a; stroke-linejoin: miter\"/>\n     <use xlink:href=\"#ma188067969\" x=\"306.424375\" y=\"52.981063\" style=\"fill: #6a6a6a; stroke: #6a6a6a; stroke-linejoin: miter\"/>\n     <use xlink:href=\"#ma188067969\" x=\"306.424375\" y=\"37.669671\" style=\"fill: #6a6a6a; stroke: #6a6a6a; stroke-linejoin: miter\"/>\n     <use xlink:href=\"#ma188067969\" x=\"306.424375\" y=\"40.731949\" style=\"fill: #6a6a6a; stroke: #6a6a6a; stroke-linejoin: miter\"/>\n     <use xlink:href=\"#ma188067969\" x=\"306.424375\" y=\"34.607392\" style=\"fill: #6a6a6a; stroke: #6a6a6a; stroke-linejoin: miter\"/>\n     <use xlink:href=\"#ma188067969\" x=\"306.424375\" y=\"46.856506\" style=\"fill: #6a6a6a; stroke: #6a6a6a; stroke-linejoin: miter\"/>\n     <use xlink:href=\"#ma188067969\" x=\"306.424375\" y=\"56.043342\" style=\"fill: #6a6a6a; stroke: #6a6a6a; stroke-linejoin: miter\"/>\n     <use xlink:href=\"#ma188067969\" x=\"306.424375\" y=\"59.10562\" style=\"fill: #6a6a6a; stroke: #6a6a6a; stroke-linejoin: miter\"/>\n     <use xlink:href=\"#ma188067969\" x=\"306.424375\" y=\"31.545114\" style=\"fill: #6a6a6a; stroke: #6a6a6a; stroke-linejoin: miter\"/>\n     <use xlink:href=\"#ma188067969\" x=\"306.424375\" y=\"52.981063\" style=\"fill: #6a6a6a; stroke: #6a6a6a; stroke-linejoin: miter\"/>\n     <use xlink:href=\"#ma188067969\" x=\"306.424375\" y=\"46.856506\" style=\"fill: #6a6a6a; stroke: #6a6a6a; stroke-linejoin: miter\"/>\n     <use xlink:href=\"#ma188067969\" x=\"306.424375\" y=\"52.981063\" style=\"fill: #6a6a6a; stroke: #6a6a6a; stroke-linejoin: miter\"/>\n     <use xlink:href=\"#ma188067969\" x=\"306.424375\" y=\"59.10562\" style=\"fill: #6a6a6a; stroke: #6a6a6a; stroke-linejoin: miter\"/>\n     <use xlink:href=\"#ma188067969\" x=\"306.424375\" y=\"46.856506\" style=\"fill: #6a6a6a; stroke: #6a6a6a; stroke-linejoin: miter\"/>\n     <use xlink:href=\"#ma188067969\" x=\"306.424375\" y=\"22.358278\" style=\"fill: #6a6a6a; stroke: #6a6a6a; stroke-linejoin: miter\"/>\n     <use xlink:href=\"#ma188067969\" x=\"306.424375\" y=\"52.981063\" style=\"fill: #6a6a6a; stroke: #6a6a6a; stroke-linejoin: miter\"/>\n     <use xlink:href=\"#ma188067969\" x=\"306.424375\" y=\"52.981063\" style=\"fill: #6a6a6a; stroke: #6a6a6a; stroke-linejoin: miter\"/>\n     <use xlink:href=\"#ma188067969\" x=\"306.424375\" y=\"59.10562\" style=\"fill: #6a6a6a; stroke: #6a6a6a; stroke-linejoin: miter\"/>\n     <use xlink:href=\"#ma188067969\" x=\"306.424375\" y=\"52.981063\" style=\"fill: #6a6a6a; stroke: #6a6a6a; stroke-linejoin: miter\"/>\n     <use xlink:href=\"#ma188067969\" x=\"306.424375\" y=\"56.043342\" style=\"fill: #6a6a6a; stroke: #6a6a6a; stroke-linejoin: miter\"/>\n     <use xlink:href=\"#ma188067969\" x=\"306.424375\" y=\"56.043342\" style=\"fill: #6a6a6a; stroke: #6a6a6a; stroke-linejoin: miter\"/>\n     <use xlink:href=\"#ma188067969\" x=\"306.424375\" y=\"31.545114\" style=\"fill: #6a6a6a; stroke: #6a6a6a; stroke-linejoin: miter\"/>\n     <use xlink:href=\"#ma188067969\" x=\"306.424375\" y=\"28.482835\" style=\"fill: #6a6a6a; stroke: #6a6a6a; stroke-linejoin: miter\"/>\n    </g>\n   </g>\n   <g id=\"line2d_20\">\n    <path d=\"M 56.440375 178.534481 \nL 199.288375 178.534481 \n\" clip-path=\"url(#pc38ccb1aab)\" style=\"fill: none; stroke: #6a6a6a; stroke-width: 1.5; stroke-linecap: round\"/>\n   </g>\n   <g id=\"line2d_21\">\n    <path d=\"M 235.000375 178.534481 \nL 377.848375 178.534481 \n\" clip-path=\"url(#pc38ccb1aab)\" style=\"fill: none; stroke: #6a6a6a; stroke-width: 1.5; stroke-linecap: round\"/>\n   </g>\n   <g id=\"patch_5\">\n    <path d=\"M 38.584375 273.312 \nL 38.584375 7.2 \n\" style=\"fill: none; stroke: #ffffff; stroke-width: 0.8; stroke-linejoin: miter; stroke-linecap: square\"/>\n   </g>\n   <g id=\"patch_6\">\n    <path d=\"M 395.704375 273.312 \nL 395.704375 7.2 \n\" style=\"fill: none; stroke: #ffffff; stroke-width: 0.8; stroke-linejoin: miter; stroke-linecap: square\"/>\n   </g>\n   <g id=\"patch_7\">\n    <path d=\"M 38.584375 273.312 \nL 395.704375 273.312 \n\" style=\"fill: none; stroke: #ffffff; stroke-width: 0.8; stroke-linejoin: miter; stroke-linecap: square\"/>\n   </g>\n   <g id=\"patch_8\">\n    <path d=\"M 38.584375 7.2 \nL 395.704375 7.2 \n\" style=\"fill: none; stroke: #ffffff; stroke-width: 0.8; stroke-linejoin: miter; stroke-linecap: square\"/>\n   </g>\n  </g>\n </g>\n <defs>\n  <clipPath id=\"pc38ccb1aab\">\n   <rect x=\"38.584375\" y=\"7.2\" width=\"357.12\" height=\"266.112\"/>\n  </clipPath>\n </defs>\n</svg>\n",
      "text/plain": [
       "<Figure size 640x480 with 1 Axes>"
      ]
     },
     "metadata": {},
     "output_type": "display_data"
    }
   ],
   "source": [
    "sns.set_style(\"darkgrid\")\n",
    "sns.boxplot(x=data[\"Transported\"], y=data[\"Age\"])"
   ]
  },
  {
   "cell_type": "code",
   "execution_count": 46,
   "metadata": {},
   "outputs": [
    {
     "data": {
      "text/plain": [
       "count    4378.000000\n",
       "mean       27.733440\n",
       "std        14.995498\n",
       "min         0.000000\n",
       "25%        18.000000\n",
       "50%        27.000000\n",
       "75%        37.000000\n",
       "max        78.000000\n",
       "Name: Age, dtype: float64"
      ]
     },
     "execution_count": 46,
     "metadata": {},
     "output_type": "execute_result"
    }
   ],
   "source": [
    "true_age_des = data.loc[data[\"Transported\"]==True][\"Age\"].describe()\n",
    "true_age_des"
   ]
  },
  {
   "cell_type": "code",
   "execution_count": 51,
   "metadata": {},
   "outputs": [
    {
     "data": {
      "text/plain": [
       "65.5"
      ]
     },
     "execution_count": 51,
     "metadata": {},
     "output_type": "execute_result"
    }
   ],
   "source": [
    "true_iqr = true_age_des[\"75%\"] - true_age_des[\"25%\"]\n",
    "\n",
    "true_age_outlier = true_age_des[\"75%\"] + 1.5 * true_iqr\n",
    "true_age_outlier"
   ]
  },
  {
   "cell_type": "code",
   "execution_count": 49,
   "metadata": {},
   "outputs": [
    {
     "data": {
      "text/plain": [
       "count    4315.000000\n",
       "mean       29.862572\n",
       "std        13.563579\n",
       "min         0.000000\n",
       "25%        21.000000\n",
       "50%        27.000000\n",
       "75%        38.000000\n",
       "max        79.000000\n",
       "Name: Age, dtype: float64"
      ]
     },
     "execution_count": 49,
     "metadata": {},
     "output_type": "execute_result"
    }
   ],
   "source": [
    "false_age_des = data.loc[data[\"Transported\"]==False][\"Age\"].describe()\n",
    "false_age_des"
   ]
  },
  {
   "cell_type": "code",
   "execution_count": 50,
   "metadata": {},
   "outputs": [
    {
     "data": {
      "text/plain": [
       "63.5"
      ]
     },
     "execution_count": 50,
     "metadata": {},
     "output_type": "execute_result"
    }
   ],
   "source": [
    "false_iqr = false_age_des[\"75%\"] - false_age_des[\"25%\"]\n",
    "\n",
    "false_age_outlier = false_age_des[\"75%\"] + 1.5 * false_iqr\n",
    "false_age_outlier"
   ]
  },
  {
   "cell_type": "code",
   "execution_count": 57,
   "metadata": {},
   "outputs": [
    {
     "data": {
      "image/png": "[encoded data removed]",
      "image/svg+xml": "<?xml version=\"1.0\" encoding=\"utf-8\" standalone=\"no\"?>\n<!DOCTYPE svg PUBLIC \"-//W3C//DTD SVG 1.1//EN\"\n  \"http://www.w3.org/Graphics/SVG/1.1/DTD/svg11.dtd\">\n<svg xmlns:xlink=\"http://www.w3.org/1999/xlink\" width=\"452.744375pt\" height=\"336.530625pt\" viewBox=\"0 0 452.744375 336.530625\" xmlns=\"http://www.w3.org/2000/svg\" version=\"1.1\">\n <metadata>\n  <rdf:RDF xmlns:dc=\"http://purl.org/dc/elements/1.1/\" xmlns:cc=\"http://creativecommons.org/ns#\" xmlns:rdf=\"http://www.w3.org/1999/02/22-rdf-syntax-ns#\">\n   <cc:Work>\n    <dc:type rdf:resource=\"http://purl.org/dc/dcmitype/StillImage\"/>\n    <dc:date>2022-08-27T18:00:10.935472</dc:date>\n    <dc:format>image/svg+xml</dc:format>\n    <dc:creator>\n     <cc:Agent>\n      <dc:title>Matplotlib v3.5.3, https://matplotlib.org/</dc:title>\n     </cc:Agent>\n    </dc:creator>\n   </cc:Work>\n  </rdf:RDF>\n </metadata>\n <defs>\n  <style type=\"text/css\">*{stroke-linejoin: round; stroke-linecap: butt}</style>\n </defs>\n <g id=\"figure_1\">\n  <g id=\"patch_1\">\n   <path d=\"M 0 336.530625 \nL 452.744375 336.530625 \nL 452.744375 0 \nL 0 0 \nz\n\" style=\"fill: #ffffff\"/>\n  </g>\n  <g id=\"axes_1\">\n   <g id=\"patch_2\">\n    <path d=\"M 38.584375 300.04 \nL 445.544375 300.04 \nL 445.544375 7.2 \nL 38.584375 7.2 \nz\n\" style=\"fill: #eaeaf2\"/>\n   </g>\n   <g id=\"matplotlib.axis_1\">\n    <g id=\"xtick_1\">\n     <g id=\"text_1\">\n      <!-- False -->\n      <g style=\"fill: #262626\" transform=\"translate(128.098594 314.197812)scale(0.1 -0.1)\">\n       <defs>\n        <path id=\"ArialMT-46\" d=\"M 525 0 \nL 525 4581 \nL 3616 4581 \nL 3616 4041 \nL 1131 4041 \nL 1131 2622 \nL 3281 2622 \nL 3281 2081 \nL 1131 2081 \nL 1131 0 \nL 525 0 \nz\n\" transform=\"scale(0.015625)\"/>\n        <path id=\"ArialMT-61\" d=\"M 2588 409 \nQ 2275 144 1986 34 \nQ 1697 -75 1366 -75 \nQ 819 -75 525 192 \nQ 231 459 231 875 \nQ 231 1119 342 1320 \nQ 453 1522 633 1644 \nQ 813 1766 1038 1828 \nQ 1203 1872 1538 1913 \nQ 2219 1994 2541 2106 \nQ 2544 2222 2544 2253 \nQ 2544 2597 2384 2738 \nQ 2169 2928 1744 2928 \nQ 1347 2928 1158 2789 \nQ 969 2650 878 2297 \nL 328 2372 \nQ 403 2725 575 2942 \nQ 747 3159 1072 3276 \nQ 1397 3394 1825 3394 \nQ 2250 3394 2515 3294 \nQ 2781 3194 2906 3042 \nQ 3031 2891 3081 2659 \nQ 3109 2516 3109 2141 \nL 3109 1391 \nQ 3109 606 3145 398 \nQ 3181 191 3288 0 \nL 2700 0 \nQ 2613 175 2588 409 \nz\nM 2541 1666 \nQ 2234 1541 1622 1453 \nQ 1275 1403 1131 1340 \nQ 988 1278 909 1158 \nQ 831 1038 831 891 \nQ 831 666 1001 516 \nQ 1172 366 1500 366 \nQ 1825 366 2078 508 \nQ 2331 650 2450 897 \nQ 2541 1088 2541 1459 \nL 2541 1666 \nz\n\" transform=\"scale(0.015625)\"/>\n        <path id=\"ArialMT-6c\" d=\"M 409 0 \nL 409 4581 \nL 972 4581 \nL 972 0 \nL 409 0 \nz\n\" transform=\"scale(0.015625)\"/>\n        <path id=\"ArialMT-73\" d=\"M 197 991 \nL 753 1078 \nQ 800 744 1014 566 \nQ 1228 388 1613 388 \nQ 2000 388 2187 545 \nQ 2375 703 2375 916 \nQ 2375 1106 2209 1216 \nQ 2094 1291 1634 1406 \nQ 1016 1563 777 1677 \nQ 538 1791 414 1992 \nQ 291 2194 291 2438 \nQ 291 2659 392 2848 \nQ 494 3038 669 3163 \nQ 800 3259 1026 3326 \nQ 1253 3394 1513 3394 \nQ 1903 3394 2198 3281 \nQ 2494 3169 2634 2976 \nQ 2775 2784 2828 2463 \nL 2278 2388 \nQ 2241 2644 2061 2787 \nQ 1881 2931 1553 2931 \nQ 1166 2931 1000 2803 \nQ 834 2675 834 2503 \nQ 834 2394 903 2306 \nQ 972 2216 1119 2156 \nQ 1203 2125 1616 2013 \nQ 2213 1853 2448 1751 \nQ 2684 1650 2818 1456 \nQ 2953 1263 2953 975 \nQ 2953 694 2789 445 \nQ 2625 197 2315 61 \nQ 2006 -75 1616 -75 \nQ 969 -75 630 194 \nQ 291 463 197 991 \nz\n\" transform=\"scale(0.015625)\"/>\n        <path id=\"ArialMT-65\" d=\"M 2694 1069 \nL 3275 997 \nQ 3138 488 2766 206 \nQ 2394 -75 1816 -75 \nQ 1088 -75 661 373 \nQ 234 822 234 1631 \nQ 234 2469 665 2931 \nQ 1097 3394 1784 3394 \nQ 2450 3394 2872 2941 \nQ 3294 2488 3294 1666 \nQ 3294 1616 3291 1516 \nL 816 1516 \nQ 847 969 1125 678 \nQ 1403 388 1819 388 \nQ 2128 388 2347 550 \nQ 2566 713 2694 1069 \nz\nM 847 1978 \nL 2700 1978 \nQ 2663 2397 2488 2606 \nQ 2219 2931 1791 2931 \nQ 1403 2931 1139 2672 \nQ 875 2413 847 1978 \nz\n\" transform=\"scale(0.015625)\"/>\n       </defs>\n       <use xlink:href=\"#ArialMT-46\"/>\n       <use xlink:href=\"#ArialMT-61\" x=\"61.083984\"/>\n       <use xlink:href=\"#ArialMT-6c\" x=\"116.699219\"/>\n       <use xlink:href=\"#ArialMT-73\" x=\"138.916016\"/>\n       <use xlink:href=\"#ArialMT-65\" x=\"188.916016\"/>\n      </g>\n     </g>\n    </g>\n    <g id=\"xtick_2\">\n     <g id=\"text_2\">\n      <!-- True -->\n      <g style=\"fill: #262626\" transform=\"translate(333.712187 314.197812)scale(0.1 -0.1)\">\n       <defs>\n        <path id=\"ArialMT-54\" d=\"M 1659 0 \nL 1659 4041 \nL 150 4041 \nL 150 4581 \nL 3781 4581 \nL 3781 4041 \nL 2266 4041 \nL 2266 0 \nL 1659 0 \nz\n\" transform=\"scale(0.015625)\"/>\n        <path id=\"ArialMT-72\" d=\"M 416 0 \nL 416 3319 \nL 922 3319 \nL 922 2816 \nQ 1116 3169 1280 3281 \nQ 1444 3394 1641 3394 \nQ 1925 3394 2219 3213 \nL 2025 2691 \nQ 1819 2813 1613 2813 \nQ 1428 2813 1281 2702 \nQ 1134 2591 1072 2394 \nQ 978 2094 978 1738 \nL 978 0 \nL 416 0 \nz\n\" transform=\"scale(0.015625)\"/>\n        <path id=\"ArialMT-75\" d=\"M 2597 0 \nL 2597 488 \nQ 2209 -75 1544 -75 \nQ 1250 -75 995 37 \nQ 741 150 617 320 \nQ 494 491 444 738 \nQ 409 903 409 1263 \nL 409 3319 \nL 972 3319 \nL 972 1478 \nQ 972 1038 1006 884 \nQ 1059 663 1231 536 \nQ 1403 409 1656 409 \nQ 1909 409 2131 539 \nQ 2353 669 2445 892 \nQ 2538 1116 2538 1541 \nL 2538 3319 \nL 3100 3319 \nL 3100 0 \nL 2597 0 \nz\n\" transform=\"scale(0.015625)\"/>\n       </defs>\n       <use xlink:href=\"#ArialMT-54\"/>\n       <use xlink:href=\"#ArialMT-72\" x=\"57.333984\"/>\n       <use xlink:href=\"#ArialMT-75\" x=\"90.634766\"/>\n       <use xlink:href=\"#ArialMT-65\" x=\"146.25\"/>\n      </g>\n     </g>\n    </g>\n    <g id=\"text_3\">\n     <!-- Transported -->\n     <g style=\"fill: #262626\" transform=\"translate(215.296406 327.343125)scale(0.1 -0.1)\">\n      <defs>\n       <path id=\"ArialMT-6e\" d=\"M 422 0 \nL 422 3319 \nL 928 3319 \nL 928 2847 \nQ 1294 3394 1984 3394 \nQ 2284 3394 2536 3286 \nQ 2788 3178 2913 3003 \nQ 3038 2828 3088 2588 \nQ 3119 2431 3119 2041 \nL 3119 0 \nL 2556 0 \nL 2556 2019 \nQ 2556 2363 2490 2533 \nQ 2425 2703 2258 2804 \nQ 2091 2906 1866 2906 \nQ 1506 2906 1245 2678 \nQ 984 2450 984 1813 \nL 984 0 \nL 422 0 \nz\n\" transform=\"scale(0.015625)\"/>\n       <path id=\"ArialMT-70\" d=\"M 422 -1272 \nL 422 3319 \nL 934 3319 \nL 934 2888 \nQ 1116 3141 1344 3267 \nQ 1572 3394 1897 3394 \nQ 2322 3394 2647 3175 \nQ 2972 2956 3137 2557 \nQ 3303 2159 3303 1684 \nQ 3303 1175 3120 767 \nQ 2938 359 2589 142 \nQ 2241 -75 1856 -75 \nQ 1575 -75 1351 44 \nQ 1128 163 984 344 \nL 984 -1272 \nL 422 -1272 \nz\nM 931 1641 \nQ 931 1000 1190 694 \nQ 1450 388 1819 388 \nQ 2194 388 2461 705 \nQ 2728 1022 2728 1688 \nQ 2728 2322 2467 2637 \nQ 2206 2953 1844 2953 \nQ 1484 2953 1207 2617 \nQ 931 2281 931 1641 \nz\n\" transform=\"scale(0.015625)\"/>\n       <path id=\"ArialMT-6f\" d=\"M 213 1659 \nQ 213 2581 725 3025 \nQ 1153 3394 1769 3394 \nQ 2453 3394 2887 2945 \nQ 3322 2497 3322 1706 \nQ 3322 1066 3130 698 \nQ 2938 331 2570 128 \nQ 2203 -75 1769 -75 \nQ 1072 -75 642 372 \nQ 213 819 213 1659 \nz\nM 791 1659 \nQ 791 1022 1069 705 \nQ 1347 388 1769 388 \nQ 2188 388 2466 706 \nQ 2744 1025 2744 1678 \nQ 2744 2294 2464 2611 \nQ 2184 2928 1769 2928 \nQ 1347 2928 1069 2612 \nQ 791 2297 791 1659 \nz\n\" transform=\"scale(0.015625)\"/>\n       <path id=\"ArialMT-74\" d=\"M 1650 503 \nL 1731 6 \nQ 1494 -44 1306 -44 \nQ 1000 -44 831 53 \nQ 663 150 594 308 \nQ 525 466 525 972 \nL 525 2881 \nL 113 2881 \nL 113 3319 \nL 525 3319 \nL 525 4141 \nL 1084 4478 \nL 1084 3319 \nL 1650 3319 \nL 1650 2881 \nL 1084 2881 \nL 1084 941 \nQ 1084 700 1114 631 \nQ 1144 563 1211 522 \nQ 1278 481 1403 481 \nQ 1497 481 1650 503 \nz\n\" transform=\"scale(0.015625)\"/>\n       <path id=\"ArialMT-64\" d=\"M 2575 0 \nL 2575 419 \nQ 2259 -75 1647 -75 \nQ 1250 -75 917 144 \nQ 584 363 401 755 \nQ 219 1147 219 1656 \nQ 219 2153 384 2558 \nQ 550 2963 881 3178 \nQ 1213 3394 1622 3394 \nQ 1922 3394 2156 3267 \nQ 2391 3141 2538 2938 \nL 2538 4581 \nL 3097 4581 \nL 3097 0 \nL 2575 0 \nz\nM 797 1656 \nQ 797 1019 1065 703 \nQ 1334 388 1700 388 \nQ 2069 388 2326 689 \nQ 2584 991 2584 1609 \nQ 2584 2291 2321 2609 \nQ 2059 2928 1675 2928 \nQ 1300 2928 1048 2622 \nQ 797 2316 797 1656 \nz\n\" transform=\"scale(0.015625)\"/>\n      </defs>\n      <use xlink:href=\"#ArialMT-54\"/>\n      <use xlink:href=\"#ArialMT-72\" x=\"57.333984\"/>\n      <use xlink:href=\"#ArialMT-61\" x=\"90.634766\"/>\n      <use xlink:href=\"#ArialMT-6e\" x=\"146.25\"/>\n      <use xlink:href=\"#ArialMT-73\" x=\"201.865234\"/>\n      <use xlink:href=\"#ArialMT-70\" x=\"251.865234\"/>\n      <use xlink:href=\"#ArialMT-6f\" x=\"307.480469\"/>\n      <use xlink:href=\"#ArialMT-72\" x=\"363.095703\"/>\n      <use xlink:href=\"#ArialMT-74\" x=\"396.396484\"/>\n      <use xlink:href=\"#ArialMT-65\" x=\"424.179688\"/>\n      <use xlink:href=\"#ArialMT-64\" x=\"479.794922\"/>\n     </g>\n    </g>\n   </g>\n   <g id=\"matplotlib.axis_2\">\n    <g id=\"ytick_1\">\n     <g id=\"line2d_1\">\n      <path d=\"M 38.584375 286.729091 \nL 445.544375 286.729091 \n\" clip-path=\"url(#p4b4d4337a6)\" style=\"fill: none; stroke: #ffffff; stroke-width: 0.8; stroke-linecap: round\"/>\n     </g>\n     <g id=\"text_4\">\n      <!-- 0 -->\n      <g style=\"fill: #262626\" transform=\"translate(26.023438 290.307997)scale(0.1 -0.1)\">\n       <defs>\n        <path id=\"ArialMT-30\" d=\"M 266 2259 \nQ 266 3072 433 3567 \nQ 600 4063 929 4331 \nQ 1259 4600 1759 4600 \nQ 2128 4600 2406 4451 \nQ 2684 4303 2865 4023 \nQ 3047 3744 3150 3342 \nQ 3253 2941 3253 2259 \nQ 3253 1453 3087 958 \nQ 2922 463 2592 192 \nQ 2263 -78 1759 -78 \nQ 1097 -78 719 397 \nQ 266 969 266 2259 \nz\nM 844 2259 \nQ 844 1131 1108 757 \nQ 1372 384 1759 384 \nQ 2147 384 2411 759 \nQ 2675 1134 2675 2259 \nQ 2675 3391 2411 3762 \nQ 2147 4134 1753 4134 \nQ 1366 4134 1134 3806 \nQ 844 3388 844 2259 \nz\n\" transform=\"scale(0.015625)\"/>\n       </defs>\n       <use xlink:href=\"#ArialMT-30\"/>\n      </g>\n     </g>\n    </g>\n    <g id=\"ytick_2\">\n     <g id=\"line2d_2\">\n      <path d=\"M 38.584375 253.030587 \nL 445.544375 253.030587 \n\" clip-path=\"url(#p4b4d4337a6)\" style=\"fill: none; stroke: #ffffff; stroke-width: 0.8; stroke-linecap: round\"/>\n     </g>\n     <g id=\"text_5\">\n      <!-- 10 -->\n      <g style=\"fill: #262626\" transform=\"translate(20.4625 256.609493)scale(0.1 -0.1)\">\n       <defs>\n        <path id=\"ArialMT-31\" d=\"M 2384 0 \nL 1822 0 \nL 1822 3584 \nQ 1619 3391 1289 3197 \nQ 959 3003 697 2906 \nL 697 3450 \nQ 1169 3672 1522 3987 \nQ 1875 4303 2022 4600 \nL 2384 4600 \nL 2384 0 \nz\n\" transform=\"scale(0.015625)\"/>\n       </defs>\n       <use xlink:href=\"#ArialMT-31\"/>\n       <use xlink:href=\"#ArialMT-30\" x=\"55.615234\"/>\n      </g>\n     </g>\n    </g>\n    <g id=\"ytick_3\">\n     <g id=\"line2d_3\">\n      <path d=\"M 38.584375 219.332083 \nL 445.544375 219.332083 \n\" clip-path=\"url(#p4b4d4337a6)\" style=\"fill: none; stroke: #ffffff; stroke-width: 0.8; stroke-linecap: round\"/>\n     </g>\n     <g id=\"text_6\">\n      <!-- 20 -->\n      <g style=\"fill: #262626\" transform=\"translate(20.4625 222.910989)scale(0.1 -0.1)\">\n       <defs>\n        <path id=\"ArialMT-32\" d=\"M 3222 541 \nL 3222 0 \nL 194 0 \nQ 188 203 259 391 \nQ 375 700 629 1000 \nQ 884 1300 1366 1694 \nQ 2113 2306 2375 2664 \nQ 2638 3022 2638 3341 \nQ 2638 3675 2398 3904 \nQ 2159 4134 1775 4134 \nQ 1369 4134 1125 3890 \nQ 881 3647 878 3216 \nL 300 3275 \nQ 359 3922 746 4261 \nQ 1134 4600 1788 4600 \nQ 2447 4600 2831 4234 \nQ 3216 3869 3216 3328 \nQ 3216 3053 3103 2787 \nQ 2991 2522 2730 2228 \nQ 2469 1934 1863 1422 \nQ 1356 997 1212 845 \nQ 1069 694 975 541 \nL 3222 541 \nz\n\" transform=\"scale(0.015625)\"/>\n       </defs>\n       <use xlink:href=\"#ArialMT-32\"/>\n       <use xlink:href=\"#ArialMT-30\" x=\"55.615234\"/>\n      </g>\n     </g>\n    </g>\n    <g id=\"ytick_4\">\n     <g id=\"line2d_4\">\n      <path d=\"M 38.584375 185.633579 \nL 445.544375 185.633579 \n\" clip-path=\"url(#p4b4d4337a6)\" style=\"fill: none; stroke: #ffffff; stroke-width: 0.8; stroke-linecap: round\"/>\n     </g>\n     <g id=\"text_7\">\n      <!-- 30 -->\n      <g style=\"fill: #262626\" transform=\"translate(20.4625 189.212485)scale(0.1 -0.1)\">\n       <defs>\n        <path id=\"ArialMT-33\" d=\"M 269 1209 \nL 831 1284 \nQ 928 806 1161 595 \nQ 1394 384 1728 384 \nQ 2125 384 2398 659 \nQ 2672 934 2672 1341 \nQ 2672 1728 2419 1979 \nQ 2166 2231 1775 2231 \nQ 1616 2231 1378 2169 \nL 1441 2663 \nQ 1497 2656 1531 2656 \nQ 1891 2656 2178 2843 \nQ 2466 3031 2466 3422 \nQ 2466 3731 2256 3934 \nQ 2047 4138 1716 4138 \nQ 1388 4138 1169 3931 \nQ 950 3725 888 3313 \nL 325 3413 \nQ 428 3978 793 4289 \nQ 1159 4600 1703 4600 \nQ 2078 4600 2393 4439 \nQ 2709 4278 2876 4000 \nQ 3044 3722 3044 3409 \nQ 3044 3113 2884 2869 \nQ 2725 2625 2413 2481 \nQ 2819 2388 3044 2092 \nQ 3269 1797 3269 1353 \nQ 3269 753 2831 336 \nQ 2394 -81 1725 -81 \nQ 1122 -81 723 278 \nQ 325 638 269 1209 \nz\n\" transform=\"scale(0.015625)\"/>\n       </defs>\n       <use xlink:href=\"#ArialMT-33\"/>\n       <use xlink:href=\"#ArialMT-30\" x=\"55.615234\"/>\n      </g>\n     </g>\n    </g>\n    <g id=\"ytick_5\">\n     <g id=\"line2d_5\">\n      <path d=\"M 38.584375 151.935075 \nL 445.544375 151.935075 \n\" clip-path=\"url(#p4b4d4337a6)\" style=\"fill: none; stroke: #ffffff; stroke-width: 0.8; stroke-linecap: round\"/>\n     </g>\n     <g id=\"text_8\">\n      <!-- 40 -->\n      <g style=\"fill: #262626\" transform=\"translate(20.4625 155.513981)scale(0.1 -0.1)\">\n       <defs>\n        <path id=\"ArialMT-34\" d=\"M 2069 0 \nL 2069 1097 \nL 81 1097 \nL 81 1613 \nL 2172 4581 \nL 2631 4581 \nL 2631 1613 \nL 3250 1613 \nL 3250 1097 \nL 2631 1097 \nL 2631 0 \nL 2069 0 \nz\nM 2069 1613 \nL 2069 3678 \nL 634 1613 \nL 2069 1613 \nz\n\" transform=\"scale(0.015625)\"/>\n       </defs>\n       <use xlink:href=\"#ArialMT-34\"/>\n       <use xlink:href=\"#ArialMT-30\" x=\"55.615234\"/>\n      </g>\n     </g>\n    </g>\n    <g id=\"ytick_6\">\n     <g id=\"line2d_6\">\n      <path d=\"M 38.584375 118.236571 \nL 445.544375 118.236571 \n\" clip-path=\"url(#p4b4d4337a6)\" style=\"fill: none; stroke: #ffffff; stroke-width: 0.8; stroke-linecap: round\"/>\n     </g>\n     <g id=\"text_9\">\n      <!-- 50 -->\n      <g style=\"fill: #262626\" transform=\"translate(20.4625 121.815477)scale(0.1 -0.1)\">\n       <defs>\n        <path id=\"ArialMT-35\" d=\"M 266 1200 \nL 856 1250 \nQ 922 819 1161 601 \nQ 1400 384 1738 384 \nQ 2144 384 2425 690 \nQ 2706 997 2706 1503 \nQ 2706 1984 2436 2262 \nQ 2166 2541 1728 2541 \nQ 1456 2541 1237 2417 \nQ 1019 2294 894 2097 \nL 366 2166 \nL 809 4519 \nL 3088 4519 \nL 3088 3981 \nL 1259 3981 \nL 1013 2750 \nQ 1425 3038 1878 3038 \nQ 2478 3038 2890 2622 \nQ 3303 2206 3303 1553 \nQ 3303 931 2941 478 \nQ 2500 -78 1738 -78 \nQ 1113 -78 717 272 \nQ 322 622 266 1200 \nz\n\" transform=\"scale(0.015625)\"/>\n       </defs>\n       <use xlink:href=\"#ArialMT-35\"/>\n       <use xlink:href=\"#ArialMT-30\" x=\"55.615234\"/>\n      </g>\n     </g>\n    </g>\n    <g id=\"ytick_7\">\n     <g id=\"line2d_7\">\n      <path d=\"M 38.584375 84.538067 \nL 445.544375 84.538067 \n\" clip-path=\"url(#p4b4d4337a6)\" style=\"fill: none; stroke: #ffffff; stroke-width: 0.8; stroke-linecap: round\"/>\n     </g>\n     <g id=\"text_10\">\n      <!-- 60 -->\n      <g style=\"fill: #262626\" transform=\"translate(20.4625 88.116973)scale(0.1 -0.1)\">\n       <defs>\n        <path id=\"ArialMT-36\" d=\"M 3184 3459 \nL 2625 3416 \nQ 2550 3747 2413 3897 \nQ 2184 4138 1850 4138 \nQ 1581 4138 1378 3988 \nQ 1113 3794 959 3422 \nQ 806 3050 800 2363 \nQ 1003 2672 1297 2822 \nQ 1591 2972 1913 2972 \nQ 2475 2972 2870 2558 \nQ 3266 2144 3266 1488 \nQ 3266 1056 3080 686 \nQ 2894 316 2569 119 \nQ 2244 -78 1831 -78 \nQ 1128 -78 684 439 \nQ 241 956 241 2144 \nQ 241 3472 731 4075 \nQ 1159 4600 1884 4600 \nQ 2425 4600 2770 4297 \nQ 3116 3994 3184 3459 \nz\nM 888 1484 \nQ 888 1194 1011 928 \nQ 1134 663 1356 523 \nQ 1578 384 1822 384 \nQ 2178 384 2434 671 \nQ 2691 959 2691 1453 \nQ 2691 1928 2437 2201 \nQ 2184 2475 1800 2475 \nQ 1419 2475 1153 2201 \nQ 888 1928 888 1484 \nz\n\" transform=\"scale(0.015625)\"/>\n       </defs>\n       <use xlink:href=\"#ArialMT-36\"/>\n       <use xlink:href=\"#ArialMT-30\" x=\"55.615234\"/>\n      </g>\n     </g>\n    </g>\n    <g id=\"ytick_8\">\n     <g id=\"line2d_8\">\n      <path d=\"M 38.584375 50.839563 \nL 445.544375 50.839563 \n\" clip-path=\"url(#p4b4d4337a6)\" style=\"fill: none; stroke: #ffffff; stroke-width: 0.8; stroke-linecap: round\"/>\n     </g>\n     <g id=\"text_11\">\n      <!-- 70 -->\n      <g style=\"fill: #262626\" transform=\"translate(20.4625 54.418469)scale(0.1 -0.1)\">\n       <defs>\n        <path id=\"ArialMT-37\" d=\"M 303 3981 \nL 303 4522 \nL 3269 4522 \nL 3269 4084 \nQ 2831 3619 2401 2847 \nQ 1972 2075 1738 1259 \nQ 1569 684 1522 0 \nL 944 0 \nQ 953 541 1156 1306 \nQ 1359 2072 1739 2783 \nQ 2119 3494 2547 3981 \nL 303 3981 \nz\n\" transform=\"scale(0.015625)\"/>\n       </defs>\n       <use xlink:href=\"#ArialMT-37\"/>\n       <use xlink:href=\"#ArialMT-30\" x=\"55.615234\"/>\n      </g>\n     </g>\n    </g>\n    <g id=\"ytick_9\">\n     <g id=\"line2d_9\">\n      <path d=\"M 38.584375 17.141059 \nL 445.544375 17.141059 \n\" clip-path=\"url(#p4b4d4337a6)\" style=\"fill: none; stroke: #ffffff; stroke-width: 0.8; stroke-linecap: round\"/>\n     </g>\n     <g id=\"text_12\">\n      <!-- 80 -->\n      <g style=\"fill: #262626\" transform=\"translate(20.4625 20.719965)scale(0.1 -0.1)\">\n       <defs>\n        <path id=\"ArialMT-38\" d=\"M 1131 2484 \nQ 781 2613 612 2850 \nQ 444 3088 444 3419 \nQ 444 3919 803 4259 \nQ 1163 4600 1759 4600 \nQ 2359 4600 2725 4251 \nQ 3091 3903 3091 3403 \nQ 3091 3084 2923 2848 \nQ 2756 2613 2416 2484 \nQ 2838 2347 3058 2040 \nQ 3278 1734 3278 1309 \nQ 3278 722 2862 322 \nQ 2447 -78 1769 -78 \nQ 1091 -78 675 323 \nQ 259 725 259 1325 \nQ 259 1772 486 2073 \nQ 713 2375 1131 2484 \nz\nM 1019 3438 \nQ 1019 3113 1228 2906 \nQ 1438 2700 1772 2700 \nQ 2097 2700 2305 2904 \nQ 2513 3109 2513 3406 \nQ 2513 3716 2298 3927 \nQ 2084 4138 1766 4138 \nQ 1444 4138 1231 3931 \nQ 1019 3725 1019 3438 \nz\nM 838 1322 \nQ 838 1081 952 856 \nQ 1066 631 1291 507 \nQ 1516 384 1775 384 \nQ 2178 384 2440 643 \nQ 2703 903 2703 1303 \nQ 2703 1709 2433 1975 \nQ 2163 2241 1756 2241 \nQ 1359 2241 1098 1978 \nQ 838 1716 838 1322 \nz\n\" transform=\"scale(0.015625)\"/>\n       </defs>\n       <use xlink:href=\"#ArialMT-38\"/>\n       <use xlink:href=\"#ArialMT-30\" x=\"55.615234\"/>\n      </g>\n     </g>\n    </g>\n    <g id=\"text_13\">\n     <!-- Age -->\n     <g style=\"fill: #262626\" transform=\"translate(14.357812 162.516094)rotate(-90)scale(0.1 -0.1)\">\n      <defs>\n       <path id=\"ArialMT-41\" d=\"M -9 0 \nL 1750 4581 \nL 2403 4581 \nL 4278 0 \nL 3588 0 \nL 3053 1388 \nL 1138 1388 \nL 634 0 \nL -9 0 \nz\nM 1313 1881 \nL 2866 1881 \nL 2388 3150 \nQ 2169 3728 2063 4100 \nQ 1975 3659 1816 3225 \nL 1313 1881 \nz\n\" transform=\"scale(0.015625)\"/>\n       <path id=\"ArialMT-67\" d=\"M 319 -275 \nL 866 -356 \nQ 900 -609 1056 -725 \nQ 1266 -881 1628 -881 \nQ 2019 -881 2231 -725 \nQ 2444 -569 2519 -288 \nQ 2563 -116 2559 434 \nQ 2191 0 1641 0 \nQ 956 0 581 494 \nQ 206 988 206 1678 \nQ 206 2153 378 2554 \nQ 550 2956 876 3175 \nQ 1203 3394 1644 3394 \nQ 2231 3394 2613 2919 \nL 2613 3319 \nL 3131 3319 \nL 3131 450 \nQ 3131 -325 2973 -648 \nQ 2816 -972 2473 -1159 \nQ 2131 -1347 1631 -1347 \nQ 1038 -1347 672 -1080 \nQ 306 -813 319 -275 \nz\nM 784 1719 \nQ 784 1066 1043 766 \nQ 1303 466 1694 466 \nQ 2081 466 2343 764 \nQ 2606 1063 2606 1700 \nQ 2606 2309 2336 2618 \nQ 2066 2928 1684 2928 \nQ 1309 2928 1046 2623 \nQ 784 2319 784 1719 \nz\n\" transform=\"scale(0.015625)\"/>\n      </defs>\n      <use xlink:href=\"#ArialMT-41\"/>\n      <use xlink:href=\"#ArialMT-67\" x=\"66.699219\"/>\n      <use xlink:href=\"#ArialMT-65\" x=\"122.314453\"/>\n     </g>\n    </g>\n   </g>\n   <g id=\"patch_3\">\n    <path d=\"M 58.932375 215.962232 \nL 221.716375 215.962232 \nL 221.716375 158.674776 \nL 58.932375 158.674776 \nL 58.932375 215.962232 \nz\n\" clip-path=\"url(#p4b4d4337a6)\" style=\"fill: #96cac1; stroke: #6a6a6a; stroke-width: 1.5; stroke-linejoin: miter\"/>\n   </g>\n   <g id=\"patch_4\">\n    <path d=\"M 262.412375 226.071784 \nL 425.196375 226.071784 \nL 425.196375 162.044626 \nL 262.412375 162.044626 \nL 262.412375 226.071784 \nz\n\" clip-path=\"url(#p4b4d4337a6)\" style=\"fill: #f5f6bc; stroke: #6a6a6a; stroke-width: 1.5; stroke-linejoin: miter\"/>\n   </g>\n   <g id=\"line2d_10\">\n    <path d=\"M 140.324375 215.962232 \nL 140.324375 286.729091 \n\" clip-path=\"url(#p4b4d4337a6)\" style=\"fill: none; stroke: #6a6a6a; stroke-width: 1.5; stroke-linecap: round\"/>\n   </g>\n   <g id=\"line2d_11\">\n    <path d=\"M 140.324375 158.674776 \nL 140.324375 74.428516 \n\" clip-path=\"url(#p4b4d4337a6)\" style=\"fill: none; stroke: #6a6a6a; stroke-width: 1.5; stroke-linecap: round\"/>\n   </g>\n   <g id=\"line2d_12\">\n    <path d=\"M 99.628375 286.729091 \nL 181.020375 286.729091 \n\" clip-path=\"url(#p4b4d4337a6)\" style=\"fill: none; stroke: #6a6a6a; stroke-width: 1.5; stroke-linecap: round\"/>\n   </g>\n   <g id=\"line2d_13\">\n    <path d=\"M 99.628375 74.428516 \nL 181.020375 74.428516 \n\" clip-path=\"url(#p4b4d4337a6)\" style=\"fill: none; stroke: #6a6a6a; stroke-width: 1.5; stroke-linecap: round\"/>\n   </g>\n   <g id=\"line2d_14\">\n    <defs>\n     <path id=\"m4763344819\" d=\"M 0 3.535534 \nL 2.12132 0 \nL 0 -3.535534 \nL -2.12132 0 \nz\n\" style=\"stroke: #6a6a6a; stroke-linejoin: miter\"/>\n    </defs>\n    <g clip-path=\"url(#p4b4d4337a6)\">\n     <use xlink:href=\"#m4763344819\" x=\"140.324375\" y=\"60.949114\" style=\"fill: #6a6a6a; stroke: #6a6a6a; stroke-linejoin: miter\"/>\n     <use xlink:href=\"#m4763344819\" x=\"140.324375\" y=\"20.510909\" style=\"fill: #6a6a6a; stroke: #6a6a6a; stroke-linejoin: miter\"/>\n     <use xlink:href=\"#m4763344819\" x=\"140.324375\" y=\"71.058665\" style=\"fill: #6a6a6a; stroke: #6a6a6a; stroke-linejoin: miter\"/>\n     <use xlink:href=\"#m4763344819\" x=\"140.324375\" y=\"67.688815\" style=\"fill: #6a6a6a; stroke: #6a6a6a; stroke-linejoin: miter\"/>\n     <use xlink:href=\"#m4763344819\" x=\"140.324375\" y=\"20.510909\" style=\"fill: #6a6a6a; stroke: #6a6a6a; stroke-linejoin: miter\"/>\n     <use xlink:href=\"#m4763344819\" x=\"140.324375\" y=\"67.688815\" style=\"fill: #6a6a6a; stroke: #6a6a6a; stroke-linejoin: miter\"/>\n     <use xlink:href=\"#m4763344819\" x=\"140.324375\" y=\"60.949114\" style=\"fill: #6a6a6a; stroke: #6a6a6a; stroke-linejoin: miter\"/>\n     <use xlink:href=\"#m4763344819\" x=\"140.324375\" y=\"67.688815\" style=\"fill: #6a6a6a; stroke: #6a6a6a; stroke-linejoin: miter\"/>\n     <use xlink:href=\"#m4763344819\" x=\"140.324375\" y=\"60.949114\" style=\"fill: #6a6a6a; stroke: #6a6a6a; stroke-linejoin: miter\"/>\n     <use xlink:href=\"#m4763344819\" x=\"140.324375\" y=\"71.058665\" style=\"fill: #6a6a6a; stroke: #6a6a6a; stroke-linejoin: miter\"/>\n     <use xlink:href=\"#m4763344819\" x=\"140.324375\" y=\"33.990311\" style=\"fill: #6a6a6a; stroke: #6a6a6a; stroke-linejoin: miter\"/>\n     <use xlink:href=\"#m4763344819\" x=\"140.324375\" y=\"67.688815\" style=\"fill: #6a6a6a; stroke: #6a6a6a; stroke-linejoin: miter\"/>\n     <use xlink:href=\"#m4763344819\" x=\"140.324375\" y=\"60.949114\" style=\"fill: #6a6a6a; stroke: #6a6a6a; stroke-linejoin: miter\"/>\n     <use xlink:href=\"#m4763344819\" x=\"140.324375\" y=\"30.62046\" style=\"fill: #6a6a6a; stroke: #6a6a6a; stroke-linejoin: miter\"/>\n     <use xlink:href=\"#m4763344819\" x=\"140.324375\" y=\"23.880759\" style=\"fill: #6a6a6a; stroke: #6a6a6a; stroke-linejoin: miter\"/>\n     <use xlink:href=\"#m4763344819\" x=\"140.324375\" y=\"71.058665\" style=\"fill: #6a6a6a; stroke: #6a6a6a; stroke-linejoin: miter\"/>\n     <use xlink:href=\"#m4763344819\" x=\"140.324375\" y=\"50.839563\" style=\"fill: #6a6a6a; stroke: #6a6a6a; stroke-linejoin: miter\"/>\n     <use xlink:href=\"#m4763344819\" x=\"140.324375\" y=\"60.949114\" style=\"fill: #6a6a6a; stroke: #6a6a6a; stroke-linejoin: miter\"/>\n     <use xlink:href=\"#m4763344819\" x=\"140.324375\" y=\"40.730012\" style=\"fill: #6a6a6a; stroke: #6a6a6a; stroke-linejoin: miter\"/>\n     <use xlink:href=\"#m4763344819\" x=\"140.324375\" y=\"67.688815\" style=\"fill: #6a6a6a; stroke: #6a6a6a; stroke-linejoin: miter\"/>\n     <use xlink:href=\"#m4763344819\" x=\"140.324375\" y=\"57.579264\" style=\"fill: #6a6a6a; stroke: #6a6a6a; stroke-linejoin: miter\"/>\n     <use xlink:href=\"#m4763344819\" x=\"140.324375\" y=\"33.990311\" style=\"fill: #6a6a6a; stroke: #6a6a6a; stroke-linejoin: miter\"/>\n     <use xlink:href=\"#m4763344819\" x=\"140.324375\" y=\"54.209413\" style=\"fill: #6a6a6a; stroke: #6a6a6a; stroke-linejoin: miter\"/>\n     <use xlink:href=\"#m4763344819\" x=\"140.324375\" y=\"54.209413\" style=\"fill: #6a6a6a; stroke: #6a6a6a; stroke-linejoin: miter\"/>\n     <use xlink:href=\"#m4763344819\" x=\"140.324375\" y=\"23.880759\" style=\"fill: #6a6a6a; stroke: #6a6a6a; stroke-linejoin: miter\"/>\n     <use xlink:href=\"#m4763344819\" x=\"140.324375\" y=\"47.469712\" style=\"fill: #6a6a6a; stroke: #6a6a6a; stroke-linejoin: miter\"/>\n     <use xlink:href=\"#m4763344819\" x=\"140.324375\" y=\"64.318964\" style=\"fill: #6a6a6a; stroke: #6a6a6a; stroke-linejoin: miter\"/>\n     <use xlink:href=\"#m4763344819\" x=\"140.324375\" y=\"54.209413\" style=\"fill: #6a6a6a; stroke: #6a6a6a; stroke-linejoin: miter\"/>\n     <use xlink:href=\"#m4763344819\" x=\"140.324375\" y=\"40.730012\" style=\"fill: #6a6a6a; stroke: #6a6a6a; stroke-linejoin: miter\"/>\n     <use xlink:href=\"#m4763344819\" x=\"140.324375\" y=\"47.469712\" style=\"fill: #6a6a6a; stroke: #6a6a6a; stroke-linejoin: miter\"/>\n     <use xlink:href=\"#m4763344819\" x=\"140.324375\" y=\"37.360161\" style=\"fill: #6a6a6a; stroke: #6a6a6a; stroke-linejoin: miter\"/>\n     <use xlink:href=\"#m4763344819\" x=\"140.324375\" y=\"71.058665\" style=\"fill: #6a6a6a; stroke: #6a6a6a; stroke-linejoin: miter\"/>\n     <use xlink:href=\"#m4763344819\" x=\"140.324375\" y=\"71.058665\" style=\"fill: #6a6a6a; stroke: #6a6a6a; stroke-linejoin: miter\"/>\n     <use xlink:href=\"#m4763344819\" x=\"140.324375\" y=\"67.688815\" style=\"fill: #6a6a6a; stroke: #6a6a6a; stroke-linejoin: miter\"/>\n     <use xlink:href=\"#m4763344819\" x=\"140.324375\" y=\"37.360161\" style=\"fill: #6a6a6a; stroke: #6a6a6a; stroke-linejoin: miter\"/>\n     <use xlink:href=\"#m4763344819\" x=\"140.324375\" y=\"27.25061\" style=\"fill: #6a6a6a; stroke: #6a6a6a; stroke-linejoin: miter\"/>\n     <use xlink:href=\"#m4763344819\" x=\"140.324375\" y=\"40.730012\" style=\"fill: #6a6a6a; stroke: #6a6a6a; stroke-linejoin: miter\"/>\n     <use xlink:href=\"#m4763344819\" x=\"140.324375\" y=\"67.688815\" style=\"fill: #6a6a6a; stroke: #6a6a6a; stroke-linejoin: miter\"/>\n     <use xlink:href=\"#m4763344819\" x=\"140.324375\" y=\"57.579264\" style=\"fill: #6a6a6a; stroke: #6a6a6a; stroke-linejoin: miter\"/>\n     <use xlink:href=\"#m4763344819\" x=\"140.324375\" y=\"71.058665\" style=\"fill: #6a6a6a; stroke: #6a6a6a; stroke-linejoin: miter\"/>\n     <use xlink:href=\"#m4763344819\" x=\"140.324375\" y=\"67.688815\" style=\"fill: #6a6a6a; stroke: #6a6a6a; stroke-linejoin: miter\"/>\n     <use xlink:href=\"#m4763344819\" x=\"140.324375\" y=\"71.058665\" style=\"fill: #6a6a6a; stroke: #6a6a6a; stroke-linejoin: miter\"/>\n     <use xlink:href=\"#m4763344819\" x=\"140.324375\" y=\"20.510909\" style=\"fill: #6a6a6a; stroke: #6a6a6a; stroke-linejoin: miter\"/>\n     <use xlink:href=\"#m4763344819\" x=\"140.324375\" y=\"67.688815\" style=\"fill: #6a6a6a; stroke: #6a6a6a; stroke-linejoin: miter\"/>\n     <use xlink:href=\"#m4763344819\" x=\"140.324375\" y=\"71.058665\" style=\"fill: #6a6a6a; stroke: #6a6a6a; stroke-linejoin: miter\"/>\n     <use xlink:href=\"#m4763344819\" x=\"140.324375\" y=\"44.099862\" style=\"fill: #6a6a6a; stroke: #6a6a6a; stroke-linejoin: miter\"/>\n     <use xlink:href=\"#m4763344819\" x=\"140.324375\" y=\"67.688815\" style=\"fill: #6a6a6a; stroke: #6a6a6a; stroke-linejoin: miter\"/>\n     <use xlink:href=\"#m4763344819\" x=\"140.324375\" y=\"57.579264\" style=\"fill: #6a6a6a; stroke: #6a6a6a; stroke-linejoin: miter\"/>\n     <use xlink:href=\"#m4763344819\" x=\"140.324375\" y=\"71.058665\" style=\"fill: #6a6a6a; stroke: #6a6a6a; stroke-linejoin: miter\"/>\n     <use xlink:href=\"#m4763344819\" x=\"140.324375\" y=\"67.688815\" style=\"fill: #6a6a6a; stroke: #6a6a6a; stroke-linejoin: miter\"/>\n     <use xlink:href=\"#m4763344819\" x=\"140.324375\" y=\"67.688815\" style=\"fill: #6a6a6a; stroke: #6a6a6a; stroke-linejoin: miter\"/>\n     <use xlink:href=\"#m4763344819\" x=\"140.324375\" y=\"40.730012\" style=\"fill: #6a6a6a; stroke: #6a6a6a; stroke-linejoin: miter\"/>\n     <use xlink:href=\"#m4763344819\" x=\"140.324375\" y=\"50.839563\" style=\"fill: #6a6a6a; stroke: #6a6a6a; stroke-linejoin: miter\"/>\n     <use xlink:href=\"#m4763344819\" x=\"140.324375\" y=\"67.688815\" style=\"fill: #6a6a6a; stroke: #6a6a6a; stroke-linejoin: miter\"/>\n     <use xlink:href=\"#m4763344819\" x=\"140.324375\" y=\"67.688815\" style=\"fill: #6a6a6a; stroke: #6a6a6a; stroke-linejoin: miter\"/>\n     <use xlink:href=\"#m4763344819\" x=\"140.324375\" y=\"47.469712\" style=\"fill: #6a6a6a; stroke: #6a6a6a; stroke-linejoin: miter\"/>\n     <use xlink:href=\"#m4763344819\" x=\"140.324375\" y=\"71.058665\" style=\"fill: #6a6a6a; stroke: #6a6a6a; stroke-linejoin: miter\"/>\n     <use xlink:href=\"#m4763344819\" x=\"140.324375\" y=\"57.579264\" style=\"fill: #6a6a6a; stroke: #6a6a6a; stroke-linejoin: miter\"/>\n     <use xlink:href=\"#m4763344819\" x=\"140.324375\" y=\"71.058665\" style=\"fill: #6a6a6a; stroke: #6a6a6a; stroke-linejoin: miter\"/>\n     <use xlink:href=\"#m4763344819\" x=\"140.324375\" y=\"71.058665\" style=\"fill: #6a6a6a; stroke: #6a6a6a; stroke-linejoin: miter\"/>\n     <use xlink:href=\"#m4763344819\" x=\"140.324375\" y=\"54.209413\" style=\"fill: #6a6a6a; stroke: #6a6a6a; stroke-linejoin: miter\"/>\n     <use xlink:href=\"#m4763344819\" x=\"140.324375\" y=\"40.730012\" style=\"fill: #6a6a6a; stroke: #6a6a6a; stroke-linejoin: miter\"/>\n     <use xlink:href=\"#m4763344819\" x=\"140.324375\" y=\"54.209413\" style=\"fill: #6a6a6a; stroke: #6a6a6a; stroke-linejoin: miter\"/>\n     <use xlink:href=\"#m4763344819\" x=\"140.324375\" y=\"47.469712\" style=\"fill: #6a6a6a; stroke: #6a6a6a; stroke-linejoin: miter\"/>\n     <use xlink:href=\"#m4763344819\" x=\"140.324375\" y=\"67.688815\" style=\"fill: #6a6a6a; stroke: #6a6a6a; stroke-linejoin: miter\"/>\n     <use xlink:href=\"#m4763344819\" x=\"140.324375\" y=\"44.099862\" style=\"fill: #6a6a6a; stroke: #6a6a6a; stroke-linejoin: miter\"/>\n     <use xlink:href=\"#m4763344819\" x=\"140.324375\" y=\"67.688815\" style=\"fill: #6a6a6a; stroke: #6a6a6a; stroke-linejoin: miter\"/>\n     <use xlink:href=\"#m4763344819\" x=\"140.324375\" y=\"64.318964\" style=\"fill: #6a6a6a; stroke: #6a6a6a; stroke-linejoin: miter\"/>\n     <use xlink:href=\"#m4763344819\" x=\"140.324375\" y=\"60.949114\" style=\"fill: #6a6a6a; stroke: #6a6a6a; stroke-linejoin: miter\"/>\n     <use xlink:href=\"#m4763344819\" x=\"140.324375\" y=\"64.318964\" style=\"fill: #6a6a6a; stroke: #6a6a6a; stroke-linejoin: miter\"/>\n     <use xlink:href=\"#m4763344819\" x=\"140.324375\" y=\"71.058665\" style=\"fill: #6a6a6a; stroke: #6a6a6a; stroke-linejoin: miter\"/>\n     <use xlink:href=\"#m4763344819\" x=\"140.324375\" y=\"40.730012\" style=\"fill: #6a6a6a; stroke: #6a6a6a; stroke-linejoin: miter\"/>\n     <use xlink:href=\"#m4763344819\" x=\"140.324375\" y=\"50.839563\" style=\"fill: #6a6a6a; stroke: #6a6a6a; stroke-linejoin: miter\"/>\n    </g>\n   </g>\n   <g id=\"line2d_15\">\n    <path d=\"M 343.804375 226.071784 \nL 343.804375 286.729091 \n\" clip-path=\"url(#p4b4d4337a6)\" style=\"fill: none; stroke: #6a6a6a; stroke-width: 1.5; stroke-linecap: round\"/>\n   </g>\n   <g id=\"line2d_16\">\n    <path d=\"M 343.804375 162.044626 \nL 343.804375 67.688815 \n\" clip-path=\"url(#p4b4d4337a6)\" style=\"fill: none; stroke: #6a6a6a; stroke-width: 1.5; stroke-linecap: round\"/>\n   </g>\n   <g id=\"line2d_17\">\n    <path d=\"M 303.108375 286.729091 \nL 384.500375 286.729091 \n\" clip-path=\"url(#p4b4d4337a6)\" style=\"fill: none; stroke: #6a6a6a; stroke-width: 1.5; stroke-linecap: round\"/>\n   </g>\n   <g id=\"line2d_18\">\n    <path d=\"M 303.108375 67.688815 \nL 384.500375 67.688815 \n\" clip-path=\"url(#p4b4d4337a6)\" style=\"fill: none; stroke: #6a6a6a; stroke-width: 1.5; stroke-linecap: round\"/>\n   </g>\n   <g id=\"line2d_19\">\n    <g clip-path=\"url(#p4b4d4337a6)\">\n     <use xlink:href=\"#m4763344819\" x=\"343.804375\" y=\"60.949114\" style=\"fill: #6a6a6a; stroke: #6a6a6a; stroke-linejoin: miter\"/>\n     <use xlink:href=\"#m4763344819\" x=\"343.804375\" y=\"57.579264\" style=\"fill: #6a6a6a; stroke: #6a6a6a; stroke-linejoin: miter\"/>\n     <use xlink:href=\"#m4763344819\" x=\"343.804375\" y=\"37.360161\" style=\"fill: #6a6a6a; stroke: #6a6a6a; stroke-linejoin: miter\"/>\n     <use xlink:href=\"#m4763344819\" x=\"343.804375\" y=\"47.469712\" style=\"fill: #6a6a6a; stroke: #6a6a6a; stroke-linejoin: miter\"/>\n     <use xlink:href=\"#m4763344819\" x=\"343.804375\" y=\"37.360161\" style=\"fill: #6a6a6a; stroke: #6a6a6a; stroke-linejoin: miter\"/>\n     <use xlink:href=\"#m4763344819\" x=\"343.804375\" y=\"47.469712\" style=\"fill: #6a6a6a; stroke: #6a6a6a; stroke-linejoin: miter\"/>\n     <use xlink:href=\"#m4763344819\" x=\"343.804375\" y=\"60.949114\" style=\"fill: #6a6a6a; stroke: #6a6a6a; stroke-linejoin: miter\"/>\n     <use xlink:href=\"#m4763344819\" x=\"343.804375\" y=\"50.839563\" style=\"fill: #6a6a6a; stroke: #6a6a6a; stroke-linejoin: miter\"/>\n     <use xlink:href=\"#m4763344819\" x=\"343.804375\" y=\"60.949114\" style=\"fill: #6a6a6a; stroke: #6a6a6a; stroke-linejoin: miter\"/>\n     <use xlink:href=\"#m4763344819\" x=\"343.804375\" y=\"64.318964\" style=\"fill: #6a6a6a; stroke: #6a6a6a; stroke-linejoin: miter\"/>\n     <use xlink:href=\"#m4763344819\" x=\"343.804375\" y=\"60.949114\" style=\"fill: #6a6a6a; stroke: #6a6a6a; stroke-linejoin: miter\"/>\n     <use xlink:href=\"#m4763344819\" x=\"343.804375\" y=\"50.839563\" style=\"fill: #6a6a6a; stroke: #6a6a6a; stroke-linejoin: miter\"/>\n     <use xlink:href=\"#m4763344819\" x=\"343.804375\" y=\"54.209413\" style=\"fill: #6a6a6a; stroke: #6a6a6a; stroke-linejoin: miter\"/>\n     <use xlink:href=\"#m4763344819\" x=\"343.804375\" y=\"47.469712\" style=\"fill: #6a6a6a; stroke: #6a6a6a; stroke-linejoin: miter\"/>\n     <use xlink:href=\"#m4763344819\" x=\"343.804375\" y=\"44.099862\" style=\"fill: #6a6a6a; stroke: #6a6a6a; stroke-linejoin: miter\"/>\n     <use xlink:href=\"#m4763344819\" x=\"343.804375\" y=\"57.579264\" style=\"fill: #6a6a6a; stroke: #6a6a6a; stroke-linejoin: miter\"/>\n     <use xlink:href=\"#m4763344819\" x=\"343.804375\" y=\"50.839563\" style=\"fill: #6a6a6a; stroke: #6a6a6a; stroke-linejoin: miter\"/>\n     <use xlink:href=\"#m4763344819\" x=\"343.804375\" y=\"27.25061\" style=\"fill: #6a6a6a; stroke: #6a6a6a; stroke-linejoin: miter\"/>\n     <use xlink:href=\"#m4763344819\" x=\"343.804375\" y=\"57.579264\" style=\"fill: #6a6a6a; stroke: #6a6a6a; stroke-linejoin: miter\"/>\n     <use xlink:href=\"#m4763344819\" x=\"343.804375\" y=\"40.730012\" style=\"fill: #6a6a6a; stroke: #6a6a6a; stroke-linejoin: miter\"/>\n     <use xlink:href=\"#m4763344819\" x=\"343.804375\" y=\"44.099862\" style=\"fill: #6a6a6a; stroke: #6a6a6a; stroke-linejoin: miter\"/>\n     <use xlink:href=\"#m4763344819\" x=\"343.804375\" y=\"37.360161\" style=\"fill: #6a6a6a; stroke: #6a6a6a; stroke-linejoin: miter\"/>\n     <use xlink:href=\"#m4763344819\" x=\"343.804375\" y=\"50.839563\" style=\"fill: #6a6a6a; stroke: #6a6a6a; stroke-linejoin: miter\"/>\n     <use xlink:href=\"#m4763344819\" x=\"343.804375\" y=\"60.949114\" style=\"fill: #6a6a6a; stroke: #6a6a6a; stroke-linejoin: miter\"/>\n     <use xlink:href=\"#m4763344819\" x=\"343.804375\" y=\"64.318964\" style=\"fill: #6a6a6a; stroke: #6a6a6a; stroke-linejoin: miter\"/>\n     <use xlink:href=\"#m4763344819\" x=\"343.804375\" y=\"33.990311\" style=\"fill: #6a6a6a; stroke: #6a6a6a; stroke-linejoin: miter\"/>\n     <use xlink:href=\"#m4763344819\" x=\"343.804375\" y=\"57.579264\" style=\"fill: #6a6a6a; stroke: #6a6a6a; stroke-linejoin: miter\"/>\n     <use xlink:href=\"#m4763344819\" x=\"343.804375\" y=\"50.839563\" style=\"fill: #6a6a6a; stroke: #6a6a6a; stroke-linejoin: miter\"/>\n     <use xlink:href=\"#m4763344819\" x=\"343.804375\" y=\"57.579264\" style=\"fill: #6a6a6a; stroke: #6a6a6a; stroke-linejoin: miter\"/>\n     <use xlink:href=\"#m4763344819\" x=\"343.804375\" y=\"64.318964\" style=\"fill: #6a6a6a; stroke: #6a6a6a; stroke-linejoin: miter\"/>\n     <use xlink:href=\"#m4763344819\" x=\"343.804375\" y=\"50.839563\" style=\"fill: #6a6a6a; stroke: #6a6a6a; stroke-linejoin: miter\"/>\n     <use xlink:href=\"#m4763344819\" x=\"343.804375\" y=\"23.880759\" style=\"fill: #6a6a6a; stroke: #6a6a6a; stroke-linejoin: miter\"/>\n     <use xlink:href=\"#m4763344819\" x=\"343.804375\" y=\"57.579264\" style=\"fill: #6a6a6a; stroke: #6a6a6a; stroke-linejoin: miter\"/>\n     <use xlink:href=\"#m4763344819\" x=\"343.804375\" y=\"57.579264\" style=\"fill: #6a6a6a; stroke: #6a6a6a; stroke-linejoin: miter\"/>\n     <use xlink:href=\"#m4763344819\" x=\"343.804375\" y=\"64.318964\" style=\"fill: #6a6a6a; stroke: #6a6a6a; stroke-linejoin: miter\"/>\n     <use xlink:href=\"#m4763344819\" x=\"343.804375\" y=\"57.579264\" style=\"fill: #6a6a6a; stroke: #6a6a6a; stroke-linejoin: miter\"/>\n     <use xlink:href=\"#m4763344819\" x=\"343.804375\" y=\"60.949114\" style=\"fill: #6a6a6a; stroke: #6a6a6a; stroke-linejoin: miter\"/>\n     <use xlink:href=\"#m4763344819\" x=\"343.804375\" y=\"60.949114\" style=\"fill: #6a6a6a; stroke: #6a6a6a; stroke-linejoin: miter\"/>\n     <use xlink:href=\"#m4763344819\" x=\"343.804375\" y=\"33.990311\" style=\"fill: #6a6a6a; stroke: #6a6a6a; stroke-linejoin: miter\"/>\n     <use xlink:href=\"#m4763344819\" x=\"343.804375\" y=\"30.62046\" style=\"fill: #6a6a6a; stroke: #6a6a6a; stroke-linejoin: miter\"/>\n    </g>\n   </g>\n   <g id=\"line2d_20\">\n    <path d=\"M 38.584375 66.00389 \nL 445.544375 66.00389 \n\" clip-path=\"url(#p4b4d4337a6)\" style=\"fill: none; stroke: #ffa500; stroke-width: 1.5; stroke-linecap: round\"/>\n   </g>\n   <g id=\"line2d_21\">\n    <path d=\"M 38.584375 72.74359 \nL 445.544375 72.74359 \n\" clip-path=\"url(#p4b4d4337a6)\" style=\"fill: none; stroke: #00ff00; stroke-width: 1.5; stroke-linecap: round\"/>\n   </g>\n   <g id=\"line2d_22\">\n    <path d=\"M 58.932375 195.74313 \nL 221.716375 195.74313 \n\" clip-path=\"url(#p4b4d4337a6)\" style=\"fill: none; stroke: #6a6a6a; stroke-width: 1.5; stroke-linecap: round\"/>\n   </g>\n   <g id=\"line2d_23\">\n    <path d=\"M 262.412375 195.74313 \nL 425.196375 195.74313 \n\" clip-path=\"url(#p4b4d4337a6)\" style=\"fill: none; stroke: #6a6a6a; stroke-width: 1.5; stroke-linecap: round\"/>\n   </g>\n   <g id=\"patch_5\">\n    <path d=\"M 38.584375 300.04 \nL 38.584375 7.2 \n\" style=\"fill: none; stroke: #ffffff; stroke-width: 0.8; stroke-linejoin: miter; stroke-linecap: square\"/>\n   </g>\n   <g id=\"patch_6\">\n    <path d=\"M 445.544375 300.04 \nL 445.544375 7.2 \n\" style=\"fill: none; stroke: #ffffff; stroke-width: 0.8; stroke-linejoin: miter; stroke-linecap: square\"/>\n   </g>\n   <g id=\"patch_7\">\n    <path d=\"M 38.584375 300.04 \nL 445.544375 300.04 \n\" style=\"fill: none; stroke: #ffffff; stroke-width: 0.8; stroke-linejoin: miter; stroke-linecap: square\"/>\n   </g>\n   <g id=\"patch_8\">\n    <path d=\"M 38.584375 7.2 \nL 445.544375 7.2 \n\" style=\"fill: none; stroke: #ffffff; stroke-width: 0.8; stroke-linejoin: miter; stroke-linecap: square\"/>\n   </g>\n   <g id=\"legend_1\">\n    <g id=\"patch_9\">\n     <path d=\"M 348.192813 43.490625 \nL 438.544375 43.490625 \nQ 440.544375 43.490625 440.544375 41.490625 \nL 440.544375 14.2 \nQ 440.544375 12.2 438.544375 12.2 \nL 348.192813 12.2 \nQ 346.192813 12.2 346.192813 14.2 \nL 346.192813 41.490625 \nQ 346.192813 43.490625 348.192813 43.490625 \nz\n\" style=\"fill: #eaeaf2; opacity: 0.8; stroke: #cccccc; stroke-linejoin: miter\"/>\n    </g>\n    <g id=\"line2d_24\">\n     <path d=\"M 350.192813 19.857813 \nL 360.192813 19.857813 \nL 370.192813 19.857813 \n\" style=\"fill: none; stroke: #ffa500; stroke-width: 1.5; stroke-linecap: round\"/>\n    </g>\n    <g id=\"text_14\">\n     <!-- True Outliers -->\n     <g style=\"fill: #262626\" transform=\"translate(378.192813 23.357813)scale(0.1 -0.1)\">\n      <defs>\n       <path id=\"ArialMT-20\" transform=\"scale(0.015625)\"/>\n       <path id=\"ArialMT-4f\" d=\"M 309 2231 \nQ 309 3372 921 4017 \nQ 1534 4663 2503 4663 \nQ 3138 4663 3647 4359 \nQ 4156 4056 4423 3514 \nQ 4691 2972 4691 2284 \nQ 4691 1588 4409 1038 \nQ 4128 488 3612 205 \nQ 3097 -78 2500 -78 \nQ 1853 -78 1343 234 \nQ 834 547 571 1087 \nQ 309 1628 309 2231 \nz\nM 934 2222 \nQ 934 1394 1379 917 \nQ 1825 441 2497 441 \nQ 3181 441 3623 922 \nQ 4066 1403 4066 2288 \nQ 4066 2847 3877 3264 \nQ 3688 3681 3323 3911 \nQ 2959 4141 2506 4141 \nQ 1863 4141 1398 3698 \nQ 934 3256 934 2222 \nz\n\" transform=\"scale(0.015625)\"/>\n       <path id=\"ArialMT-69\" d=\"M 425 3934 \nL 425 4581 \nL 988 4581 \nL 988 3934 \nL 425 3934 \nz\nM 425 0 \nL 425 3319 \nL 988 3319 \nL 988 0 \nL 425 0 \nz\n\" transform=\"scale(0.015625)\"/>\n      </defs>\n      <use xlink:href=\"#ArialMT-54\"/>\n      <use xlink:href=\"#ArialMT-72\" x=\"57.333984\"/>\n      <use xlink:href=\"#ArialMT-75\" x=\"90.634766\"/>\n      <use xlink:href=\"#ArialMT-65\" x=\"146.25\"/>\n      <use xlink:href=\"#ArialMT-20\" x=\"201.865234\"/>\n      <use xlink:href=\"#ArialMT-4f\" x=\"229.648438\"/>\n      <use xlink:href=\"#ArialMT-75\" x=\"307.431641\"/>\n      <use xlink:href=\"#ArialMT-74\" x=\"363.046875\"/>\n      <use xlink:href=\"#ArialMT-6c\" x=\"390.830078\"/>\n      <use xlink:href=\"#ArialMT-69\" x=\"413.046875\"/>\n      <use xlink:href=\"#ArialMT-65\" x=\"435.263672\"/>\n      <use xlink:href=\"#ArialMT-72\" x=\"490.878906\"/>\n      <use xlink:href=\"#ArialMT-73\" x=\"524.179688\"/>\n     </g>\n    </g>\n    <g id=\"line2d_25\">\n     <path d=\"M 350.192813 34.003125 \nL 360.192813 34.003125 \nL 370.192813 34.003125 \n\" style=\"fill: none; stroke: #00ff00; stroke-width: 1.5; stroke-linecap: round\"/>\n    </g>\n    <g id=\"text_15\">\n     <!-- false Outliers -->\n     <g style=\"fill: #262626\" transform=\"translate(378.192813 37.503125)scale(0.1 -0.1)\">\n      <defs>\n       <path id=\"ArialMT-66\" d=\"M 556 0 \nL 556 2881 \nL 59 2881 \nL 59 3319 \nL 556 3319 \nL 556 3672 \nQ 556 4006 616 4169 \nQ 697 4388 901 4523 \nQ 1106 4659 1475 4659 \nQ 1713 4659 2000 4603 \nL 1916 4113 \nQ 1741 4144 1584 4144 \nQ 1328 4144 1222 4034 \nQ 1116 3925 1116 3625 \nL 1116 3319 \nL 1763 3319 \nL 1763 2881 \nL 1116 2881 \nL 1116 0 \nL 556 0 \nz\n\" transform=\"scale(0.015625)\"/>\n      </defs>\n      <use xlink:href=\"#ArialMT-66\"/>\n      <use xlink:href=\"#ArialMT-61\" x=\"27.783203\"/>\n      <use xlink:href=\"#ArialMT-6c\" x=\"83.398438\"/>\n      <use xlink:href=\"#ArialMT-73\" x=\"105.615234\"/>\n      <use xlink:href=\"#ArialMT-65\" x=\"155.615234\"/>\n      <use xlink:href=\"#ArialMT-20\" x=\"211.230469\"/>\n      <use xlink:href=\"#ArialMT-4f\" x=\"239.013672\"/>\n      <use xlink:href=\"#ArialMT-75\" x=\"316.796875\"/>\n      <use xlink:href=\"#ArialMT-74\" x=\"372.412109\"/>\n      <use xlink:href=\"#ArialMT-6c\" x=\"400.195312\"/>\n      <use xlink:href=\"#ArialMT-69\" x=\"422.412109\"/>\n      <use xlink:href=\"#ArialMT-65\" x=\"444.628906\"/>\n      <use xlink:href=\"#ArialMT-72\" x=\"500.244141\"/>\n      <use xlink:href=\"#ArialMT-73\" x=\"533.544922\"/>\n     </g>\n    </g>\n   </g>\n  </g>\n </g>\n <defs>\n  <clipPath id=\"p4b4d4337a6\">\n   <rect x=\"38.584375\" y=\"7.2\" width=\"406.96\" height=\"292.84\"/>\n  </clipPath>\n </defs>\n</svg>\n",
      "text/plain": [
       "<Figure size 640x480 with 1 Axes>"
      ]
     },
     "metadata": {},
     "output_type": "display_data"
    }
   ],
   "source": [
    "sns.boxplot(x=data[\"Transported\"], y=data[\"Age\"])\n",
    "plt.axhline(true_age_outlier, label=\"True Outliers\", color=\"orange\")\n",
    "plt.axhline(false_age_outlier, label=\"false Outliers\", color=\"#00FF00\")\n",
    "plt.legend()\n",
    "plt.tight_layout()"
   ]
  },
  {
   "cell_type": "code",
   "execution_count": 58,
   "metadata": {},
   "outputs": [
    {
     "data": {
      "text/html": [
       "<div>\n",
       "<style scoped>\n",
       "    .dataframe tbody tr th:only-of-type {\n",
       "        vertical-align: middle;\n",
       "    }\n",
       "\n",
       "    .dataframe tbody tr th {\n",
       "        vertical-align: top;\n",
       "    }\n",
       "\n",
       "    .dataframe thead th {\n",
       "        text-align: right;\n",
       "    }\n",
       "</style>\n",
       "<table border=\"1\" class=\"dataframe\">\n",
       "  <thead>\n",
       "    <tr style=\"text-align: right;\">\n",
       "      <th></th>\n",
       "      <th>HomePlanet</th>\n",
       "      <th>CryoSleep</th>\n",
       "      <th>Cabin</th>\n",
       "      <th>Destination</th>\n",
       "      <th>Age</th>\n",
       "      <th>VIP</th>\n",
       "      <th>RoomService</th>\n",
       "      <th>FoodCourt</th>\n",
       "      <th>ShoppingMall</th>\n",
       "      <th>Spa</th>\n",
       "      <th>VRDeck</th>\n",
       "      <th>Transported</th>\n",
       "    </tr>\n",
       "    <tr>\n",
       "      <th>PassengerId</th>\n",
       "      <th></th>\n",
       "      <th></th>\n",
       "      <th></th>\n",
       "      <th></th>\n",
       "      <th></th>\n",
       "      <th></th>\n",
       "      <th></th>\n",
       "      <th></th>\n",
       "      <th></th>\n",
       "      <th></th>\n",
       "      <th></th>\n",
       "      <th></th>\n",
       "    </tr>\n",
       "  </thead>\n",
       "  <tbody>\n",
       "    <tr>\n",
       "      <th>0001_01</th>\n",
       "      <td>Europa</td>\n",
       "      <td>0</td>\n",
       "      <td>B/0/P</td>\n",
       "      <td>TRAPPIST-1e</td>\n",
       "      <td>39.0</td>\n",
       "      <td>0</td>\n",
       "      <td>0.0</td>\n",
       "      <td>0.0</td>\n",
       "      <td>0.0</td>\n",
       "      <td>0.0</td>\n",
       "      <td>0.0</td>\n",
       "      <td>False</td>\n",
       "    </tr>\n",
       "    <tr>\n",
       "      <th>0002_01</th>\n",
       "      <td>Earth</td>\n",
       "      <td>0</td>\n",
       "      <td>F/0/S</td>\n",
       "      <td>TRAPPIST-1e</td>\n",
       "      <td>24.0</td>\n",
       "      <td>0</td>\n",
       "      <td>109.0</td>\n",
       "      <td>9.0</td>\n",
       "      <td>25.0</td>\n",
       "      <td>549.0</td>\n",
       "      <td>44.0</td>\n",
       "      <td>True</td>\n",
       "    </tr>\n",
       "    <tr>\n",
       "      <th>0003_01</th>\n",
       "      <td>Europa</td>\n",
       "      <td>0</td>\n",
       "      <td>A/0/S</td>\n",
       "      <td>TRAPPIST-1e</td>\n",
       "      <td>58.0</td>\n",
       "      <td>1</td>\n",
       "      <td>43.0</td>\n",
       "      <td>3576.0</td>\n",
       "      <td>0.0</td>\n",
       "      <td>6715.0</td>\n",
       "      <td>49.0</td>\n",
       "      <td>False</td>\n",
       "    </tr>\n",
       "    <tr>\n",
       "      <th>0003_02</th>\n",
       "      <td>Europa</td>\n",
       "      <td>0</td>\n",
       "      <td>A/0/S</td>\n",
       "      <td>TRAPPIST-1e</td>\n",
       "      <td>33.0</td>\n",
       "      <td>0</td>\n",
       "      <td>0.0</td>\n",
       "      <td>1283.0</td>\n",
       "      <td>371.0</td>\n",
       "      <td>3329.0</td>\n",
       "      <td>193.0</td>\n",
       "      <td>False</td>\n",
       "    </tr>\n",
       "    <tr>\n",
       "      <th>0004_01</th>\n",
       "      <td>Earth</td>\n",
       "      <td>0</td>\n",
       "      <td>F/1/S</td>\n",
       "      <td>TRAPPIST-1e</td>\n",
       "      <td>16.0</td>\n",
       "      <td>0</td>\n",
       "      <td>303.0</td>\n",
       "      <td>70.0</td>\n",
       "      <td>151.0</td>\n",
       "      <td>565.0</td>\n",
       "      <td>2.0</td>\n",
       "      <td>True</td>\n",
       "    </tr>\n",
       "  </tbody>\n",
       "</table>\n",
       "</div>"
      ],
      "text/plain": [
       "            HomePlanet  CryoSleep  Cabin  Destination   Age  VIP  RoomService  \\\n",
       "PassengerId                                                                     \n",
       "0001_01         Europa          0  B/0/P  TRAPPIST-1e  39.0    0          0.0   \n",
       "0002_01          Earth          0  F/0/S  TRAPPIST-1e  24.0    0        109.0   \n",
       "0003_01         Europa          0  A/0/S  TRAPPIST-1e  58.0    1         43.0   \n",
       "0003_02         Europa          0  A/0/S  TRAPPIST-1e  33.0    0          0.0   \n",
       "0004_01          Earth          0  F/1/S  TRAPPIST-1e  16.0    0        303.0   \n",
       "\n",
       "             FoodCourt  ShoppingMall     Spa  VRDeck  Transported  \n",
       "PassengerId                                                        \n",
       "0001_01            0.0           0.0     0.0     0.0        False  \n",
       "0002_01            9.0          25.0   549.0    44.0         True  \n",
       "0003_01         3576.0           0.0  6715.0    49.0        False  \n",
       "0003_02         1283.0         371.0  3329.0   193.0        False  \n",
       "0004_01           70.0         151.0   565.0     2.0         True  "
      ]
     },
     "execution_count": 58,
     "metadata": {},
     "output_type": "execute_result"
    }
   ],
   "source": [
    "data.head()"
   ]
  },
  {
   "cell_type": "markdown",
   "metadata": {},
   "source": [
    "### Dropping `PassengerId` resetting index"
   ]
  },
  {
   "cell_type": "code",
   "execution_count": 60,
   "metadata": {},
   "outputs": [],
   "source": [
    "data.reset_index(drop=True, inplace=True)"
   ]
  },
  {
   "cell_type": "code",
   "execution_count": 61,
   "metadata": {},
   "outputs": [],
   "source": [
    "data.to_csv(\"./data/cleaned_data.csv\", index=False)"
   ]
  }
 ],
 "metadata": {
  "kernelspec": {
   "display_name": "Python 3.10.2 ('env': venv)",
   "language": "python",
   "name": "python3"
  },
  "language_info": {
   "codemirror_mode": {
    "name": "ipython",
    "version": 3
   },
   "file_extension": ".py",
   "mimetype": "text/x-python",
   "name": "python",
   "nbconvert_exporter": "python",
   "pygments_lexer": "ipython3",
   "version": "3.10.2"
  },
  "orig_nbformat": 4,
  "vscode": {
   "interpreter": {
    "hash": "592b80126a260d63222cb4064350aa4c9e379ff6db69d7d1c3f198d046e7bf77"
   }
  }
 },
 "nbformat": 4,
 "nbformat_minor": 2
}
