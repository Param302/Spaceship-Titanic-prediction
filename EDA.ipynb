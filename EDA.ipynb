{
 "cells": [
  {
   "cell_type": "code",
   "execution_count": 1,
   "id": "8d351cbd",
   "metadata": {
    "_cell_guid": "b1076dfc-b9ad-4769-8c92-a6c4dae69d19",
    "_uuid": "8f2839f25d086af736a60e9eeb907d3b93b6e0e5",
    "execution": {
     "iopub.execute_input": "2022-08-28T12:34:01.315680Z",
     "iopub.status.busy": "2022-08-28T12:34:01.315262Z",
     "iopub.status.idle": "2022-08-28T12:34:01.331542Z",
     "shell.execute_reply": "2022-08-28T12:34:01.330602Z"
    },
    "papermill": {
     "duration": 0.024053,
     "end_time": "2022-08-28T12:34:01.334174",
     "exception": false,
     "start_time": "2022-08-28T12:34:01.310121",
     "status": "completed"
    },
    "tags": []
   },
   "outputs": [
    {
     "name": "stdout",
     "output_type": "stream",
     "text": [
      "/kaggle/input/cleaned-data/cleaned_data.csv\n",
      "/kaggle/input/spaceship-titanic/sample_submission.csv\n",
      "/kaggle/input/spaceship-titanic/train.csv\n",
      "/kaggle/input/spaceship-titanic/test.csv\n"
     ]
    }
   ],
   "source": [
    "# This Python 3 environment comes with many helpful analytics libraries installed\n",
    "# It is defined by the kaggle/python Docker image: https://github.com/kaggle/docker-python\n",
    "# For example, here's several helpful packages to load\n",
    "\n",
    "import numpy as np # linear algebra\n",
    "import pandas as pd # data processing, CSV file I/O (e.g. pd.read_csv)\n",
    "\n",
    "# Input data files are available in the read-only \"../input/\" directory\n",
    "# For example, running this (by clicking run or pressing Shift+Enter) will list all files under the input directory\n",
    "\n",
    "import os\n",
    "for dirname, _, filenames in os.walk('/kaggle/input'):\n",
    "    for filename in filenames:\n",
    "        print(os.path.join(dirname, filename))\n",
    "\n",
    "# You can write up to 20GB to the current directory (/kaggle/working/) that gets preserved as output when you create a version using \"Save & Run All\" \n",
    "# You can also write temporary files to /kaggle/temp/, but they won't be saved outside of the current session"
   ]
  },
  {
   "cell_type": "code",
   "execution_count": 2,
   "id": "ba6f4903",
   "metadata": {
    "execution": {
     "iopub.execute_input": "2022-08-28T12:34:01.342995Z",
     "iopub.status.busy": "2022-08-28T12:34:01.342034Z",
     "iopub.status.idle": "2022-08-28T12:34:02.260857Z",
     "shell.execute_reply": "2022-08-28T12:34:02.259909Z"
    },
    "papermill": {
     "duration": 0.925307,
     "end_time": "2022-08-28T12:34:02.263516",
     "exception": false,
     "start_time": "2022-08-28T12:34:01.338209",
     "status": "completed"
    },
    "tags": []
   },
   "outputs": [],
   "source": [
    "import os\n",
    "import numpy as np\n",
    "import pandas as pd\n",
    "import seaborn as sns\n",
    "import matplotlib.pyplot as plt\n",
    "sns.set_style(\"darkgrid\")\n",
    "plt.style.use(\"ggplot\")"
   ]
  },
  {
   "cell_type": "code",
   "execution_count": 3,
   "id": "9a3252fb",
   "metadata": {
    "execution": {
     "iopub.execute_input": "2022-08-28T12:34:02.271910Z",
     "iopub.status.busy": "2022-08-28T12:34:02.270510Z",
     "iopub.status.idle": "2022-08-28T12:34:02.351692Z",
     "shell.execute_reply": "2022-08-28T12:34:02.350547Z"
    },
    "papermill": {
     "duration": 0.086436,
     "end_time": "2022-08-28T12:34:02.353102",
     "exception": true,
     "start_time": "2022-08-28T12:34:02.266666",
     "status": "failed"
    },
    "tags": []
   },
   "outputs": [
    {
     "ename": "FileNotFoundError",
     "evalue": "[Errno 2] No such file or directory: '.virtual_documents'",
     "output_type": "error",
     "traceback": [
      "\u001b[0;31m---------------------------------------------------------------------------\u001b[0m",
      "\u001b[0;31mFileNotFoundError\u001b[0m                         Traceback (most recent call last)",
      "\u001b[0;32m/tmp/ipykernel_23/4038666985.py\u001b[0m in \u001b[0;36m<module>\u001b[0;34m\u001b[0m\n\u001b[0;32m----> 1\u001b[0;31m \u001b[0mos\u001b[0m\u001b[0;34m.\u001b[0m\u001b[0mlistdir\u001b[0m\u001b[0;34m(\u001b[0m\u001b[0;34m\".virtual_documents\"\u001b[0m\u001b[0;34m)\u001b[0m\u001b[0;34m\u001b[0m\u001b[0;34m\u001b[0m\u001b[0m\n\u001b[0m",
      "\u001b[0;31mFileNotFoundError\u001b[0m: [Errno 2] No such file or directory: '.virtual_documents'"
     ]
    }
   ],
   "source": [
    "os.listdir(\".virtual_documents\")"
   ]
  },
  {
   "cell_type": "code",
   "execution_count": null,
   "id": "8aeb28cc",
   "metadata": {
    "execution": {
     "iopub.execute_input": "2022-08-28T12:26:01.279497Z",
     "iopub.status.busy": "2022-08-28T12:26:01.276831Z",
     "iopub.status.idle": "2022-08-28T12:26:01.352340Z",
     "shell.execute_reply": "2022-08-28T12:26:01.351027Z",
     "shell.execute_reply.started": "2022-08-28T12:26:01.279449Z"
    },
    "papermill": {
     "duration": null,
     "end_time": null,
     "exception": null,
     "start_time": null,
     "status": "pending"
    },
    "tags": []
   },
   "outputs": [],
   "source": [
    "data = pd.read_csv(\"../input/cleaned-data/cleaned_data.csv\")\n",
    "data.head()"
   ]
  },
  {
   "cell_type": "code",
   "execution_count": null,
   "id": "12f43fd2",
   "metadata": {
    "execution": {
     "iopub.execute_input": "2022-08-28T12:26:01.360423Z",
     "iopub.status.busy": "2022-08-28T12:26:01.357809Z",
     "iopub.status.idle": "2022-08-28T12:26:02.516409Z",
     "shell.execute_reply": "2022-08-28T12:26:02.514050Z",
     "shell.execute_reply.started": "2022-08-28T12:26:01.360369Z"
    },
    "papermill": {
     "duration": null,
     "end_time": null,
     "exception": null,
     "start_time": null,
     "status": "pending"
    },
    "tags": []
   },
   "outputs": [],
   "source": [
    "plt.figure(figsize=(10, 6))\n",
    "sns.heatmap(data.corr(), annot=True)"
   ]
  },
  {
   "cell_type": "code",
   "execution_count": null,
   "id": "7e9c1234",
   "metadata": {
    "execution": {
     "iopub.execute_input": "2022-08-28T12:27:31.548719Z",
     "iopub.status.busy": "2022-08-28T12:27:31.548335Z",
     "iopub.status.idle": "2022-08-28T12:28:18.348186Z",
     "shell.execute_reply": "2022-08-28T12:28:18.347262Z",
     "shell.execute_reply.started": "2022-08-28T12:27:31.548687Z"
    },
    "papermill": {
     "duration": null,
     "end_time": null,
     "exception": null,
     "start_time": null,
     "status": "pending"
    },
    "tags": []
   },
   "outputs": [],
   "source": [
    "plt.figure(figsize=(10, 8))\n",
    "sns.pairplot(data, hue=\"Transported\")"
   ]
  },
  {
   "cell_type": "code",
   "execution_count": null,
   "id": "711955c1",
   "metadata": {
    "execution": {
     "iopub.execute_input": "2022-08-28T12:29:59.069889Z",
     "iopub.status.busy": "2022-08-28T12:29:59.069518Z",
     "iopub.status.idle": "2022-08-28T12:29:59.791704Z",
     "shell.execute_reply": "2022-08-28T12:29:59.790580Z",
     "shell.execute_reply.started": "2022-08-28T12:29:59.069855Z"
    },
    "papermill": {
     "duration": null,
     "end_time": null,
     "exception": null,
     "start_time": null,
     "status": "pending"
    },
    "tags": []
   },
   "outputs": [],
   "source": [
    "plt.figure(figsize=(10, 6))\n",
    "sns.scatterplot(x=\"Age\", y=\"RoomService\", data=data, hue=\"Transported\")"
   ]
  },
  {
   "cell_type": "code",
   "execution_count": null,
   "id": "d0489bff",
   "metadata": {
    "execution": {
     "iopub.execute_input": "2022-08-28T12:30:46.187599Z",
     "iopub.status.busy": "2022-08-28T12:30:46.186936Z",
     "iopub.status.idle": "2022-08-28T12:30:46.903852Z",
     "shell.execute_reply": "2022-08-28T12:30:46.902962Z",
     "shell.execute_reply.started": "2022-08-28T12:30:46.187554Z"
    },
    "papermill": {
     "duration": null,
     "end_time": null,
     "exception": null,
     "start_time": null,
     "status": "pending"
    },
    "tags": []
   },
   "outputs": [],
   "source": [
    "plt.figure(figsize=(10, 6))\n",
    "sns.scatterplot(x=\"Age\", y=\"Spa\", data=data, hue=\"Transported\")"
   ]
  },
  {
   "cell_type": "code",
   "execution_count": null,
   "id": "cd97fa49",
   "metadata": {
    "execution": {
     "iopub.execute_input": "2022-08-28T12:30:57.370310Z",
     "iopub.status.busy": "2022-08-28T12:30:57.369639Z",
     "iopub.status.idle": "2022-08-28T12:30:58.076808Z",
     "shell.execute_reply": "2022-08-28T12:30:58.075867Z",
     "shell.execute_reply.started": "2022-08-28T12:30:57.370261Z"
    },
    "papermill": {
     "duration": null,
     "end_time": null,
     "exception": null,
     "start_time": null,
     "status": "pending"
    },
    "tags": []
   },
   "outputs": [],
   "source": [
    "plt.figure(figsize=(10, 6))\n",
    "sns.scatterplot(x=\"Age\", y=\"VRDeck\", data=data, hue=\"Transported\")"
   ]
  },
  {
   "cell_type": "code",
   "execution_count": null,
   "id": "15f073fd",
   "metadata": {
    "execution": {
     "iopub.execute_input": "2022-08-28T12:32:03.687182Z",
     "iopub.status.busy": "2022-08-28T12:32:03.686300Z",
     "iopub.status.idle": "2022-08-28T12:32:03.696133Z",
     "shell.execute_reply": "2022-08-28T12:32:03.695244Z",
     "shell.execute_reply.started": "2022-08-28T12:32:03.687137Z"
    },
    "papermill": {
     "duration": null,
     "end_time": null,
     "exception": null,
     "start_time": null,
     "status": "pending"
    },
    "tags": []
   },
   "outputs": [],
   "source": [
    "data[\"Expense\"] = data[[\"RoomService\", \"VRDeck\", \"Spa\", \"FoodCourt\", \"ShoppingMall\"]].sum(axis=1)"
   ]
  },
  {
   "cell_type": "code",
   "execution_count": null,
   "id": "cd4ff66a",
   "metadata": {
    "execution": {
     "iopub.execute_input": "2022-08-28T12:32:05.980763Z",
     "iopub.status.busy": "2022-08-28T12:32:05.980370Z",
     "iopub.status.idle": "2022-08-28T12:32:06.755194Z",
     "shell.execute_reply": "2022-08-28T12:32:06.754061Z",
     "shell.execute_reply.started": "2022-08-28T12:32:05.980731Z"
    },
    "papermill": {
     "duration": null,
     "end_time": null,
     "exception": null,
     "start_time": null,
     "status": "pending"
    },
    "tags": []
   },
   "outputs": [],
   "source": [
    "plt.figure(figsize=(10, 6))\n",
    "sns.scatterplot(x=\"Age\", y=\"Expense\", data=data, hue=\"Transported\")"
   ]
  },
  {
   "cell_type": "code",
   "execution_count": null,
   "id": "9f44c9a2",
   "metadata": {
    "papermill": {
     "duration": null,
     "end_time": null,
     "exception": null,
     "start_time": null,
     "status": "pending"
    },
    "tags": []
   },
   "outputs": [],
   "source": []
  }
 ],
 "metadata": {
  "kernelspec": {
   "display_name": "Python 3",
   "language": "python",
   "name": "python3"
  },
  "language_info": {
   "codemirror_mode": {
    "name": "ipython",
    "version": 3
   },
   "file_extension": ".py",
   "mimetype": "text/x-python",
   "name": "python",
   "nbconvert_exporter": "python",
   "pygments_lexer": "ipython3",
   "version": "3.7.12"
  },
  "papermill": {
   "default_parameters": {},
   "duration": 11.298901,
   "end_time": "2022-08-28T12:34:04.979895",
   "environment_variables": {},
   "exception": true,
   "input_path": "__notebook__.ipynb",
   "output_path": "__notebook__.ipynb",
   "parameters": {},
   "start_time": "2022-08-28T12:33:53.680994",
   "version": "2.3.4"
  }
 },
 "nbformat": 4,
 "nbformat_minor": 5
}
